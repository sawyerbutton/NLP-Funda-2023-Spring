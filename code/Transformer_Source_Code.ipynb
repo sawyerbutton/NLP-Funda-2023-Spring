{
  "cells": [
    {
      "cell_type": "markdown",
      "metadata": {
        "id": "zMedtczc6DeH"
      },
      "source": [
        "## 准备工作，安装环境和依赖"
      ]
    },
    {
      "cell_type": "code",
      "execution_count": null,
      "metadata": {
        "id": "5kmyV7667FVK"
      },
      "outputs": [],
      "source": [
        "# !pip install -r requirements.txt"
      ]
    },
    {
      "cell_type": "code",
      "execution_count": null,
      "metadata": {
        "colab": {
          "base_uri": "https://localhost:8080/"
        },
        "id": "qmxVVmLB7jEW",
        "outputId": "be2df0cc-c495-4f7c-8d3b-895cbdd81721"
      },
      "outputs": [
        {
          "output_type": "stream",
          "name": "stdout",
          "text": [
            "\u001b[2K     \u001b[90m━━━━━━━━━━━━━━━━━━━━━━━━━━━━━━━━━━━━━━━━\u001b[0m \u001b[32m47.7/47.7 KB\u001b[0m \u001b[31m2.4 MB/s\u001b[0m eta \u001b[36m0:00:00\u001b[0m\n",
            "\u001b[2K     \u001b[90m━━━━━━━━━━━━━━━━━━━━━━━━━━━━━━━━━━━━━━━━\u001b[0m \u001b[32m10.4/10.4 MB\u001b[0m \u001b[31m50.7 MB/s\u001b[0m eta \u001b[36m0:00:00\u001b[0m\n",
            "\u001b[2K     \u001b[90m━━━━━━━━━━━━━━━━━━━━━━━━━━━━━━━━━━━━━━━━\u001b[0m \u001b[32m6.2/6.2 MB\u001b[0m \u001b[31m68.1 MB/s\u001b[0m eta \u001b[36m0:00:00\u001b[0m\n",
            "\u001b[?25h  Preparing metadata (setup.py) ... \u001b[?25l\u001b[?25hdone\n",
            "\u001b[2K     \u001b[90m━━━━━━━━━━━━━━━━━━━━━━━━━━━━━━━━━━━━━━\u001b[0m \u001b[32m140.6/140.6 KB\u001b[0m \u001b[31m17.9 MB/s\u001b[0m eta \u001b[36m0:00:00\u001b[0m\n",
            "\u001b[2K     \u001b[90m━━━━━━━━━━━━━━━━━━━━━━━━━━━━━━━━━━━━━━━\u001b[0m \u001b[32m750.6/750.6 MB\u001b[0m \u001b[31m2.0 MB/s\u001b[0m eta \u001b[36m0:00:00\u001b[0m\n",
            "\u001b[2K     \u001b[90m━━━━━━━━━━━━━━━━━━━━━━━━━━━━━━━━━━━━━━\u001b[0m \u001b[32m671.1/671.1 KB\u001b[0m \u001b[31m24.3 MB/s\u001b[0m eta \u001b[36m0:00:00\u001b[0m\n",
            "\u001b[2K     \u001b[90m━━━━━━━━━━━━━━━━━━━━━━━━━━━━━━━━━━━━━━━━\u001b[0m \u001b[32m13.7/13.7 MB\u001b[0m \u001b[31m39.7 MB/s\u001b[0m eta \u001b[36m0:00:00\u001b[0m\n",
            "\u001b[?25h  Building wheel for GPUtil (setup.py) ... \u001b[?25l\u001b[?25hdone\n",
            "\u001b[31mERROR: pip's dependency resolver does not currently take into account all the packages that are installed. This behaviour is the source of the following dependency conflicts.\n",
            "torchvision 0.14.1+cu116 requires torch==1.13.1, but you have torch 1.11.0 which is incompatible.\n",
            "torchaudio 0.13.1+cu116 requires torch==1.13.1, but you have torch 1.11.0 which is incompatible.\n",
            "en-core-web-sm 3.4.1 requires spacy<3.5.0,>=3.4.0, but you have spacy 3.2.0 which is incompatible.\u001b[0m\u001b[31m\n",
            "\u001b[0m2023-02-12 03:32:17.050200: I tensorflow/core/platform/cpu_feature_guard.cc:193] This TensorFlow binary is optimized with oneAPI Deep Neural Network Library (oneDNN) to use the following CPU instructions in performance-critical operations:  AVX2 FMA\n",
            "To enable them in other operations, rebuild TensorFlow with the appropriate compiler flags.\n",
            "2023-02-12 03:32:20.500580: W tensorflow/compiler/xla/stream_executor/platform/default/dso_loader.cc:64] Could not load dynamic library 'libnvinfer.so.7'; dlerror: libnvinfer.so.7: cannot open shared object file: No such file or directory; LD_LIBRARY_PATH: /usr/local/nvidia/lib:/usr/local/nvidia/lib64\n",
            "2023-02-12 03:32:20.501112: W tensorflow/compiler/xla/stream_executor/platform/default/dso_loader.cc:64] Could not load dynamic library 'libnvinfer_plugin.so.7'; dlerror: libnvinfer_plugin.so.7: cannot open shared object file: No such file or directory; LD_LIBRARY_PATH: /usr/local/nvidia/lib:/usr/local/nvidia/lib64\n",
            "2023-02-12 03:32:20.501166: W tensorflow/compiler/tf2tensorrt/utils/py_utils.cc:38] TF-TRT Warning: Cannot dlopen some TensorRT libraries. If you would like to use Nvidia GPU with TensorRT, please make sure the missing libraries mentioned above are installed properly.\n",
            "Looking in indexes: https://pypi.org/simple, https://us-python.pkg.dev/colab-wheels/public/simple/\n",
            "Collecting de-core-news-sm==3.2.0\n",
            "  Downloading https://github.com/explosion/spacy-models/releases/download/de_core_news_sm-3.2.0/de_core_news_sm-3.2.0-py3-none-any.whl (19.1 MB)\n",
            "\u001b[2K     \u001b[90m━━━━━━━━━━━━━━━━━━━━━━━━━━━━━━━━━━━━━━━━\u001b[0m \u001b[32m19.1/19.1 MB\u001b[0m \u001b[31m6.5 MB/s\u001b[0m eta \u001b[36m0:00:00\u001b[0m\n",
            "\u001b[?25hRequirement already satisfied: spacy<3.3.0,>=3.2.0 in /usr/local/lib/python3.8/dist-packages (from de-core-news-sm==3.2.0) (3.2.0)\n",
            "Requirement already satisfied: wasabi<1.1.0,>=0.8.1 in /usr/local/lib/python3.8/dist-packages (from spacy<3.3.0,>=3.2.0->de-core-news-sm==3.2.0) (0.10.1)\n",
            "Requirement already satisfied: typer<0.5.0,>=0.3.0 in /usr/local/lib/python3.8/dist-packages (from spacy<3.3.0,>=3.2.0->de-core-news-sm==3.2.0) (0.4.2)\n",
            "Requirement already satisfied: preshed<3.1.0,>=3.0.2 in /usr/local/lib/python3.8/dist-packages (from spacy<3.3.0,>=3.2.0->de-core-news-sm==3.2.0) (3.0.8)\n",
            "Requirement already satisfied: tqdm<5.0.0,>=4.38.0 in /usr/local/lib/python3.8/dist-packages (from spacy<3.3.0,>=3.2.0->de-core-news-sm==3.2.0) (4.64.1)\n",
            "Requirement already satisfied: pydantic!=1.8,!=1.8.1,<1.9.0,>=1.7.4 in /usr/local/lib/python3.8/dist-packages (from spacy<3.3.0,>=3.2.0->de-core-news-sm==3.2.0) (1.8.2)\n",
            "Requirement already satisfied: spacy-legacy<3.1.0,>=3.0.8 in /usr/local/lib/python3.8/dist-packages (from spacy<3.3.0,>=3.2.0->de-core-news-sm==3.2.0) (3.0.12)\n",
            "Requirement already satisfied: setuptools in /usr/local/lib/python3.8/dist-packages (from spacy<3.3.0,>=3.2.0->de-core-news-sm==3.2.0) (57.4.0)\n",
            "Requirement already satisfied: jinja2 in /usr/local/lib/python3.8/dist-packages (from spacy<3.3.0,>=3.2.0->de-core-news-sm==3.2.0) (2.11.3)\n",
            "Requirement already satisfied: blis<0.8.0,>=0.4.0 in /usr/local/lib/python3.8/dist-packages (from spacy<3.3.0,>=3.2.0->de-core-news-sm==3.2.0) (0.7.9)\n",
            "Requirement already satisfied: murmurhash<1.1.0,>=0.28.0 in /usr/local/lib/python3.8/dist-packages (from spacy<3.3.0,>=3.2.0->de-core-news-sm==3.2.0) (1.0.9)\n",
            "Requirement already satisfied: pathy>=0.3.5 in /usr/local/lib/python3.8/dist-packages (from spacy<3.3.0,>=3.2.0->de-core-news-sm==3.2.0) (0.10.1)\n",
            "Requirement already satisfied: spacy-loggers<2.0.0,>=1.0.0 in /usr/local/lib/python3.8/dist-packages (from spacy<3.3.0,>=3.2.0->de-core-news-sm==3.2.0) (1.0.4)\n",
            "Requirement already satisfied: catalogue<2.1.0,>=2.0.6 in /usr/local/lib/python3.8/dist-packages (from spacy<3.3.0,>=3.2.0->de-core-news-sm==3.2.0) (2.0.8)\n",
            "Requirement already satisfied: cymem<2.1.0,>=2.0.2 in /usr/local/lib/python3.8/dist-packages (from spacy<3.3.0,>=3.2.0->de-core-news-sm==3.2.0) (2.0.7)\n",
            "Requirement already satisfied: thinc<8.1.0,>=8.0.12 in /usr/local/lib/python3.8/dist-packages (from spacy<3.3.0,>=3.2.0->de-core-news-sm==3.2.0) (8.0.17)\n",
            "Requirement already satisfied: requests<3.0.0,>=2.13.0 in /usr/local/lib/python3.8/dist-packages (from spacy<3.3.0,>=3.2.0->de-core-news-sm==3.2.0) (2.25.1)\n",
            "Requirement already satisfied: packaging>=20.0 in /usr/local/lib/python3.8/dist-packages (from spacy<3.3.0,>=3.2.0->de-core-news-sm==3.2.0) (23.0)\n",
            "Requirement already satisfied: srsly<3.0.0,>=2.4.1 in /usr/local/lib/python3.8/dist-packages (from spacy<3.3.0,>=3.2.0->de-core-news-sm==3.2.0) (2.4.5)\n",
            "Requirement already satisfied: numpy>=1.15.0 in /usr/local/lib/python3.8/dist-packages (from spacy<3.3.0,>=3.2.0->de-core-news-sm==3.2.0) (1.21.6)\n",
            "Requirement already satisfied: langcodes<4.0.0,>=3.2.0 in /usr/local/lib/python3.8/dist-packages (from spacy<3.3.0,>=3.2.0->de-core-news-sm==3.2.0) (3.3.0)\n",
            "Requirement already satisfied: smart-open<7.0.0,>=5.2.1 in /usr/local/lib/python3.8/dist-packages (from pathy>=0.3.5->spacy<3.3.0,>=3.2.0->de-core-news-sm==3.2.0) (6.3.0)\n",
            "Requirement already satisfied: typing-extensions>=3.7.4.3 in /usr/local/lib/python3.8/dist-packages (from pydantic!=1.8,!=1.8.1,<1.9.0,>=1.7.4->spacy<3.3.0,>=3.2.0->de-core-news-sm==3.2.0) (4.4.0)\n",
            "Requirement already satisfied: idna<3,>=2.5 in /usr/local/lib/python3.8/dist-packages (from requests<3.0.0,>=2.13.0->spacy<3.3.0,>=3.2.0->de-core-news-sm==3.2.0) (2.10)\n",
            "Requirement already satisfied: certifi>=2017.4.17 in /usr/local/lib/python3.8/dist-packages (from requests<3.0.0,>=2.13.0->spacy<3.3.0,>=3.2.0->de-core-news-sm==3.2.0) (2022.12.7)\n",
            "Requirement already satisfied: urllib3<1.27,>=1.21.1 in /usr/local/lib/python3.8/dist-packages (from requests<3.0.0,>=2.13.0->spacy<3.3.0,>=3.2.0->de-core-news-sm==3.2.0) (1.26.14)\n",
            "Requirement already satisfied: chardet<5,>=3.0.2 in /usr/local/lib/python3.8/dist-packages (from requests<3.0.0,>=2.13.0->spacy<3.3.0,>=3.2.0->de-core-news-sm==3.2.0) (4.0.0)\n",
            "Requirement already satisfied: click<9.0.0,>=7.1.1 in /usr/local/lib/python3.8/dist-packages (from typer<0.5.0,>=0.3.0->spacy<3.3.0,>=3.2.0->de-core-news-sm==3.2.0) (7.1.2)\n",
            "Requirement already satisfied: MarkupSafe>=0.23 in /usr/local/lib/python3.8/dist-packages (from jinja2->spacy<3.3.0,>=3.2.0->de-core-news-sm==3.2.0) (2.0.1)\n",
            "Installing collected packages: de-core-news-sm\n",
            "Successfully installed de-core-news-sm-3.2.0\n",
            "\u001b[38;5;2m✔ Download and installation successful\u001b[0m\n",
            "You can now load the package via spacy.load('de_core_news_sm')\n",
            "2023-02-12 03:32:35.557942: I tensorflow/core/platform/cpu_feature_guard.cc:193] This TensorFlow binary is optimized with oneAPI Deep Neural Network Library (oneDNN) to use the following CPU instructions in performance-critical operations:  AVX2 FMA\n",
            "To enable them in other operations, rebuild TensorFlow with the appropriate compiler flags.\n",
            "2023-02-12 03:32:37.175616: W tensorflow/compiler/xla/stream_executor/platform/default/dso_loader.cc:64] Could not load dynamic library 'libnvinfer.so.7'; dlerror: libnvinfer.so.7: cannot open shared object file: No such file or directory; LD_LIBRARY_PATH: /usr/local/nvidia/lib:/usr/local/nvidia/lib64\n",
            "2023-02-12 03:32:37.175762: W tensorflow/compiler/xla/stream_executor/platform/default/dso_loader.cc:64] Could not load dynamic library 'libnvinfer_plugin.so.7'; dlerror: libnvinfer_plugin.so.7: cannot open shared object file: No such file or directory; LD_LIBRARY_PATH: /usr/local/nvidia/lib:/usr/local/nvidia/lib64\n",
            "2023-02-12 03:32:37.175787: W tensorflow/compiler/tf2tensorrt/utils/py_utils.cc:38] TF-TRT Warning: Cannot dlopen some TensorRT libraries. If you would like to use Nvidia GPU with TensorRT, please make sure the missing libraries mentioned above are installed properly.\n",
            "Looking in indexes: https://pypi.org/simple, https://us-python.pkg.dev/colab-wheels/public/simple/\n",
            "Collecting en-core-web-sm==3.2.0\n",
            "  Downloading https://github.com/explosion/spacy-models/releases/download/en_core_web_sm-3.2.0/en_core_web_sm-3.2.0-py3-none-any.whl (13.9 MB)\n",
            "\u001b[2K     \u001b[90m━━━━━━━━━━━━━━━━━━━━━━━━━━━━━━━━━━━━━━━━\u001b[0m \u001b[32m13.9/13.9 MB\u001b[0m \u001b[31m4.5 MB/s\u001b[0m eta \u001b[36m0:00:00\u001b[0m\n",
            "\u001b[?25hRequirement already satisfied: spacy<3.3.0,>=3.2.0 in /usr/local/lib/python3.8/dist-packages (from en-core-web-sm==3.2.0) (3.2.0)\n",
            "Requirement already satisfied: preshed<3.1.0,>=3.0.2 in /usr/local/lib/python3.8/dist-packages (from spacy<3.3.0,>=3.2.0->en-core-web-sm==3.2.0) (3.0.8)\n",
            "Requirement already satisfied: spacy-legacy<3.1.0,>=3.0.8 in /usr/local/lib/python3.8/dist-packages (from spacy<3.3.0,>=3.2.0->en-core-web-sm==3.2.0) (3.0.12)\n",
            "Requirement already satisfied: cymem<2.1.0,>=2.0.2 in /usr/local/lib/python3.8/dist-packages (from spacy<3.3.0,>=3.2.0->en-core-web-sm==3.2.0) (2.0.7)\n",
            "Requirement already satisfied: srsly<3.0.0,>=2.4.1 in /usr/local/lib/python3.8/dist-packages (from spacy<3.3.0,>=3.2.0->en-core-web-sm==3.2.0) (2.4.5)\n",
            "Requirement already satisfied: spacy-loggers<2.0.0,>=1.0.0 in /usr/local/lib/python3.8/dist-packages (from spacy<3.3.0,>=3.2.0->en-core-web-sm==3.2.0) (1.0.4)\n",
            "Requirement already satisfied: catalogue<2.1.0,>=2.0.6 in /usr/local/lib/python3.8/dist-packages (from spacy<3.3.0,>=3.2.0->en-core-web-sm==3.2.0) (2.0.8)\n",
            "Requirement already satisfied: blis<0.8.0,>=0.4.0 in /usr/local/lib/python3.8/dist-packages (from spacy<3.3.0,>=3.2.0->en-core-web-sm==3.2.0) (0.7.9)\n",
            "Requirement already satisfied: pathy>=0.3.5 in /usr/local/lib/python3.8/dist-packages (from spacy<3.3.0,>=3.2.0->en-core-web-sm==3.2.0) (0.10.1)\n",
            "Requirement already satisfied: typer<0.5.0,>=0.3.0 in /usr/local/lib/python3.8/dist-packages (from spacy<3.3.0,>=3.2.0->en-core-web-sm==3.2.0) (0.4.2)\n",
            "Requirement already satisfied: packaging>=20.0 in /usr/local/lib/python3.8/dist-packages (from spacy<3.3.0,>=3.2.0->en-core-web-sm==3.2.0) (23.0)\n",
            "Requirement already satisfied: jinja2 in /usr/local/lib/python3.8/dist-packages (from spacy<3.3.0,>=3.2.0->en-core-web-sm==3.2.0) (2.11.3)\n",
            "Requirement already satisfied: setuptools in /usr/local/lib/python3.8/dist-packages (from spacy<3.3.0,>=3.2.0->en-core-web-sm==3.2.0) (57.4.0)\n",
            "Requirement already satisfied: murmurhash<1.1.0,>=0.28.0 in /usr/local/lib/python3.8/dist-packages (from spacy<3.3.0,>=3.2.0->en-core-web-sm==3.2.0) (1.0.9)\n",
            "Requirement already satisfied: wasabi<1.1.0,>=0.8.1 in /usr/local/lib/python3.8/dist-packages (from spacy<3.3.0,>=3.2.0->en-core-web-sm==3.2.0) (0.10.1)\n",
            "Requirement already satisfied: thinc<8.1.0,>=8.0.12 in /usr/local/lib/python3.8/dist-packages (from spacy<3.3.0,>=3.2.0->en-core-web-sm==3.2.0) (8.0.17)\n",
            "Requirement already satisfied: numpy>=1.15.0 in /usr/local/lib/python3.8/dist-packages (from spacy<3.3.0,>=3.2.0->en-core-web-sm==3.2.0) (1.21.6)\n",
            "Requirement already satisfied: requests<3.0.0,>=2.13.0 in /usr/local/lib/python3.8/dist-packages (from spacy<3.3.0,>=3.2.0->en-core-web-sm==3.2.0) (2.25.1)\n",
            "Requirement already satisfied: tqdm<5.0.0,>=4.38.0 in /usr/local/lib/python3.8/dist-packages (from spacy<3.3.0,>=3.2.0->en-core-web-sm==3.2.0) (4.64.1)\n",
            "Requirement already satisfied: langcodes<4.0.0,>=3.2.0 in /usr/local/lib/python3.8/dist-packages (from spacy<3.3.0,>=3.2.0->en-core-web-sm==3.2.0) (3.3.0)\n",
            "Requirement already satisfied: pydantic!=1.8,!=1.8.1,<1.9.0,>=1.7.4 in /usr/local/lib/python3.8/dist-packages (from spacy<3.3.0,>=3.2.0->en-core-web-sm==3.2.0) (1.8.2)\n",
            "Requirement already satisfied: smart-open<7.0.0,>=5.2.1 in /usr/local/lib/python3.8/dist-packages (from pathy>=0.3.5->spacy<3.3.0,>=3.2.0->en-core-web-sm==3.2.0) (6.3.0)\n",
            "Requirement already satisfied: typing-extensions>=3.7.4.3 in /usr/local/lib/python3.8/dist-packages (from pydantic!=1.8,!=1.8.1,<1.9.0,>=1.7.4->spacy<3.3.0,>=3.2.0->en-core-web-sm==3.2.0) (4.4.0)\n",
            "Requirement already satisfied: certifi>=2017.4.17 in /usr/local/lib/python3.8/dist-packages (from requests<3.0.0,>=2.13.0->spacy<3.3.0,>=3.2.0->en-core-web-sm==3.2.0) (2022.12.7)\n",
            "Requirement already satisfied: urllib3<1.27,>=1.21.1 in /usr/local/lib/python3.8/dist-packages (from requests<3.0.0,>=2.13.0->spacy<3.3.0,>=3.2.0->en-core-web-sm==3.2.0) (1.26.14)\n",
            "Requirement already satisfied: idna<3,>=2.5 in /usr/local/lib/python3.8/dist-packages (from requests<3.0.0,>=2.13.0->spacy<3.3.0,>=3.2.0->en-core-web-sm==3.2.0) (2.10)\n",
            "Requirement already satisfied: chardet<5,>=3.0.2 in /usr/local/lib/python3.8/dist-packages (from requests<3.0.0,>=2.13.0->spacy<3.3.0,>=3.2.0->en-core-web-sm==3.2.0) (4.0.0)\n",
            "Requirement already satisfied: click<9.0.0,>=7.1.1 in /usr/local/lib/python3.8/dist-packages (from typer<0.5.0,>=0.3.0->spacy<3.3.0,>=3.2.0->en-core-web-sm==3.2.0) (7.1.2)\n",
            "Requirement already satisfied: MarkupSafe>=0.23 in /usr/local/lib/python3.8/dist-packages (from jinja2->spacy<3.3.0,>=3.2.0->en-core-web-sm==3.2.0) (2.0.1)\n",
            "Installing collected packages: en-core-web-sm\n",
            "  Attempting uninstall: en-core-web-sm\n",
            "    Found existing installation: en-core-web-sm 3.4.1\n",
            "    Uninstalling en-core-web-sm-3.4.1:\n",
            "      Successfully uninstalled en-core-web-sm-3.4.1\n",
            "Successfully installed en-core-web-sm-3.2.0\n",
            "\u001b[38;5;2m✔ Download and installation successful\u001b[0m\n",
            "You can now load the package via spacy.load('en_core_web_sm')\n"
          ]
        }
      ],
      "source": [
        "# Uncomment for colab\n",
        "!pip install -q torchdata==0.3.0 torchtext==0.12 spacy==3.2 altair GPUtil\n",
        "!python -m spacy download de_core_news_sm\n",
        "!python -m spacy download en_core_web_sm"
      ]
    },
    {
      "cell_type": "markdown",
      "metadata": {
        "id": "AaZs1Zxb6MLS"
      },
      "source": [
        "## 依赖引入"
      ]
    },
    {
      "cell_type": "code",
      "execution_count": null,
      "metadata": {
        "id": "K9Ong6ke7tl3"
      },
      "outputs": [],
      "source": [
        "import os # 标准库，主要用于处理文件和目录路径\n",
        "from os.path import exists # 引入 os.path 库中的 exists 函数，该函数用于检查给定路径的文件或目录是否存在\n",
        "import torch\n",
        "import torch.nn as nn\n",
        "from torch.nn.functional import log_softmax, pad # 引入 log_softmax 和 pad 函数，前者用于对给定张量求自然对数的 softmax，后者用于对张量进行 zero-padding\n",
        "import math\n",
        "import copy # 提供了深浅拷贝相关的操作\n",
        "import time\n",
        "from torch.optim.lr_scheduler import LambdaLR # 提供了学习率调整的一种方式，通过定义一个 lambda 函数实现\n",
        "import pandas as pd # 主要用于数据分析和清洗\n",
        "import altair as alt # 主要用于数据可视化\n",
        "from torchtext.data.functional import to_map_style_dataset # 引入 to_map_style_dataset 函数，它用于将数据转换为 Map 类型的数据集\n",
        "from torch.utils.data import DataLoader # 数据读取工具，可以方便地读入数据并进行批次处理\n",
        "from torchtext.vocab import build_vocab_from_iterator # 它用于从迭代器构建词汇表\n",
        "import torchtext.datasets as datasets # 提供了一些预先准备好的数据集\n",
        "import spacy # 自然语言处理库\n",
        "import GPUtil # 用于监控 GPU 状态\n",
        "import warnings \n",
        "from torch.utils.data.distributed import DistributedSampler # 用于在分布式训练中均衡地读取数据\n",
        "import torch.distributed as dist # 用于支持分布式训练\n",
        "import torch.multiprocessing as mp # 用于支持多进程\n",
        "from torch.nn.parallel import DistributedDataParallel as DDP # 用于在分布式训练中并行运算\n",
        "\n",
        "# Set to False to skip notebook execution (e.g. for debugging)\n",
        "warnings.filterwarnings(\"ignore\") # 用于忽略警告信息\n",
        "RUN_EXAMPLES = True # 全局变量"
      ]
    },
    {
      "cell_type": "markdown",
      "metadata": {
        "id": "a9qDkJ5T6TmU"
      },
      "source": [
        "## 全局helper函数定义"
      ]
    },
    {
      "cell_type": "code",
      "execution_count": null,
      "metadata": {
        "id": "YlzUMWz48hIu"
      },
      "outputs": [],
      "source": [
        "# Some convenience helper functions used throughout the notebook\n",
        "\n",
        "# 函数用于检测当前是否在交互式 Notebook 中运行代码。如果是，返回 True，否则返回 False\n",
        "def is_interactive_notebook(): \n",
        "    return __name__ == \"__main__\"\n",
        "\n",
        "# 用于控制是否执行给定的函数和参数\n",
        "# 当代码在交互式 Notebook 中运行且 RUN_EXAMPLES 为 True 时，执行该函数和参数，并返回该函数的输出\n",
        "def show_example(fn, args=[]):\n",
        "    if __name__ == \"__main__\" and RUN_EXAMPLES:\n",
        "        return fn(*args)\n",
        "\n",
        "# 用于控制是否执行给定的函数和参数\n",
        "# 当代码在交互式 Notebook 中运行且 RUN_EXAMPLES 为 True 时，执行该函数和参数，不返回任何输出\n",
        "def execute_example(fn, args=[]):\n",
        "    if __name__ == \"__main__\" and RUN_EXAMPLES:\n",
        "        fn(*args)\n",
        "\n",
        "# 一个优化器的虚拟实现\n",
        "# 它没有任何实际优化功能，仅用于方便实验和调试\n",
        "class DummyOptimizer(torch.optim.Optimizer):\n",
        "    def __init__(self):\n",
        "        self.param_groups = [{\"lr\": 0}]\n",
        "        None\n",
        "\n",
        "    def step(self):\n",
        "        None\n",
        "\n",
        "    def zero_grad(self, set_to_none=False):\n",
        "        None\n",
        "\n",
        "# 一个调度器的虚拟实现\n",
        "# 它没有任何实际调度功能，仅用于方便实验和调试\n",
        "class DummyScheduler:\n",
        "    def step(self):\n",
        "        None"
      ]
    },
    {
      "cell_type": "markdown",
      "metadata": {
        "id": "AuZZ8nkz6ZCU"
      },
      "source": [
        "## 模型概述"
      ]
    },
    {
      "cell_type": "markdown",
      "metadata": {
        "id": "T6nLQc69zYwv"
      },
      "source": [
        "![image.png](data:image/png;base64,iVBORw0KGgoAAAANSUhEUgAAAXwAAAIwCAYAAACFldBAAAAMK2lDQ1BJQ0MgUHJvZmlsZQAASImVVwdYU8kWnluSkJDQAqFICb2JIkiXGloEAamCjZAEEkoMCUHEjooKrAUVC1Z0VUTRtQCy2LBgWxR7fyAioKyLuthQeZME0NXvvfe9831z73/PnDnnP+fOzDcDgHoURyzORDUAyBLlSKJDApiTEpOYpE6AACoAgAhQDlcq9o+KCodfYOj9T3l3B1pDuekg9/Vz/38VTR5fygUAiYI4hSflZkF8FADclSuW5ABA6IF685k5YoiJkCXQlkCCEFvIcZoSu8txihKHK2xio1kQJwOgQuVwJGkAqMl5MXO5adCPWgnEjiKeUARxA8Q+XAGHB/FniEdmZc2AWN0GYpuU7/yk/cNnyrBPDidtGCtzUYhKoFAqzuTM+j/L8b8lK1M2FMMcNqpAEhotz1let4wZYXIM/xxyUZQSEQmxFsS3hDyFvRw/F8hC4wbtP3ClLFgzwAAApfI4gWEQG0JsJsqMCB/U+6QKg9kQw9qjscIcdqxyLMqTzIge9I/m8aVBMUOYI1HEktsUyTLi/Ad9bhXw2UM+6/MFsQlKnuj1XGF8BMRqED+SZsSEDdq8yBewIoZsJLJoOWf4zzGQKgmOVtpgFlnSobwwT4GQHTGIw3MEsaHKsdg0LkfBTQ/idL50UvgQTx4/MEiZF1bAF8UN8sdKxTkB0YP2u8SZUYP2WAM/M0SuN4O4WZobMzS2NwdONmW+OBDnRMUqueHa6ZzxUUoOuB0IBywQCJhABlsKmAHSgbC5p7YHfil7ggEHSEAa4AOHQc3QiARFjwg+Y0A++BMiPpAOjwtQ9PJBLtR/GdYqnw4gVdGbqxiRAZ5DnAXCQCb8lilGiYajxYNnUCP8KToXcs2ETd73k46pPqQjBhEDiaHEYKItboD74F54OHz6weaEu+MeQ7y+2ROeE1oITwm3Ca2E+9OFBZIfmDPBBNAKOQYPZpfyfXa4FfTqggfg3tA/9I0zcAPggI+FkfxxXxjbBWq/5yobzvhbLQd9kR3JKFmX7Ee2+ZGBmp2ay7AXeaW+r4WSV8pwtVjDPT/mwfqufjz4DvvREluGHcGasDPYJawBqwVM7BRWh13FTsjx8Nx4ppgbQ9GiFXwyoB/hT/E4gzHlVZM6Vjl2O34e7AM5/Lwc+WJhzRDPkgjTBDlMf7hb85lsEXfUSKaTo5MzAPK9X7m1vGUo9nSEcfmbruAxAN6JAwMDDd904XDNHe0CgNLzTWddBQDtJAAXl3BlklylDpc/CIAC1OFK0QfGcO+ygRk5AVfgBfxAEBgPIkEsSATTYJ0FcJ5KwEwwBywEhaAYrALrwCawDewEe8EBcBjUggZwBlwAV8B1cBs8hHOlA7wEveAd6EcQhITQEDqij5gglog94oS4Iz5IEBKORCOJSDKShogQGTIHWYQUI6XIJmQHUon8hhxHziCXkBbkPtKGdCNvkE8ohlJRbdQItUJHo+6oPxqGxqJT0TQ0G81HF6Mr0A1oBbofrUHPoFfQ22gr+hLtwwCmijEwU8wBc8dYWCSWhKViEmweVoSVYRVYNVYP//RNrBXrwT7iRJyOM3EHOF9D8Tici2fj8/ASfBO+F6/Bz+E38Ta8F/9KoBEMCfYETwKbMImQRphJKCSUEXYTjhHOw7XTQXhHJBIZRGuiG1x7icR04mxiCXEL8SDxNLGF2E7sI5FI+iR7kjcpksQh5ZAKSRtJ+0mnSDdIHaQPKqoqJipOKsEqSSoilQKVMpV9KidVbqh0qvSTNciWZE9yJJlHnkVeSd5FridfI3eQ+ymaFGuKNyWWkk5ZSNlAqaacpzyivFVVVTVT9VCdqCpUXaC6QfWQ6kXVNtWPVC2qHZVFnUKVUVdQ91BPU+9T39JoNCuaHy2JlkNbQauknaU9oX1Qo6uNUmOr8dTmq5Wr1ajdUHulTla3VPdXn6aer16mfkT9mnqPBlnDSoOlwdGYp1GucVzjrkafJl1zjGakZpZmieY+zUuaXVokLSutIC2e1mKtnVpntdrpGN2czqJz6Yvou+jn6R3aRG1rbbZ2unax9gHtZu1eHS2dsTrxOnk65TondFoZGMOKwWZkMlYyDjPuMD7pGun66/J1l+tW697Qfa83Qs9Pj69XpHdQ77beJ32mfpB+hv5q/Vr9xwa4gZ3BRIOZBlsNzhv0jNAe4TWCO6JoxOERDwxRQzvDaMPZhjsNrxr2GRkbhRiJjTYanTXqMWYY+xmnG681PmncbUI38TERmqw1OWXygqnD9GdmMjcwzzF7TQ1NQ01lpjtMm037zazN4swKzA6aPTanmLubp5qvNW8077UwsZhgMceiyuKBJdnS3VJgud6yyfK9lbVVgtVSq1qrLms9a7Z1vnWV9SMbmo2vTbZNhc0tW6Ktu22G7Rbb63aonYudwK7c7po9au9qL7TfYt8ykjDSY6RoZMXIuw5UB3+HXIcqh7ZRjFHhowpG1Y56NdpidNLo1aObRn91dHHMdNzl+HCM1pjxYwrG1I9542TnxHUqd7rlTHMOdp7vXOf8eqz9WP7YrWPvudBdJrgsdWl0+eLq5ipxrXbtdrNwS3bb7HbXXds9yr3E/aIHwSPAY75Hg8dHT1fPHM/Dnn95OXhleO3z6hpnPY4/bte4dm8zb473Du9WH6ZPss92n1ZfU1+Ob4XvUz9zP57fbr9Of1v/dP/9/q8CHAMkAccC3rM8WXNZpwOxwJDAosDmIK2guKBNQU+CzYLTgquCe0NcQmaHnA4lhIaFrg69yzZic9mV7N7xbuPnjj8XRg2LCdsU9jTcLlwSXj8BnTB+wpoJjyIsI0QRtZEgkh25JvJxlHVUdtTvE4kToyaWT3wePSZ6TnRTDD1mesy+mHexAbErYx/G2cTJ4hrj1eOnxFfGv08ITChNaJ00etLcSVcSDRKFiXVJpKT4pN1JfZODJq+b3DHFZUrhlDtTrafmTb00zWBa5rQT09Wnc6YfSSYkJyTvS/7MieRUcPpS2CmbU3q5LO567kueH28tr5vvzS/ld6Z6p5amdqV5p61J6xb4CsoEPUKWcJPwdXpo+rb09xmRGXsyBjITMg9mqWQlZx0XaYkyROdmGM/Im9EithcXiluzPbPXZfdKwiS7pYh0qrQuRxsesq/KbGRLZG25PrnluR9mxs88kqeZJ8q7Ostu1vJZnfnB+b/OxmdzZzfOMZ2zcE7bXP+5O+Yh81LmNc43n794fseCkAV7F1IWZiz8o8CxoLTg70UJi+oXGy1esLh9SciSqkK1Qknh3aVeS7ctw5cJlzUvd16+cfnXIl7R5WLH4rLizyXcksu/jPllwy8DK1JXNK90Xbl1FXGVaNWd1b6r95ZqluaXtq+ZsKZmLXNt0dq/101fd6lsbNm29ZT1svWtG8I31G202Lhq4+dNgk23ywPKD2423Lx88/stvC03tvptrd5mtK1426ftwu33doTsqKmwqijbSdyZu/P5rvhdTb+6/1q522B38e4ve0R7WvdG7z1X6VZZuc9w38oqtEpW1b1/yv7rBwIP1FU7VO84yDhYfAgckh168Vvyb3cOhx1uPOJ+pPqo5dHNx+jHimqQmlk1vbWC2ta6xLqW4+OPN9Z71R/7fdTvexpMG8pP6JxYeZJycvHJgVP5p/pOi0/3nEk70944vfHh2Ulnb52beK75fNj5ixeCL5xt8m86ddH7YsMlz0vHL7tfrr3ieqXmqsvVY3+4/HGs2bW55prbtbrrHtfrW8a1nLzhe+PMzcCbF26xb125HXG75U7cnXt3p9xtvce713U/8/7rB7kP+h8ueER4VPRY43HZE8MnFf+y/dfBVtfWE22BbVefxjx92M5tf/lM+uxzx+LntOdlnSadlV1OXQ3dwd3XX0x+0fFS/LK/p/BPzT83v7J5dfQvv7+u9k7q7XgteT3wpuSt/ts9f4/9u7Evqu/Ju6x3/e+LPuh/2PvR/WPTp4RPnf0zP5M+b/hi+6X+a9jXRwNZAwNijoSjOApgsKGpqQC82QPPCYkA0K/D88Nk5d1MIYjyPqlA4D9h5f1NIa4AVMOX/BjOOg3AIdisFkDf8Ft+BI/1A6iz83AbFGmqs5PSFxXeWAgfBgbeGgFAqgfgi2RgoH/LwMCXXZDsfQBOZyvvhHKR30G3+8nRbT3eAvCD/BsKSXHDfAJXXQAAQABJREFUeAHsfQdgVMfV9QVUQF1ICEQRKlTRe+9gugvGNq7Y2HGJa5we+0tsf/lix05+23FiJ+7BDRcwpncMmN57B4EEEgIB6qjBf86snrQSkpBAZXd1B652971582bO2z1z586dOyKaFAFFQBFQBGoFAnVqRSu1kYqAayFQF83xhwTmN+sCXpMhl/M/64siUCICSvglwqIHFQGHRSAYNbsbMhTiC2FKgayCfAlJgpQ3tUVGdhKHy3tBOfK5IU9nyCnImXLk1yzViEC9aryX3koRUARuDIFGuPzPkC6QryCfQRZDzkJug/SEbIRkQMqTHkOmNpB15clczjxeyPdHyHnIkXJeo9mqCQH2xpoUAUXA8RHgaPxeSHPIs5CjECvtxZvtkLch90DegVCZo2RBrMQyPCB5+a9+eM2GeEMuQZifGj9NRo0hnpBzEJqLrkCYeD3f5/BDfmJ+Hucxn3zh6IPXs3zrWrzVVJMI8AFrUgQUAcdHgAT8K8hnkDUlVJcaNYmVmj61/r6QYZCdEMu2TzJ+Kv/zLXi9GRIBCYUcg4yBtIUMh0yA9IfcBCFp8zz54kEIzUr22jvLeATCkcXDkCGQFpAAyB6IfeeAj5pqCgHV8GsKeb2vIlAxBCKRvT5kcxmX8dzPIC0hYRCafqjVW4laODuCHZBvIVEQkvGnkLOQrpBekI8gX0FI9IMhP4ewQ+EoojOkOG+Q2PtBvoF8DmkPmQ+ZB+HIQZODIFD8wTlItbQaioAiUAyBQHzOhHCCtrRE0wvzNIRczhe8FEk8nguJg5DkSfjHIDTLuENOQ2ZCrHmAuXjfDcIRwW4Iry9uouFnHue9EyCsI8vnxK0mB0KAD1mTIqAIOD4C1LZpUilLSSNh8zzz2mv2+FiQ7Mmaeezz0ba/C2KRPS8ikdMsxBEGJ2Ttr8fHUpN9uaVm0hPVi4ASfvXirXdTBK4XAWrLNOmElVFAS5zjRCm19JIIl8f4my+NtHncfpIXH02iWYbmIHY4JSWWWdL9Ssqrx2oQASX8GgRfb60IVACBE8h7FELTCjX54onHOAl7GMK8JG9q+/a/cU7a0txjn+zJn4TeElKc2JviGM1Flj2++P05iVtc+7cvF6c1OQIC9l8GR6iP1kERUARKRoBmlk8hAyEPQjhRSq2awvcPQ/pDPoXQpJMIIVHznJV4nm6dNNMwkZQ5arASPzNPB+sAXun7PxSyHpIGod2/FYQaPxNHFEMg7EyYWAbrxOOaHAyB4j25g1VPq6MIKAJ2CMTiPVfSPgC5CcLJ1BGQqRB6z7wNWQEh6XLilETcHeINYUfRFsK0DnISQlfPcZCg/M898UqyjoLQVbMNhGWnQz6AsNPhxOwkSDMINXvWIxBC5XEhhPftCBkK8YAcgeRCNDkAAny4mhQBRcB5EOBvtiVkAISaNhNJdS3kBIRkb6VwvBkJaQjhOeYhScdBzkFohiHJs0PYBPkt5BRkOYQdhB+EZqSVkPMQJhJ7V8ggiBtkL2QHpDlkD4RmH96D5bJz4MiAIw5NioAioAgoAg6CAEf7b0CecZD6aDWqAAH21poUAUVAESAC1MRzFApFQBFQBBQB10aApqIOkEjXbqa2ThFQBBQBRUARUAQUAUVAEVAEFAFFQBFQBBQBRUARcCoEaLfTpAgoAlWLAP3Re0Hormgl/vYYxuAw5DgkD3I9yR8XtYZYLpFVVQbvQ7/8XRC2g66e+yA8RldMtoFOIGwr20X3UOsaBl2zVunirSZFQBFQBFwXAa5W5aKkZZAvIV/lCyNR0sf9fgjdIq8ndcFFMyBNr+fi/GvKUwYXdn0BCYHcBeEiL/rxvwx5DMLEOvwPpDE/IFnXcBGXJgdAgAsnNCkCikDVIkDNlxr8O5AfIRa5e+L9LZBHITsh1J4rmlhWA8iNjNbLUwYXZH0KSYFQi2dIBoZomA9JhzBxAVc/yOf8gGR/je2I/q1RBJTwaxR+vXktQoAmDoYmoFgpFW9mQW6GtIUkQmgGIVEyPAFXqrITYDycIZAoCE0jmyHbIfSZZ7kkXj8IV8CyHN5jHYRmHp5jYrmDIK0h7ICOQn6EXISUpwze6zyEHRcTr2FKhrBOLSHDIRwBjIKshcRB7K9xx+cekJ4Qdhr7IWsgaRCmJhCu8GVZLJP787Kd1j3xVtONIMAHr0kRUARqDgESHzV92r1Jdj+HvAD5E4R2/2aQlyDDIKcguZDnIPdBqNWTeBm47DFId0gshNr3ixASLxNHAL+EsGM5AzkNGQ95BkKlrzxlRCDfryGMm8P8TOSP+yFjIOyU2CGxLq0hNOtEQqxrWNcpkOch7DxYj9shz0JYX3YUrHNnSAyEmBCDkRBNlYQAH7YmRUARqHoESI4kbxJnPQhJ0w9CEuQ5arIDISMgsyBPQuLzX0l+v4dcgDBR6yc50gxE8mwBWQX5G4SaMRNJ/RHINggnWVtBXoIcgjBRu/4/CO3u1KCvVQYJmx0H62qfrA6LdeGIpAPkPcgxCDsgXsPUFnIX5O+QlRCmnyCvQwbxAxLr8DLkLIT3Y1t6Q5ZDciGabhABtxu8Xi9XBBSBayNAcveGULudCiGZMZE8qen+GULNnB0BzTrvQ+IgDSF9IR9BLLLHW2PSOYLXoRCSIc8tgFhkj7eGVO/GK01DmyB/grBMauisCwmYHYEXhPUpq4zo/PNsR0US81vSB+/PQ/ZAOArgPc9B9kIGQVj/IMgkyGIIcZgOYf3yIJoqAQEl/EoAUYtQBK6BAMktA0Li3gCxtGRqrSS2VAgT81EzJhEycQRADfkkP9glXhcD4YiBGjbzUyu2T+n4kAxpAqHmHQV5CsJOhPehGYXXkpD5mWGXyyrDvsNB1golls96tIO8YHcl7x0B2QfZDXkXMhlyK4R12Qr5GsJ8mioBASX8SgBRi1AEyoEAtVRq8YevkZdkbhEczTV8b5lF7C+llk67PydlafJxh9gndiokdJL9CMhvIXMgX0FOQ6jpvw6xOp+yyuB9bjSxDJI6Ry+sMzsBJo5qUiBs6zeQRZBwSGcItf1IyO8h7DA13SACSvg3CKBerghUIQI0gSRAekO22N2HWnpHyGxINiQ0/zNHB1ZqgTecSD0OmQChtvw2hGTL1BzCEQQ/U6iBs8ySyjiK41bHgLfXTFaHZWXkZ3Z0/SA0YXE0wcQy74GwU2LyhUyHbMuXg3h9BULT00mIphtEgIBrUgQUgapHgL81S6st7W48b/+bJBF+BxkDuQniDyExPwoh0S+HMH8WhNpwTwhJsyWEeXZB9kOo0UdAWkF4nsR+M4QjBx7zgFyClFbGAZzjfaiNM9nX075drAdHGl0hHEHwnCUb8J7nWa/GEHY2HHlMgdCslQa5CzIQwnMk+R6QOEgKRFMlIKAafiWAqEUoAtdAgES3CWJptqVlJ7mRpC0tnPmWQWhuuR1CkuZvlrb5v0Bo5yY50s59AnI/hGTsBTkJ+QDCjmEeJAryAoTX8thSyDlIL8gPEJbBa0oqIwfHSbpsA9vCeu6E5EFof2c5TByNsIMaByHRsy3WNWz7a5BHIC9DaLqqD/kUsg7CjqIZ5CEI5x/YDt7rLchFiKZKQICgalIEFIGqRYC/M5IbiZYkWVoi6ZEoSXT2idcHQhpBWEY8hBo5E/NTQ+dxKw9HBszDY1ZipxEK4Ss7Ck7CsvPgtbwf35dVhnUf5qWmT+F7lscOip0CE4+zwyGhszy2ifksMw/PNck/zo7ivN053iMoX3hNIoTkr0kRUAQUAUVAEVAEFAFFQBFQBMqLALVqaumaagECfNiaFAFFoPYi0AZNvxtC04smRUARUAQUARdG4Dm0bTMk0oXbqE1TBBQBRaDWI0DXR3rrcHL14VqPhgKgCCgCioALIzAObbO8ZObgPf38NSkCioAioAi4GAKcqP0PhO6SFLpADodoUgQUAUVAEXAxBDqjPUcgFuHzlYuc6I+vyUURUC8dF32w2ixFoAwEuJBrBIQrWE9DuHCKgc06QVpBNCkCioAioAi4CAJc9XsThLFqlkO4KvZZyGBINESTiyKgwzcXfbDaLEWgDAQYtmAJhJO0NOVQ42c4htUQHfUDBFdN+nBd9clquxSB0hEgyTOR6Isn+8Btxc/pZydHQAnfyR+gVl8RUAQUgfIioIRfXqQ0nyKgCCgCTo6AEr6TP0CtviKgCCgC5UVACb+8SGk+RUARUAScHAElfCd/gFp9RUARUATKi4C6ZZYXKc2nCFQcgZK8YCpeStVcYbljFi/dkevMuloeRsXrrZ/LgYASfjlA0iyKQAUQYFz5rpCBkJAKXFcTWbkAiytrSfK3QcLz3+PF4RLryKie+yE/QuIhmhQBRUARqDEEGJDsKchxCPeupTaqUrkYZADT+RDGAtJUQQQcffhWweZodkWgRhGYiLt/WLde3ZDI1pES2TpKPDzZB6gVojKeyvlz52Xfrn1y8Tz3X5dZkEchSfygqXwIqEmnfDhpLkXgWgiQ2SdBQrr36SG/+cvvpEV4c6lTt3L9IurUKdTRrly5gY6ElxYWda22OcT57KxsWfz9Inn7f9+UtNS0oahUN8gyh6ick1RCCd9JHpRW0+ERoD28eV0Q/MCRg6R1dGu5fPkydPsr4NUbY1arjCuXr0C7vSjp6eni5eUlAQ0DpJ5bPbl85XKZ97Cuz8vNldy8y+Lh4S4YhQjLs845Orqsp0d9Dxk8eoh8//ksaPp7fVDnlo5eb0ernxK+oz0RrY+zIkBWh0Jf15AxtW9LAydZ3UiiVp+emi7LflgiRw4cBcFjeuBKHQkJDZFxd4yXRk0aFdyrpPvw+jOnz8i8r+eIj5+fjJk0Ri7APNK0ZTNxd3c3pF/SdY52jB0U69vAqwGrRrzrOVodHb0+lTvedPTWav0UgWpAwCL6yrzVygUr5cSxkzLlZ3fLE797Uu574j7JzMiUGR9+JZcyL4ll6mGHU69ePaPB2x/btHqjXM67IkPHDpXM9EyZ+9Vc88r8zEcpuBbHmHjMKst+kGLy4h7mXH5eK7+5MP+PVa79scp4f2PdZ2XUwHnLUA3feZ+d1rw2IAA9Nic7R47uPyJ9hvaVlq1aSm5Orvj5+8mk+yfJzP/OlNTkVKP15uXlyUl0CqdPnhL/QH+JwMRxA+8GknQ2SY4ePCqNGjcSN3c3iTseJ+cSz8mpE6fEs76nMT1xEMJjvLZJs1AJiwyTs4lnJebIcfHx9ZGodq1MXkKecjFFjh06JhkwLTUPay7Nw1tITk6OpKWkSUBQgOk4SPasFzs/X3/f2vCknKKNSvhO8Zi0krUWARAx7e0k7h0bt5u5Adru63jApNO0sTzw1FTxbOBpCHfZ7KWyY/MOCW4cBBNQhtQHmd/+4B2yY9N22b5xm/j4+Ehebp7En4qXg3sPyJwZs+XOaVPk5JGTsn/nPmMj57wDJ0bbdmwn2ZeyJe9yrpyOjZc20W1k0tTb5VzCOfnuv98aUndzrycr562U4eOHS7tO7eTL/3wuA0cNlh4DekhSYpLMeP8r00l179e9TJNTrX22NdBwJfwaAF1vqQhUBAGaTmh3/+bjr+XNP/0dNvsQiWgTIe07R5tXDw8P2b1ll2xZu1nuf3KqhEWFGXPNVx98KcvnLpNb77sNtv8jEtI4RCbcNRGafZxczr0s9z8xVZqGNZVta7fKuTPn5KkXn5aGjRrKktmLZdb0mfLrv/wWmn2UHDt4TD5/7zO5kHTB3IcjBZK/h6eHrF36k2z4cT1Ivqf0HtRHFs1cIMEhQbJmyRqp71VfOnTrUJGmat4qRkAJv4oB1uIVgcpAILx1hDz5wtMSC5PNUUzcUtYtXwtC7Sh3PHSn7Nm2R9pCyw5vEw5b/WVMzvoYj5aZn35nTEI03dRvUF+8vL0wWvASd3QSXj5exsuHnj4du3eUIBA1E006raHRN8OkLlPD4IZmipQTx9379ZDs7GxJjE+UzLRMiT0eKxfgF09zUq/BvSU+Ll7eeulNdCTN5KFnp5nRBydbNTkGAkr4jvEctBaKQIkI0BaekZYhp2BbjwDpt+3cTtp1bm/s+CeOnpAP/v4+zDXb6ZcuLSJaFLhn0lWTdn6ODui/Thu98Rwyb3grehGZF2OeYYdg701ET5i6deC6af3L9/k/e+as6Wi8fb1NR1AHedzgOcOyOT/Qqn1r+fqjGdK1T1cJDA40rp8lNkwP1ggC6qVTI7DrTRWB8iFAwqfv/RcwqSTGnzGETjs7tXKadUKbh0rKhWSYUYKN6yXP8Rp63JxNSIQNPs9o2YbxC25p07jr1sWMMJ0bS0rsIPDPSsx2KTNTFs6cbzqd26dOltG3j5E2HdvgfphnwP2SziTJ0jlLZNIDkyUuJk62rdtqjltl6GvNI6CEX/PPQGugCJSKADVnmlqCQOhzZ8w1njV0q6QHzMYfN0jCqQRphUVeXXp3leOwtW9bv824a9IDZ+mcpdIRJh8faONmEVi+ll4XWj9HDRwhXMq4ZPoCe7ML78kRQkEC71/GMebJRP7srCwzSXwq5pSsX7lektHhXDh3QeZ89QMmjGHfh/fQyJtHyYJv58vJoydNB1RQlr6pUQTUpFOj8OvNXREBatilas4VbDDJl+aWOx++S+Z/M08+e3c6tPt8PQ2LrybcOcGYeupAWx87eZysmLdMVsxfbsiZdv9hE4YbPb1FeBhW5gYa4g8IDJDortGy5IdFxtbfBKMElsl7cVWwH9woW0aF27RzkD1NNa1hquGE7rBxw2UZtPgta7dIgwYN4M3TFvlEVi9ehVVntvowf/f+PYydfz9i33AugOcqK1VeSZVVI+cpR7FznmelNXVsBPxRvW9A9jc9+bunZdpzDxsCrawqsxPJRWiEi0kXJSU5Rdzc3Izm7+3jXXAf5qG2zSBjnJwNbhxsbPgkcvrJ0yZPUxATJ3YvXbokngjuRtMNib7gHMxCdN90RwgGJnM91gLwM+/B8mlG8kfHQTs95whyUT4ngt3huYMLTIfHMrhmgN48vO5GE81GCXEJ8osHnpUDe/YzVPITkI9vtNzadL1q+LXpaWtbqxKBTBR+nOS4ctFK6dG/JzTvcDsr+I3fmqRMgqZbJBMJlQRvn0istOczpaekGzLne17LZNnlzWccyshhtGFbKjyHzyiHK3mtxHK5opeJ4Q1oumFbU7EIi3mZ8nC+yDW8J/5nXcoy52/kD+tL76BFsxZixXEMi8KN5RjfaCo/ArYnVf78mlMRUARKR2AETn0CcmzRtHlT45pIrVRT5SDAeYejh49i/iGdBX4O4d4DRXs8ntFUKgJK+KVCoycUgQojwBHz3ZDfQFpDnCW4F91xnIUL0lDXhZCXIIcgmiqAgLM85Ao0SbMqAjWKAEm+FaQ3hHZ9R04k+kAIV1jtg/CzoyZyFXcRoxlnI8TsgoJXTYqAIqAIKALlRGA88nHi09E7p3I2R7MpAoqAIqAIlIQAd+l6H3IWMrykDHpMEVAEFAFFwDUQ6IRmHIHQlPMmhHMQmhQBRUARUARcEIFfo025EBL+XkhbiCZFQBFQBBQBF0OgMdqzGkKyp3Ah05MQTS6MgDoJu/DD1aYpAmUgMAjn2kFI9CR8esBMhNhWbeGNJtdDwFn8hF0PeW2RIlBzCHCylpO0myAIdi+hkP9AYiCJkFMQTYqAIqAIKAIugAAnZ+l/T1kKoXb/CIQdgR9Ek4sioCYdF32w2ixFoAwEOFHLhUs05ViLL8kFWRDGqNHkoggo4bvog9VmKQKKgCJQHAEl/OKI6GdFQBFQBFwUASV8F32w2ixFQBFQBIojoIRfHBH9rAgoAoqAiyKghO+iD1abpQgoAopAcQSU8Isjop8VgdqDgLXKli2+XHuaXXtbqsGSau+z15ZXDQJ0c2R8+S4QLmqy3B7x1qESyd4LEgLJgfSFcA9DR1YCuSqY8fAZ98dse4VXTRVAwFG/jBVogmZVBBwGAZLlBAh3vOoMwY7eDp+o9JEHuPjK0bV8dlLnId9DXoPEQTRVAAEl/AqApVkVgWsg0B/nP4W0DgpuJKGhzcStnhtWN5GnNN0oAunpaRJ7MkaysrLYOb0PYbRP1fQrAKyadCoAlmZVBMpAwB3nuJ9t67btouW3v39Z2rXvJHXr1K1Swq9D5Rz/r5g+pWjHYs6hQrajRc+V0Q4HPIWWoI0ZGenyzYzp8slH79YD6d+Gin4BWeuAFXbYKinhO+yj0Yo5GQINUN/WdcBMY8beIkOG3mSqbyPiqmvJlSuX5fLlPKmHkUSR6QJ2Apd57jLOMUYiDjh5qlevrtx970Py48olcmD/XsYBagVRwq/Ac3XkCZoKNEOzKgI1jgB/S24k14ZBQeDXOoZsSchVJeTw06di5cvPP5a0tFTcHsaj/PuR3o8eOSgL5n8vubm5Bcet8874mpeXJ15ePuLr68+HTbwZ7E1TBRBQwq8AWJpVESgXArSeVIMFhaSeknJRtm/bLNnZdGApmtj5eHp6Gt2eIw9K3bp1jcbPV/tkO1ev1HMsi8J8VmIZVpnFy7PyVP5rNQBb+ZV2mBLVpOMwj0IroghcDwI2Ei+kYVsZV2BLCmkcKl7ePma0kZKSbCaQ4+JOSGLiGWnWvIWEhUWYDoCkTfv40aOHJBX5eLxpsxYF5J54Jl6OHePWtyKRUa0lJKSJUNuOjT0hAf4BcvYsQ+hfkYjI1gXXmMz6x+EQUMJ3uEeiFVIEbhyBOpgsPnL4gGzZvB5272ky48tP4N1CN3v4X+Zdltnfz5DxE26T4SPGyvnzSfLFZx9IamqKeHv7ytIl82TosNGYhxglu3ZulTk/fCt+MKPk5ObIogWz5f6pj0rL8EiZP/c7mK2uSDrMSb37DADh06RevOsxt9Q/DoKAEr6DPAithiJQmQjQ8pKdnQWTTzLs91ck5vhRCW3aTKY98hS0fm9ZvnSBrFyxRPr1HyI/rlgMc42bPPf8CyB8H9m/b7d88/V0iYiIkvXrVsuAAUNl2IgxppyPP/qXbFi/BoQfJYlnEqRBAy955NFnJLAh5i00OTwCSvgO/4i0gorA9SJgs9uDqcXH11f69htsJjzZAdD8QsJnh7Br5zZp3iJMtm3dZDx+OAK4ePGCHIcZZ8LNk8XNzU1OnoyR9PRUOZMQL/4w47AMz/r1ZcCgYdIopLGZGL7eWup11YeAEn71Ya13UgRqBAFOc7q5uUt9ELRtEdgVsz6gbt06kpOTLRcunDcEDt92Y6JhJSMiWoHImxhPnz17doDkAyUYi8nc3d2N3Z82e8/6DcTPz18ug/w1OQcCSvjO8Zy0lopAqQjQfFMHHjP0lKHmzUQbvp1DjTlmT8skfn72cPeQJk1CZciwUTJw0HAzGcsJWdr+6eq5ZPE8efChx82IwMPDU84nnUMHwd0Raau3lWEK1z9OgYASvlM8Jq2kIlA6AhmZGXIq7qQhaIvwPaCJU2O3PnMRFj7k07StrMsw3dAs06FjF1m8aK6EtYyUoKBgY+JZiMnZ0WMmGu+dPFzLkQD9+tkR0EuH8wNXMGFrlVl67fSMIyGghO9IT0Pr4hoIVKOjiq+vnzG3fP3Vf6UebO1MJHl/f3/p2q2nMc3Qf54eND7Iy3McBHCytU2b9maydvjIsXIu6ay8/++3jMbP1bljx90i3br3Nnb8Tz9+19j+fTEPMByTt/swqcsFX/ZlVt+D43Cm+u7mandS6FztiWp7agoBLv/8DmaVkb/7wyvGc4XEaWnYVVEp+s8zrEJmZqYxxdjfoy7OeXjWN4dod8/Bwix2CCR/mnKo8VNrp5mG5XA1Lv3t09PTJbhRIwkMtHnd8PiZhNOSeSnTaPbsYDIxomCZbBu9e0yZ7EWqONFkdfbsGXnskbtl546tXGn2JOTDKr6tSxWvGr5LPU5tTA0ikIV7J5Dk161dJTfBHBIa2hyHqpoI60BbZxifq5PFwSbWTr72n5eXm5+xjpnI5Tkmkn4TRPfkK4ncysfPoU2b5x+3xebxzO9I8gsqyGt9rppX2wTzemB7IoYh8SUTcrpq7uW6paqG77rPVltW/QjciVv+G9pvYOcu3YVRM01QM4t5q78+rnNHdDzJyRdl08a1khBveH4xGvcAhMt8NSkCioAiUO0IeOOO/wOxxRqwqffGgoJj+lo5GHB3rnWQARBNFURANfwKAqbZFYFrIED7ykDIMAhD+Fa1TQe3uKHE+rKe8RBHryvtT4cgCyFHnaC+qKJjJSV8x3oeWhvXQYDhKIuGpHS8tpFA2TFxW8aXIWkQR+YEdkissyZFQBFQBBSBCiLAnVFeh5yA9KrgtZrdCRFwdA3ECSHVKisCToNAOGo6GhIGGQdRPgAImhQBRUARcEUEfoZGMWYyTSWbIC0gmhQBRUARUARcDIEAtGcehGRPSYfcB9GkCCgCioAi4GIIjEJ7zkIQZMcQPl+/g/hCNLkoApy00aQIKAK1CwF3NPc2SAKEG4EHQ76FZECOQXQFK0DQpAgoAoqAKyDggUZEQJpAlkLo6kh7fiMIj2lyUQQ0lo6LPlhtliJQBgIMPHYcQju+5XfPV5p4NLkwAuqG5cIPV5umCCgCioA9Aqrh26Oh7xWBykGAipSlOVdOiZVfCj1zOIdn1dN6ra3zetbkdeUj7UAlKuE70MPQqjgtApz4pA97e0gUpDHEFowebxw0kfBZx1YQkv1kSNv893ipVYlknwKJhTBWD+UchMddKlm9uks1ShujCFQTAoyOyaiNt0MGQRgAn8fUVAoQnDBxbiMZsh+yAPI95AjEZYhfCR9PU5MiUEEE+LvpCHkaciukUX3sDdu0WTOJiozCpuBNsFcslX7HTXWg1GdjF6xly5bJ6dOnZPDgwdK2bTu5fMVluK3c4HNv3pSUFDl58qQcP35MkpKSuINYLgrYB3kf8gXkIsTpk5p0nP4RagOqGQHauMdCXoF09fH1rTN40CC55ZZbpWevXhIKsq9fv4FwO74C63g1V7A8t+NOVskXk+XEyROSkBAvd951lzzwwNSrtkosT1lOnwcb1HArx9TUVDl69KgsX75cfpjzg9vBAwc6g/gZXK475H8hMRCnTkr4Tv34tPLVjABNNVyw9AYkvEOHjvLMM8/IuHHjpGHDhqYq1h621qs56IB/2CHVq1fXbF3I6tWtg8/spGrp7lxu2AKSo7TGjRtL7969ZfLkyfLhRx/Jl1987pWcnDwVEPEBPw+hO6vTJiV8p310WvEaQGAw7vkXaMfhQ4cOk5dfflm6d6fyByMv9rJ1plTQIXHqVlPBZvPQ6E0n2L59e3kFz7dd27by6qt/qZeQkHAzYEqFkPQ5oeuUiRqLJkVAEbg2ApyQfRHSum+/fvL6669Lz549DVEUkOe1y3C8HDqLV+IzIfFzc/ipU6fKiy++yBEcufIOyIMQmvWcMqmG75SPTStdzQjwx34vZHCLsDB54YUXJTo6ulR7N80ltJE7cmL9TD3zK1mnbh2YeJyDxziaqo5Olvegqefuu++Bbf+Y/OMfb9dHR/AoIFsO2e7Iz7e0uinhl4aMHlcEChGIwNu7QYju9917nwwaOLBUwqGFhBN/O3bslPiE05KbQ2cPx0vsjzIvXTKeKSS2JUuWyIXz52Gaclwbj4+vj7Rp3Ua6du0qvr6+pT6DykSb2NC2//Ajj8hPP62RzZs3t0L5d0F2Qxzz4ZYBgGOrIWVUXE8pAtWIwDTc6902bdt6fvnlV9K+HdwXS7DZ89icuXPlb2+8IQcOHJCsrCxc5rgEWo34VcqtOCIJDAyUsWPHyW9/9zuJjIgo8TlUys2KFcIR0bvvvovR3R8kJydnJ07THTemWDaH/6gavsM/Iq1gDSNAh/ohEM+BAwbCzz6yRM2SZLRu3Tr5H9h7Y2KOS7PmjaV5s8ZCU4mmG0eAKGZkXJIjR07KF198bsxPf/3rX8XHx6fE53HjdyxaAgl/6NCh0rx5c/jqH4/C2S6QmKK5HP+TEr7jPyOtYc0iEIjbt/Pw8DTuep6eniXa7rmIaeasmYbsu3VrL6/+9Slp164lLi2Phm91CuXNW1q+8pRzo3l4fWn3r8oHVQcjphz56ssl8tqrH8uCBfPlvvvukwEDBpT4PCq7JjTthGH+Jjq6Awmfq6k7QX6o7PtUdXlK+FWNsJbv7AjQ/7qxL+zHkdDuS0rU/jIzM43tnucnTBwsgwZ1NponeKLMRFt6Xp7NpZN+8WXmx8k8mI1Km1wlKVE42iieeB+uBMvOzjHXu7nVLdVeb02KurnVu6o+9F4xk722Aovfpko/E5+77hop3327TA4ejJHjMTGG8Kv0pvmFE1cvLy+JgBkJiWi2hHAjmRyI06SrvxlOU3WtqCJQLQhwyz/M29UXPz+/Um9IQrgM4ib5BwTadgnkBKhFwqW9Zmfnyvvv/yCffroAtuG8UvOTX0+dOifT/7tQ0tIyTT3sy+R9t2zeL7NnrzFEbn+O76kdz527Fr7lH8lbb30N08ipq8pgPpazaeN++fP/fiLx8efxGfo8jlOrz8jIkk8/WSDHj8UXHC9+n6r8zI6xgZen+Pr5mDZydWzxxPqzQ7TqUfz8jXxmuZxDyE/+eHU6hVkJ33p8+qoIlIwAfyPgEZsbo438Ss5o9D6eAj8ajiwlm3WYmvKJmDPy05pdsnTJZkPodYvZ/JmHRENJTkkHGe+THHQSTCRj23nbqtnY2ETZvfvoVfemZrxly0FZtHC9jBnTT/z9vOW/6GAyM7NMGVZ9bGXWkdjYM/L5ZwshizAi4EIkcwYdUq5s3LhXks6nEBBzmY1gi67a5Qm2w8LMem/7bCNk1pup6PXmUNl/zIjJ/CmAmxdYOGVkZMj69evN5DlHXSy/MpOfv595FiiTcztOx59O10NV5sPTshSBiiBgo5mKXFF2XnYe69bthvmnGwJ2XZQNG/ZKeDh3GKSmbTP1HDt6Wk6dTpSmoY0kLxfmFJA3mY5ElpmZLYcOxUpycqq0aoXozDhuEWnRO9eRs4kXpFGjABk8pKsEBfvLnn/PNlp/gwbkrWItQ9n9B3ST/ftPyKpV22XUqF5GYyZ18v4WifL1zJnzGC3EGn/1Nm3CoAH7GhPVyRNnzEgnEfdlO5s2DTbX8XNsbII0axYC80gorr9grvfz9ZY2bcMwlHK/qsMq2ha7T6gQO0KamU6fPm2Ift68ubJ161Z5+ulnpKT5FtaZ1/DVMl3ZlXiNt+j0EYLCav81MjvkaSV8h3wsWilXR4Ckcf58quzde1wefGgcCPmi/PDDGhk/vh88TxoY8853364wGn2jEH98vmzIPBekz2uTk9Pk/f/MkcTE8yBZH1m5YgdMPekwO2E+kcxsl64gAma37m1k9eodsnTpFtm544j06NEOeb0MGdtlNW8ZPTI8PFT69+8k33y9XEjk4eEM8V+YWAd2UF/PWCr+/ixHZObMVfLgg+PQ+TSXr79eaTInJ6fIoMFdZd/eE7JnzzFxq1dHcnJzJO7UWdQhWlIxasnJyUIncFa6dWtrsOCI5JoJbczMyJSt27bJ4sWLMHpZiPL3Snp6GurjL+s3rIed/8BV7XNzd5cW8LTp2rWbdOzYUQICAkyeMkduBZUp1jEWHHeeN0r4zvOstKYuhADNHDt3HhZv7/ogyGYSGhok33yzXPbtiwHRdpRt2w7JGph6nn3uTiw2ai4XQfBvvfmNXLiQYoh/8eKNeJ8Kf/T7jVZ94kSCvPjCf8TDw7043xsyDmkUaPK98Pv35IEHx8vtk4caTZedQXHzE2ntMg4OHdYNJHoU8wYL5De/xUJjkDwTyZ6a+RefL5aJEwfI8BE9jFY/c+aP8tn0Rch7HyJwnoO27inP/eIuBCQLlP+894PEnkyQV/78MwkJCZRvv1khn3w8T974+9Mg3gjZuydG/vnOtzJ+Qn+MBoJKnVA2FUAL+e/QocOyes1qmMOWgOjTbafwF8HO0BHNKPhc/A1HQQx217dvP5n64FQZPmy4GQ2Uj/SLl+Zcn5Xwnet5aW1dBAFOoq5atQO++sFGS+cEbzBMLT+u3CZ9+kTLrp1HpGOnSLh2hhnTA8+NHtPHmEMuXcqWPbuPyYgRPUGeAQjtmydRUc1k6NDuEheXWAQhknN6+iWQ9iKQmofccecISTqXDNt8rsQcPyGNcH1wsN9VmjB7AXd3N7n3vtHypz9+gJW4m2TIkO6mM2FntQ8jE5qDaCKiN4+7ez0siOorG9bvRbkJ8GipL8OGdUdH1tCQdz3k6dU72nzmECSsZRPp0DEK9W5qOpAmyAdriaSnZaD+wZCytGnbZHh0dHtEK31aRt80WubNmyebNm2Uc+fOGW+aCRMmYl+Cxld1HDZvqiOya9cuXDMXcxIb5PEnnpDHH3vcjAxcnfSV8Iv8PPSDIlD1CFDDPBFzWnbtOCQJ8WewKveYuek5EHFGeja8Y5IQmz1dgoICLKXaEJe/v7c0gNbMcA0ZMGcEBBRddNQwyA+adZLR2POVcUOmq37cjnmAs/JbaOnuiA3zz3/OlI8+nAdyTJa77xkF277/1YSPGtls70Fy771jZPr0BcbuTrJn4kiDJiGOKCyS9IIHDU1K9CKidh8QUBj+gG2u38DDXGvmKPDOxzt/34B8cmc5/Ffe5A7zTGRkpLRs2RL7EdyCEdNO45+/atVqE8X08ccfv2pOg3Z7bnayfccOjDA+Qv4FZmV01qUs+fWvf20CplntKW89nCmfEr4zPS2tq0sgQEJZs2an9ION/JGfMequzR2SWvcbr38BTXWfIfuzZy+C6G0mFBItP6enZxqS9fHxksSzFwyhU4tnGfGnk4wnjUX2NrCuyLFjp7FCuJkx6ZDwHpo2Xn7323fl4sVUYz4pi+A48hgwsBO8f44Yz55UkDnNKSEhDTEHscN4+vj4YGtc3DQlOcPWEcCmz3QVeRfj8mIfzejBVufy/2V7KHSZHTJkiPRDJNNjx45JbFycXEKsIG9v74IOiaWy46Fr5cgRI6Rrly6mw2DIhPff/w/mKtrIlClTyn9zJ8xZjtkRJ2yVVlkRcFAESM5JSSnwJDkgQ2CCoakmMNDPaMO04w8c1NW4adJjZf/+4wjWtR/ElY0VvAmyYP56Y4rx8HSX7j3ayhLY8Y/BJ/4StNPt2w+bTsRG/oWN52eae7Zs2Q+bd5wJT5CAEQSJj26WBw+cLMyc/44dAG34THzPRVpT7h5lrt2JUQnPRHeIwDmR+fPWYTSSKRcxn0AbPtvTEuaaXHjO2CeWY9+x8FpODlvJ3JOfCw9Zp8r1yuvprUMPnLaIYT9i+HBj2rG/p1WQlTcoKEief/6Xcscdd6Lzu2hInx0FsXHVpBq+qz5ZbVfNIQCFu6iWXVgVEjBdGWm7bt++pZnstEiJC4v69Gkv+/cdl8aY2Lz5lkHy1RdL5PsG7rCReyB/uCFvavsjMFFKjf7tN78WL28PY4oYPbovPHygbRvWtJleqKEPGtwFHcMpeev/fSXePgwNITLx5oHQfhuYjqcDJk1pLmI9KE2aNIQHzKWCSlvzC489fitGF/XMPeh++cjPJpqJ2y1b9iJvHRz3lmnTJpjzkRFNxc/X5r3DMptirsLDwy2f9OuIH+4XmW+/x2kzX9AO7aPtv0zWJ7b5Y4HS+gZq/OVJzEdt/7HHHzORMHfAzLN69Wq5715GwnbNpITvms9VW1UDCJDMSW7pZiUsaKkE1uf51vC6iYycBDu3zaZtn69x44bGM4fk2CIsBJustIOt/SJMPP7QnjlBm2tMOiT9hx+ZgMVaZ42ZJzQ0GCGDvYxmXVxD9fVtgInJ2+Crfhb263R0Jg3NZC2JtnfvdmYyl3BZ9R8woBNMIx2gLRdquqx3d7h2Rkc/bYibZNmxY6T84Q8PwMUyEe6W9UzAONrxuRH6XVOGmclcXsc0YoRtZzDbxyvQwpuj8wo1HQjPcz7gcXYoGL0wjz0mPM/ENtPsxSBqPG+2ZLSduu6/bEf79tEydOhQ+fjjj7EuYq3cOfkOcbebm7juwh3wQiV8B3woWiXnQ4C7IzVv1txUfOnSDTIGHis0bRi6s3FeQaOsfiA9neGTiyWjwQoWRXE1bS5I3NtMhJIE6dnDlIEFVyyY5TSCuyXt6SRZ63w6/NqLJ+YNDg5E/oa2Tin/3nXgGkMStd3PdlVp9bOOM++VK7bVvnVB9OHhTc2FHAmkpdlGBsybl1eYz7qWK3eZrM/pmKS2HcAxvLl0KccQvu1g4V/mpzfSooUbELPoJHDxQQdjw7swV8XfsUOqj4B43bv3kE//+1+EjTgmafDlD/QoCKFQ8UId+AolfAd+OFo150CApMFVnTfffLMsWrQQNvht8tCDL0tERDOjiVpariO2xka8tpGJI9bPqhM1emr2O7YfMB5Mt956k3Tp3NlM2Fp5rveVZQcHw+QEr5+0tDR0fgw54fiYXE97lfCvBzW9RhEohgBJfdiwYfK73/1e3n77Ldjhj2Ex0ZFiufTjjSLAIHajR482G6Bw8VR57fXXui8ne5kcuXO+VhvKc14JvzwoaR5F4BoIWFr+tGnTpAc2N1+/fp2cPnXaEJJNi75GAdV+GvHls7NkIfzQ4+CZMnz4COnQIdphCY8mLYYnbteuvQwePAgTy00qjeyrHfoavKESfg2Cr7d2LQRI+tQUe/XoKT179HBoQqLJgiEIDiM8AQOP3T55sjw4dapxbXTUp8I6c0KaOFeWZu+oba2qeinhVxWyWm6tRSDvsjUxyWlIx0wkT5PsXnis4LhjVtuhOyQHhaxItZTwi8ChHxSBG0PAIk1qoFwI5KiJ9WQd+UpPGzoSsb6OXmfL1q4a/vV9s5Twrw83vUoRuAoBkic9PDZu2gRPnTUIM3DhqjyOdCAnB2GKY+MQn6eBzP7+ewRk2+2wNnzixgBsrVu1Rnz+UWZ/WVefYK2K74oSflWgqmXWOgRI9ozE+N6/35N//fNfWE2b4FQYLFmyGBExFzt8nRkwrV+//vLnP//ZBEhT0q/YI1PCrxhemlsRKBEBEv7SpUsRs/5NxK5Plo49ektke65WvXoj8BIL0INlIgB4JQ24bt/wE8IfrJLXXntV3n33PeM/r6RfJnRFTirhF4FDPygCFUeAZM/IjIzJfv78eek7/CZ5/rW3JaRZi4oXpleUiAAJPw9hJVbOmSlv/uF5Wbd2rYlpP3LkSIeedyixMTV4UAm/BsHXW7sOAiT8hIR406DeQ0ZIs4goycOkKIzi1dZIdjx1Sor0SDdG1qOS6mLug3tVZpnlAckD+932GjJSwqJayaHdO+V0vA3v8lyreWwIKOHrN0ERqCQESO0kQw+EWTDcWkkEW57q8b7J58/JmoXz5FJmOuphC3zGLQyDGjWWfqPGSn2vorHhy1Nu8Ty2+yTJ4V3bpXPfgeKOtlZXoummLjZw8fBERE28V0+diiNfGA6v4tfqFYqAIuAgCJCIkzDCWDV3JiI9eohfYEPxCwiENBQvXz+j+ZuxBvIxL6V4sh2vW+Y5Lny6cPaMMa1kXcJmKCWUU7zcyv3MkYqtxKtbULl3csXSVMN3xaeqbaqFCNiCfQUGN5IRt9wh/kHBBRuMcOepy/CxJ0Fmw/SUfOG86RT80SnQBETNmcSdkZYqaSnJiJnvK95+hdse8lwmIkhy0tTH3x+luGZgsdrwpVHCrw1PWdtYSxGwqcJX8hdYxR45KMtmzpDkixekLki8XbeeMmTiJGMi2bF2laxfusCsI/DACKHviDHSdeBQ0xHs2bROflo4x5zz88em56G2cMi1FFSnbrYSvlM/Pq28IlCIAAw1kpp8QbaBvH3yNXRq5+FtsMkJFlfN/+ITadWhi0yCF1EaSJ+fmS+sVVtZOftbGX7bnRIZ3Unijh6SJd99KQ0bNxFPxPlf+NV0dAy3mQ6CZqPZn/xbUi4k1YA5p7Ct+u76EFDCvz7c9CpFwMEQgDYPm01acors2bxBGuRP0DJsQgDMO5fS0yU9NVXaQqvPglnHE+fbdO4muzeuk7Pxpwy5Nw2PwtaG6RLctIUEN2kqezatFy8fH2kaHiG9ht1kzD+BwY2l/00TZOGM6ZXm9eNgQLp0dZTwXfrxauNqDwI2u3qTFmFyz5PP22z48NBhqufmLj/+8J0cO7hPvvvgX6Zj4J9sTLoGNwmVUzHH5NiBfXIBawjo1cNzGakp0n1gqJyFRt8otJmJt8N5AETfwfqC5ugIfK25U3MP/eMcCCjhO8dz0loqAuVCABYco4kbf3wb31Pxh2nGS9p37SH3PftbkLcbzDECjT9F0jFJu3HFEhkwcqyMuvNe2+QuTp5PTMDErqdsXbVcLkHrtxKvu5SRITk5+VsTWif01SkQULdMp3hMWklFoBwIwNumIMwA3luJx8JatZFU2O3PwXwTgO38fDD5umPtjzDbrINdv5McP7RPchD4LSA4RNzcPeRHrGg9HXMUNv2OcnjvLjl7Ks5o+ST/rauXG4+e6nfJtFqkr9eLgGr414ucXqcIOBQC2HwFgcV8/QOh4VOnL0xcoNSkRUvpNXSUfP/xe9KybQejtScnnZVJD/9cgmCvP4SFVJ+9+ao0i2wlSfGnzWRtu269xAOTvfu3bZYv3/mbOZeRmizZCBIX3rpt4Q30ndMgoITvNI9KK6oIlI4AST20ZYRMgf3ey8evUNPPv6RO3Xoy7JbJJqBbzOGDUh8mnrZduklQ41CTY/Kjz8iRPTsl4dRJiWzXQdp06S7eWLDFdPPUR+UotPz4uJPGLBQGr58skH4Db5+r7mMu0D8Oi4ASvsM+Gq2YIlAxBDw8G0hI8zAsuMo33he5HGEJ4LET1aGztOrYFWdsoQksE1B97Bfbqe8A6SwDcQb/UIZ1zh0bh0f36isdevUrOOfjF4DzJd2nyE31g4MhoITvYA9Eq6MIXD8CJOpC231J5djiz1xN1CT3K/DCKTHhHD10iqay71M0r35yFAR00tZRnoTWQxFQBBSBKkZACb+KAdbiFQFFQBFwFATUpOMoT0LroQiUgQBdIG0hj4uaUowpxs4Fs4wiqv2UCcxmTExF61ztFdEbFiCghF8Ahb5RBBwTAZJ9LOLbbFm9In8i1eZ2yUnTiLbR0rXfILPYypFqn5OdjbANayUKsXkCEMHTmgB2pDrWxrqoSac2PnVts1MhwBj0h3ftMKte6XLJgGc2CTBB0cxSWrTIGgUUXxBlfbadL+qjfy0gylOmWbZrCrLF2Wd9c7IumZj5SWfi80cm17qTnq8OBFTDrw6U9R6KwA0iQDfJlohqOQbhD+heCf9Ik6jl0/OGxMxVsKnJF00YBV+spOWxvLxcycrIxG5XXpKGUAq8loHVCrZCpAcOrjdl5tfRKo/EzTJTLl5ECGXbpip14c9fvEw3LPhqgNg6JHnG2vdASAZeC7VeA6zd4HOv7MuV8CsbUS1PEagqBCzl3JA9veXJpzbmP7h9i/w4d5ZkgKDdsA1ge0TFHDxhEoKgJctShDoODGpkgqeFIBCaf6MQGTz+NpMvBgHVeN3ND/xMAkMaI6pmmqxEoLXug4ZJKsib59hRsBNgLJ6Rk6YgBk9hmUf375FB426RhiFNZMm3X8j5c+ewqKsBOqc2QrNOofZfVaBouRVBQAm/ImhpXkWgphCAtn4G8Wxox6f2TJ6n1s349hfPJsqc6R/IgDETJbpnX7MF4Q+f/MeYezr07GNCILfu2EUm3DtN0rGr1dzpH0q3AUOkIfa63b91k2xcvkg69+5vNjZJiD0hB9B5dMJndhRdkY8Lrrit4bf/fhs2+Y7SqGnzwjLve1h8sJXijH/+zaz0nfDAIwi9cElWzP5a4o4dzjfn2DqlmoJO71uIgBJ+IRb6ThFwWATA95KIwGc71q+xkSgY39vXV5pHRMnODWsM2fa7abwx1QRBUx926x2yet73EoEwCdzEZND4W6UF4t9wG0Pa/08dPWJCJySejpMBiG9/4tB+6T54uByHxt4MZTLAWr9R46Rd917ApI7Z8pDa+rkzZ0D4LUyMHZbZEpPG+7duNKafEbfdhaBsiOWDfENvniy7EGvf9EwOi2rtq5gSfu175tpiJ0SAppsOIN8Hn/9Dvg0fWjOIlVaeBMS4aRHVWurBPp+HFbFcExsaFm7CI2SmpxpN3h8mnbzcXBNDJ7J9Bzm6f7cx4XAFbX90FKvmzUJI5DNyAnF2uvYfDIIPQNRMd1k04zNw9mWzB+7FpHMmtAJJvGGjRoi5T++by3Ie2j+Jvj7mBi5fxt65qBc3UaeZh+fZYWhyDASU8B3jOWgtFIGyESC/4x/NOTaTjs1MQnJlEDNuWGI7wn4Am46npZnJVW5+ws/2nNuqU1dZPmsGTDebETytiYRB82ccnv1bNphNUSLQIRzauU1WwJY/GpPETcIiYB6qbzZKIdkzmTUBKJYfSfQ52VmG7Oth/gAnJTcnRy5lZpj3ZTdMz1YnAuqWWZ1o670UgetEgDRrFlnlv1rFkHjbIbLlQRB0IjR9avncyWrjisXSuHlLY77hhKuVWAZDJbN32LxyqYTD5EMPm+aRUZignWm2NgyA5p4QGyPunp7SulM3CYQfPd0rj2OC93IegqrxXz7xU4NviiidjLV/dM8uY1KiRxHj7J/BfIDpbAq6IqsW+lpTCKiGX1PI630VgXIiQLLnJuReCFdc3DhyGYTbvkdvQ8ZfvvMGYta3kZTz56Dhp8rkx54xu1YxzLFxk0Q5JGqOCJrDi+YkJlWbI/49j4UjRv5CmG8YTZOul3xdv3ShTEeMfNr8WR7dQg/u3IrFXu3NMTPSALkHw/OnL+z93BR99+b1JtBaGjZTb4s9c90wwtDkOAgo4TvOs9CaKAIlIkANveuAwfDA6V3oP2/lBFl7eNaX8fc+JEf37Za440elJUw0JFu/hsHG1DL+/ocxQetvp5VfkYHw6OmMFbrMQ9t+c8wB/OKv/zCbmefCd79ZRCt58FcvykFsjEJibw0zEH37k2Dnb4h9cMfDO8e+zAGjJ5h5hOMH94svOohWnboY4mce+xGGVW19rRkElPBrBne9qyJQfgRA6r5wfWSyTCn2F/OYm7snfO97S3T3PjaTCzoJmls48RrcpJl5b13D/N4gZW8QuBU7n/mahkfKZZxDZpO1CUw1PMZkHefWiHzv5Y1NzM2ErDltOiJ6BEW272gMOFa5tqJs5dly6t+aREAJvybR13srAuVEoCSiL3opV8wWj1lvy2FPzNY1prx8YreOFdfESdrFS7TqYVv2ZV1pey1+fdGzlfipuF2rEot29aJ00tbVn7C2r/oQMMoxNwthqIPqu22tuRNBRSdFE5QCfH1PXTX868NNr1IEiiDgDpOIv7+/OXYAE5tpKcmY2ITJRD1UiuB0Ix/Yh544dMCsOyDeAQEBN1JcrbxWCb9WPnZtdGUiQDOHF4KTDRs2TBYuXCA/LvjB2LSjEPZA6lIrrcy71c6yqNxnIs7P2oVz5WxCvHTv0UM6d+kChV/Brcg3Qgm/ImhpXkWgDARuueUW2bp1q3z99QyZDxdHEYqmykYgLCxMnnvuFxLWooV6AFUQXCX8CgKm2RWBkhCgphmM+DOvvPKKdO7cWVasWC5nz54FITmuBkqtORehFXKycxByob7Dj0Q8ESyuXbv2cscdd0i/fv2MGV8V/JK+jaUfU8IvHRs9owhUCAGL9B9//HG57777JDMz06FNDvSv37tvn6xfv17uR31pF3fkxLDPPj4+4okVwPQIUrKv+NNSwq84ZnqFIlAqApZNmcREsYUWKDV7jZ/YuWOHzJs7R+6C1kxTSbW5Vl5Hyy1sHbmO19Gsar1ECb9a4dab1RYELHKyXh2t3eyIaHLiJPPu3btl+YoVEhkV5dCE72gYOmN91A/fGZ+a1lkRuEEEaM7ZtGmT7Ny504RUnr9gvpw/f97hRyQ32Oxaf7kSfg+Cq7YAAEAASURBVK3/CigAtQ0BavcZGRkyd948SUlJMc3fumWLbNu2rSDIWm3DhPsIMJmwzy7ceCV8F3642jRFoCQEqN0fOHhAVq9aVXCa2v3cuXPl0qVLtU7Lp9mN5q1s7MHr62ubFHZUU1zBA7vON0r41wmcXqYIOCsCuQhNsHbtWmndurWER0SYGPqDBg2W+Ph4OXb8WK0ifI522Mlx/QQng6OiWpnJdmd9tteqt07aXgshPa8IuBgC2diNqm/ffjJ69Bj5xS+ek9iTsXLnXXdJ3z59pD5CLbuqdlvSYzSuqXv3yo8/rjTunv0HDBAPDw+XnbxWwi/pW6DHFAEXRsAThNYToQmSk5PzW4nwytgpq1OnTpKDzqC2ED7J/ty5c/Luu/+SmJgYGQCyHzJ4sAs/eRElfJd+vOVqHM16XHFTr1y5nScTl7jmQBBaUVNxBEjqhtjtFgLXBv92mnAsoQnr73//u8ycOVMaNgySRx99TEJDQ11Wu+d3QAm/+C+h9nxuhKb2hvSBREIaQFwp0e0iAbIdshZyDKLkDxBKSlYH4OraPecvLl68KJs3b5aPP/5Yli9fZlYYP/HEEzJ+/PiSoHGpY0r4LvU4y9UYEvs4yGMQkr0fxJUTtfzDkBmQTyBxEE0WAoinQ5fEWd/PkoMHD9p2trLOudorRjUk+8OHD8v+/fuMSatp06by5JNPybRp06R+fdefv1DCd7UvddntYQDx5yFPQhpCEiFrIHsgFyGulDzRGI5cOIppA/kjpC/kD5CdEE1AAHxv0rKlS4VSG1I9zFc0ahQiN900WqZOnWps94wj5OqjGz5bJfza8A23tdELL7+CkPBpt/8W8m/IFkgqxM6ai0+ukUj64ZApkEchHNkQhycgByC1PlkPfejQYdK+fTtDeq4blAx7+Xr7SARcURnRtG3btvC75968+fMZteDboIRfCx5yfhNvxevPIST7f0Jeg5yDuHLKQuMOQv4C2Qt5HTIU8hvIsxB2dLU7gfGp8d55551G27VWnLoqKJywpXcOXzlJXRsmqu2fpRK+PRqu+74pmvY4JBDyJeRVSBKktiTa8WdBOF/xFuQ2yBzIbEiVJMsTpEoKr4RCTf2wGxd4zySSIInf0VNlaOO1jeTtn6kSvj0arvt+IJrWE3IK8i6kNpE9mmvSZfydCaFZ53YISX8R5BKk0hKJk77sDFWQmVmpRVdaHVkQCT81NUUyscqU6VxSkvFFz8MG7I6a6qKD4r7Bfn42P4PaYHOv7GehhF/ZiDpeeXzGJHx65/wEoZtibU3JaPgPkIkQdoChkOOQSkkk0ePHj8v06dNl5coVCEzmuBYjavYk91OnTpnXf77zjnz+2WcOPXHJzpT297vvvlvGjRtnVsYq6Vfsq6uEXzG8nDF3fVQ6Ir/iO/Ca4YyNqMQ670FZHOE0hjSDVArhk4xiY2PlN7/5jSxatBDFXjFL9NkJOHJivb29G6Bzugg3xQuOXFXJzc0z7pQbN240I6gHH3yw1kb3vN4HpYR/vcg5z3V8xtTuOVY/7zzVrrKaktVSIM0hvpV1F9qFZ82aJYsXL5LAQD95aNot0rNXtI2QLFeYyrpZbSwH/WbyxVSZMWOJLF+2Qf797/dkMMIgtGnTptZNvN7I41fCvxH0nONa0o1FOdarc9S8amrJFbjZEHorVcomrtTi09PTZd36dWYR022TRsjv/zBVGjTwgInkGo0AkdXNHwVca8NzZqsDO/YVbIxeUrm0cTOVVg7P20YcV0yeksrg9VY+dmL2ea51f15bZSkfp7ZtW8rhQyeM6WzPnj3GtbLK7umCBbsa4XvgGQVCQiCc2eGPujYn0g21WGLC1BoyAOIsuHBGkeaXs5A0yLXoE1kqlCqtPC7ZT09LNzdv1y4cqzY9jAmiPLU5cvy0GQm0bNmk1Owk24yMLIQwPoe9Z5uIm1tRjxoSeWJiMvJckhYt+PUvmng+KSlVjhyOxcSnL7YzbAqvnKu/Bsx35sxFBBW7gPDJYUXy0OYfExMvjRs3hP96gyKdQdG7Vc2nK+iwWoQ1lqZNQzD3cFZS0/iV0FQRBFyF8PkNHwQZCekK4WScD+TqbzQO1rJEtc/CgitsH3Gi9lMTpxnqKIQrgrkUlP70PO54CUiTMCnQwa9ZP+ZLTk6Xv/zfdNj73eT1N55CLHYS6dXXciem2NhE+fCDH+SFFx+SgACfIvloi9+wYQ9s3Cfkl7+8G3UovD3vEx+fJO/+axZGILnwHsqWQYO7yq23Di6Sj1ewnHVrd8sbb3wmr772JMwmXY3JhGWww3n33Vly//1jpUePNmayt/AuVf+OsLBddVBHJrsmFrk528BUm90viwBi98HZCZ+rJulmx7gwfSE+jGXt7e1tXLfc3anwX/3jwcFak/ilT0hIwI88U0JCQrx8ff2AmeNjwh93enoaXAdTG6Pu7dGOsXhoXEvwHeQDyGGI46ZyQEzTyc6dR0DefpKWliH79sZI337RIFLbxabjwNvcnFzx8KxrCD49/VIB0ZPYuFCKmrebmxvcQUnmWThvI0YLHObbtGk/CDBP/vinR2TPnqPy2fRFMmJET2j73gXlWflZTl7uFfnis8XQ8lsggmRDUyY7ooz0TJyzuW6yfiTg7OxcvNZBEDI35LOZgWhW4giC19jqV8/k4feRk68cobD9rCvvx7yU0sxRVt1sX10bPgXH8MZWF9tiqtOnT0tcXJxEd+gg3l5epg72eWvze2cmfI5/fwmZhofdsHHjxtBaBstg7NzDiZygoCATBa82P1z+CECY0Ph+ieiAm0yQqNtuu80pNB8SRRrs4qdOxcm2rdtk2fJl9fbs3h2RlZXF0BAczb0MocZPm7xTpqysHFm/bo+MHNUL5pgLsmbNTkz0ti0grzho9AsXbgAGZ2CmCZVmzRoV2PvZ4J07jiDa42Y843Tp0KEVPG3SipwvBOUKwv/6gVjzTOeRglGFv7+PIejCPIXvLgP7QYO7iw/MNl98vlieefYOMwIxGjUZnv/xyk5qyZJNsnvXYVNWz57RMmRIV6kHMl+0cKM0CgnEuSPSpEkQTEjNTGdx6FAsgrQdR3uaYAOWvrJ791HsNrUf8x2eMmHiIGnXLqxCBM16cMEYFZpDhw7JUsQDWrpsqYwbO0569OxhzpU0YuKx2jgCcFbC58pRhgaY4uXl5T4OYU0fefgR6d4dX1IfWi+gw1J1qOWJPwZucuHlRScdTGyEhJht7Zxl+Tzr371bN/Pjfeihh2TOnDny4Ycf1MMPm6O5dyG/gcyEON3DptZ9IuY09lK9CPNIW7gZpsib/+8rY3qhDT4x8aK88853sNc3lgkTBkJjPSc//LAGo54MQ2J79x6Hp8r3MmxYd/imh0Jrj4E76AaJjg4HGQMRu0StuWfPtrJi+RZ56aWPjBvmpNuH4NWzRI2aPx1OOD/wwFiYmz7FmoLtMmZMb7sSbVr9p58sMPUdO7aP0dLnzFmLBVzJMmnSUFmHjozmqkGDOkmXLlGybNlW7Cq1XW65ZaCMGz9AZn+/Wn7/+/cQwKwPfOr7YQRyAOaqOfKnl6ZhfqB8WjkJm3vRbty0SeZjQ3buWkXXWI7wu3frLh99+OFV7SM/NG/eXFq1aoWOiHMhbrWK+J2R8DkZ+wfI3YGBDd2ee+5ZeRhk37BhQ/PgnIXMivx6qugDCZM/Cqvvs7QaZ9RsWrRoIYxZ3rNnT3n55Zdk9erVEWiPFSJiZRVBWGXF8lmsX79HWrVujknQQLhy+iCCY6Bs3LhPOHm7ccNeLCzykEd+djM6bE/pDRLmhOzcuWuMiWTJ4k3Su3e03DVlhNG2u3ZrAw33hNHiS6r08ePx5vpd0MbvvW+sdO3aWrKyco1ZpaTJW35HWrZsjK0PR8iMr5YisFpLCQywebHSFHP4cJyw03nhxammvuxkQkIawsY/U/r374Sys6GAtZa77xll5gVycjaCZJvKrbcNFs/67pJ1KVc+eH82tPr+pv0twkLlpT99KEnnkmGOJeGX1IrCY/xu79u/n98Ds+6hcPcuBEjCqPYf/3i7RKWPowGSfmRklNni8c477zBKEMurDUqisxE+dZc7IQ8gyp3br3/9a3nsscdMHGsl+sIfgyu+szqpvn37YkLxb/KL538ha3/6qRXa+gKE9vw4Z2k3yYXa74oVm0GSAdBEZ5shSnx8oiQtu4iNOPrLiRMJ6AxaGE2bNm+ScsdOkSC47dh0OwueNEkyYGBn02Se9/R0ly4g8YMHTpiyLCXfkPOhOPnk4/kg1wEy5e5RMv2/C6VDdIQcPnLKTL62bdv8Kk2YBRPzIUO6yfZth8w1jz1+q5koZf2PHomTxk0CYd8Pgk3eZsOPjGwK7dxbTp9KMiajjp2izGiD5TD8cGRkc2jUmHcw9fWQ8IjmZrRhtQ/+ppKTm4M7s/bXYHycDwsLw+hvrDQMaojRy3I5duwYOrwcdJBeMI31Mpq+fTGcSE++mCwnT56EKWkX5k92wGQ2X37969+YzU9qQ4hkZyP8KHwTnsAXzvcORPebNu1hbLrMYanjxv9AfTVVIgLs2Dt27Ch/+P0f5PHHH+MQfjCKvxvyN8i1WKISa3L9RZGEd+w4bDTfjh0jDZmztH79OqIT2A4b90lzjP729qlQAyUh2iY8i5ynf745Y3+0jqxatcNo4UOHdjMnLpxPlQ/g7cPJ0j592uVfUfReVgn0Hrrv/jHyv698jEVlm8xogufgNES7qZXNvPKTmXRF9Wiy4j659qkuOq3CdMWMLgo/V+wdb82YOiNHjhRuPB5z/DiwWyHzYNqhLf/22yfLXeCI4glzQMJJXeb98ssvQfo75Ve/+hXmI9JMyAbW25WTsxH+RDyMzpyUfQz7T/r5+RovBVd+QJXSNkvdq5TCar4QdvDccPqee+6Ftv+GO7xP7kKtGN8/puZrd+0acLJ2zeodMnpMP7RhpCFJKM2GP1NTs8y5yMhmZhKXXjl01SSR7th+GDs2pUoD+PiHhgbLrp2HpW/faOPxQpfJrVsPGk2/eA3YDZDc2WFwpDBgYCfY0FdBE08UXx86uhUlbvvPxLpp0yC5596b5J23vzUTw9TwW7VqIT/M/sm4irZq1czc8tChkzifbvLzXrbux642drexe2vLgANXHbO7tMS3uAcVAHfY4ckJrVu3lsmT75BNcFBIQjA4JppvCjtKMVp/cHCwURrYWbzyyivoJObKq6/+RZrDbDhs6FCXViCdqTvj4qGx+LK5TZx4M2bz29Uo2VMTMNoAf6m2ga7DvcJpDnUqnhy3vsSRZEI7K19LS/wB0/120qRJEh7ektmiIf1Ky18jx0upPr8zJ06cAdmeg3bd3nyHSVo0a5DyBg3uYmzj9Grh53ff/V5+XLlNvvpymSH0oKBAqVuvDuzPvWXbtoPyX5hneJ4TqOdg/6ZJxZ7g2Hba1PfCFfOjj+bJyhVbzeRofUzKRneIxNaGq2AiohmlMLGO9nZ9kj5HHwMHdZEziTYiJcl3797W+OUvXLBe5mBC+WOUP3xED+OVw+dnrSBmyRzVUKzEc/b34FeVI4Kynru51hRRWA6Psb2sI1+DYN5hYDVq99yy0DrOc5YQb77nSPHVV1+V4cNH4JmckPfe/ZeJ0XPNOliNcMJXZ9LwI4BvdEBAIDwThhmbIB9cdSd+GWiz3IGh4IYNG+R8viZR3fUo1/1Q1yyEv+Vwl1/wefPnSyz8k6/gx+GIiRoe7ahtoa1Rg2/UqJGpd0l15Q85KipKevXuTdst3ZDouUMtv+Y2KqeWmk8sJXe2tvPGA2bqGONmae93zjbRy2bK3SONbf+ZZ+80bo9r1uyAvTpUnnzqdqzmzTRafDtMovL8yhVb4BGzC+QdBa+X+40mb09YLJMTrs89fze8WLZh1LADXj3NZPIdw83IgG6T2RhxcA6AdWf+nj3bAdtmIN9C5EnO998/Wtq0bQEvl0aGrO9/YIwpk26Vbnhut98+TPr172jOTZjYD/lCUJ5Nb+8/wHbc+kzPook3DzA2fd7X27u+3HPfTRKCiWt+LimxPjzFOpaWDP7gBXrfXCuRP/gdeu4Xv4CX024zAbxu/XqZOGFCjSqT16r3jZy/Nio3UnrlXkvCD2zevJl5SKV9KSr3lkVL4w+JNkCGv3377bfM5E9ZX76iV9f8p/kYulIcPXHSbfiIEfDaeAlk1b7EHziff4MGDaRrl67y3bff8gfKsBG0TzAwWrUnEgzdAZn27TtmVqXS7bEk7qKrZXh4E9T5amKj+YYLovi94vdt2rTxhnzq1qX2a2uWRZqdMInbsWOEyctRkZWs89Znvnbt2sq4R1qLoHiMGI66qddV9WgNzyGm4uUEBfvDRXSAuR/bxfAKN8PNkpPMrBtHBoZwcY6dhvWeZbHTYbLKbILFXKEwFVmfvbzr5a/qpSZusl71h3GEYhCGgusSqBj45sfFvypjBQ4Q5759+pg1PDO/+05Wr1olY0aPto3eK1COs2R1JsIPAage3HzY2oeyukHmD3DlypXG3nf2bCLMSpHQeMKNplTal7S661ja/fiDdPg6ovIXLqTAVLFP5s2dK14NvOStt94yk3Mkj+KJzyO0aag12gvC+RohfNaNnRRHJQyN/P2sFca00gtuk7QvX13z4i0p+zN5vrQy8vuAUs8XL7mssornLe/nitahvOUWz3c+6SKiZS6WuNgELDTrKB0hJX0vil9X1mdez46a3l+zZs6UAwcOmAlcbrRyo2WXdd+aOudMhM8fc9369T3ND7y6ASO5XIJ55IcfZmNRTCI0gh7yxt+ehatZU6PdlMBHhVXEL8Ia4l/rS0Rits0JlKzpWOdLK4fnWVdbfUouw9yB92FmZLSvu1U+Kcb+OK+p6sR7c0Lzqy+Xyp/++B5WkS437nODsHq6JPMd28lOIV+7Zdz/Sol+eT3tpHZ7++23y/oN6zGKmi//ePsLzDO4F7FbX0+5VXuNbc7E9n2x2cCr9n43VrpZKQxzakhIY3nqqafw27ONbm6sVNvIpFnTZmZe6OLFi+Z3HhAQgO9/ad3sjd6x5q53JsI3KPHLWVOJIXBjYk6Y248e3U84pC6vSScNtldWnZtNlJU4ecet8ZiPJFI8cUEL5xBo87R1DFaOK4boc7F8/vyFVBOtsawFLJcuZcO+nwXt2dtcV1AKvuRpqRlSH0vdGRulehM1ZSyxh9ngk0/mmDC4J0/GllmFmvw+2FeM34OmTZvKX//6unTq2ElWYMcrkke5VW/7wqrpPescFxcL81MGvH5CEdOHJFdNN7+O2zD+TlRUK5kyZQpW6N5UYEK6jqKuuoQmIn6XGG/IFYneanB1/6Kt+zr0a6Etsui3nz8Qa5FJAy8SLrXgonmKN4wkn5mZI3997TMzMfab394HTYJBporntHkyxJ48I19/vVx+/uTtIOOiS8w5ccZIhkePnpJpD08wHYhVCr+sKSkZ8uUXSxEx8Rjs2/XlNixx7927/VV1ZDmM2/LZ9Pny4v88jJjiYabjYhl0A/znP7+TW24dgmFz5WhQVh3L80o83dDRcJUpY7rkoHNzlsS6h8G1j7te/ezRRw2RlvigHaBB5vuCFalcqb4JO0g9+eRTcGmcjJEUJ0RL+HI6QJ05kmOnZLlaXuu35wBVdrgqKOHbPRL+COKwx+eJmBh4S0SbcA08XaIWj99ESaRtV5x5y1Cuh7CQJiH+gmRlZ4OsTxtPDEYVZOI9LXc1djSXoMFzlaVlwrA/zy/8Bfhhnz59DvfmcNwUYf6wjA3r92LRTow8//w9shtueN9+s8Lc6+qQu3WgfabJ1i0HsQJzHkj/wYKRB3/wMTEJhvit8lkv6z1/ZNZEG+9JDGyvNhOQLV9h3ZiXbbCu5+dr/1BthMPm2TWxsLEO/I7fFeLVCL7ebLejJtaNI5AGcF1kCgoOkvDw8ILvnSPWm98b2/fP9ttxxDo6ep1qDeHbSMv2AyyNcPgj4Mrdjz/5WC6cPw/TwkQZioUYLVu2NPa96/kBXwaBroVWPmJkT0k8ewHhAHYVeCywPGrUW7bsN94HLcObwibtCZu0rZ48zyiKjKvCycyOnVoh2mGeIZSSvlg0BzFQWnME30pCMC6m0tpKph46vBfunwUf6rXGFRC3MwRLbwirrSTo3buPYJHPIXGHTbp793ZYdNPMdILbth0x8V+OHY1DfBQPiYS732V0ZDGI23Lo8Amh+1/Pnu3NiGQnrvf38zHhABi5sdR6ldQwJzpG3Chc4s/RoKMm1pERJvPQQTFlZ+eYEYmlaDhqvbn+gopPiUqYo1bagerl8oRPoucPj1H0DmLJ9YmY4yacbGnPgGSXlpqG6H7L4GP8I1bvtZFRo0aZxRyMrgcdo7RLrzpOzff06ST4iZ+S8RP6Y2HMRbNA5jyWtgcF+Rqy/c9/ZstZREaMjg4zKylp0uEGFaw3Nfm33vwagbV84bMdLAyYdeRIrImgSHK2TyTm3n2izTL6Tz9dIKfizppFMKVFHkR2CYab3USEpH33X99JB7j3MaCWfaL2Pm/uWkyebjHzFampmfL2W9/InXcOR9z2jpicXC/pWOHZMNAbayN6IN9WrE3YC8yawUulvpl8Xbxok+kUgoN94S++G/7OxxAHZwrmGOj3bX83539vkegquPYtQ4jexMSzDtsoq1Pav49x8i/Lfz/9FN+dH832iY5aaf4m6Dc/ceJE6dy5c4FS4qj1dcR6uSzh8wvNdODgQfl6xgwESVqIfTDpH51xTe2A11IDzYYJZu/ePUa+g4/uWMTYTk1JLfcXjeVs2XzArDxk5EEGyqL9nnFUboL/85YtByT2ZKK88MJUE4iKKx7/9c+ZErsuwdR9wfz1IMsAefY5rhr0wHLxFPntb/4FL4KrN3xia1lnd4968p/3ZskTP59sVmOagkr5wx96t26thDFWuFKToWnZSTFxJSR3WGI89sefuM0E2WL5y5ZuwWbdq6Rtu5ZmmX+TJg1N/TiJzKX/DI718CMTzcYaTZo0QgjfWfKPd36JH2pTY8569S/TTUjgsLAQl9Ly+aypMf/jnX+gA/1XwdL+UqB3sMN1sIp3ixEHq9hV1SHOs+Ep9+f//TNCNo+56rweKBsBlyR8fimo1c/HytLXX3/duPZxGMg42JGRUcavG6xdIjIkuhjY8Ldv32Y6Bq7sZZz98Yi536lTZxNhrzzmCNaB5pIVWMreokUj2Nd3G4KDkiLLl202JMvIhgyeFdI4APVlxEM3xA/vgp2PjhlS58hg3Lj+hux5PijITwYO7CJHcdw+8V6Mq/7ee7OlNWKcdPtdW8QX34sFKufQyZ2BaaUJ9gLFqlWq9fYJH3ntbZOGYKOKozJz5o9wLRxaYNbZvz8Gtl0/M3lrG+rXwcrW9og9sg4jpTPG17z/gM7Gs8Ys6MFkKyM2+vjUN7bgwEA/iW6P9qGj4/Ngp1CnzhWz+tdmPCpWH/u6Odl74sg1GiT75OSLMmxAD+nTPVo84P2BrtjJWuN41YWhTC5A2Vq6erPsh6/8a6+9ZhblRURUv2OB46FT/hq5JOFTc501a5a8+OILMIucBlF3kvsfeECGDxtuXOfoglVS4o+WGyO/8MILJqYGQzhMwDJrxmBnwKVzCKPA3XzKk6gpc7KWqwK9vd2xE89GcxnGDiZuOSdmOYLg9nb2ibZwN/d6xluCAa/42epgaALhzkAc2vI9qmsrE29oTqHb2j33Mv44dyNKN3uYpqVdgsfPbfi58M5XEw/L5jZ3Dz40Xv7+968kPDzUlM+CMxF/vT68ZejVY7sfRhAgda6FyILN1x2jFdbHqh/xo+95YWLMG5u7m3WMea+uhXXWeV9ps+duSwzaNXJwL/nw9eelJXao0lR5CNBra/naPvLQL/5qQiFs3rwZClxk5d2gFpTkcoRPMlyPeBj/939/NmRPzfyPf/wTtNQORpu1yKmkZ0vCio+Px4rJ/vLM008b+z3dG9mB8LrLjN1TTraixsuwtCNH9sYmFhONiyH5ORf7gb726mfGvbJJaCPTKfAYSZVEHRMTbyIO0i2RGvIJfGaQLbaL9TiCOOQ5Zg/Roi1Iwk5DXPpuxUS5484R8svn/yHxmAeg2aWsdrNc2vDHjO0LV82FGJlkGKxaIATA0iWbobGmmdEF8TlzJhGd4UV0gJh4xXzfVeUWw6fYR3Q7rpeICzvv+PjTpnG9u7SRlog3g4descaiHJPYuxZPZZ2zz2uKwJ9Sy0DZJRRfoD2Udl1Jx+3vez3v2aYKlMvRd8/OraV1VAs5vW6HUcqu57a1+ZqrV/Y4MRr84XHnm/feew/24qMwjwyWv/zlVaPhG8LOJ26+L0lIfNxZ6YH7HzDXkHRpyrDylhcaEnc8JmsZU4WbVFDzrgfCJmkzcBbNNhs27JE22OAiLi4RXjI/YSRwFh3VXrMXKOOmuEPLZ75lSzfDs2c3zieac9u2wlumhMBQnbu0hjfPHln14w5je1+9arupN10y2fHY/KsLW2DwyP+xWb+5iVjwxN2XaFLi+fbtw00n8t9PF2Li+TSWnZ+ErX8+QkqEm4ljY+axI4/iOLFcTiZbiefz+LnwkHXKJV6ttnrg2VU00WSXdD7Z7BRV0rWZWCR3Hp5a/I6WlbiheBo2GjcQk1DxXWTis+BxrlYtKXFeiOeLJz6zFOyZm4P6VWbKxe+Ke/Gy/IokNscd5lnrS1TR6ytyL1fM61IaPgl127ZtsKWugHYcKE8/Qy29tSHt8j482vqZrvXDoqrK31NpKR3mEE6GMuqgfVkkhW4IKxsbewabPAeYLewYWvann7ZDaw40wai4lR0nP/v264AfRQbCOaw2bWDExJ89egs6Dt6VPxRbBVg+F1idB2HM4RZ4sJc3bBggjz52q4mdvnnzfpSTCfORLXQufyQMkOWNxWNWG3jMC8G+Hnv8NtjcA6HR+xvbPHc5+gb+/O/84xvjDtemTUu5ffJQM5Lo1budsc/zWv5u20e3RGdUr+BHzB2R+vS1jU54nhPPQ7EHq39A0RjlV2NoaxdbSHG6VNFK44EeiT0tv3zl3zLl5mFy/6ThNobObzj7yPe/XCQbEGPo7ZeekJDggCLnC/BBObsRk37D9oPy2D1jJAGhjE+fOQ+tGO68GHF+8t0KGdy7g3TBblf4UhZcxi/Uyg275dDxU/LUAxOgnOR/sfHl4Pf4zY9my6Rxg6RT25ZFryssoWLvUP6Jk2fly9kr5dlpt4of9rA1X6DylFJRbMtTZi3K41KET43zp59+MkO9MWPGysABA4uQ7Y0+V3YGtP+T4BimloTLUUXxRHKjrzrFOm+fjfuXPjB1rLmMm0swJG46tCtOatI+TgK3rhs3vp8MHtLVmAwY65w2dPvz1r09MOF7yy2DYELqiQnfLEycehmCZV0Y0tYqj6+sf4/ubTAZ3abgOMth3sjIUHn+l1PwicvMr2DOI1iefvp2Y2aqi22OfLH6lx0ryxg3rq+5ntcxcTMOttP6zBC4jApp3ZujjSlTRhZ8to7brrb95UI1+oRfysyCclo3f9LTPodrvqd76xHM6yz8cYvcPKqv+FskCEATEs/L4tXbJCUtQ7Iwr2NA5teOPYGVCDyINAXrOuLiEbMe7w+ivNUg8u4Y/XGE2aldhATBTFjwgOyuTcLoITYeC/qsY/mvHBkeO5kgaSD+fP0CZUPjsL72rIP1wPPrUFBE8XM8z+twfSYWGB5HEDR2RJqqDwGXIXySB10u9+/fZ9Dr1at3qVEWrxdeRtWLiuK+oqvgqbLGbAjRpg3IFP+KT0XyGP/bfgvFf0bsKFAL/lbwwvckcm4qzc2d7a+zynGr54b2/X/2vgOwiip7/1BDSCEJLZSQhBZ67733Ik0QVKq6ttVd27ru35/bLOta1rquFVQQFFF6770TICRAIECAhFACJIQq/+878+bl5eUl5EHKI8zVS97M3Ln3zpk755577jnfuYIbkLVe5zp5Ghe0rhJg+tcU0oHPmt5W+j1m2cz9c+ybUZ60LQY1E4+4UiCz19bQlvEMtnJsXE85HONUehtG3enHWtz2j3GNjH7GjGWwLoqXgMAACQsLcyxUaH+TprWrh4AXFpPdMXHSAZK4ED4ZtN+4MwZSPVZdWLWR3lSxJCOyVEgwvXkNksSfTILTXinweXpuF5UESPa798XK4aMnZMuOaGkEZl8RK4PSWGW5SnzH9gmYlRovSdtnnfyP6SpUOzujDsjemMPii++hXfO6UiWYQKUipzFpbNgeLQkJSRJcsZy0b1FfgrCaY+JKYdPO/RKH/oSGVFIHQ/bTSvlLgULD8Ek2SrZn4CFLbPKQkKo68A1zwjsnKj9ILy8vRFkahqAUi4E/Einjx74m9CYtalMD3XkreVcDP1eDDeddG7lR84XzFxULiO9yxP19NCqRo0osN9rwxDo4vqjaaIEN33Vbo6QtPJoplRNIbwMCjHRq1UA2gHHTMXBn1GFZuyVKXnhsKFRoZJpF5Kd5q8FIK0s5RMQiv6a0vj1yv8QeOSnrtuzBJnJFmTZnlfTt3FzaNo8wJhMnQpDOV6EO/O03CjA6pRvHJvOHxD4dgs6G7fukCfZ3Yo+elLXo6+/HD5LAMr7yLoKxeyOQSlUYCazevEd2YC/oxceG6dzx0eS5knj6nDSAgLQNnttHTpxSKZ99tVL+UaBQMXwi3d2ABELJoSQ2XHM78YPo0KGDvPbaX+Xdd9+FxcwB4N6czO1m8qA+R1bv2V8YpcwyZfwRUHqIvPDCixr74F5g+OZLb9esrnw9Y5EcTzgLILYKEg2gPErHzQGrsR6Mn4kbqJcwITqmNKKfQhXGRPNFWrOMGdpTVm/aI0+NH6ISO6GnDSgFjAFK1xwKBmfHIVYS2/bKa//+Rn8b5wEJDtXLQay2aHhwGAYG7MMfJw3BHlCI3IQK9evpS2TOss2YoOpCDeUrT08YJKWhuqPZ8atvT5ZT2Fc6hP2qOBgdvPaHMVIR+0OMsPU+Joej8YnpqwrtufVPXlOgUDH8vCYW66cOf+TIkdB/N8cG8TZJhlWQx7JQMM/L8P6cMmUyJqeDMmLE/YBfaO3RIQ4Z17R6jRrSonlzRUa8l5g9nzUEeyYVEeZvC6TzajDtXAWG3RBWUWWd8IdMFYt9zGMQ2lUyOMnf3HwlIy8Ok19axTBRPUNMp4UrNuvqwdentPTrzuiQIjXCqsjgPh2kOCYDqihZBy13jsC0lykm9pjEn0iUZWu2ysp123C9qE4CiQhMMnpwF6lQNkCiDxyV81A3HQaTT0g6o/sx+3BOVUrwGkdH1Nu8U9uGEhl92KYe1Oqtf/KBAhbDd5PIXHrzQ6hTJwKbrZmhh92sLk+Ls580U12+fLmaqXbr1k3GjRvnltVSnnbQVeXoM3UAZH73ErM3SVEKjmrtWtST5et2SouGtSDhH5Onxg1URu24TssoZaQjmJr1ZFTgZbhT6+Ke0Y0bJXTviOOEWpvgCmWldfN6yvD1fo4fQG4HzFqhjPkS1Eu0wvJycKarAcgQ7jfEQ4U0a+F6qVyxrIRUKidV4GMSFOCn91E9F+joYIi2vAGCRnUU27VS/lHAYvi3QWt+IEyMb+vZiIhF5ZIiIhrSHeGZubFt2OR75pdG2hIRkWo5Tq73WiLaaLN61WX24o0y9ddVyjRrA0U1CThKZiJtqGpR+xb8pjrnKPw+aoRVNYtk/IsyugGMs1T3lMPm7QNDuuGI4xg0VoYPmZ70ptWMSXeOcw0IYlRXCRuxlYCPNAymowycw7Rn32GJAaDf/OWbpRpWJ4+MhvUZJoU4WPbQU7woVheVcQ8nrhs2B0PMOGqhQ6sj26dkNGD9m+cUsBi+myQmQ0oB/MJShN+jvX/yuWTju3GznvwozmX/1WtXsQlqICJOmTxZLYw8lpGC3xC6IqJ2hAwaNAirqDr5QSaPaINTG81giXdUDj4QtatXkf99P0/e+vMkKWmD19DrYMZVKgbJMejE1wEvqQ78PLYAB+kQgO56QB3Gd8ty5OOExYiDnnzjtihpEBHmMIHioqM5pON9ztRAUa60KCTUr11Np4ivpy2UIX3aqZnoFz8sVksdX0RoOwCv8DiYWl6Gjn7+ym1yCt7f8VAHtWpSWxat2qorgHbYjOaG8tzlWzCpu++g5tw969g9ClgM3w16kdlfuHABYezeQgi+r/S3G7cXeNGtW7cAoXNLgffjVh2gBDt79mwEi39DOnXq5MCobnXnXXodTLoCmHyvjk2VSfMpendqhtgH16R1E1jUgIH7IvRj93aNxAfYRZUrBMmwfh1kxtxVahVTt3a4TBzVR6pVqSBloUZp2zRCGXMDMOg2YLbcjK0F/Xy75nWkEvXopgRvkgurCk4wjMUA4dshEQupuPTo0BQmnf5qRURHqam/rJS3PpmujngtGkfIQMCHnEb8hS8QYJzn/bB5275FA/ndgwPg+HVGVVSPP9RfGf6qjTsxoQXJ0N7tJBUqopJQLens5NCq9TPvKGAxfLdoW0TmzJkjX3z5BfBsrkm7Hn2kdsMmOvApUVnpDikAZnP+7BnZsHyRopK+/fa/EH4xAlhAwYVbnw8GHAp1yPgRPVS/joeViPDKUgvWMDS65HEAVChjEHaSm65Mw/u2wwTRRK3S6JBnnL+pqrDqsO7hcQCc5J4Ao6VlTjFssA7q3lL3nzI4bLEyTCgtsV/QApZAZv08zTHtjVXCg0O6GvdByq8FcL2XnxyhsAg0f2a8BU4S1Nu/8tRIPU/APG4GswK2zU3glrAaoqcuHQwZpIde1zdxTduzvh0ld378YzH8HFKZ0j3134sWLYSXbYp0HzRMnn3jPQkoV0EHdr4y/AxSmMMD5PaHw3Zyu06H7mb6CRpTfdBswWx567knEIJxm0Tu3q0BtjOVLWQnSGqOMcekzN7hhCMzZskyYPSa7BK7cb+9Hrw7niHDZcpk2aNnjX/YdFbXHdvl6qAk1G5lg8oYN7JtHSMuzqOE2TbvKwUbfaqZ9AYc2/tp1GT9mw8UsBi+G0RmgAuiRTI1at1OgioE57vFCz8Swg9kSvjouOGXWxxa2yED1joztZY3J8AECF9Rr3lrCa5aTWL37ZHEhMS8aasw1EpmW1Apq7azOs9+2iaGguqy1S4mYIsIOacAA49TAiUzJGPKbmznvNacl2S7F86dlY3LFgGrPtUuIXGjLqhceWnZtaeU8i6Nft0ZIzDbORS1W+q1aA3ce6+cd/IOS7LnJn1ZVb5OOHfYd+t2iwKeTgEXoqKnd/ne7R8Z4emTx2XJj9/LdZhYFocTWLHiRi4KrB1jQW8wTJZldk7m+WyvYQVx9lSCLP15ulzBqsZVWed6c/eYbN+YtDI/Qe62dFfVxvfp4p3m2zMUZNv59pCFuyFLwr+r3q+BdBlYvoL0HjFaygSVgzSv1ti62jAdlS5D+r+EfQZvgFt5+6RDEZNxZ32tKJh7KvYnLoqPn7/qc8367ioSFeLO0uuVEyBhrTMkkxGbKzvuovK3MWdmKOrWgUM9tKm/ilyakNpuVWIV9iQKWAzfk96Gm31Jl4P5fRv6+z2bN8j6RXOBv3IJWPje0rZXP2nUpoPWvGfzepfXuFkXvX2zrJn/K+5LRSyBIClfJcTN3ljF84wC4LBpQD/9x4fT1Mv1lacegDmjzYYdzH5PzBH1mI2AaSUDqWxBMPka1YKzxs3PQUcJW2yvB/g3kXuPAe0yRh4Z1QsBSCzFQA5I6JFFLIbvka8lu07B8evCedkNxu5TBpYSkOSIaRJSo6ak4vySH6dKxwH3SY36jeXYwRhZ8cuPEghLIqp/FuNap0zXyosX9P5zv/tS2vXqL3Wat5IzCNU3e8rnul+Q/+qc7J79Hr2G9xsdGy/xCecAkHZVDgCwj05QNNeEHaasAXKmH+IfROAcJfFfED95WP8OUgEOWsSuUTWQo4G9OmZBXODKwBTXHVcJuHQNZez1AP64HLB86tUKTTfbZH32e/Be2Bcm85xj3WZ7Rgnr3wKkgMXwC5D47jdN5g489HPnZOvq5VKqtLFBS3hmb/yO3RspQRWDpXrdhirxh9SsLeUrVxFK9sVgM13W5bUNqvapGBIqbXsPUAug8sFV5HTCCVk44ztDNeB+R607cpECtFcn6mUvOGMlnk5W6OH6RKtEG7GIUhVz6Jhi4UfuOQhnpityJD5Bduw+IJXL+ktVYNpchCqIWPRHj50Exk0FaQNv1zKw0T9/Hrj6iKh2Cfdsi4xRQ4S2wNKpAnjj3fsOpdcDpytf2M4Hw2lL+Tn+iYNn76Yd+7DyuCL1I6pLY8Al04kqAcBsDGNJbJ29MYcwUQRKh5b1FCJC1Uy5SBerKvcpYDF892lWgHcYOvxK1ULlwd+/IP5BZfENYRJAj+idumreLxIF1cw5OC+RSfDrTDmfLE3bdZSEuEOyd/uWTNeate8sSdgIrggVDicOBmqHHZJwAijtC/CrAnxaq2lQAO/wJIKZHIg7IX98ZIgkAW74i2mL5GxyCjDofcBUj0gUgpHQ2SkU0dMupSGS1JHjUgoqn4jQYAko4ycffD0HAVNS4MxVSVZt3i2bd+2XP0y6TyJx72ffL5RaiOlQuby/HIdX7FKAtr3w2AjZijKHbPXUwX1FS3jJsrW75JUnhwOPP1Y+m7pAqodUVOeur6YvkpbA8R83vIfMXbZF1m+PkdpwHCsfWFqWrN0um3bF4L6RmJRgg28NqAId1hbDL1Dy317jlLLInCm1m4ydTN/H1xfev32lx7AHlHGTWZw/cxqxAbxk9bxZ6hnsfM2rVCnZsmIJYJQv2TvD+q8SdA3qASsVMAXwMiidVwKcQigYbAVI2US63AZpvmenpjKwZ2vAFyepZ+v4Ed01FOExYOkTeqF9i7qyeBUgvAFX/JffP4BNfn9JRbSsNz+eoWogol6eA5rq6PtGS63qlTWi2p9e/1JhkMeN7C0HjyYa9bSsKyvX78am7TVJwWrgO6BndmnTSEYO6qTgaDEH4uVNQCq0BMxCyqU0wDKLPP5QP41dfAQgan9+62uAuyVJnZrYF8pPv44CfnWe2Ly1++KJbyW7PkGit9vZ0xKDiVI+JPzwOvWht9+vy+5ylSpDQveVtfN/kROHY6VGvUYurx0/dFDvOwh10JmEkzqJXLl8WXasWwnmcAF1cSqxUoFQAKRPA4NdCikZ87tsAgjaTjD6EsWKKCO/jgmZKztGxmIuAk5Lz1YTA59Lvx0on3T6jMycu1K++OYXmT5rGcIfJsne/XGqemlYp7qEVimvYGql4QkbXL6MqoUy1GPT/7NeBkVPvnARDL+hQipwj4DSfK3qVWV3dJzGIG7d1FAZ8RojYfkhVjMRPa1U8BSwJPyCfwdu9ACeqJDqfXxhNunEiCnpN2zdXvZt3ypT3nlDqtWuI0nHj2m5iKYtdNN279ZNLq41Fy9Y8+zdBjjeD9+WarXqSEryOaiCzulGsBuds4rmNgWwWbsPm7VHgYzp7VVM5i3bqOq7325cl33YuI2LT5KaYLaGAIDJ3xQAzH7gmNGyKMkXw2Rgjpk2TepIo3o1JDklzcDD1/IUHui7Ye672oQJXrP/NCJgsR7CJJjnGXbRD2iZV65e1/sNQDStVPurQ9WSGwyCFPC/FsMv4BfgTvOEvQ0ODZf7n/iDoV93+MD50VPnPvLxZyV651ZJiD+mE0Dd5i3Fr0ygNpPdtSETHpeYXdvl5LEjElorQqX+K1DzlIItv31F4U5nrbJ3TAFO4ivW74LqprmCoJnvgSaTf3t/KjZydyvDZ0O01KLFjvJm/oPfXBaEVK4gvr4+8vCofsqMWXbZqu0Qvm3AZTzhmGzMPUM9NgmfEwpRPXmNaqRAqIgIvMZN34Nxx6VP5xaYhK5Y48WRnh7222L4HvZCsu8OAqnDhLJKWHWFeHAuS4bgDTVOs07dVLLih0mmYTKK7K6x3sbtOkkT3mO7T7gpzM1fK+U/BSAWn0g4o2oSbtYWp909mDRTCUAWd2nbCPDIq2U4dPVeACTbsfegtIiuLuFVg7XMegQuD6lQRi1k/vHhD/LrgnXSGhurNOmcNnuVPDV2IOLiIogKTSYdEscKz1FFxCusp1rFAP1NTPzyAE1r07SufPPjUpmEMmWAljlvxVa1/yfuPYOmm+ON1bIO1odqreQBFLAYvge8BLe6wA8ym6+HHxuDS7tKbl/Lph1X9VvncpECUIGkQB3TFRj4jHgFrpleORgo4YZpfkmVTff2jSXh1Gk4SkVLzdDKCE7SVuYv2ySMJdu9fVN5bEw/mb1koyxZvQWTQym5f0BHmFGGS/SheODt106HKC5yU5oBJjkosIwGLR/aG/Us36RxaqtUCZbWTWur09XowZ3lx3lrYeEzT5l7xQrl5NmJQ6RsoL80qB2qE5ByeIwfImt2bt0IFjtYDVjjKf0dFtAvi+EXEOGtZi0KZEsBMHVizzMrPLGjhAzGGQSTzImjeitePjfsX3lqlAoC3Gxt37yuBk4x1eadEHOWWPepsKDxLuUlPtC3F0EddWCOSdx9O/wx2ugF9RE9rznB0MqntS2YCsvUrFZRy/oCXmHs8O4IYtJGJXt/wDTTcoj3dGpdX1eXVPUwMUbvqEGdoU5CnRbDz/aV58dFi+HnB5WtNu4tCpic9g6f2s6Is6inmO6G4iIYKcvay+O4uKl35704pg08I1ppsjFe3q7M3Tir/9rr4JFTPfayOE/zvjL+vnqPMnJbnRnuN66m98t2fEd/com2d9SHu/hmi+F70Msz9KdYuts+HrNrtILw1Pif1PG7xOc3O38P/TWtYK4hWLfHJRW4HZcJudBDp3GaCzXesgo2yQ1nTlVMJs31wLP/YYcJgJSVcwvnUJZxrY/FhdxIFsPPDSrmQh20p94HL9mls36U4iVL2oYzVskY4fVgVtmx70AwVo4Xz0j80Ai/sHXVMukycKh4lUb0pQJgAJ5ADU7UJfDOGIqRaUvkfuDenJWqwKC5V2mSV+8lMjoOG8PHQe8SAPkzrM/yqq1crrcW6puE/DPyRhd1D8I5wqDOQM4zicFi+C4oXxCnyEDj4QR1/kySDBr7KCR6TvjkFzeFcMjg9npMaVqlGpw3LCwMqU2lbJzjNT2D37zXTHo+i+P0OtleulVPhjpt9ZllWd/F5GTZtX6NtAfoWikw/PTWzFbvnb8lAU7Xo0d3mTlzpqxYt10ee+k9admkrtq/3ztUyLsnpTrpYipCjK7cLEexWd2kSRNp0aJFhjGed63nSs2UBiYi10cm4z+J7Jha4MAPmQw/z5LF8POMtO5XzEFdAWBnDVu1VYZvMlAybtM8ks5Up4B94+dfRirBJp/RqK5dvSLnkpLEHxJP0glIP4BSCChLFExv7cSN69eBdQ+4ZGDjKxPH2bTUFJVKGUCFdSbiPgKwVQmroaBsznX6ApmT8XsT44+qRy6B2G7+dkMhHjDLuP+whewOvqNu3brLo489Kv/77DNYyWzQXMge0yMep3r1GvL88y9IeHg4hJ48E4Zz+1n5kRxC5sbHo8ivI19DNhMfJM8fxmL4Jrk9+S+YCQf2xsXzZPPKJeKNACXX0i4r+uXAsZPk2pUrMmfyZ+JbJkAuwEu2XMVKkLaLYKXwiDL/aICm/Qq44/HP/0Udty6izK9ffyZdEYg9/vBB2bR8sdr3X0Lwk7LlK8qwR55UbB2zzmSAsXXqd5/s3rROtq9dKaX9ymAjTtRD9wa8Pq1krMR84KT23B+flyaNm8iSJUvkDOhmqGUzU4hf/yXgFXGi8CHqaeYieX6GfeC4Sruchg3d0ugqz+RvMvtwEWPPD46DXNlmRQtuCIeFh8ngQYOlWbNm+dvRO2+Nj5qE/AXy08jbkecgu0rky9RXnUV21OkzAjxXATyfFZlwKetkMfysaZP/VzCgD0btkdnffoFvDzFz8Z83PsQ23XvJKUjh6xbOkSGTnpDwug0kFaBXP372gaya87O0BWDaoegoadm5h4z5/SOSDMC0Hz5+R86dPoUVQ1U5sGenSvGHo/dK5fCaiq3DEIYcMdugg+89YozUatRELgJ2+at//VViEcu2avVaqHMv6uwpDz37qJyIi5VNiKU77JGnJLR2XcXKn/7JuxZmvsMoUebtU1oGDx4sffv2lWtYWbn8LPHpk3n9PGuWXAZu0QOjHtB37bKsQ/25/ZPYOMePH5dZ6MdDDz0k/lg18hnyM7EPCYmJ8tVXX8n4ceOlUqVgm6oycy9AMqCCloSPQPG7SbJ3fBDqZTcj/4j8BPIe5MPIjokvwB/5OeSVyIuQeQ5YFvIAMjaG5CPk2wInshg+KOdJibpxusnzQ7h5E79tunwGPKlRH044jZrpRxkISbzzgCEyf+o3UAG1kwB4xbbu0RtSfqCUBAJmUIWKcnR/tMIqnE1MQNmhchTAaq2h/omNigR8Qh0pF1xZ+o0eJwGoi6qgC5BIL2IiuQDdPMdYmUCjTj9EwDowZ6bCLbAPZAplgytJ2579Aa38OYrmL5PwpPfl3BfShrkEdPrMrhLfcQpCUM6bO0dSoZceOmSIbkDmP7MtKrt27ZLvvv9OOnQAumb79nIjC6c9V8+RG+eKAf5h7549MmPGdGnVqpXUrFkj2z6QRneRGscViSixf4/cEpmS/ivIachm4krgHPJiZOr8qeZZgTwauQPyu8i3xexxn1gMn1TwlITBXKNufRn44AQwfFrkUMbHG8dHSKm9Wo3amAyK6ID/DZurAWXL6cRAKGO/gEDV0f8GvXoJeFPWRMSruJgoMP5ghbBt1qmrLJw2RVcKx4Ge2aHvIF0+U4pPWDwfahp/TA6IoMXEIYeG/QICUKcf2ruhqqLAckBVRPsK1wBVAPcMuE9gsXulWoZ/smPeVFtERkbKxo0b5QrUcdu2bZOePXvmKyMzJ5358+fJwQMHZOHChdKyZUsdExkeJA8P2IfU1FSZM2eOxB87JvPnzZOePXrAU9dLJ808bLogq+bXdR75feT3kO9DnobsmPhJLUcms5+A3AOZUv87yNHIt50M04/bvt26MbcpQMsbMnjqxilt8TcZRBlI8KqGwaTAD4Xnzp1Ogk3yDZXo2Q874+XEUb+hnE1KlL1b1iO4STWpVC1cdfy71q/WLhMVc8+WDUIEzR7DRkn/MeOl88BhUhYTRHpFxpTD9vwxoVw4B9WhrX2uPHh8GbFzOYKtlHMKXAOuPBnsqVOnJBmrqXlgupfB+Enn/EocP/v27ZO1a9dqk4sXL5b4+Ph8ZfjsQ3R0tKxebYzJNWtWy/79+/O1D/lFbxft7MK5b5ApxddFdrVhux7nE5DHIG9BviNmj/vVYY5/reQBFKA8T8nQzrgd+tSwZVsNYRizc5tcB8OgmmbV3J+lJnDuKZ1zYjATbffLVaqikMhbVi5VnT/VPAx5uPzXnyQY0ay4wUu8++vQM9N6hyuG6B1bVX9/OS1VpfqbNvd41lurUVO9dmD3TtxzTU7DUmgDNpG5YWylnFOATO4YpFkyWHMVsGL5cjkUG5uvDJ/vfdGiRXLixAntfExMtKxatSrnD5ILJSnQsA/x8ce0tqNHj8qSpUsg6LjifbnQoOdVMRNd2of8DHIAsuOnT33gQ7bzL+NvZ+TeyHckFVgqHVDQExI//jJB5SS4arVMb5Q6y+r1GkqHfoNk3vdfSylYM1y7clnKQ4/eZfBwMPvrEoywh8VhYqkJdZWEWieiSQvVydN8k3WEQ10UCAk+onFzLVa3WSuJ3LhWPn/j/4Cx76cqHdrUHz0QIxFg8JVCw7ROTia8t1W33jIHG8o+2NyjCWlF9LUsLIIYfctKOafAypUr5cCB/fYb4o4ckaVgdHXq1LGfy8sfnHTIXLnKMPXhVC3NnjNbN5zLQLVnTkZ51Q/2gSuKBQvm2/vACWDhggUyZvSSbsNbAABAAElEQVQYdWIz+5ZXfSiAep2ZdSr68IEt18bfX2x94of8MHJ75H8hU7LnrDgJmZPCEttf/HEvWQzfPXrlWWkO7sbtOkqD1u3sG7WOjVGF0q73QDDrFjY7fH8w+TC1wydD7jt6AvTppewfKutr2aWnNG7bCRK8j64AgquGylN/f1tKwfKHtvm0pR8LU80TiHdLdQInBgZDoXkmpf4+o8fj2KiTewqd4VFbv0VrOXMqUYLgDEZmf/3aVaiUoMfHJHOXJX58+TpTkcZU4URFRcmAAQOVyYPw0rdPXzl4MFZOnz4j5coZcYrzmpabN28WMvaIiAiJiYmR1q0BhIYIWrt375aOHTvmy/vcvn27VKpcWeo3aKAbt927dxdfrFZ37NihVk55TYN8rp8fiCsb5gM4/19bZhlmml5SZ/9vZFONswK/mWogc0K4rY1bi+GThB6S6ERVEgwgO+ZZDo5Z5atUVV26gTMOnT4mAzJ15/uK01IEZmzmeZbzwQdlHvMvj2s3hk0zhpnpZesPqxxec7yXJCLDqgCpngHOeZ2bt2zDrM9DyHirbtAiIhm5JHLlWxXO7euk4WOP/Q666hioMxaqJPviiy+q3ro4oITzI1GdU6tWLXn99dflpZdelAMHD8roMWOka9euchWSfn5I1pTm69dvIC//6WV56umndByNHDkK3so9MSme0/0r0qoQJS7paE7JseecFuIEpXdskmmilQ7LOk8QK3FuLfI15NtK1qbtbZEt7266FfMkk6VEb3yUFAaMlNV9zuddHRv13bAzbrOM+ddsg3/N9vlXj/NEsueHbnzs6U+ozeXGPxdQCaUmjn0umeFxlD+J9PT395caNWoIpduLFy/id01l+mTA+aFK4ZNSndK0aVO1EOImaYBN0q+NPuSXWonMvFatmhKDiS8am8dVIOk3atRI7fBr1zas0fLnreRbK4RSWIB8yUWL3Aibh7wBmUOemUzdefib53Hp9pLF8N2gGwepYR9/0yaBuHGzVTRHFDDZPE1BmVzB7eaooqwLcSm8DJkfXlfk1sj5lshsKd3PgQ0+f3fu3Fn8/Px0POVXJziO02DK+9NPP0lCQoI0bNhI6kC1Q8nf1SSfF/2i/T3VWJ9//rlcgqVX9+49YINfU+mQX33Ii+fy9Dothu/GG/KGzXn5CgAyQ9oNk0Z6svKj5Qdk5dyhAVcu0bBESsCGHuldwUZvN15TToquRKF1yJWQX0QORc7zxLFy9uxZ+fDDD2UPdOVUadAjl2MnvxLbIkPlhDN9+g9SCns0w4cPx95BuXxh9myfzJ6bxm+88U/ZsH69rnIeHjtW37fF7PN2JFg6/BzSlwOxNDBP6CCzGKZkqxfMhaXMVbVmKVoM+B/Oi68c1msVS6cA+d4FwDushbln8tnT0qlTJ13m5wETSESr/0FugNwL+W3k15BpIpflm2T/zIkd5XKclKHj5uOYxN577z2ZOvV7Vd888cQTKtXy+bRMjmt0v6DZb0rTs2fPlr///W+SBMC94cNHqGWOc40szwkqNxLr4jNyMr9w4YJs2LhBPvn4E1mxYoUEBQXJc88/J82gYsqPvYPceJ67uQ6L4bv59gjcFLV3r3zzzWRZtWC2ZjersIrfggJkEA0aNJQXXngxL83zFqMbryO/hjwCuRbyZGSqe+KRqUOlXomQo4gIeBOAcpehfkgDYzLUTZzkzd8o4zJxc5JSPb1qv//+e1m/fp1iwUycOEn69euvAGp5LS1wcz8Flle0xiFuzs8//4w+ncEmbTd5+eWXpWzZsnZmSyZPxnv69GmJhW8AsXbOA27DmJRcPmKOTtJBkI5m3LvYAgsh0iQkJESexzseef9InVzYhpXylgIWw3eDvhyQAYAbeOWVv0jz5i1kxcoVamZHm3RPTmQ6qZDs/HwBjwxm6qmJLmfFixWHqWBtSJ33gek3UEaTR/0lQ/8cmZu4f0JujExJ/zjyEWSe5850ELI/GdSr//eq+NutnCC14r9rV6/amSXKZUq0b09IOKnOVtSbMxEQbycwbJ7+/dO6CZ7pptw8gfdNR7nEhEQ5fPiwnDt3FjFtfWQUANtoHUSzTFOyJrOnU9isX36RefPmyr6ofdhYviD0DL7T5MjMGbhk8H33yWOPPibt2rXHBAigQIvZ3ymJc3S/xfBzRKb0QhyYtLQYOXKk3IdBy40uT078iOPi4uQnBOaYNGkS4pCmm2V6Yr85IRFLhXpekxHlYT9pHfEd8k7kh5D7IIchhyBn0GeQWa+ECuJ2E98DMxOl7eXLlt5uVbd1H4HcKMn36dNHhg0brnsHZLx2GkO4pkPYW2+9KRs2bNDNU+r1GzZsCGC3oDsWFGjs4IexF1E7Qtq2bStNAW9M6yC2bzH723qlt3WTxfBvg2wcoMyEamX25EQmw2X09B9+gCVEd+lQAIiI7tKHtLUzIndvdr88pfhI5D8jf4JMd1cyfAaqoI4hDHkCVna+48dPkGDA9yrkBBZK7Oe1q9eyZViE8i1G+/oC1FZw8iTzpjkoM1epjjTmJLto8SJ56U8vKZBaWHi4qll69+4toaGhupl65yvDIkAPLZ5hMs/Hd4xXaCVSwGL4dzAO+NF4cuJHeh6bZPOAQnj48CF1W2+Vz4iInkwfp75Rb3HYlh0vtcHBKF9fP186JzWEmokqsowpu3GAmaGAkyOzJpN1ZLQUCOhd+9e//lWZfceOneTVV19VqGKuCjjGc3Ocs67M9CtYAvEzZlwCTuTFMEGbK7GC7VXetG4x/Lyhq0fUyoFrwPDSnwMAHEsWy/jx4yUcEpzjR+8RnfXcTtg4NhifjVm6R7vsJoOCfWhOBNzb+S9CMkZG7kKc2KZQ6byl8WLJlD2NMecVtehhTjPRK4gVURaotDQHzs1JLq/6fTv1ZtBT3k4F1j2eSwGF4QU4Fa0jmGilsWr1Ks/tsIf3jKy7MDECCgT0B1i0cIFu5D799NPSuHHje4bRc7hx0iO+0dq1a3T0NWjYQGlRmN6zPpjtH4vhO1KjEP3mx3wEKIyLEVvVHLy0GJkze45hWYSBbqV7mwJcqaxbt05OnjypVmfc4zHHyr1CGUaXoz/AejiAlcU+R9cuXdVstrA+v8XwC+mb5YdLRMSw0DDFTeFj0jqCG4h7EFLOUa9bSElgPVY2FOD7pwCwdy/DqiLeHvZ2aMVzrzB8Pj83s3ft2invv/+e+hr07tVb6eCeyi4bInvgpUKlw+dLZOag/e3eCaLgclhR/8rlOaFu//GPfyjkLNEQH3roYegqs7cdd1mhdbLQUYAMPynptG5ShoUBahubtPeC3t6c7Gh++s9//kO2bt0KmIv68vjjj4svfFUshn+XDHUOWB+f0mobfw4u+vdyokqnXr16cJq5mkFqo5kdB/S9Isndy2PgVs+ughHGAqQkSUFs2fj44xgbzhZIt6rl7rrOSY4OaISm/uXXXxXuguicf/3b33SzujAze76pQiPhc/AS6yYUKgz+ptqCL9c0Lbu7hmXu9Nb4oDNaifAcs5UsCpAC4PUKt/3xRx/JVEA/FPZE88tEhAclpg8d/HogaPrzz78g7eGfci+kQsPw+bLI3KmLnDJlsqxZswZh5A6oe/69sEy9Fwar9Yx5R4FTiGJGfJ3CnCjmFMPKNwh7Fe3bdwCWUT/NwcHBhVqN4/hOCxXD54N16IAwgXCOoXfp5MmT5TU4lHjbwvQ5Prj126KARQHDAZiWKo8A14ZWOoVdpUGpngyeAVcYcIapsD+z4zgvVAyfL65atRAZO268REdHy3fffauu4RMmTFB1D69b6gzH12/9vucpALGXODeNgJnTHxLvvbAaNtWa9xKjN8d5oWL4fCjuwDOgAx1Kvv76K+zC/1MRAMeNGyfVgSPi5eHYN+aLyY2/pAWRCPnXShYFsqMAmR+Z/b3A8LOjQ2G/VugYPmdvovD96U9/UmmewSY+/vgjWbx4sZoo0vyqfPnyhRovw3HQ8gM+cvSI4ynrt0WBdApYskA6Le6BX4WO4fOdUVqhno6AUNTnU9KPArZ3TEy0SrslSpRU64R74P3qI1675tkQzoXtPdAk1lxVeaoKsQj6qP20EZ/9LQpHJLXf8lArLpOmlmr29r+YQsnwSQ4OCm7KTJw4UTej1q5dKxs3bZRjR4/BJMuI4HP7ZLt77iTDIcTCmTOF2wLDE94IhWUALsqhQ4fU0S0xMRHHRF/2PDGaPUqDieKxY/G6El62fBmCnVxEf5XlewI5M/YB/fIq5aV4+k2aNNGYFPzGreQeBQotwycZTOmqevXqwjxy1CiEqUuTq/A0vVcSAdT+/OeX5ccff7xXHrnAnvMGGNCvcOZ5551/q9HAFcQ89vxkMPgfZ8yQH2d49hjh5nJAQKD0799fXnrpJSFuPxFMrZRzChRqhm+SwZQESsJOn/leSVwC09O2FMxSrZS3FKB6ZD1c9V999f9JHCKMVa5SQYIrMlJU3rZ7x7Vr//CPp0r25gOii5fTrsFL9oRa3xUB8//XW/9SKARTsDOLWn+zpsA9wfDNx78XBwYDWHv6t2y+n7v5L1eNP/88U5l906Z15Y23nkK8WAbOyomKxJwVclo2J+Wyoibbysn9WZXL6nxW7eXWeYK9XZNpU5eA0X8tC+bPl4cefEg9ZC3LopzT+J5i+Dkni1XSokDOKcCVFGPexh48qDcNGNgRDoCN8PvWky1XAOaE7Pg7q9YptJibl67KZHWddfO+69d/A0qkATJIYSDrxHaK2tWiZrms6jev5+XfYsWKyqgHesrMn5bBACNODmMlda9AIuQWXS145NyipFXPPU0BMsIbQGglUw0I9MdfGg4YuEW8llW+du2GTJm8QH6YtkSZcVblSNyTJ09rudTUyzjKWCfb3bFjv8yfv8Flu1ev3pClS7fJm29Mlv9++gsiPBlBcZzbYz1bt0bLu+9MA5Jmsu43swzbS0u7Agl7MYwAEvT5nO/N62PS19vbC8HQiWh5U0ESSRcr5ZwCFsPPOa2skhYFsqcAtR1M4I/KI42jLP/lJuSxY6cQa3gjNnvXSELCGfV6dbyBZSjZMp87lyKrV++Uq1BtmJY/3Dswrx8+dEKZtXPbLLNz535IxsuleYu6chVmut98PQ9xXK8q43Zsjwyf9Xzy8UydXG5gRWCkIjB2uC4rV+5ABLVkndh4nuXZflFk/jYT+81j/jV+syyy7Xl4jsl+P/qYo6SLEmNlkt5aju60CoECOaSyRSuLAhYF8oICG9bvkXbtG0mdOuGyaWMUmkhnY2Tc8fFJsmXLPkjVMPGERQqZN4uQUV6/fgMAgcdkGyRyZcLKXDN/0iwbfyxJKlQIBFhYO+nVq5WcPp2sDN+xPfvzoXyr1o1k27YYYf+0TVvPHBk76z137iJwq2Jkd2SspKSkab8o6Z84cVq4EuFKIi4uAauDq9DBX5eTJ87IVjxPfPxpbe7s2QuyHe3s339Mn8fehzv4wX6Zfb6DagrlrZYOv1C+VuuhPJ0CZErJySnKKEc/2AsM+xxiy26SPn3bAPfJS9VDc+esg0S9Xfz8vCEZFxOf0t52tRGZ6+Rv5ktsbDwsVbyBFFsSDPwKLLJKZnp0Bulu3KQmEGR3IaThbp0gGjasiXpLZ9LR8+abUJfUrFVVmjeLkKlQ4dSoWUWqVCmXoV72f+fOA4BUXgQJ35ikihcvIePG9wOeVUWofpYrrEdCwmlp266hFEX5mBgECgdkeUrKJUnGaqV9h8aAKj6n0aYSE5Nx3EgeeKDHbTFr9oeZkw1jOB8/fhyb5hGKocVzVjIokFkcsChjUcCiQJ5TgCqNyMhDUtKrhNSuHYLgG7UgEadJTPQRZZRRUXE6AYwb31/+36sTEI1pCKTpC3IOEjGl16VLtqjk/PzzY+Qv/2+8DBveRQ5C2qftP/hehkR+V7VqeYQw9JcXn/9Q9d/3j+yGScI1zpKyR9zUEyuBqlUryHffLlJ1jrn4IGM9ffqCqoXaY3Xyf69N1D6Eh1fCJLRALqVeAcM9BSk+UR5/YogMGNAWgUaSEE7xkIx5sI+89rdHdBKYMmW+dO7cBPdOAFrnYFm7JlJOJ51Xxp3hAbI5YF8YqpD+Jvv27QOMyscyadIkhUf39vbWa8WLF9c4teZflr9XVwCWhJ/NYLIuWRTIKwpQH74G+viwsGCVeLkhWbFioOrIm7eooxuwdeuF60RACZUSdt9+beXrr+aoeeKOHQekZ8+WUjWkvEr99euHS+cuzeQk9gEcE5k/dfU/TFuqp3v0bCWXLl1WhnfgwAkJCvKTwEDfTJI+2/T2LiEPPdxH/vral7JyxXZp07aB1sHJKgrMm8B8vXq30o1UqoYGD+4or732lU5EXl4l0Z8m+nxcMRC2oVXr+jiuqAy9Zq0QRGSrLnXqhkrJksWBahuMPhWRiympElwkZ7F16RXMyHZbEKJw3ry5smL5co1m5ePjg6DszWCv/52qwRzpwSBJVatWVUdMYmqR+Zt+Oo7lCutvi+EX1jdrPZfHUoCMLS7uFHTze6VcWT9EZzugfeWm7fXrN6Hm6CPnky9CIg9QaZ0WKcyU0L29S8m1q9ewGriE4zLKqE2VRQVMGNTNgw/apXyaVq5evUvVKS+8OBrMtYR88J8fYRm0EFY/Z2TEiK7K9M06HInGNqmeuX9kD5kxY7lUqkzQQWP5kIR2AgJ8ETWqpPatSJGb4gsVUZkyvoAuuQRVSik8W4DRP1TKjV0fX8MBkG2xFn8/Hz1vtk3Vk/nbsR+uflOyj4qKknWATFmwYL4yfrMco1m988475qHD35torzhUWX5Sq1Yt6d2njwwfNlyZPwvltG2HCu+6nxbDv+temdXhu58CRcCoIqVli3oyYdIA++NQ6n/3nR90UzMwsAwiUF2wM28y2nNnL2Lz87KUANMuDX0+r5Px4X9NSbCe4UaueWycvSn7Y45AbVRNylcIQDjDmzJh4gB55c+fATsnFUx8eLaMjkywa9emsnt3LCaJ+ZJ2iXARRXSy4R4EnaG8vQlGiLi42FdIxkTliz0HJhiO6l/7P9kfmhoje/Hsf9yUEEjqPRGikKqblStXKGbU9evXcVxa49NSmndm4pwM4uOPaeByBi+fP2+evPDCi9K7d29V+ziXz74Pd99Vdxl+MB6xI/Im5KMuHrcZzhG7YDOy0+t1Udo6ZVHgHqMAGSMtW7Zs3gdspx5Q1RgqGZKBUnCHjo2hf94p993XGeqbuWC0h2DBUw0bkechyW5Uaxcv6P0bN64pS5ZsloaNaqjkHxt7TFat2gHJtWoGirK9alCXLF+2DcCBtNQJUOuZEiWKq109berLlTMiP9lvBJM3GR//UuXyIDaW//TSJ7IL5p1M9etXB/bOctj2b1GrH6qk5sxeqxvBoaEVVc1krw8/WI9ZJ8/j0OkYqxg96XhX1r9ZtExAgPTt21c6deokB+H0tnTpUvghzFPwulEPPKDSuzMb4qZxPDZ0lwMsbtq0acr4//CHZ4Gs+zcZOXKkTlxZt3r3X3GX4dfEI/8H+RfkF5BTkR3TIBz4IW9BLtQMn5s+/Jg8PVFHafaTf++WflOv6sggPJ3O2j9zxGNYZDU0+A6OHz8N+O4gqd8gXBmj+Zx85jZt6iN4T6xUxPUe0NF//r/ZEhjkg6+piFSuXA6xHAw1T89eLWHymAiYge+gRimN5ovCvLMx1Cwoq5+eMTapluHGaEz0UXnrjSlwCvOBDv+qdOveXHx9vGX1qp1Ss2ZV1OGj9KZUHgTVETdrzcQ6goPLyiOPDJb//W+WSvScJMaO66eOWBs37La9q6IyfkJ/ZfqVq5QVH59SOM9abmq/S3oVtx2LWhZVwUYy6cEy3A8IC6tkszIyCWn2wOGvPpbxbKQbYRVKliyJCag+9gTqwcrnAdkATKPk5GSdQH19M+9PVKxYUZo0biw9uveQv//j7/CDWCCvv/5PCalWTTp26FCodfruMnxa9ZxHZoj34chTkB3fTjEcF2rLH2OA3rRD4NIEzPxg8ewel/hBREfv035t3rJFrRg8tb8cSKUIgQtzusaNGt91wFjm2EiFaoNqDx47J9K+Zs3K8vQzI/B8hk7bLEfGx83ZPz43CkzVS4YO6ywtW9WVROj2KwCIjQz/KvT3vMbVwBNPDlUwsYsXL0HXHqybr4x9YOjZ09umrv2ZZ0dI3OEEST5/AfVU0JUFP9127RuoGSj7qf0Hc+/UqbG0a9cAbbCOdObapm19adCwupbn5NSiRYTQMoeAZrSACQ9nnFgfZZijR/eEfp8M3mAPPXu1UFKYxxF1QiS8eiW1FOIFf//S8uRTw7Vu3mLSRG+y/cPnotorDZvOvM6A5Eys06yXG7GDBw9W88+sNmRN7J2mTZvKW2++hfrSsDpaKZ9+8rE0wMQRgJWDWZ+t6ULz53YY/hE8/ULkh5EjkXcgm8l4u8YR3wazc/SNrM6bdXj0X+oIZ82aJe+//74yUoJm2ca0B/fbeC1LEPVryeIlHtxPDBh8xEFBgTDlGygvvPiihIWG3hUSF/XItP5gWrx4g9rTh0NidfwgHAlPiTYN6I+uEjdWiXnDXBGMntI1GZCBg1MMzCz9k6JUTOZHKZzXSb+s6g2FRVBYEfQJddFyh4kTrNFWRihnMktX9VCavnbtN0Vh5f3cS6BNPx+U2P+XLl3haZ2QHMvpSfxDBywzcdK6fDmdBlQzEQJChDlz4v7EwgUb5GDsUawifDFpVclUiM/GXCIHqLhk/Ny8ffYPf4DJ6B5ZsXKlbNy4Ec5phTe2r7sM3yTwbPyojPwM8h+QzyE7Jo7zCOTeyN8jG251hn5/CI4vIHPSuKsSPyYGUnn1/16FPvSoSko0pXMhyHnYc6VLexkXZB7WTUiTZESUGCdP/kaKgSm+8fobYCqZN988qedkMF5eXipZLly4ABuyO2TCuL/BYSlEHY6yYvqe8AzmyPDkPpJOnNTosLV9W5SkYLN58OCe2MdofMfCAFcq7dq2RfjTThDkfoZF0yqYu/bUidMT3k9u9+F2GT7XrB8jf4r8EPJHyCboBn5qSsS/VAT+EfnfyFQFjUTuguzKZgqnPTdxwFGanzlzpjL7Fi3qyz/feBISQmYpw3OfwvN7RquP779bJG//a7LMmztXxoweA712G9XVenLvyfS7dO2KWMovY/X3HiTGg3ZzS0/u993WN8Z26N27j7z88stQYQWqNH8nz8D3Rj1/WzB9MvwoOG+lpqZqRC1eK2zpdhk+BQOqdsjoX0LehrwO2Uy8TqmfjP05Wz6Kv82R30Xeh3zXpZSUFGCXHNB+DxjYSSFwDdvh7B+FKwBz7Dj+zuouDjROMO4m3sL7aDFBfSd/c6mfXWIZ54F9u+1n105Or3GZP2pUL0ToWiqHYo/LocOHleHn9P6CKkeaeUHdMX78eGkGp58N6zfAJv40aEs5yP13mR/PQYuVuXPnAMDtGKTaXhr/2Xks5Ec/ctIG+1WypBfMS2thE7qzxqzOrb5y5U71EFdp586eg9opDXsRho9DTvp2N5W5XYZvPuMS/OBuzLPI5ITO3OUsznFS+Bz5PuRHkIkQdVcm6vwo5ZNJ+vkb1hC3Yqh8UOpIp01brNG2ho/opszYFQFYL51hVgE/ZeCgjrBy8LJPFCzPgbkDQFUnUKZPnzboR8Za2A7xUjZsiISpXgD04O11c875w2A9BLBatXqHjH24n5SFxQXLsD7qWGfNWgWc8cZCr8icPF/GXtzZEZfYXsCDoW6YOmHS+25JpCE3L1u2bAUb+5Z3rG7Iy+fmWKMlC52X4uPjZfB998nYsWNhp+9af56Xfcl53QYyJ8eI85jOeR2uS3JvgjT57bcbuV636xYL5iw3UO8kXcPNZOasZyIybfAdE4+pxz+DvAq5H3IQsscmMnW+eDLFbBOmNnzft0yUtI8BqXDBvI3yyy+rAYF7NhPDZxlKtsy00aY9dVYQuIcAXUv0ROe2dTKAu/1PPy6XZs3q6P3ffDVPrkAnjsfJkPh8rOeTj36SaT8s1RWBUcCEwN2uYF4sx8S/7BvbMM/pedsqgv1nZnEjm+Uz368V3vIfg7C826jhljd4VAHGWTVoVgx088xs4sqY75MWLyUwWRX30P4adDQCsuQ2s/eowZPHnblTCZ/dO4n8H+S/IROqbwMyE3+PQe6E/CZyAjJt959HplrH3MjFz/xN5iB3bpXn4+LidKe+WbNm6nLNZR4liqzuca4j83ER2bhhj7QFyNTZMxdk06YoCQnpjGIGUyPjJlRsYuIZtchQ3BFONjbmyQAZR4+ekIsXUuFAA4sMG3N1bof9iwe2OiFwKdnv3XtYPv34Z0kDw6fEbLZnvw/lW7VuKNu2RMuGJnuwadVYJRsyWEfGznrpPUkHHVqWhKIPRGckTRJOnIWu0weT1AUc39S2WZ4eoERJrFixrFSqVE49RI8ePQnX+tKKmcJ6Cmsi7S5evIhoTIflAkwgPTXxPaVAV52cfE7f+/79+7HiW+3REj7HPm3oq4VUUysci/G7P7rcZfjkB/xanQWvtTg3C/kNZHrZUnFZG7kxMjdsTZ09fz+D3AX5J+R8SRzc/BA5QGinzGWbq8Ry/v7+ap719ttvS48e3aVf//7StElT3SBiHZme3FVFtnOsj+7nkZEHZfQYAwJ38SJA4PZprfbG1LXPnbtegan8/LwwqRRXZsrzvDc15TKsVRbAi/CY2myXKOEFkzwwcHhaOifqihvB+5JemuvW7QEE7j54Yd4KAjcEqwFA4H4PCNwaVaH+KZuhWvZh164D8j2uFytKc7ciisUydlx/2H1XkB+mLpPiQFxkJKa2sNsuWqQYcM2PwtLmMiwqyExSsc/RVAN7nD9/HpNaMo4bI0wdIXCdh1CGpu/KA4Neu+SDDz5QtMaUlIt4Ds99Tn4Ply6l6uT9CWzQv/jiCw+mu7GvVQEMf+jQofLYo4/Bmau8ftMe3GmP65q7DJ/S/AJkZw9bMvhvkf2RDyJzlMci/x2Zenwz8TeZvrvtmve79ZcfIDOZze7duxGoYbs6THEXPqtEKSI29iCY7AFs0O6X6dOnq052wMAB8OSr75a1CJlaJAJD0K6aELiVIe3+/NNKBbJq2bKOus0vgrv8Y7+7T+rVD5MzWAH85/0ZdgjcJUu3wkTxpDz3/Gi4vwcgZupxee21L7QuPFaGxJVCSEgFLffC8x8AFKsHQK8MCFxK387SkK4vcFMveGzu3RMLy5iFsEceaedPpBv78zXUQl26NAXQVGtV/Uz/YRkgcOejTw/ARf2UTqRP/344bNDLyxf/mwPLlFjA5U6AZF9WfoC6aPLkufLP1x+HCV0NidwVC0/NX+FB2sJYzbDThSRRGDh06JC89NJLYParpRRAxcoGBahKJ9POlgc9cyD3ojCWdHx48utAHynsMG7wuwBGS7mYIq+++qrHm+x60KvWrrjLeGNwFxm6KxGZzPx1rdXQH6ThN7NzotiT54kMixjZq7FM/errr4C1vQaqhrOZGJ/LjpCb2pjRmTNnhLbVkbsjpV/ffpBcU3Ks3nGGwOUmJF3muSnbvHmEDQI3TJo0raX9skPgfmmDwN2+X93rycgp9dMVv0t2ELhgxmTu3bu3xOarAYF78OBJ9cDMGgK3pDz8cF9giQACF+Hr6NrPxMmK+OVUv/TqbaxIyBkG39cRcLkZIXDDw4M1aAb1rK1a1RNC/pL+tWpVk3p1w6WuCYGL86yXoF2mM5FL+t+FJ8kwf/31V6yu1kqV4PLyyjMPSTuY7preoHfhI3lcly8hwMv3Py+Vz779FeidM2TgwIFQRXZ0SwjzuIfK5w65y/ApA6S7+WXurKuJIHOpPD5DZkMp/nMsUT/68EOoFMD0goLUnItSegDsd50EZHuPeC8hCJYugRoDDCw8vLp069ZN+g/oL1WrVIUEuydHkwYZ25E4hqfbC4sZQuDu1zYSTp6V60AsPJUdBC6gZU0I3HI5hMCldQ6DZzz/wmhV+XClMGXKQmF7wxEcg7jnzlI+O8QJohrAru6/v7vMmL5Mde7sO9NpBLGmWz6jKLEcIXAZJSkrCFyGv/OHTTMT22It/gg4zQ1fs23DjNWTRUntvlv/cMxQjbVz5w5Vj/Tr3lYmjuqNlR0+r9x8VLQDvRlfmut6be8N5k1u9d9emPUz5cbKi31hN3KjLu0U/kGdweUDZe2WPbJz7wGJ2R+jDN+8bP29NQXcZfi3rrGAS/Djo33xp59+Kv/+99tq1kc3/YmIgtOieXPV0ZORu0q8NykpSW3tKTn0x33du3eX6uHhYHql5BSusUzOUhFZuy4SeCOAwJ3YX2/hrSYELi1tAgP95SyscvhN8BoZLa10soXABRN2BYFLcCxC4FaoCAhcfPATJw1Mh8CtNMzOcF31ncy4a7dmNgjcBcAWoXt8EYBolYE6LAsIXABjMUFZpH/t/2R/mOVEa7//Lv3BTexLly5p7ysDkbIk9jYEq7JcSxgfpwGPfBKb+zXDKos3VEaOiWMoDvFj+S7DAHzGkILupiRsvvO+sgF+7t6aqfwJWKNRrRUEgcF5iGQqnNMT2EMqA4MB9o+WUBSKTEEip1Xc6+WwC1n40sJFC+Wjjz5UZj9x4iT5EFJ+71697BuvHCRZZTpdPPTQQ9A9T5EnHn9c6kREqEUAzTU5yHKSOCkYELhR0qVrM0UepLVKMDIBpjp0aAI97y6pBQZN/fkeQOBSZUOTTULgXoYtPDdmG0HvTQhcBn6mjX30viNAN9yRaZCzPQaqiIw8oMGqrwFgilGN7BC4QFXMlGw04HnSgtLomAd7wxzzTDoELiIuXYbn67JlW9XMk3UyziqlfOKysM+OyaSpeQ7VZugrr7sDgWvWc/f8NZis+6w2B0+IPYJl63bJyCdflzVb4MqCVZM94f2fwcT87Gv/lX/990e5hrHi9syK+hdC1bhs/W5KHvaqb+cH5/ypv6yQFUDRvNO6MrXPQWWl26ZAoZLwyfiIXvn5//6nXo7Dh4+Aq/ufsJFZLkd6PjIkAmBVA0yqybz4lymTZI+vGs25TCx7/HgSNiYD4b1YXRmj1oOqfsN/RB3cvecg9NhBWEG00I3MoCDCuBaRSsHldOOVdfdCTFFC4L5FCNyA0uCeReEC3kjVLIbYZHSAEn0nQOBGQ6Xz5htTVGefmnIFUjshcEvBrn87EBqrpEPg4pmCgvyF8LRmYh3caJ30CCBwP7NB4AKKd+xYGwTu+kj0D/1HZpxVMv3KlTNC4JYrXwbepiW0HOv1gTRGvHfSg/dyP4BgXy7NRM2O6F/juXBLrgmHGaq/Sw+uQKK9BnXgyo27pSvGQQmT6WNluG33ATmRdE4qVihrTKrk+DhPQYVJV7WmwMLBhXQdEzZXlaYK7xJMeElz+2TB98ZjvDy9AxOBy/pYBtdMp60iWEGnQDi4jE3W9MpYyEoFTYFCxfBpKbFx0ybozbeAGVWR30FCp+mWOUhzSmwuz10l1k+HFTJvOjRxMGeaCHCW18lgfw8IXDI9JrMcGR83Z5977gEbBG4X3eik3XoF2K3zmiME7pNPDlMwsQuwww8FBG5AoB+kfWcI3JvK5J959n74EZyEOeQFqUIIXBtDb9++oZqBmv1g/zoSAhfQuM4QuG0JgYvNYYaoIx1atjQgcOMOHweYWXH4JhgTB6+NHtNDLZB0MkPlvRQCNx2qoQ4gcKtXD8ZKw1Ch5QQCl3Ti++JyneqF4ghJZyWDAhw7LRrXkVNnzktc/CmphdUi9fl00lu3NUrat2hgH2dp2OBcunaX7MDeEVdVLRpFSA+sLKlmSYBacNHqbXLoyAkJwB5L364tpQ5izBpj1JgMyMD3Hzou+wBv0bVNQ/EuVVxWY9LfuD1KVYatmtaVLm0a6ARPFeN67FWtRWZqjWvXNPIW69IpQ89b/xQ8BQrV10SrnA0b1uuGbb9+/YGp3kiZVm6RmcGRq1UL0eqWLNkIU8U2ao/OD9E5UYgqXrwE1DN0Rs6c6MpNCYuqGlruBEO6JuOkmoRxN00IXNYTBp0t//I6GS0nHlfQtellK2tZE3q2FOKgsp3r1zlJGYll2Y6reuhsZvTNKO+DQBkNG9XSG7kSSIfALZ6hnDmpmRC4ZhtmP1gBYWuzgsBleTqaLYRaKy7uOFYRfjA1rWp02PpX32nlCkFSDquzDdv2GQwfY+HgkXhJwiTQqU1j2bwjWsv9OG+d7I6Jk96dmspV+J7MWrhBpXwy/U+/m6eMulv7JrIfyKQffjNH/vL7UfbJgoNtG9SD389aIT06NhUfhDCcvXSTLF6zQ/p1baGWRwtWbJHzF1Lk/gEdMXnskFmL1ssAWIf5QFDYsD1aNu2IkYYRYXhreKlW8hgKFBqGT2ZD/fvBA7QaFWFwA8LqZiWtu/sGyGy5cTtw0CBZtGgRTCu3yLixr8FhiZIRdZ4uuL67jeRZecePznP7yXdIk81tW/cqFO7QoX2Btd4w195hnpE3HysuXrwoJPl6MnP+Wrmvd1sEAi8NyTpKamPlVRFe1txEv4pJkxP2BFgK1asTRt2NHMKG7u7oQzAVrStH4hNl3Iie0hkMv22rhuI/b61cwr4RJ1yOjmVw3pu1cL2MIkBgy3pyDvsDy9bvkoeHdZe2gO1gqoTV6FfTF0vLJhGycNU2GX1fV+mGyYQ11K8dJhsBY3yD+j8reRQFCg3DJ1WvAGiLQYopRdIF25Q4c4viZPoMi8agxx9++AE2Ww/I7sj9uVW9VY+NAiYE7osIgFKYow/dzgvnCqt+7VD5ad4a2QcP7Ah4SO+MipWJI3tLatoVSPfANIEKbWCPVrLvwDGZEbVcriBgyead+6Q2Ntr9sVrrBxXODNy/A34W1aEmbNm4loSHVMSm8G+yZM12rODSJBDWNQ3gQ0HVDlVI+/Yflh/niMxful67nQb9fPyJBImNO4EJ5prUA/Y/lqdchkpFOAk2rBt2O49n3ZPHFChUDJ9WNJToyegZPCO3kynlP/roowg91woQuOttELieKclQYqOKiMGdo6L2wqmqreJ+UwojY/DERFVXnTp1EGaPELgVVT3hif0sqD5xDAZAqm9Sr4ash1rnYuplhWWuDye3Tbv2q5TOc1/+sBB6dy9p1rCGVMZG7rnzF7FquqjfR98uLaQVJPP92JeJAhTGwpVb5cmHB+LaTTX+efXZMfLtzGUy/ddV8tiYProHEFDGT7q2b6ptsw8cP/RKD/S3+Xc4LiJBnNwWtgqK3oWt3ULF8PPj5XCwc+O2TevW0hpMP7dURnnVd+5r0MOYDL9bt67y5z//BR+r603pvOqDO/WSUXCPgnQlra2UTgGTGqRRu+Z15d+f/ywxh+KlW7vGUkoDhht4M0dPwJfkcLz86/89CqOFQLkBM92zycsF2iA5BtPf739eJo+PGyS9oHPv2bm5/PuzmbIRun9aUXUDU28CDKZSsLZ64+PpUj8iVOphQzcooIwEY+JoiXaZDkH3/zPUSiP6dVCUzRhs8AZDzUNhIunUOdkbc0Tq1wrVstY/nkMBi+Hf5rswmZH59zaryfPbjP4ZrMLgn4YPQp43fJsNsL9kaMyeTtvbfMTbvo1WS8xcydaA34VfaS+JjD4sf3l6lKpSuEFKutHZiTr8WfPXSQP4ekQDCvswkFRLliiK8zfkIkwmP50yV7q0biDnYP0VA9XQGOjgDx1LRP2YFVCmDqzMhvfvKFNmLpVXnxktnVCW95w5e14tfeYs2yy1w6tICHxLuiN2AstRFcRN27UA7qP+vqTGlTWnqdt+bOvGXKSAxfDdJCY/KJpF7tixA/btqwBtfEyXwm5Wky/F0VVV6WzevEXbW7x4EQDRGIUpX5q/rUYoZdasWUs9nGvUqHFbdRTKm8BAWzepLbU0aDmtnYrLxPuBwAoGXAlSPL16a4UGy9DesBwDE/79+MFCS5ojx05CSq+uk8IuhF30An2fwbVfl2yQOcg+PqVl1KDOujlL3TthMNTZApJ6r44w4yxZTK7Dyuf+/h3UhHM9zD9vAG22DVRCfWGxQxv+Ad1awd/DW9Zjs52rM5pl9oJ1T6AfgNnQbyt5DgUshu/muyCznzp1qrz99r9gOhh3V0mh27ZtE2ZPTzQXbdSoIZBB/6qM35L08cYwS9fBBq1aOZKJ4rgBLXA4q0Pi53GVYPhxwLyXTJYbsc0a1NAJn5MDi6ndvm22f2xMP4UKJ7ib7nehDqpuNNnKeOG+np2ao25DBciN4D6dm7EzOuHgj7bLTeJeMP/s1q4RLylktlGPcV1/W/94BAUshu/Ga6D0snHjRnnzzTfgAXsUH1wNaQz4gRLcILYEGTcomUVRMCWaB27eGa0rqH/+85+Q9mtKWFiYx++VZPFEuXuajNhxnOmxwwnH62D6xcDllZnbz6eXBamlJMctEycMJpZzTuY1ngfjt3v3OkvuOC6O70OT8zXjrPWvB1DAYvhuvAR6gC5evFiZfbOGEfL528+pjpTSk4tPxY2araKkAJkQdb9L1+6U3730rqJProclVHh4uEUgiwIWBXKBAhbDzyERqbunxUtCAiM1irSHw0ojSPfFldvnkN2zrEpBKK/LcKfGoQ/V69DHupS2zOKsx94u28axOeVw081Z8nO8j21QAnOW5uz9yuGzmHVm91efN4v2srivRIkiukHYoE64LFq5GaEVj6CrudinLNq1TlsUuBcoYFuD3QuPmjvPaDIfmq0p8dxgRleAebJg2SbZgI2vTLeBOZ5IPCsz56wCBC5iyZBZuko4nQori41wX0+Do40BdXAZq23CMtyUrbDFTjydnPl+1Eco5tVAMDRArTJWvhNgbgdgzZFluxmL3/oI7SXDQ3Pdpj2AiXANL+GyEvD2YpiUqD9myiocpct77+aTfN2cdLN87yhgqkyye07en10dbMdVyu4+CglZ3eeqrpyeY71WylcKWAz/NsnttsyJD4qekP/+fKb8/T9T4QiDMItOH+bMBevkuX98LtFwiMny48Y9NKWbOnuNXICDzWkEDP/v1IVy/mIa1CG/yWoEJT+eeC5T3WzraMIZ+XLGYkUydGybzzJ76UZZB0ceIizaE/vn1MdbXuPtvAf1HAd2+2Q48DBSUZb12Ct0+KHEdZvCDhXcfT+5d7EHJpZnky9mphXIeepMMjxnjyguTpZPh3IXU9NAd0Z2M9Z8pjqdAGrxeP8pqXwXTjXgmO3GA8DPmeocU3Ew10xljATn+5yqceeQnrpHAABH81Er5R8FLIaff7RW1YSfr4+kXr4mO/cdTmeuYJCnEXxi++5YCatW1baHRuz4jJ3TVQHPIdODlquNVKB2EgDrEj6g4jCpGzWwI+yjDRTFjHdTi3MTJqV0f3e+YtTHj1sT+nMN9Z9Fny6mXJKbjkwfv6/ATI/22BeAe5PhcwWTv3wF13Af0UR5H/c9tN+Zm7TOmBSA5H7waII89Oy/5Osfl2SiF4Hv3v/yF3nyLx+Dti4mBId6dsccxSS7XG6A6DEYF/NWbMU4uqkY+d/DczYa5+Aia95h/EX7KzZEAhtnie6h2C/i/V2CkPLeF7PUlj/TffaCbv5Ae0cAH/7+l7MyCR9u1mQVd5MClg7fTYLdSXEyXJ/S3gC6qga3+CjpBGAqMmlKw9vA7GnLXA8u8pSkqF6Jjo2Xfl2aq4qD7S5esw1IiQFSCYiJtH+mxPbzgtWyZWeU/OeLmfLgsB6y98BxuN2Hw4SPTD8zZ+deRBG2yWznxHTYKWoIcLh++FiCTJu9Wk4mnJJicJ7p0LKBDIJXJoOx74Er/k/wsDx95qze0w6QvMP6tNVrnLB+BujWeeAZlS8XJNUA0UzJPhcFwzshv0ffS5TQ3xAPYSNQJpMwmVZAtDF9P3jPcUeTZDtwb4oWK2FIxKCpEtXx/aIcaU1kTEr5HFPxkPQJt9CnWwtYkhVVe/lg2Nqnv3eTJAAehNrtAu9zSpwszmNivwZzZG1T2zYmco4lWq7ZJBRtk0OKkzzx91nUPgb1wBAsCMlNyf78xUuqknRq0jrMQwpYDD8Pieu66pvSpmkdWbZ2uxyBC3yN0EqKZ75m8x5pC7f1HYiAxe/k6MnT+vHT7pnmdfzatgGoLaxaFakMF3ZOHmWAqUJc8n0Hj0uH1g0lCCETt+9ZJVVpi12kivGBmp0w+IFcSEmVragnyN9H62Bj/EhPJJ6W0KoV5VJKmnw2dYH+fmhIFzmNpf7kn5YBItdLURopBbZuWls6PtBbVQeffDtPAbzKA7KXv3t1aibtgah4DJPR59MW6SqBjMFK2VOAjLVGWBWNAbwdY6BP1+bgjpywiyjWfY3Qyipts5aEU2flJHJjgJvR85Zpd9QhIGf6gskaTHg/cOyXrdoCAeCo/Dp/DbDwm0FtkwLnKQTScZFYi9bF+jh5aNP4i2Pj/Rm/yfwJkxwVc1iFl24dmkpTCBgssx9CymLg7CcmnZEKmPD7wyGL4GxMJwG3sACYPUfjEyQ0pBLQNiG0sC0r5SsFMD1bKT8pwE3WysC/D6lcXhk6Py66tBORsHXTCHxn/NL0O8v0QejH7PCR+PuWlhYNa4HBl8dkUQ/Sfxn98PgZ/QbVzZlz5yGJJyvT5TE/MB7PWbweUvpq5DUyE6iJM/E7OvaoSmt7gbBIONy+mGh84bofXqWCemGu3BipexDEUB/QvZW2FYYJoiQ2V09A90vJtCo8PIf2bYfgK+WlDWB4B8BRh4HNzWfSB7P+cU0BMPzSCBbfrlld4MnvUyGAzPY89ms4QXdBEBJ6IROwbB9Wfr8g9KXCD/Nlo9wCwHVvhjRPiZunKGVT2qcKj5vmV/F3PsrExScZDN1FLxg0hePjNDb9+fcMM1YbjMPMYUdMni9+WASh4qC0a1kfTl7lMakv1NXHcUzwH3w9W0oj9kL3Ds01AMqHk+dAJZim4+kd4P6cQr2dEamLzzFjLveg0rReF12xTuURBSwJP48Im121dNQipjmDRgwBpjnxzOkFyeAWnBDsiV+uY3I+xjXiqlDa/42bXxTVkYpQR3ritPx3ymx8cKmAuvWXJ8YO1qkkLKSyvPz0GCmPyFm8j4n//uODafo7/mSS7Nl3UN7+dLp+jJxkiL5YvmyASvnBCHs49ZeVgKJGRCp4xJLZ37h5Q47jLycAfszgRKirqFQPARwvJiVbM1q/9U/WFOD7aNW4tjJ4Yt9EwPM1MjpOmXgDBBNZhFCVTBwjzvGEecxVgl7H37rA0OnXoy0irvnKyCHdFB6B9+nki2LXzf0a3EC1IlWEm7bvlb+9/61N0GBYQ+zJ4D0fRDCa4lDRxMCY4OCRk/IKsHuqwquXdRXF+yYefi945LZoHCFjhnVVL9waCNrz8ptfqdCx92C8joGnJwwGlEMpVfNw/BDawVL46SvLt38shp9vpE5viCaUjeAWP2PualkP88pd+w7Jg0O6Gvr89GIZGCU/5lREz3ItLWf8bMg4QvBB/mHSELXcKVa0mDJsRkXih02TRwYtV/0qGDr5BF3smRiTthnC4b342DA9R8mOFhpXIN1xT2EKrG6GA1elNlRR3tiPOHQUFkW4n6HzMph74j4yC244sg4r3ZoCfMcVMaFSDbJxhxHRajXMWls2qq3qO3OCZk2ZSOp8AnWZwoBdx477+P6PQRj4biattdJQr6+Mu7+3dq5Fk7ry8uMj7HtGfG8XIKG/9v73fMUSC2YfczBOPp38KxemeK9FJBFjiuOHYG6lAce8CKBqFBBOIr7uqaSzqqs/hPvq1qwGFZCXBmPh/lHTBjVlzabdWYxn7Y71Tx5QwGL4eUDU7Krkx8EPtwwQDRvVrS6ffjsXYFflpQE2a/nBG9cRABw686Qz58DkryKOra+chFUDpT0Gv2DSjx918dO/ig21K9j0MxgC64CbOxg64WztCV8oixv34Zfeqye0CCcSQhLXAgLiD3NWA1HxihEtCeem/bJKzfaCAvywZMcmbqsGipcSdyRB9mMSYFSkuuj/tF9XYtmODUcwLcZZXQU1UDJ0vhmnI3uPrB8uKEDoAq7+foSqrRnUdUeOn0I0qc62d+RwgwOD5zu9honVfKUOpTL95PiiHr9T28YaN9gLE7UfjAVYhy8m8ErB5SB4oHJWBoZeGu+Pkzmv04orpEpF6d7R3FcyVgp+AGBjMBWCtbVD3xl9qw4Y/E7E0+V9zM6GQZxMmK2UvxSwGH4+0pv6V1/Ax9KCgakDPo7vZi4BEmFHDXZOU0Yyei6xI8B4qXN/+78zEKmokpw8cxFSeiACn5dSKc0Hf/nBMMQdMVHe+/xHeXhEL91IU7UKP1h8aPYECxDWy/YpmTknSmfUx9cE4iIZ+LvQuRKdkTrY/XEn5Wngp7M/c+E49u5nP4Fp+EjC6QvYjyinzl5PjxusULlvfjwDsUyrwcz0om7UVa8Ga6HMzTk3bx3bKEC1SwNM6tRxf4FN72pVyksorJ24SWumEojHQHNZqmVKwHKHAe73Hz4JRmsDPzML4q8KEVy96QawMeH7AcWyPXTw9oT3yqGio4U/HG1tcazX8I+xZ1NS6sMLuiIMB5hWI/RhZPQROXo8UaNcDUVYRNYUFRWnm8RE3wyDao8BztMwvr0xvtlQJMySk9FvK+UvBSyGn1/0xgfD8HIvPDZUrWyo5yZz/e8bv5cq/HjwoVO3P2FkTwkq46MM9c9PjZS1sN65Aht7bqJyYqCHbyCY7WNjequkRib9pydGwIklQWFyHx7aBff74qNy/GrxkDhmGLs/PjIEenVvHOvnrU9PfvzA4C5aNyeDsYhdSp3xvv1xWCUEInZqO1UzUBX1ylOjFNyMH/KI/u2lHCyDjp04pSoHwu4ykEYcIHmb1K8hY4eHq1ewr37k6e3lF8nvqnZAd06oXGn5QwKnBc57MLX96O9PS1GgUTLpdby38JAKWP0lyw+wq69XqyoY7lF1wjNRMXVCB7nLgLEfRCCUmXNWIhh5cxUUjMkeF3WfxUYhvEueZ/2uEtVAlNLrAq2TezjvImAKkTPPX7gks5dskvvB5FEFxupeCcUm/xX4YmzauV9NOSMRCKUtLMmWrN4OPP15WAHAggsqpbWbo6QMomVZKX8pYDH8fKQ3GXoEgp4rM8YHxGOqQmwilH5w1aELpQTEcwwu8QB0+5ps54zfMOHDZKE6eJzgBlrVyuWMY36zjmX1BuMcrW60fUiGzim0KmzmbfdRx8+ISgx4rQl9YVvkB/Vqh0g9SPD287hUnjbjrNOrCBhLU0j0yGYfyvEaD6yUJQVA32owpeVE64uVG999b5i3lsXE36x+uDLnADDv0YM6aYhBqmCeGjtQLXMOHTkOKOQ68vyjwzD5+kEYKC0DiVOPd9UQG7cPD+0u589f0LFFX4owvmfn94HjFgiFGFa1vN5n7yf64Q11zhgIA2GwvKL65xlsvM5ZulnmLd0kXrAqGoU+dYKK72JqDR3GC5ZvViOBvvAf6da2AUxJL6NfvvI89oTmYHU4G4YKIVWCsWIcCK/fSwjDWFKf196m9SNPKWAx/Dwlr4vKnZltpmMH5khGa1uKZ6rJ8aN1LOdwe6Z7eM1Z8jcLOdbHc879ylDOqRG2z8S/5m/jDI7NH9bfLCkAmlXExNgL4QaV7ngXlWGnPggrKz3GdW54duvQ2M6s2zavo5j3VAFxlaeJtAejp2Me30MprxLSHya0mvA+28I/wl7O+GU/rl29qtTGvc6TAevuzkmcdaMOrujGjeihWPqU/FV9iD5QxTf+/p4OGPs0AmCFvO8mJP/y8sRD/dVMlPfwXk24ZqX8o4DF8POP1lZLFgWypgD5nuNkTAbL7JgcmSN+K/48+apjOb3F4T7HiduxnGO9/K3tOZ+0HTu2i3Jk1elY+ra2XJ536Aeus6uZ7suiSet03lCA78BKFgUsClgUsChwUPgJagAAQABJREFUD1DAYvie9pJpUWGzic+XrtlW1toWlfTmUjtfGrcasShgUSA/KWAx/Pyk9i3aogndOpivbYJrvcNiWO+iZyJd5c3kfGyed+cv20iDnb9C1ILZJ8BZZltkLFS1zq27U6tVNs8pkJVQ4Dh5sxPOx7fbMUfrHf52PL7dOq37CoQCFsMvELK7aBQfUdLZi/IuoGjfAxRuBrx8XCPM7XIEL1Hp3/nYrI4fOD/GrD50vZZ+kRPIVz8tVTt72tUdPXlGVm/dl8Ht3qgv/R6zKftfpzrt560feUKBrISCDJM3WnY+vt3OcPK/hIA7NMvkWIiBox3huC2mf7sULdj7LIZfsPRPbx2qlM27YtR5htg32wBQZapX+K0dA3rmCSAOcnPN+Vgrwcd4Gd6txKJPA96++UHyw2cmPvq58xeBYQ9IWt6A8vTOPAinqnPwpqQFBu2sRwI2QQNV4zrLsfw5IGYSHz9DnbhOQC5i5jMCl3mNVVspjygAmifBoc2VUOA8eWc4dlQRoo5s35Xjdfw+BfC0z+AAloxxwPG4E05WxNzPUIfjPa4e/VbXXd1jncsTClhWOnlCVjcrxTeYBiiDDduipTccrBKTkmUVMFSIkMhwf3Nh2zx/+UaY35WQksWAqujtLQtwTEebUniDwwd0lp1Rh+WXxRvgdXlBfAGYNahHG3Vy2X/ouAZWId757qgDwLe5rvj2/WCrPW32SoRb3A077fNy48oVKV++rOzCBz28Txu5gsAXxLbfsjMaE8xvUrlSBUwGHaU6MHTWom+JZy5I/MlTEnv4GNzmiwMls710bt0gy8WFmxSxiruiAIWCnYZQkHwhRYWCnp1gMgnTXXPybgKMGs7wGY855eM0GG8qECqvIjYz4RA4flSA4EVcu4YVXwo8eGlfT09upkvwjiVoWhpUioGQ9ru3a2Qwe1r/4B6qAy+mpGDhWVT8AJSnzlsUSnizqzoprVipwChgMfwCI71DwwAaiQZjZnShJvWqK5zsfDD5w4BNZvSqOnDWiqhRTaFnm9SvCdvn4hIBrBLvUqWkCfBW4hAq7svpixR/vHmD6sBAPybf/bJCHaKOJ5xFCMQFMmlUH3l20lANmvIhYGzpEdkcoFwrN+4RgmYR3XD/kUTZtTdW7uvZSqYDT2cX3N8n4j7i7s9bvlX+g/v++ocHAY8bK0vW7ZJnxg+S4YBDXoeJ6kvA5tZFPwn+pUsQh8ezfuYCBbIQCrq2bajwx1OgmuPkzQk/+VwyoA6S7JP59ctpgFJoqGrB1Zsi1XO7UsVyiI7WGe/dxQQOFNRhfTvo5P7F1PmydUeUfACv3wkj+yCoSjL4eBHp2q6BJCDAylR4+9L5i3Ah9WuHwfu6Axyv/DILBahzaB9LKMiFkXBHVVgqnTsiX+7cTFTDNZCa6wIOl7AHdLqh5yyDolBKql2zKph+Nf2gGgCyoA48KCMQNYsfWL16NRA9a58627SDMw4xcVo0rKleumvg6k7da02gLw4GEw8FtAKDrHASYfxSIhaGVg1WWNsqKENNPSETkhAnlxG56GDTuAE8MIGFwt9MBuZ6EbjLRyCoRmOpiomjF1YlJeH+n+AqeLreZf1zxxRwEgpaAefoGIDVGEuBDlZN8c6rVa2Ed1lHBQRK+nqsk3kVWYWxsBABSO7HavClx+9XDKT/AcueKjtO4N9gwuB4eumJkQBvq6+494T0aIlgPVUrY9wgshkhsvdD2idq5mVs9hPvnqqjZ4HK+rsH+2tfvkKIRkJ1UyXpXCeFAoLrcUxbqWAoYEn4BUP39FYx+PkRLFu3XcoG+MiJk4l6jTg2scAhHwE1CrFViGTJTF0718vGMX4AKTMWEtam7VEIWMHg1YQj5gbwBUhhTeHkyIAr5dRFnvcyPIY39EDExeExy3PCsXtY6r3JOlEQtEsxV1CHD0DXamIVcAJSHT0lGXSFYHC8jw5AJUsWw0/UY6U8oYCzUEBIAgacoaBAdEqu/Dh5NwcmfQ2stCpXumJM5k0igIBZXj75bgFUefUhKFTWd9+zfWMFvdu9/4h6vZoTON9pL6hmFq/airCHV4HPHyHL1+2GerC+BCKqmSkUMNQlx+2zE4dgIvDHMxeRR0f3kb8jrkIcVhdU7biqk0JBReAzYYDlCZ2sSrOngMXws6dP3l/FB0bAsUoAULsfy2HVgeJjaYMP7FsEo96J0HWdECWIyQC+Su8Siqm05AOdfp+urYG10lkjHbEcw9n5YrVwABDGmRK/NWchy+GYmPhcGTBYuZZDeR6nQP8bVMZPEKcIFVgfbCa65tUJvM8kUygAvo5dKDgAoQCT/f0DOqqaL33yNiZxHnNCvgw8mwOHjspB5I3bgEGPd8m3R4Z9BVGuqCJ0NYHfwN6AgalvEwpsr5zji2B9hINQoD7d0BcAqwVKIMYHMfK5P+CqTksoyKtBkrN6LYafMzrlTSnwTW7WrkYgiL5dWko3RA1Kl7QFwUUSZTngZwlXzMSNV72OD47fnh7jR/2IUI2G5AV1TiCAzC4jAMXkWSsRa7S6lAAuPj9w52ScgiUOPlYGKjHb5cqBWCx+vj6qUqJOtggk+oPYY4iOPSZ9urTA5vI+5+rQBk5lbiZTOevEbVAAQsEGbJ5nEAow6aYLBYeFKp705DB74yQjoAUFlAHCZWsFSTOjZSWC4YcA42YfIlK5ennZTeveGGscN8TIL4YA6ZQMGE6RYRKp3jOSNSBshPCYPxbDL8hXAb0sdbCX8JEwtB1MHihKGz3CR9oZgcnfh00+rXaIRf7tz0vFx6uojBrcVcKgO/9u1jLxLVUMOnSDCXM53QhIloxbysmgJercgyU7P07HxIAWBMXih8lg0t/8sECK/HYdUllJVf34QX0z5r6uiFe6QPXEZaBS2rbnkLRH3NxGmFy2RR7AvSXsPIKMgeBeJs6/Y1vW7zukgCkUYHM9S6EAG+hNsbdDm3mdvDGG+E50ModahuofBkGnYUCfri2lOHT+J08kyQ/A3J8wslemlSN7zGHIkcjgNdcwLqmr5xmeo1BQDyiv3NjfA/jjZtg/4LVNsCCipQ+RNTdaQgFo4nnJYvgF+U7wVQVjWfxH6EG5PLYze/YJH1UENlefA369L+KAcoO0EnSfJSBNUQ///9k7DziriusBj/TeBaSjIEWwd0WxYu8tlliisaRo1CRqYtT4TzGJGmM0tlhj710sgAUVsGChSe+CNOkgyv/77u6F57q7vF32LbvLnN9++26dmXtm5sy5c+fOPWDPbZOHu643Z1TEb847Lvlc4tRpzEWPZ+8HLpozLa0GuiMVMJloK2lLVvOJwj7JVLdGczYVftS4Kcn3dB1d0Rbv3qGgO2/TlfMbhvd563c5DdKPmbp3+602Tx7qOqTTh7vc71vPE4Ny/qmHc0vvLI2xH1+9lpmkTgHdMkU5BTfd/UyYy7sSbfMb79WrVoY+u2ydNOb30Jiv/vabcPRBu4fr/vN4+OstjybH+dGSzjyo3wKcx77QBpxy0Khh3eTDOTfe+UQ4lwezNh7VSZMOiDNx+sW2HXiw7/BMv3rlyJ/m9PX7Cc1Cw8z/+E+Z6ScGVCINRINfInWV8cEY/OZMN2sFSbtUMmNYO19+nmHdYeuuebtpDByZkbnu9LSH7LtjYoDz3DssMR5fUz6G0pTPKWaG396HsQrxu393v37EsUpjwkmW2eec+w7bS8TdxOs5jiLK25Z3jt/D7ULjtMYtzNsb/5eFBtB34hQwEqYop+Bi9vnRnLNOODCMHDeZxrspjXa1pDEfmTTmTfloymbhqotOwfMeybDfhckHTHZlBI5lrLAG/Dwa8M3ok/cLaZfzgZ1J9Nn7/KZfn23zr2o1wyx34yM+m4XhI8Ym4/Yv+ekxoTvTLNvoH8qdREGnIA0zOgVlUTBKF0Y0+KXTW9mdRYVO7pOLClEjm0rmstsy1w2nsLnzCwvfbakUPC9jV14jkLkh/6TM89Nw8huMdHX9f+2UiGIjmrVTQEuffLrQ/Mlv7DPX2/ORlfZ8sGRNeUvu0ApvwLtmNOCOBmpHX3/qFCS5QhzeNdqds/3Wdukg+fEafmFOQWaYeSfE/+WtgWjwS6nxvAnGNEqFGMRShhlPy9OAGnU4aZ5UHsPPs/REnMaiTMXwigtyTcPPQZmNvucVt54msrD0ZjbgBcNJz/N3TdyZG1leV5gFDs9+lYEGGWEXHLmWfTgb55HR4GeZ74508aFkw4Z53+EcyTj52Qw/a90qjinOUoXZHYbV9M3hCVO+ZHx4daZ7YLx/akmzC2GDHFWTh9jNW/CZSeQzHmTOmb84tHB8eoZx2iAJq0qRUg7GTZnJN5O/ZChpzTV1sSpdYq6vJRr8EmjY8cp77rlneOihB8NAXpS66KpbeTjGfDfJA8wSBBQPLVwDeMjLmLvlxTfeD6PGTgydOm0edtppZ2xmce5t4UGV51bTV6tWrbD3Xn3Dk088GfoPHBJ+dfV/wq7b94hlo6wygrKxhCHMz746mBcSp4Utu3UL2223XYUvG2V1+WUVTjT4JdCkFXu//fYLp59+RrjrrjvDo8+9ER57fgAeaHGBpDs3pNGqCGnIG+KXp4WidaFtV88t8JZ//vOfh169tqLXIOM5RnGq3oD7TPNBB/ULp5xySrj//vvC/57sHx586tVKUTYsv6Z/w0laPk1B0elIy0arVq3DL395Ydhyyy0rRdnYcHr9YczR4P9QJ0VusVI4E+Vvf/vb0KNHj/BK/1fCjOnTk2GLRRn9VUx9IHWY6GxDiQZzBbNhmoYN1T1iZV22jJkYa9fJ83qLUEa9evVC586dw5FHHhX2P+CA/DdIizYCRQRT7pstG40bNw6///3vw1ZbbRVee/218OWMmWHFypVFGv2V7PO82rW//55EeSb+G2bOXL58+QbtHlEHpmFd5bN+/QZMG7FFOOaYY0Lfvn2TLlbPjZK9BqLBz15XyZFpxT7ttNMoeMfycYglyXQGhQVjV8+wYR+EMWPGhJNOOpGKX/5z1Tlt7bRp08JLL70UfvSjHyUNVnlXEhuZJUuWhAceeCAccsghoWPHjkV6ZvaF169fP9RlugjTWd5pLSwfs91mWps1axZ+8pOfkN8nUTaWFlk2zJc33ngj0cvhhx++Qa7TZ1LDhg0LAwYMSO6mUp1ne71lcZxlY86cOeHxxx8PJ5xwQmjevHmRurBs6HDZMFS2slEWuiqLMKLBL4UWUyNUnznFxUJb0NHQ4/e4j4d/HAYOGBhOPPGk0LZtm3xDl3kLW4oEZHmKadCwvPPOO+HZZ58Jhxx6aHIb/O23vNGbDNbPMqD1OizvYffQoUPDc889m9wZ7brrrokeCuosL5o8j60ydOMUppa1ZaN+0nAVVTb07gcPHhxmz56NoTsxNGHqg7xrLr+ykZTPjz+m4Xk9nHXWWYn3XJ5lIy2fH5OGZ555Ouyzzz6hd+/eNJKFdeGt9eQra9korLyU97bydznL+wpzGJ8VRiyAycRVjGtOf412xsyZ4fXXXg8ff/xRePPNQcmxeeesPS49Pje/q8OiRYvCCy+8EEaNGhVeefllXn3/Jj8d5ZcGjduLL76Y3Om88sorSZqK1kPl8uqLKl7rKhvjxo8Pb7/9VnjvvXfDBx8MS4IpWidln1dG6J1f//79w7hx45JfjX15psG4vPN79tln89Lwav+kC6zwupBXLjwnSuk1EA1+6XVX7Jl6dkOGDMHQjkz6zy3UflnK7eUlevcjR47Ek3wnidLKPWPGjMTrL880TJk6NbxMY6No4OziMm0bq2i0Bg0aFCZPnhLmz5+f3PnYh12eZUPde+dn+TQ9L7/ycpg1a1a55ktSPnFE1IVi19I0ysrGXDYSReTw38Zb63KoVCuu/bcvv/wSn4xbnMT0/vvvhQ8/+qhcC7MPi/WoZ3KnoYwcOSLpRkhWyvHfAPqqx4wZncQ4nYfcr7/+epF92+WYrA0SlWVDI98fA7tqFbOUIhq6MV98UW4G3zR45/f888/zIH1ZkoZPP/kkvP/+++WWBiO1fL7End/06dOSNIwbOza8QzdXlNxpIBr8HOhWD+WLL8aGwXhQqfhg6tlnnklGI5SHJ2cavGXXuPpwzji9ZX/hheeTz+CVRxqMw+t+huu2W0ex++tVbt3tu94YPTmv2T7rDz/8KC0aePqTE8NXXn3TpuETDLwOgA/IXfeBqHdhOijlUTaMc8qUKQwmeDH/2UVI6sbLrNsYlUca1mTARrQQDX4OMlvD+u67g3kI1oVPEDIxGdKNF0VmzJyR9FWWV2EeP2FC2H///cMBBxyYVOpTTjmVh7bdwlRum8sjDcbxEXc1fvSiffsOiR523W23ZGim2zdGcXisXSk77LBDMvxUHfXq1SuMHj06TC+n7jY9az88/tvfXpa82OYLhb9gXPvOu+zCV9PmlkvZsBvpvffeC40YytqyZSuckhph7759MfaLk+dN5VE+N8byFw1+DnJdb3bbbbcNt912WzJm2ChatmoVLrrwIoaVNUz6THMQ7feC1FvcYfvtwyWXXIKxbZfEufXWW4df//rXoUOHDmu8qu+dVMYrNnzG5UsytZmD3+F05593fvjXv/4VWrduvdF162jELBu+vGfZ2Hff/ZJ86dKlSzj/gguYhrh6uZQNs3kfjOuRRx4ZfO9B49uF8e1nnnFGki/lcadho7P1NtuEc84+h9T4DkOj8Jtf/yb89brrkqGX5ZGGMi7ulSK4aPBzkE2+Zu/Qw/bt2ydDzdq0aRM+/OCDMH7CeMagdyi3St2okfOS18K4rx3qaAV3LHN5iLftvigzhOcXjgTp0bNn2HnnnYMGzgZxY/PiNKzqf4899mCIblvuvA5IXnh66623w9cLFgTLicfkWtS7L3vlxZVfNrgL09OX8hDj6cT7GL6LYPfeDjvuGHRIevHSWvfu3csjCRtlHNHg5yjbrUx6uNvgxehJ+RD3nzf+k6F4byfdK+Vh7ExDQQNS2LZcqEBj7/U/8cQT4Z577kkMzMm8+NWuXbuNzrMvqN+0bDgvk11uX301O1x33V/Dp599tuZ5S8FzymO9YFnJVZyWDe907qZcPPXUk3j3TcKpp56WvLRmmYmSOw2UT3Oeu/RX6JCtQL69+NOfnps8JHv33XeTLpbLLrssHHjggeX2OvsmfLlIsaKlD3BzqTiv277gRx99NNx44w0YtK+Sl4t8wciGrrwMSy6vcX3DVgdNmzZNurtGjRqdjJC56KILw2X0q/fp0ycpN+sbR3Hnmw+ZZaEab4G7nmtxamOfVdyLsf/Pf/7DKKHl4bzzzgsHH3RQLBe5Vj7hR4OfYyXbF9mVSZ7++Mdrw+WXX86r7EOp5L9IPLsDD+wXunTtwmfjfFW87BNipdZjmjtnblKZHP7m6Ixc9o86yuPzEZ8z6uSl5OHkypUrwqG84XvFFVckE6LlMu6y12BuQ1QXO9KVce3//V/4/e9+F97nIea5554b+vXrl/TzO6dQrVo1c1Y2HPv/NV+/svGZPGVyUjZy6WEv4D2U4YxQcqTYUKZ0qEb5PPXUU8PFF1+cjBaKZSO35c3Qo8HPvY75ott3SZ/+LbfcEv75z38mb506d4gvY9mfnut+U4e5Walvv/12ZnK8P6dXvJI3eRcTnw/lfDB70kk/Cueff37SlRMrdOGqPwgD3wxv/8YbbwwDBw5IZtt89NFHkrKRS6/bMrFw4cIkr/7x97+Hm3mYnktxhJIOgeXA+ZScddYpHZwZNZaNXGp+bdjR4K/VRU6XrFzOonj99deHo48+OpnMzPHYc+Z8hRde2NwhZZWctbcOJIHb9txmeSPuVrox9HMXhvjp2evBOjonVuji89OH/LfeemsYgMHv/0r/8Bn9+fPnz0Nva/Ov+BBKvtcpDFJJunh8YJu76OjCqpc8mN199z3CoYcdFrZm3hydnVg20lzI/W9ua3/u01+pYrBg+8UsZ4x0aN4c+rkX8Nal3nAuJjPjjjmZO+c6hrq9+OILTOB2YjjnnHNyaETyPgTijIfOGunLPF5zrNDrLqbqSJ0df9zx4bBDD0teWLML5LvkIWbZT8ehgV+8eFG44ndX8BLYh+FnP/t5OOKII3LqfNSpUzvx5ps0aZI8L/CadYSilJ8GosEvP10nMVnAxeGSbRmGJ1a+XImTpWlIFLtYHDWUy0qWXp+/uewPzpW+NmS4qe68I3JIr+8w5EoscwsYCtqQLkVLX3vicqhsLvMsvT5/oxOQq5wtPtwqZfATw0npTQpWDm+Fi1dpdnvTwp/d0aU7Sn1YgY1L8RbeihYrW+n0WV5nlVfZyPOw867K50yWlVwa/PLSX4ynaA1UqXH4ftjYYZCrVn2bzExZ9GXHPVEDUQNRA2s1YLeqDe0mDF3O5R332hg3zFKVMvj16tUN7du1TzxZ539PJ+zaMKqNsUYNRA1UBg1o6L/88kvsxTehMW+nr30LuTKkvmRprDIG30yzX9xXtH3y/w5zwDsbny8bRYkaiBqIGihMA3rzvgU/dOiQxFF0ckGHSmtPqqJUOWvYh9fVu3btGkbx4Y+HHn448fKr8i1aVSyUFfWacvdovaJecdVPlw6h36l48803k5e/9tprr8RxLOzKNym3z4IWFnvZbKtSBt+HUJtvvnk4+eRTkmFf/73rrvDYY48lffrR0y+bArMxh1I1fb6NN0d9qc1vRvjCmV+C22333ZOJ7Yoa1MD4uuTrdfn7nfSn0hWJSjdKZ113Wnbn+Lr2J59+Ep54/Inwhz9cGWbNnhVO4iPim222WbnMF1JRqpB3NpnzpVSUdJVtOnJe5/xyC8/0VlX5u0XLy8ZwN5xe43i+K/ynP/0p+QiLtsGpuzfddNMiR7HZzeNQ1nyDv5RysfbNtbIt1DkLrTIZ/OUqeMXKFdXyXlQqXCdmRsuWLcNVf7iKl1a+4zNuz4X/u/baZDqD/ffbP/Tm7T6nDc7Fi06Fp2gDbqUPQl35QKoqihXQybfyK+AKrtE32Mpa5hPgQj623WY233ytcpLfT2U5ceqDqj4s0+t0OmY/QnPvffeGYUOHhsa8CHbJpZfyfYJ9i+y7t5HwnRadx3yZzW/eNyrTLZXgtzIZ/K9UMBOB1XA+jsZ8KaeoBysaALt2/s78ID169AgPPfRgkrFD+GanL7X4cHdjkvS7pVXtms3/WbMcXZF8PnEe16fXVdZiuFMw+N1HjBiRTGxW1hFs6PA08g/874Hke8dF1akNncayit95pfTsJ02amDRwXbtuGX7F5G0nnnBC8mZ4cdfvt4jH8GUyREM/FirdXM6VyeBPRsFf0+dW12+AOq96caLR981Sv/DkVAavvfYaT+KH8nm/KWEZswRuLA/gLMB6NHonVUn0uPRIP/3009QrncD15cLgLyTcjyhPBzryy8m+nBqgOMNQmfSc1oOhQ4YE2RikTp26oQOTtx2w/wE87zs5md/HZ3zF5an7P//8c75V/YUqmgvDK6OuKpPBH4+Cx8ybN7f1oEGDktkn16Vwjb592L4y7td08NKS2QE1FHmSFvd1hVQ592MTMfSrwjXXXM2HxJ+unBdRRKo1+JMmTUoacQ4xQ7VWuWjV7Kd9Hc7m9r/F+9wl6kBUla6P9AnIEUccGbbbbrtijR46qLSSd518caxuvdCxU6fQg69qOWOnY+61E8UZe8va0mXLmN32mTBvnjd84UMYVRmVUZkMvq3qa2TOns8//3z1E7gF81N5Zta6JD3G8bVOXraxiAXV7o6qeM0aXMpBcntOfnp7/W4O8/UDwn6LW/pj7r777mQG0OIe7uUwHWUfNJZQp+hgGrEzTj+9yjRkRSnKOiEaeEltQ1HHu93j3377Lebxf8FV7yIfhwWuVDapTMMybaSfhbEj+MDGvffeE/yAg5mRraQZbCZvTBTnvWSru4p0nAbKqaX/R78zD+HsR30K7NLJlXxNwHfBrAED3ggafe8SS1L2cpWwMgs33wCmhrCq/lrvdRb8zaZeWNbs87+Bac1n5T20fwOdv1Rmei/ngCqTwVc1I+FOMmy5H/LwE3pmXpWqeOVcACpbdFbAiRMnhr/85S9h7Fgd+zAM7odcP0AbQBz/xcn45tZbb6Gx+V9y9xTf70ArVVQsa3Yb/uGqq5IH2lzmRLgBHEBSKaWyGXz7b6zcT/DN1NXXMtxSw+8oFDMnStXVgI26xnUkb1D7TeBXX+3vxU6Hv4LPd3ItPifwk1CPz5kz57trrrkm3MjXy/xer2UvOh25Vn/5hZ824h988EHyDernn3vWOwKN/LXwVvmlpOxjqkx9+OnVz2Hhamg8c+aMQ6+88vfVHC535plnhm7duiVDLrO5VUsDq+q/Ft7UGOUZTbvAKk87b5rNTx+Wvfb6a+FWPhPpBzvY5oDoq+FFKC8xziuMbO7cOcf9/W/X1foQo3AmI3f8YlVTRu+kxqK8ElTaePLKgmUjLwRniYxOU0ju2vTqn+P50H10G+ePypmJlv4ID8G6HxrmqbRC/q+MBl9F6tFdBHN58+2EO+64vd7rr7+ejJHes8+eocsWXfJfrvLQjVes1A7HXLIkb7TiwoWLeJV8elYPqiqC1ky7L40NHz488ejf4yPfjqNGHCGht/UE5OJlK4ItUiaz52KYRPfOT1566cVW7733bjJp357M49Rrq17J25qO/qjIYtnwfRbx4di0aVMzh7hW5KSXedp0KNSDky3q1b/9ztvhizFjNP52E34EfwYdi1yMAiPY8pPsn3iWX5pKElNTDj4RzobeFOJa9erVC835KHLjRo2Z27qyX15JVFH4sRbm6cwXoofcqlVr3k1oVWkmAFm5YmXyzd+v+dQfxl+75G21D8xuASvihvS26hB/X7Ds7Q3N8e43qVevPt9kqIO3XLF9KT17H1zOZ6qAlTyA9kVG6w7FZaMS9WAdcWrkpUuXMBDEnrvVGnadSh2K+2EcVAnNVAWLaP9ERzgIDoCtoAXUgih5GtA4aYF8JTV5LTVvc4X/r0FfDFPgPXBcnOPtl0BFkcYkZAfYD3aEDtAIKrbFJ4GI9d/0W1e8dfJWsCrYBC6jRKIxd+oWu4t9s+odGAiOCijvO0iizJ1Upcz1WurDZtAGGkBVuj4up8RiQbYy2/21FzyUT2XRi56WlXAa+B5GRa58jhqwzDWHJlDRHQ7Lhi+l/BlssP4Gvp2nA7WxibrQibCMOb5+GUSJGqiUGtC719BbqP9QKa8gJjpXGtC7fw3sqz4nV5HEcCuOBjbG1rziaL/8UpJ69DG/y0/nlSEmy0VaNtLfypDumMZSaiAagFIqLp4WNRA1EDVQ2TQQDX5ly7GY3qiBqIGogVJqIBr8UiounhY1EDUQNVDZNBANfmXLsZjeqIGogaiBUmogGvxSKi6eFjUQNRA1UNk0kL4ckvm0Pr0Gh/FJWUk6CqCoMN1f1L6ySkNmOOUdX2bccTlqIGogaqDcNaDB9+WLM2Bz8M1GRWPoG5kfw6swH9ZXfLmjM/hyh/G0BV9y8A2/enAC+IabrzHnWoy7HzwJznUeJWogaiBqoMprQIPv24FHgnNH+Fqx3Tx62s5Tcx7sBFeDr7ivj3TkZI3+s+DMUr+FZ+B18K3EXcH4y8PgtyKeo8A5dsvC4NtA+jp9B+gCbcBGTPGV7ZmgfieDjVzasLIYJWogaiBqoHw0oMHXWPla8cMwCDJlF1auBw31m/k70lfIPc9GoODr7obpFAeK4ab7B7Ccfne0LsvNIDWKevl/AV9tTsXwDacmOMeHsxql4r5UDMMGw7hWphvzf02LDZrifl/VV2zQysLoqouucDAcCBr7NL1pWlw3jcY3CdTD8zAK0vSwGCVqIGqgHDSQ2hVtQypu821j7Uxqr9J9pf3VJmkflhUSgPFpA7URZRVfIdGs2WQ6asPyzIteszdjQaM0C+wCUdrDidAJlJnwOHzhCqLxOxacz8YLngb/g8lgl1EHcPuPoBecBN5JOClWH3gPbEQaw9GwPZjYhfAivAsazp3BOwYzaA9oAhr0h8BZFJWt4ARoDirYbqmHYQSUhbQhkB/DqWDDNAz+CZ+DejE9ihnbCnqC13g6eJ56uxsmQJSogY1RA9Zt62cH0LboBOogaQh1/qbCFLDufgtlIdqWa0B7ZDzaBkUncAzcC6k9Y7HU0pcze8O/wLC1WdrB6aATeik8Ax9DrsVrPQ3+nWnwTVRBMRNagEbf3z/ADPgP2DIdAVfB72EOeBEqy4vU0J0LF4PbNcAaZ432h7Av2KB8BqbjKFAZKuUX0BE0iF+C3T2XQC0YAIZ1ATwNj4DG1cbjcrAbyky8DD4FGxyv7TgwLRfmr/NTKjHs3cHr7gHPw/1gXDZAhck4Ng6GB6A72OCdAvvA/8GrUFYFmqCiRA1UaA1o8DSAh8BusBlYr1aA9cCGoE7+sjZBm/EiaDeKqmPsykpqc5T19jXQOawGig3BMWB9/DnMhvURbc53+QF4LeeATp7Xo3idHlMe0pBItoG6GlojVQn9oB2oALfpeR8EGvAPQGVocG+EBaD8G66DE8CL6Qr3wHhQ3G+j4AV78YY7H96BU0GFSzNwn0rYDjTwvwYbBGUimCE/hvdBWQYPwiRQNKY2KJ3ha5gEpsWGSLE1vQlagXGVRtTNYfBXMI7z4A1YDtmIxw2HEfAy/A5ugavgYVgFUaIGqqoGanJhGvhzoQ/MBW3BMJgA8+Ab0M7o+W8B2gIbhpNgINwO2qP1qSvWw6HwJmSKDcp/YUd4KX+HdqctWPc11tqvTKnPivt1cGeBDYW2zkbK8LQ1TaABGJbH22jdCoshFW1xG9AWaluMayUo6sP4DVcbrQHPjIvVpMFUZ2nj+SXLX4Hxi+euTg2+GbE9aAxtaUWF9ofHwQTuBO9BauxZTIyuSjsWNLhjQCOmcf0MJoFG1oQbZkHJ3GaiFNMxGca5kiFvsXwUqFxlNHhRqSxiQQWqWBX9D2gK3aAl7AKtwWstrfTjRMM17stgJJRGvuGkQTARrs3Hxu4RMGOiRA1UNQ1YF38KOkkaxb/CSzANijLe1vn/QUc4DE4H7czNcA9Y50sj2p1M25OGMZcF7ZuGWdkNTk2W8uqlhvcJ0Mmznm4JZ0NtMDyN9fPwGHjuVqAN9ZitoR5oix6Fc8Bjh0MTOAN6w0JoAJPgTlBX+4F20bR1BuNrAablaVgNB8GxsARMi42C6dCxXCM1WHKnB/0bBoEtidu8IA21gZlQWyYVUlBs8WzdVsDVcAzsCUauEXsINGTZiPF68V6YRjFTbPUMrxGYpuX56/z8QAzjl7ADGJYtncd7naUVM+xPMAEuhImwvjKZAH4LN8BVMA0s5LkS9RYlaqC8NbAZEV4DGu2HQVszCbIpj9oBnT8dR43Xr+By6AR/hjlQGtHWKNo706Et3A1awXjoApfCs/AcaHv2hV+AtuhD0Gi7fDPYaLn/fPgAWoMG/x64A7YAwxHj3gbeAeUs6AV/g8lgGi4G7cxVoP5+BP8Er3kFHAlnw1BQzgUbw/7g9ahrw3W/64l4kUbuBo27FCYqfSF4EQXFxGlI6+TvuJ3fe8EW6GAwIZ9DNp6r6TADN4fa4IWl0pyF6jA/3VDIr+fLEbAzXAujwPR1hJ0gzWgWs5ZGHGnm14Qr4EswA5uBYppnwVJXSigzOf4PcB9cDl+A4UeJGqgKGtAO6CgdAH8Ey/kyKKlYr8eA9XAsaBC1X1eCRjdbMRwd2AvgEKgGbmsMPcG7jk/hZzANdFZTu/g8y9vCsaBd0fbpBOtMaqteA+1Len3aPPfNAG3QbPB47YZxur8D7Asa8tGgTILb4Hqw0fDYKfAMzANlAJwE7WA6uO8VMB5lJBiPdtPzE1FhyrqMoAb/fdCQPgYaN0Ul7QdDoBP8FH4LGqyp8BSo1E3BSDPjcVllp5Lu+4ANx0FvcFmpDgfCJPDiMs9jdY0YhrSFETAUVKpiRqXpSDaU4N9BHGum3AJbw++hG9QFZQkY35PQHxZCScQC/Hf4N3jt/q6v1CKA7rA7WGiUXcD8UK+zIUrUQC41UJvAL4J+8Ae4D/SE10cWc/LNYDiXgUb5hvx1frISbcI80I6ltkR79RBo57RV1p13IDX2LCa2xLpzBmiT9P5/AdqCj+EzeBNsgLRDBaXgNuPZHGwsRhc4eBLrX4Fhe9xkyLQrpsvz6sAUeBGs64bXAqzzNkjfi1ODb2CyLnmZA/SarwANuY3AYaA8ASZARV4Ktjbu3xdU7OewGRiPCTChGpzDwQy0NfLcaqDSbKl+BY/ATNgtn+v49VylsDS7zXDMlEvgOJgAZp4NiAqz4RgGhZ3P5h9IE7acCh5/MKjQT+A+mAheTxfwWv8Jr8K1YLwlEc8bCCfD02DDVlppz4nnN2vW7MTevXu369GjZ6369euHqVOn9Pvk0093nzB+/FA+Cm6l6Q/mW5SNUwPWFcu1uFzWchABng63w/+gPrSA2qCTNDf/1/hLIpbZO6EDXAAfwhuQjVhfl8PDMAgKk3psrAkeV1C0P9pNDb528AvYEzSw2rNp8HvI9pp0zGy87DLKFPNDG6quFJcLC9PjOoM2RwdUx3MKaD82A693jZhwjeA9MH7N1sIXNNwGqpE/FAxoAtwCGmXlajgSjgIT4sX/H2jcbQFtUdOL87z9oBmo2AfANHjeHWDYu4ItmOdfAzYGylCYCJlKWsq6Ybj9S/DizQgbqUlwG7wKtnru95ptidcl23KA6WgOc+BSsPHLPFddWKiPhd/ADfBz8PqzFSuAhdB07gGPQWlki+rVq1+/xx57HPrLX/6yxt577x2WLFkaZs2aFbp161Zt2rSpjR944IED7rnnnq1mz559NRGoB/MkysajgepcagewnFkfzP9dYBR8Dpllm9VSieFaB0bDELgM+kBr0MhZXydDf3gWSurgeP5NYLqNR6O/AMpCNOraqi0KCUyHz4ZKHe4FxqtdsoHoBNfBwbAMCsrqghtY13Y2hJaQqffGrNs4qpeOoI0pKGl4h+fvUA+mWxvaHX4M6y1GXBs0xIUlwm3uK2o/u7IWlVgXVG5pxILl+dVKc3L+OVfyq2LNWAtXcWI8R8MkuA6MvyRipr8Dt0KNkpyYf2wjfu8++OCDvxs9evTqVB577PHVJ5540uoFCxYkm5YvX7761ltvXb3ppptO5fiDShFPPKXyamBTkv7rhg0bDt9hhx2XHHvccd+ecsop3/Xr129lx44dZ9WoUeNJ9u8Lpa1zqWZOY2EuaNBHgIb/HrgIfgKXg3eyU2AgGGdh9oTNxYpGTcdKJzMbsSF6AfZZx8H92P889Mo4rjPLj8NJoDF+Ao6AVLQ1/4Hz4BS4HbQB3tn8D44HRSfXcPqC5+jg2iBqVxXr/jnwMHis+roZtIeppGHszYZLIXO/cZ4Pn0Jv0Gl9BjqUxqho/GwBixL3Ly9qZwm3exsjpZWVpT0x/zwzantYCH+BIVCc2LJaSFSwGW6mfgDZihXkI9gOmsAcKIkc0KVLl2OuvPIPm+DNrznvm29WhqVLlwasfbKtdu3a4cwzzwxffPFFu5tuuukCtntd89ecEBeqqgbaVqtW7c/bbrvdiRdccEHtAw88IKxa9W2YM3dO6NypU80JEya0vO+++4555JFHtp83b97vUcIjkHkXna1eGnCghlCjtDM8CrfAGMiskx7nXbjG3/2/hNegJNKfg8+GY+AVWJftsRIshnXZlTc5pgf8FgbnH29aP4MXwTCegzNhC/gKPF6jbDq87qWgmKaRcCJoU+xpWALqdhn8Gy6BP8AosGHpCW6fB6bV4zLF6zB8787egD+CepwIncDtX8AJ8DKYXu1TlGI00IZ9dkWZsd5iZSu9OHA0/DrbEzKO0zvw3O4Z27JZ1Du4h26c1StXrkyd++T3oYceWn3EEUeu8fDTncOGDVvduXNnC2rfbCKIx1RqDdQj9Tft2afPqmEffJAWgdVPPPHE6pNPPmX1119/nWxbsmTJ6n/84x+ref6j4dDrLo1sw0mTQSN1FTSE4sSyPgA0rBq7ksgmHHwljICuWZyo92v6mmZxrHVqNzgXzoe+oB5T0bjvBDY4Pwcbnc1AaQ1eVzVXEB24PrAzGIY2IjMN2prj4RdwMmwOXpvivi0hXXebceu9G4bbtwLT8TPoB42gC+wCLcBj69TgX5SiNaCRlyfh66IP+8GeSWwZD1uDhWYFZCszOdA4NfyTIDOTWS1S6jdo0GCv3XbbPSxdtiwsos8+bLJJoD8/zJ07Lyxj2/QZM8LiJUvC6u9Wh+o1qocOHTqEbt27N5k4caLexKAiQ447qoIG9ia/T77qqquq77jDDmuuZ8WKFWHRokXhu+/ynL969eqF884/P0ycOKnTrbfe8jNagQ85uCRl37A1Pi3hafgXLILiRAfnWrgb9Ej/Bnqw2YjHvQ8aOw3sWChOVrLzk+IOyNhnvX0vn4zNaxb1vIfls2Zj/sKX/EoqC1h4O13h9/OMZRdnwOMFtqWr7isoxu3dRio2eJIpC1kZl79hjr/R4Odro4gfW2INbmEKL+KUZLOF6itoDuq4JAbfY433QiiR2FXTvHnzcOcdd4YXXnghcPuOzd8kfDnryzCbBuC8884LNWvUCN/RtdOkcZNw+eWXh9atWpk+PYAoVVcDeoOHH3hgvxZ99rRXYq1YPlLSrfUx+j/+8WnhxRdf6DNp0qRt2P5Wui/LXz3tJXAvzIdsRMNqPAfBXTAXshXvRuyy6JLtCRvrcdHgF5/zy9mt8c7W20hD+5YFvZoOUAss/NlKAw40vnfBVjkbD9/j6zDUcqfly5c1PeywQ0Pv3r2SiqyH//rrb4Q33xwUfnXRRYG7gKQv38ahTZs2eHeLde1Kkj4Oj1LJNNAEz733nnvukSSbh/fJbw3u8ujCCZSbQJdOsg2PPrkr3GKLLUKPHj2aYvDPZIeGNO2aSI4r5p/H7QPe4WbrSRucdW0w7AZ2YZTE4HtBNix2o1hfSlpfOWXjEA2+CqoPRRl/bx2WwoZSoumrC6nhrc2yhSPvHpSFHIpegx63t6clEQ3+WDgQ2kG2Xo6VZXsw3kthOFSHdYl504DKe9enn3522OGHHx66d/fuNk9mz/4qjBo1Muy7776hcePG6eYwbty4MHbsF+Ztetu3Zl9cqFIawN7Xa9ayZctwxx13hFdeeSX/7q9amDZ9WpgxfUY499xzQ82aNenaWU0ZaRQuvviS0Lp1a23C6fDjEmrDcvwcWI5LIvRDJn3TawtpdmdrC1aBd8bGbf2LUogGzNCmcCV0AY1qpqi8oXAjaGQ3hNQh0ovgdbDVPxP+CUmfFL+5FN2e2eAtak2w8ctWvEW9EA6BzyGbBtOn/YeC3UGToeCTeTYVKUu+/fbb11566cV+DLOr2alTxzUHrl79XeLV672l4vLLL7+MwR87im0fp9vjb5XUwCpkpf31u+66a2hGt5/dONWrVQ9vv/N2eP+998Kxxx0f6tevlzzfqVOnTmjRornPfSwwOi7TQMcrW+nJgdqOkpxj2DYQntfQlRKId9HeGZc0vhJEUTUO1eDrMZtBb8BHoMJTUYEavJIYuvTcsvo1jVuBt4flYeQz0223jA9CfNJtf3zmQxhWi5XP2NsfzgQf1thFU5zo1diw+aD3IZgPJZVnP/zww+NuvvnmPjycC40ara03GbY+CfOddwaH22+/nee7y+5jw9SSRhSPr1QaWMiD2SkjR43a9qijjgo77bTTmsT7sHba1Knh+OOO/d7d35QpU7wD1OH4MzwN2dxpGq4241roDdqWknj5MzjeOL09fRmyFe+i7c7RVkXvfh1as7/sWdi7mOPMxHpgpjeDXrAl2NWSKR63KZjZ3cCuokzJ3O/5hllQ9KR1TzV8ZqKG8H+g52v8dq/4K2maNmPZ4z3P8zOlFiudwTSZtvS8zIaNzUXK8eyZCocUeUTRO3qw6114H/qCjVdhYrpvArtXvMs6D0orBzZq1GjMhRdetHrc+PE48qtXDx/+yer77rt/tR7b4sVLVj/99DOrd9hhB7uqboGmpY0onlepNPCrPnvt9c3UqVOTMpH+e/DBBxmye8Tq+fPnp5uS3//+9+7VvJz1KVfYpRRX+QvOGQUa7pKIXvoT8BpYV7MR6/MfYQlk0/VkHdwctBcF2YZtnSBb28ChZS7GbQPWEOpAByho09hUOsk0QBrjokSjeyFMAguAhlyP9yu4AWaAiToCDgYNl2FrvO6EEVBwv+se918YCYqNydlgY7AQvHg9e49dDV78GaBxtECcBuOgJ2jYW8IwuB0MuxX8FNqDnsYqMDwN8b9gNqxL3uMAr+8YGAAl6dqy0F8KfwWv80l4BSbDt+A17A4nQVv4Op+3+C2tvL5w4cILGFJ3xeB3B+++/3771+nZs0eoW69uuPPOO8Pgd99dPWjgwBlMtXAPEaiD+aWNKJ5XqTTw7JChQ0+47bbbdr3iiiuCwy8V7/yw8N+7kOHDh4f//OfWldwVPMSOid/bmd2K5d4IrGejszslOco6+jBYLq3b/lpni5MD2HkGeO4XsC7Rlv0ddBK9g88UGw/r+5+gJPU8M4z1Xa5LAL+Fp+FL0H5ckb/Mz/qLF/4i/AS2gsxWT6+4CbSAN8ACsC2YmZ3AzLEhUDT0JrIv2FLbIFwNd0N9OAiegb7gfsP8FTwArcEGx4vTMNqoeOH+/g1sMPrBNvAcmOad4HMwczqCadoV9A72ATPvWrDQ2FC437Q/CEOgPWQjpuvXMBn2z+aEQo7Zgm1/hk/BcLwelyfAeDBNXrvL/4CasL5iA3I2QzMfpHIP1lurVavWK2y7DvaE2hBl49LAYb5Q9bvf/W71tGnTE0/+XRyA66+/fjVvYicv7A0YMGB13777rLLcoBodptKIZW8o3Aw1ShiAtsI6OxXOBdcLk1psPBw+A1usN0Cbsy7xml6CE8B0agdStBObgnV+Q4mevbo/FLSLZ0JjKBMxM1SWxvACUAmpeNG2rjfCh/AtvArDQZkEb0NPMEHHwsswCJTF8F8w4U2hsP33sF3DvS+8CX1Bb3gcKP4+CjYWpse0fpf/y09yG/cUv5NdQT4Cz+kKM2AHuAymgGLa+8PmrmQpxmkavHu5GDTWM6EkMp6DrwL1YSNqwVL3s8DwZsNfYAmok29gfWU6AdxFH+0DVOatWD4ebgH1og6jbHwaeJkpE355ww03/P6dd97Z/qCDDq7Rs2fPsNVWvcJTTz0d2MYInpfnMRTzYVSjY2D5LI3omb4OR8KWMBKyFeuAdaEuWGe8A34MDMN9dcD6bdjWyWqwDLRN8yAb0ZZZ56wjhYl1U6dyAVhXe8AK0H7YEKVSm4VeoENnGj4DbZE2Qym4XydPW5Tu95hmsB20AM+dCOl+r2cgLAX14TGmyThN11zQNs+HVDZlwfCawBegPTSOmfCNF6YhVZH/gcFQHVIxYgO1lfWYCZApi1jxeCNpBR9Apqic26A9qMCC+03856BBUhEaIhOYKcYppjNTXLdAasBSMSNtaGpCB1BRhpspo1j5GgqGl3lMwWXD+AfcDJfC1eC1l0Q04uPzyTzPQvErOBB+DyWpHBy+TrGgWmCPgWdhGkTZODVg/XiBZzkj33zzzaMGDx68N3d+mzNhWj2cgtls/xQHwTIyCKzvpRXjeRKOg1PgKlgF2YrG6TfwEZwO2iZthXW7HmjANIYPgLbDRuV50F5lIx5X3LE6sFeBDYL2TRuoPTkNroXPoBFcAMatTdFGeq33gnfS6f5uLFunG8IJ8CD0B+PfArQn1tFJsB0sBY/9DtL9l7O8GaiT0WCavgYd4aPBtM6BXnAR2ADMgB1AnXUFHd8ZqcE3g4pr8bwYjykq0wynGiyHwsQEamAL2+82M7AWFBaH21RIYWJ6VExhokKlrOQlAjJzLwaVeD0shPURW+3z4EK4Hx6BskwzwSXdZ0fwa9oPg6FQlM7YFaWKa8DyNR5uYKjmbTys3ZXlPeEu+ApWQlnIJwTyOJwMA+F1KIlotG4HDfn20B00ojZEY+FD2BZ+DDYIoyEb8fp1sg6ENqDdSsV68T5YrzW2rv8etI314O+ggdXgHwe9wf0TQRtnWs4A69iRsDX8DtL9h7N8fv76BH4vgHnwF9CmNATtwVZg3NrEFmAaa4J6GAbqZRl0gFthD3gNfgl69TeD+1vCtdATTF+J+9c8pzCxtVkKnWFkxgHNWPbCh4AZ1QlGQCpehOd48V+CGeEF2lqlYhi2bmZUtmLjMgUagOF/DKmYCU2gJOF57jegcuuAGbUpWADMzNJIa04yg86Ex+A6UEdlLV5vn/xAD+b3Tpicvx5/Nl4NWP4tbxoXy4UOR1kZe4JKnMM7+NUYXQXeWWZrlDk0EY2e58lzyZa1/7Zh8XegPbkPPDZb0e7sCNqVTIO/inXtxkLQYL4Cs0HRvmlHtgfr/v7wFKT1X8fUdetWPTggfz1zv+EdAvuCx/eAy0FjryyCZ+FY2ATMI1Fc/woMw7QpM8DG24arG7SFv0K637S/CD0hkfRi/dU42sJoDDOpz7qRpbC4RtzmufPhPTgKNNiK+/qBhUkD/j7YOqb7WUwesm7O7yDQ6E8FW0EzRPHX89tD5oWzmohxFCamyfA+hJ+BF2zD0Rf2AzO2NGIFuQH+DKbrf/AjMOxspREHeo33wWlgI3I1zIOyFlv1w6B1fsDqoW/+cvyJGrAuWhY1YvvmQB2TCfMqMJ7rYUsoC+lFIDeC9uFqmAnZijYjrcfnsXx+Br9gWTum/VgOGsxMWcGK5zcF6/FoyBQd3wFgvWsMetuZYphu6wztwPAKpn0W27SDxpMprmsjFmRs1CYahultBYtBW5sphmVDkoRXgwVbGlcugTMgUwxoBNwNKqmgoVzJNluT70Dj91u4BobCprAreK6KexAug3S/CrP1fxQ+BdNxO1wKV8BY6AjNwcbC/cZjOrxQ19NlFteISlUJpvUmOBMuBrebIa/A8eA1l0aM8z8wAn4F/4DT4Xl4F1Swijd9plMd1wNb353gCNgRxoCNUX8wvbkQ9XcIpNdah+Vj4GlYCFE2bg3swuVbFjWcR8ITYB0pS3mLwH4D1pPb4EpI6zOLJRLr0t5wLTQE67W2pjRindN+FSXaGilOtI+ZYj2rDen29DfzGLdpF8Tj07rJYiKuF3aeO02P52VKer522HyslbmTZR12tyeiAufDNdAs2fL9fwZmq6LBNsOmQKa8yconoHH1mD/C7rAF2BIZroZRseW6GtL9JvBv8CloHJWPQGO/J5iez2AIaPTngEb7OjDNnv93yGzxVMj94HHVwXBvgsagsTOMnUGlrY+R9XoHgNd+AJwIl4AFcAbYaqcVpwHLm4EGX32PhqvhBfgScik2qIvgC9C7Gg5WlG3hLYiy8WpAw6Tz0SRfBbvyuz0MzF8vqx/r2otgndRQ3wN3gI7eNHD/uqQaB3SEU+FMmALnw2DYEKJN1O70Bu1XKu1YOA8eBI/pBda5VDS+PcB0ew01oT3MglS0E50gG72k52zCwnjQ2G8Hr4GiDdSWmsdJeBqglTAM1iWZF5Yeq2GTVDRyL6crhfyua7+nTMrH5VS+Shf4/SR/2XSny+luL2ps/ooX+Tvw4l/J36aC94XJYKOxvjKXAB4BC3Q3sMJsBW2hDSg2LDZ6T8CHMAosLLkW81ZdnAtXggb/eXgMLAhRNm4NWF73y1DBpiwfCe/ANxnby2JRR8x6qJG7MJ/j+X0GdJw0Vjom1mnrsAZM46Wj1hVMp2lrDk/Cv2EilFa0A1uAdqVaRiDGazpsnNzueqa4bt1ZCC/BMaANsk7XhR9BK/A6tYPHwnBwv9fjutf0BnjMx3AaTAZtidd3IjQCxfjS9LksBSU9xsbzebDB0cmcDNojG5hFkIhGoaqKmWJmnAPdwTsQfzXIf3Rx4TAAACxkSURBVAULV1mJCv0gHwuEmeuvYmE3Lu8KylOM732okxHptyx/nrEeFzdODWgk9gMdjxnQGnRK9Ei3gNGQCxlDoJfA03AynAk/BY2VBkpPdynUBw1nZ2gDGuA34UEYAjpRpRUbMw39GXACbAKpaFy1GTeD6TEtmaK+poONktfQBH4NU0FDrtH/FyyGZ6ApuF/jXi9//UZ+08bqNpYvgv8D88EwDMtzl4DXbTqsy6bFcDLtiOn4EmwslHvBcHaHPWEcPArnQyKZF5tuq0q/NbmYrWEbaAhzQCM4AVTWxiAa/HvgJLgGroYoG7cGLBN7g/XBblWXNcQfg8ZD459rMQ1dYSfYDjqCBrQWaNDnwyQwTcPAu4D1MfScnohGvQUYf2FiHOqgMejI6aylotGuDQtgNegwd4ZOoEEeDanxZfF7+5exPgZsbDLFxq0H2DjY8GmbbDg09jpoevvGVx20YS67PRXT6boNmXdtnu+52j7jPATOgbMhM22sRqmKGrBgPwwW0KshStRA6uhpLF4HDYaetqJBLG/RmGn4mkHL/F/X3R4lOw3YMNwBevM2GOaxunTb1ZDosgYLUaIGogY2Lg3Y+Cup4c9by/tvF2R5iw2OXRgSpXQasAv7f3A2bAneCbQDvf17ILkriAYfTWxEklb0jeiS46UWo4FYHopRTiXc9TZpHgV2lenxvwBfgF1TiUSDn2qidL/2N9pXVlHFCu3tXXqbblrthyzMs2NzhRDTbL/pqgqRmtInwrpl+aioulbPmd0mpjWzrLBa4cS7D/vYN8RdSIVTRiEJMk+/yqeQ3RW3MBaa2Aq0UaO5PxwKjiaoqGIBsO+uN7QFW/uxUFGNEElLKvMkfp+B98CHUZVJ0rJxIIluA2ljW9GuwbKhkfehqQ8xHZ0yCSpy2bAs+ODTsvERRMOPEqLkVgN6Qb8Dn3hbaSK50cFkdPtjqKgGk6T9QDT2f4BYNnJTJqxrGnm7LY6Eitw4kbyKJ1FhJc+TQzjl3po1amzaZ9fdwi7bbReYXpZNlsUo66OBTai/S5YtCwOYl334iM/9EpMV+wT4fH3CLcdzjyKu/9asWbPZHjvvHLZjnnk+JFKO0VftqJYtXx4GvTs4jPzCG9XkvZeT+B1fta+6bK8u9uGXTJ/qqx9sutuOO4U7rrsudG7ng/AoZamB9z76KPz4oovChMmTuhDunlAZDL7dIzoDzfbadVfKxt9CxzZtfvD5QPZHKaUGdKkGvvde+Mmll4RpM2b4ktiuEA1+CfQZDX4JlMWh6suxrWG73r1Dx7ZtXSzXSu0t2SZ4jXyoIom7qv3bZJNNQu/u3UO3zTfX4PuQuSI/I8lU/5q07rLttqGTjkCBb8VmHlxWy95BqDP+JfGtplx8Vw7xllX6SxJOda51B+pdl06dNfg2sJWlbJTkMnN6bDT4pVRvjep574QU/AB0KYPL+rSVq1aFufPnhxbNmoU0DVmfXEkO1IDVqJGnX5Jc6bod6e5LEp1rw6uepn35ZRg1dmyYv2BBaLnppqHXlluG5k2blqsTUl7FyrpW2ctGeemqqHhiB2NRmqmA26tRwWfPnRv+de99Yf7XX+d5dmWcTivUgoULw7OvvRYWL12akzhKmORK93CkPBxs7/Cef+ON8Kd//zvYBTZ91qzwxuDB4Zqbbgrvf/zxOvPNO4NxkyeHV3lesr53i5YZ0/DR5yOCZTSnUulKQ061UeLAo4dfYpVtwBOoTN9++22Yhzf37bffJZVrdX4Fs9Ja8SRz2dSmdyHpPrdZMa076b5kW373gIb+dYzHnjvtHBo14LjysGAmIEpWGtBYv/PBB+GJF18MPzv99LBDr17JwIEVK1eG/m++GW578MHEy9+yc+ckPPNvTR6S7+b9JtyhTpk5Mwz+4MOw/557rik7aQIsQ8aTnptZttJj3M8BSVjDR44MDRo0DDttty0DaSvbSNr0iqr+bzT4lTCP08o3a87cMH32rLB4yZIwBA/L7X133z1s17Nn+GrevORuYOmypeG9Dz8MK1d+E3ZmRNFu228f7HIYO2lSYiTsa7ZSr6Ih+ZxK27hRozCIB2PjJk4Mz7/2aujXd+/QpmWrtQajEuqrKiXZPHa0yjP9+5M3fcOu5Ol35J0GulbNmuHQ/fYLnzOK5fnXXw8XnnlmGMFy2802C82bNEnUsGjxYvJ+YmhQv0F46/33w4gxY8JL3CnstcsuyV2CYXz0+edhPOVjs1atwgF9+oR2rVuHL7/6KilTPbt0ScqZgdmVVKdu3cQB+fDTT0PtOrXDFu3bBZ9hVM/v8qxKuq8K1xK7dCppLupdjRo/Llx94z/DYAx6ty5bhHr16oXr77gjTJg6NYyfMiX83803h5cGvRk6tmsfOmDYH3r22fAchkCjoQf/Dt6d4bi+fMWKcP8TTyS3+fMWzA9L8PJnz5kTVixfsaaCV1JVValkm1df0a03a+6csPM22+R54PlXaMPtc51dadRHjx8f5n29MDzywotJeUi8es7VcN/z+OM4A/OSfv/FSxYn4Xl38OAzz4R/3HlnWLhoUdh2q60Sh8HyZDfiqHHjwlOvvBK+zbiTfGHAG0lXjo3I14sWhgV0M1p21txNVCnNV42LiR5+Jc7HVTzArVG9Wvjx0UeHtgwBXLliZRhPv+xno0eHTZs3Tzz/09jXpVOn5Co7cMzdjz0W+u6ya+IRfvtdMp/SGg1Y6Vu3aBG2OuKoMHnGzHDWSSeFloSj9xilYmjAHvIFGGT74xo3bPhD44rR15tfyl3AshXLuXNblZd/GHsO5u+7YD737t4trPzmoDDo/SHh9OOPX9NV2J3RUT8h3/XQ99tjj+SZwIB3303K0zeElSnffLMqCW8fuoS8k2jYoEE4st9B4VvKZZSKqYHo4VfMfMkuVVTibtxiO2Lnu3zj36xx46RC2z+/VbduoS234+7ztr/7FlskFXQG3UAO7Swoeo8aEo2CXpqjTKK3VlBLG3bdfK1dyxGJTDhEX7kNwPeEPPRurQb5W/goLl9vyzP+ZC7ZnZfH5nMjGpDtGfbo8EeNdp3atcPWDJEdM2FCWKVnXyA2i0syiCq/nCSjkliOUnE18MNaX3HTGlNWiAasnJmSVwnztlSr9n1zkHbfeFuuZc+swFZ4+/ETW5AZYFyuUBown7x70+hPoNuusIZbA92KIZoN69dPGuykIc+/CvM4L/9/eFkelzyIzdhl+fIOr2DDr1lftYryEu17hrYq/uL3rUXFT29MYQENFFXfNPUjRo9J+uGr8ZC2GrfoU+mmcXRP6xabJv3yi+i/ZSHZZz+tQ/tS42AFTxuIAlHG1Q2oAfOlCQ/Wd9thh/DMq6+G+QyhtftFw+zvpGnTgl0wdsfooa/+bnUyvJbMTEbTTGT/Qvrczeek7PDPRsP1rwnrYx7YKoZl4zCGh/e+YFi3Vm26CJcmd32WpSUMBhhHg+MdguL/xIEgrCgVVwOxD7/i5k1WKfu+D59/ChutxCu4Lf8fD+L24VV/vbTHGMbn3D+tN20RunbsFO7m4V0PuoQa0/c6gJE5SaWl4tfFUDjyx2F/Rx14YNisZcsfeHhZJS4elBMNmOfH9OsXrsfg/u2228KBe+0VmtEITJ89O7zwxuvM4dMz7M2oG0djdWrXNjzb/5XQiAf6y+jqsTGobUNAw9GQkTrjGLHzHA3H3pSROoyyGcZom8dfeil06dgxONRyEgMATjnyyKRBmPXV7PA0D257du0SPh45KsxleLBxKN5NvDNsSNicUTqOHLLBiFLxNBANfsXLkyJTlHp3R/c7MNSvVzds0aFDUuH0xN2nIejLhG5NeWg3m2GZO/TeOpmm4KUBA+jvXZkMyTxs332T8HfHQ3To5osYiEaMn959xx1Dj65dQzPOlbNOOCF8zsPfpUxmlniDhB+lYmjAvDaPfnPeeeENDPhAJhRbtGhxku9HHnBg6LPTTmv6+U847LDw6PPPh4do+NvwPOcoGoqveeiroe61Zddw3MEHM7pmAUPnvwkN6jUIezBH1CxG8rzPyC/f2L3wrLOSaSJ0GM45+eTwysCB4ZORI+jr3zrZtynPj7htDP1odBxEMIcyZfqiVEwNRINfMfOl0FRZkRrhjR9E5fIBmbfaklYwq5lD8mwAvmSMtdMTWBEPZBSFx9fJf9jn8XXr1AknHX544sFr0O0TTsMx8r54fGJFlygVSwPmlaN0jj3ooHAYY+81trUw4szUmeRjmpeOsvLlrBV49xp5Z3a1LOgcmO/HHeJ8b3ztmv2O2urQpm3SCCyjoXdMfnI8+e+x3inuTvmyPKQPjj3XZwKteWZwNqN7jDeN231RKpYGosGvWPmRVWqS0RAcWVjFSrZR6erxQkxLvK9NaAU0Akrm8emy/bzs+N4+j41GXi1UbDEPpSbdJxp7lwvmm9s07jbw6fGuK2vWMeZus3GoU7tW8gGC9PjM8Fw2Hqx/cm4SSP6/NKzMbXG54mkgGvyKlyfrnSI9rt5MotWVftjqjNO3MhYlxe0r6py4veJpYF35WNx+9+n9n3HssUnDUNQoHq86KUnFlKeKp5mYokwNRIOfqY0qtOwtdzJKI1bOKpSrubsUu2wc/VNcw5C72GPI5aWBaPDLSdNWqMJmEtRjyrxtziY5hkXNzB8QV/QZ2VZe05V2ExUMLYmLjYblcrZhFgwnrhetgQ1RNgpLTWF5G8tGYZqqvNuiwS+nvHNeGudAyaxUGnv7Sjvw4DUd3rau5Hi+IyEaMAwu6X9f1wnr2O9r9k617Ms8P3iJi3OdV8Vj9P4chufIjcLf4FxHRHF3kRqojGXDi3GUV22eD9XleZHfaIhlo8gsrjA7osEvh6zQSP+XOWyGDR8eOrdvn3jnRqtX3Xaz1oxu+FFWt9M+WPMDKPc++WQyi+H2zIpZXH/rui7N0TxTpk8Pdz36aLjiZz/7QRp8webtYcOSV+tPOuKI5LjzGJrnw73Mhmtd8cT9RWugspYNr8jJ1jZnaLAzsN7xyCMhlo2i87mi7IkGv5xyYtHiJaHfPvuE03kw5pz2qTj9Qe2atZLukjVdNbj+m7BdY+A2u3w0zmxItvl2pfOo+PYkO5N9HpsaYc9Jz8tcNs7MdV/O+oa06J19xxuZShIPv0k3E/uXLV+W3AE4HPTgvvskdxZpGB6fmba0WygNw8/tpa/+Z6bP86Ks1cCGKhvmU2a+pPlqnmaWjW8zykZaxihIyQyZvn3rpGkH9+0by8baLK2wS9Hgl1PWWJnq8Hq6wyU1hKlYgWwARjC3uB780E8+CV8yudmO22wbtunRI7w9dGgYw1S3HbkzOIRKZTeOFXU+U9/6JuwXE8Yzb3nrxONvwxuxilMbDxoyhKkVRof6dP3swxz5PZg4zTTYHeSXkXyDsmP7DnjrzfKMPJG7f9ykybyNOTiZ6nZrpshdvHRZst8GYcXKFYmBcEZOx21P5jX9T0eN5CWgpqHf3n15JyDvo92jSO+bvLnr1A07b7tdcEI3J+Zyts41BiNJafynBsqzbMyia9GpsaeQd06stz/z3aflpqiyQbFIGvYPmXbhXT684tOjXbbdPpmmw7Sbp3b7+RvLRsUu07iIUcpHA6t5a3VpMl+JfeYpfszCOUvuf+qpcMsD/0tedumEIb7rkYfDtf/6V/JWZC9mvXyHrpVHeGNSWc45T7z0YrDy9u7eI5nj/B/MW+66Yd3DvPYDMbjdmTahbt064Zb77wuf8aEL51C58b//DaOZXKtXj+7J9AkPP/d88msj4kdR/n7HbcndQ89uWyZT3r7AW7o2UM537iv3enSv8Vm8a5lrf/L0GUn8zsFzw113JvtGMm/6DcyprgfYjUbGT99d8be/hSF0Z6Wef/nouzLFkvuy4VxJljnz3268rXEm7IO/6e67k991lY2BvMh3O1/SakF3XmfK56tvvxWG4ZxUY9ivc/A8/mIsG5WhxEUPv5xySS/+KQzmmHFj14yI0ZDuvdvuyZuSzl2zQ6/e4RTmr1emzpgRpsyYHk456qhQm7uCRjw0fZLznfrWYzvxoPen9Kf7UpWfqPsj3zK1Um5Lv/5I7hbsk/dhMG4XdxX1wit8+q4nUyc4T/plF1yQfNnKKZOd47z/oEGJd/YCXz7q2aVruOC000J1xmXvQzzjaARW2H2EeDwBJg3OZrxZedYJx4e6zNGy49bbhN/8+U9h4vRpTNXwBl79tuEc3rq0W2An9g2msUq6oJJQ4r+CGiiXsoEDUJ+88s3Zi37yk2TZOXj+dvttyecS61PGiiobiygHfkHr+EMPDQfTLalsx2cVh3z8UV7XH+t531aIZSNRTgX+Fw1+OWWOD0APpEvmBF5lX/OgFWOsIVfsB+3OV6s00NKUbhK/YOXr7bw3n4zmWUmXih5840YNwx7Ml+LIHuctd6SPHtsXeO5OfDaeCbHufezRpKug2ibVwkwmvVrJxyo0LFvxQpav5HueE1z51aQhfPTaOw0bmWOYW8Xt7m9A/E6ENZYZE00WbnsyFLQGaTI+43Wu/XrcRXisHqTeo5/F81bfMFo2bxG2oRGyuypK4Rooj7LhF6vM1zH8/pO7sfTZyyg+XFK7Zm2mSqgZtur6w7IxlDuzudwJ6GiY56spQ8lgAz5/uE2Pnrb/iZi/LsaykaePivo/GvxyyhlfXm/J16Q68/ZrZh++ltT+cLs70hkG823r94c/Jg2BiWXaYoy4nlqm+EatDYmetPFsx+RW6bj/rdnehH70wfS/pnEk5xKm6x5n/6tG4Hv7OcghmBrvTHG9YPdMekjap7v2+LUPk9dui0uZGsh12TAPbewta46qceKz75KvnW0SetEl6Mix195+m7zP6OHNKBuWi6TcUUZTsUQkZeX7RSPPycg4zuNj2Ui1tuF/1+bghk9LlU9BYjipDP6uITWoWvl8bylRBMuZq27LW88bHTE8Y95yK/MXEyYmXThW6Pr16ifzpR/K1MbSAi97Ig9pO/FtWz9OvpxPISaVlbTY/bOA/vk6eOs2FKPoclLc7yfsPuXB70oeyOVV2oIpSg5N/mEfQn26jtrxwWy9Qufdt1vI/v2PR+TNsb726LhUUAO5LBt+EKUz5aJr587JQ/wD9to7HMqsmofsv3/ysPWreXNDJ4y+z3B+UDbon3f2VcvDRD+4wq/LjhTzu7nZSCwb2WipfI75vptYPnFulLF8t/q7MJQHmA3sBkk8pjwDblfIjnSrpF7QGuVkek75y+mmunXqhiE8MPMhatdOnZJ5yzXojpV31kJfkrqJh3NHHXBA8v1T58F32lznSR/43rt81/bRsAfTI0+hC8f50e3j95N4dsX8+757Q9NGjRNP0PnQv6CBcLRQ2tgk6SvC7tesUZ3ZN5mn/c47eDh4V5KWsYzo0UCkwzPXXF9cWKOB8igbPzriSPKhGiN03gl3PfxQ2I2uOj9uomd/8dlnJ89uXn3rrULKRt2kPPXZaZdwL4MBvIN0am6/hbuY0WB2K2rQ10jm8pqNTOAXy0aGNjbcYvxKQcl0bwN5FPTanXnDfViaGuHigtF7swvEKWcXMlRx4eJFCY580YvecvPNk371Tnw8wgZAqV6temhDP6kG3AplGE0bN0o+SK5B35XhjqPHjwtv8aDWfv0fH3Ns6EY4VkBH9UydOTO8NeR9ht/l9anvv8fuydBIj3HEjsPrHIN/JI2C/fqd2rUL7fHOW7VoGd798IPw0WefhebMtumHNpx3vx1D+OrXr5cs1+VDGa5nvoDl3D1b0Pi0bNY89GCedUdu+Jauc7N7zW1bt0r6iNc1LNPr/Ia+/6defil5JoEqBsGbUNHFD80eC9325psEfXfbLekmW1eiy69sdE7KmF7+JzTk5r8P/3USepH/vrldWNnoyT67fBzWq7xJeRsznlFelLGD9t47KTebNst73mQ5yXXZ8A7EEWoTJk+2aXkN3jNdUbLTQDb2KruQNo6j6nCZ98BJl5x3fvjrZZdlZfBVjRVbvu8O5Xn5GkH3ZRrD5FjOK7gtPdb9GnrHP/t6ezpveRqXx/mgzYbGsfvpXYX99fb1L884z2PTeDxeL87vlSZT5bKe7k/TWFja0ucFT/bvnzy8PZXRRs6/P4E7jz8xhPMXZ5wRtsvizWDDXkLDeMovfh6ef836HK6Ga1yo4FKf9D0ER/zhol+Fqy++eI3O15VurznRqS17hrim7t2X5o+7k2Pz97mupMf4K0WVDfPXufMtNw4IcJRXNmUjCZd4LDemy7xN48xMo9uUzPSWZdlYsHBROPFn54fX33rLBwu/geuNL0p2GohdOtnpab2PsgJkVoKCARbcV3Dd49Nt/ooVqR5dRC6nlTbzOEfRsPN7+xxhYaUs7DzPNRwf8uXdqn//3Mz4PTZTDNf0bMfLWv954IFw1fXX4zXWCzNmf8Wwza1DdzzEzDRmnruO5UrnlOTbvHVc1trdaX6u3fL9pVTv6daC625Pt6VhFVU2zAONfvICYAnKRhIu8ehcUICS+NI4C8bveqaUadmodKUhUxMbfjka/JLnQeKGrWL8upJ6OSUPpmzOyKx0BUMs7T7DKe7cgvGk61bsznQN+Q6Ab9supMuq/WZtkm4ovclsw/Q47zDy5ftub7q1Av9+Q9orQqKL03ep96l38qekUljZaEfZ8BlUtmUjsfXE7YCAKKXTQDT4JdObVn62p9jHPWnqNB5utk+MfsmCqdpHN2UIqA+F9QQ1Dg5D1USkt/vFXb3HOTJoDFNGIL7x9aULlUBM6xzT+SFlYxrPUHwmEuX7GvBbvL5DkogNR0nKBsd/MmpU8p4J56vvpC7mBRb/Z6OBeIOUjZa+f8zBrN5Ln3nLPXbeOezEmGa7QDBr3z8qrpVYA/Q+J+8kvMnD5k9GjPCOYCSBnAAjShzYhjnheKK9o1atWk322X2P5MPwvt0aZf014B2J04u/Mmhg+HTkKAJc/Qn/LBtfrH/oG08I0eCXPK99cHtxPs1Lfno8I0sNTOK4K8EHoZXlHr4Bab0CfgaNvKOJw1HRRFkIBj/jGdBEglTPj0L0tEqg32jwS6CsjEN12/aDg6BVxvaKuGiF8CvmTWAuVPQKYvomwTMwBPIelrBQSaQh6TwEKkPZUKUOzbZszIOKXjZ8sDMWnoL3obKVDZK8YSUa/PXTv4ZUKrLoHXeD08EhbBr9ivyGtUZnJax5astyZZTaJNqx+RVZLBtd4SdwA3wFFdkmWDaWQzT0KCFK1EBRGjiXHdPAu5IoUQOZGjiLlenQL3NjXK6aGqjInl7V1Hj5X1VTojwC2sLhUNHvSEhilHLSQGPiORLagGWkot+RkMQoUQNRA8Vp4AB2OlzQ22FHvXSHKFEDamAfcGijZWM09IQoVVgD0cOvwpnLpenN67mlo4m6sGwDECVqwHdwvOPbNF8VW/Abu3XylRF/ogYqowb02PTc9OBSXme5BUTZuDXQjcv3/Ya0XPg7EFpClCqqAYdkRam6GtC7d8jdMvC1Tyv01zAVJkCUjVcDh3HpNvwroDUMgPkwE8ZBlKiBqIFKpAFv2fXw24EvL+nBXQU+vPX2PcrGqwEdvR5QsGz48LYrVOShmSQvSmk1oFGIUjU1sIrL8iFtHciswNOr5uXGqyqBBnzHwfkJCpaNGSUIIx5aCTUQH9pWwkxbjyRnGv71CCaeWgU1EMtGFczUgpcUDX5BjcT1qIGogaiBKqqBaPCraMbGy4oaiBqIGiiogWjwC2okrkcNRA1EDVRRDUSDX0UzNl5W1EDUQNRAQQ1Eg19QI3E9aiBqIGqgimogGvwqmrHxsqIGogaiBgpqIBr8ghqJ61EDUQNRA1VUA9HgV9GMjZcVNRA1EDVQUAPR4BfUSFyPGogaiBqoohqIBr+KZmy8rKiBqIGogYIaiAa/oEbietRA1EDUQBXVQDT4VTRj42VFDUQNRA0U1EA0+AU1EtejBqIGogaqqAaiwa+iGRsvK2ogaiBqoKAGosEvqJGquR6nvq2a+VoWVxXLRllosZKEEQ1+Jcmo9UimX7qaDX74ZMF6hBNPrXoaiGWj6uVpsVcUW/di1VMldprHftbQb9tq+CVK1IAaiGUjloOogaiBqIGogaiBqIGogaiBqIGogaiBqIGogaiBqIGogaiBqIGogaiBqIGogaiBqIGogaiBqIGogaiBqIGogaiBqIGogaiBMtVAHJZZpuos08AcRtkbPobFZRpy0YFZHmrDqnyKPjLuKU8NtCCyPaAX1IEZ8B58DuZVtlKDA2UFOAa/rKRWfkAryyrAGE5uNFA9N8HGUMtAA90I41p4C+aVQXjZBFGXg34BVlxf1Iqy4TWwPUn4E+wGi8C86QEnQSP4DL6BbGRXDjoadCJK0lCsK2zTYnkdsa4D4/4NqwFb+ygVUwO+Ba0BLs+7MMvDNjAKomx4DXQgCVfDSPgXfAnfgV7+XnA5LIH/QjYeeyuOM3/L2tHbkjCjd48SKrpEg1+xcyitxDVJ5nYwE3qCXT3fwrvwAWgE9Pqs/E1hd2gI4+ENmA82HHYJ6CVOglTsOrLC6tHrRWpkPP9rGAK1oQ90Bw2F3QjedRhXlNxq4DiC15D+A+ZkRLWc5VehOZyVv7yQX73s4WCXjWKebwUe3wDS/D2M5ffAcuNdwjLYG1qDb2IPgEmgdITGYL57vGIXjg3HTOgClj3vGA6G98Hy5ja7oVqAd6iDYCykZZrFKOWtAb3IKBVbA1YQjfelcAVsDePAynw1aIyVE+B3cCJY+SeAlfhK0DCY16fBfpApnVi5GDaDdqBhsOK7Xg/s4jkIpsAs0MD8FMraSyTIKBka0BDb8L4CmcY+45DEMNudsy1sDheBxjkV8/xH0A8sA3r4lqVOUB9sAH4P54N3DaOhPVwLOhZKXzgdMvPbc38JvcByopPRDDqCzsn2YFlNw7Rc/QV0LKJsQA1ED38DKr+EUW/K8ZPg36BHZgW0EmuMB4MGwgp1NtggKAPhBjgC7ofaUDDPNQp1YQbcCTvCU/ACWIH7gg3JMFAmw0mgYZkHUXKjAfXr3dcXxQS/gH3mWyf4EsxfHYFMqcWKZeUNaJS/wzLkHZqGeRu4G14H5SW4DM6C34LlxTAyxTg05ivgYegGK+E2UM4Ey4brq+BVuBp6wxiIsoE0YGWPUvE1YAWzgmrANfbKtzAWNAypER/Ksp59KnqGg0BPTqO+GgqK2wrb7nFLwUp9ImwNGqAhcBUshCi504B5av3UkBYldrHo4WvoSyOGbxn6IONk43sFukMrKKpssOt7ktnQ2PhsC4eD3r3p/DO8BlE2oAZSQ7EBkxCjzlIDGt6CRlajb0UTl2eAlStTZrLiLbceWbaVNz3fBuMvcDb8DRaBBuIRmA1RcqcBG3jzvEUxUWjom4GNcEnzNg32KxaWpyv5v+atjYHlxnBLGvaznOPd51nwEzC8gfAMRNmAGogGfwMqv4RRr6viWUEbFBKmhl4vMLNxyDxMz99+18LErgC9v+Ggp9YNDgW9tZ/DJIiSGw0sIFjv1vaEl8H8Kyhd2LAZjMjfkellu8kyYf4WJ/XYaT5nig2J5+rtpw5F5n7thscU1hB4vHehN8OD0BnsJtTw26V0KxR2Hpuj5FoDZmqUyq8BK5B5uQPYxZOK27y1ngSLQY+xCWRKd1asiGklzDQanvtrMJwv4Hm4Cjx2S4iSOw1obJ8GDf7ehURjPv4URsNnYN5qhDXgqeihd0tXCvk1H93fvsA++9q9m5wFGm/LR6ZT0JF1z/F8xTKTLtdi+Wdguj3/ffCZwUOwE+iARNlAGogGfwMpPstoMz0vlzONsUGYf+J2vfi2cDLo9VnZj4Dt4Blw/6ewG1ihrcQ2EH0g7QZaxbKGY2swLCv97nA82LVgmLuAx02FKLnVwFsEb95dCb+A7cEG+iC4HtrBTWCXzHTwmcth0AxagfnvcmqMbfRbgvlbH8x3G4nTwAZcZ0GjfALYuJv/NihtYC9w/+ZwOFjuUlnEguebtnT7OSxvBZazztALxoDlK8oG0kCmQdlASYjRFqEBPTUr62DQy9oMPoY5kIoGWOPr9r5g5dQztKIfAF3hfngHrPTTQEN+JOwKHWAgzINhoEHQaLhPw/AWTAYNzL7QF+xGeBCGQmpIWIySAw18S5jm7XzYD8zXQ8BGfCz8DTSiimVkNhwM+4CNuWXlA5gCHq8BtyEwf6fDplAHPgLDNg73WSYeh29gLpjPR8MeoOH+BCbCCDBO09czH7cZp42RDYMOhY2F8d0DNg5RNpAG9AyjVEwNVCNZ3h6nHpHLVkC9slTsS/U4DcNfwYp9K7QGK7KV9WuwwqZiOFZ6f78CjXxNsKHwOMuE5/qrEXFbQ9A4KBoRK21mmG6PklsNNCB4HQDzSsOtkbWxzxTzzK6e5mDDrTFO67hlR7HMmL/uPwU04r8Cw28Mhm0eZ5YzHUPv8CwHC0AHwXQYv2VP8U7BbZYZtxmPZcZwl4BlLU0Di1E2hAbMlCgVUwNWuOUZSUsNf8amNRXeCqnhT43/9MyDCixr2KcW2JYZtobcSpspGvjomWVqpPyXbZilODHvbAikKNFIp+GkZcaypkGWwkQDbn+8pJJZZtzmeuY245npjigVRwPR4FecvFiflFjRPwM9syhRA9lqYDIH1oNMbz7bc+NxUQNRAxtQA3bReEsdJWogWw3o8FluokQNRA1EDUQNRA1EDUQNRA1EDUQNRA1EDUQNRA1EDUQN/EADjn6R4sTuOEe6FCWOtnF0jQ/oU/EcR86U5bM4wzKebMXji0t3ZjiFXUPm/oLLhu3w4MxrLnhMXC+BBqIiS6CseGjUQCk0UJdzfgqOuJpWzPn7s28fcIx7YQ9RNewXgsMiHS3TAS6GA8CHrw7ZdDjmXFgf2YWTj4bhUHDYZ2Hh9mXjwfAxFJZuNq8RG71fgqOBihpg4DDO7cGhn9qns8FRY3HED0pYX3FYVpSogaiB3GlgB4JuCyPXEUVH9m8NesGFids1humD+SNZ3gzuhElwHLhtfcUwt4NsnUG9e0f6FJVudq0Rj90ZbJyKEt8h+TXo2S+FCeB1eW6U9dSAt0xRogaiBnKjAevXgfAxLMyPwu6SVqAB0xvXk3VYrd5x+sKSxq4+ZO537PxN4K+G3wZiEkwBjXMj8B0Lz/NuIn0hyu2G5/pMyHy3g9WkS8j0uH8amBYpTLwenUTjcXSPRv5tGAbpS1Xu906jKXjNevM2UumLfcZj+KazTf72L/l1DL/hm17vZvz1vHfhMOgB3nVEWQ8NqOAoUQNRA7nRgN5yN3g0P/jN+T0TmoBGWs/4aXgWUiN4KsvdwX0aRc99MX/9dH4Hw67QF+zqaAx2vewDNhoaYb3+KdAHfgSK8c2DO2AiKIZjfBppw7BB0KsuqmtmT/Z1gkngHcWHYDxeo3EazvGwF6SNzgcsd4SXYCooW4MNoXqwYXD7v6ArnJP/ewm/z4G6cb9xR4OPEtZHosFfH+3Fc6MGiteAhlDjOR00uBozPd0/5v9q9M6Fz8Djtge95b+DBvNouAA0dE5PoIH2buEx2BK+Bg24otev0b4b9Jj1iDWaT8IL4J3FT+BiuBz06i8FDfEzYENxAJjGWWADVFDasuFk8M7jI9CYm+ZtwfMPh6PgHzASWoLhHQlDYTI0BI33v2A0tIY/gQ3IA/AgdIL74VPwmgxrH/Aa1EuUUmogGvxSKi6eFjWQhQY6ccwCWAq1oB0Mh/mgIdMQ6xXbHeLvbHgaNLjKK3AMdACNno2C502DOWA440Fx3XBS713jOwEeyd/OT+KFa2i3h17wFTwEqRF9kuU9QSNclLRhx19hQP4BGnu7aRrDkfAMvA/KQngCDoa0AbFhGAg2AIrHvAk9QT2Z/sVg2k2foodvN5GNRZpWFqOUVAPR4JdUY/H4qIHsNdCMQxeBRlrPXgN+HmwOesgjwO4aDZwGX2NnA5GK/doauNrphoxfDaekkrleh416+N4VaGwNW7G+azQ1rt4hfA6ZBtQGwzuMA6AwMRzvRlJjnXmMXTMaZcPMFK9pEniuaTRN4yBTvFMxbekxmdficepQHXhdUdZDA9Hgr4fy4qlRA+vQgN04GvvV+cc9yu8XsDfsBnaPjIFrQO/dRsHf9RUNp3cUNUHD7noqb7LwKWwDmcY+3e9zAdOg0S1MNM42DIWJ5xVMv9eeXr/neDdQ1PnuL0zUY+Y1FHZM3JaFBqLBz0JJ8ZCogVJqQM9Ur1djpXfaGzS2etGud4E/w6GQaRRZLZWkYdhw2B1id8/NGSFpOH1gavfPXGgLBaUDG/Sm07AK7i9q3e4lu2e2Aq8xlU4sdISCDUG6v6jfzPi9K0nvkoo6Pm7PQgOx1cxCSfGQqIFSamAa59nVobddHy6BvUDRux4L9k/XBaUorzpvb97/9Jj0N92ngUzD0Ti+B32gHaSit/87aAlvwQ5go5NKJxb2BxuGwsQ4C8brunZEY98fToBdoBEY34lQA1IpKow0XK/D+G10UvEBs11ddn1FWQ8NZGbEegQTT40aiBooRAN215wEGtgp8Cr8FDrB/7dr7rwQhUEYjkojKjSaFYloVbKJRq0hRClRiA7/QPwB/0GlkKiIRiiEymUV1jWsSNyKbSSEyvNsnORYURy22DCTPMk53/m+MftuMjNnlh243XATmCjz8AppM/lZGByDpK/d4970aKTI/TjMwCKsgQl9FjbA8Y7JfBecs5ukTcwWgHXQeuASkuTrWtr8e9UxJmvGtwQWt0l4BgtPATpBn9WfgaWKJT7cU4ZHmIJlMHbPn4Lz/7BfKPBdJf+FyzgaCoQCHwqYoEyqJj8T1hHcQDu0gkVgAa7ADvYEHsDEqJnoS3AO+vL6DF7Afe53lKKV4AKePq6dtfvjqgUjB3b/Jk//a8bzJuM9cH8H2PxZkFbgGO4giYPLihmjz+4heZasGU8jHMAWHIL+rmEQNsFiUgLjNIbEEh/6VasC+MZwC8Y/Cqugr7BQIBQIBepWgQEimwOT4V82m8dpmIB0IznEvcnaIvcT6+PQPDT/5HCc+axA+ov5/CTuQoFQoBYKOJ7IQxnsmv+q2fH7FjEGOWiDfhgG3yq2Ias5HhqBHShmPRz7vyrQ8HUpVkKBUKDGCnTgzxHKTY391ps7fxfohl5oAccz++Do6A2ymm9FXVA9AsrqJ/aHAqFAKBAKhAL/S4F3MH4dnGoFpFsAAAAASUVORK5CYII=)"
      ]
    },
    {
      "cell_type": "markdown",
      "metadata": {
        "id": "1GJJPgvozrEP"
      },
      "source": [
        "- 整个模型由两个主要部分组成\n",
        "- 左侧是 encoder component\n",
        "- 右侧是 decoder component\n",
        "- encoder comp 和 decoder comp之间通过 encoder 的输出作为链接\n",
        "- 无论是encoder comp 还是 decoder comp，输入均需要经过 input embedding 和 positional encoding 进行转化\n",
        "- encoder component 由 6 层 encoder layer 构成\n",
        "  - encoder layer 由 两个 sublayer (MH-Attention 和 Feed Forward) 和 两个 sublayerConnection(add&nrom)构成\n",
        "- decoder component 由 6 层 decoder layer 构成\n",
        "  - decoder layer 由 三个 sublayer (masked MH-Attention, encoder-decoder-Attention 和 Feed Forward) 和 三个 sublayerConnection(add&norm) 构成\n",
        "- decoder layer 的最后一层的输出将会进入到一个全连接层，并接入一个softmax进行预测，得到的结果作为 decoder 下一轮的输入"
      ]
    },
    {
      "cell_type": "markdown",
      "metadata": {
        "id": "qwaIsiyM59F0"
      },
      "source": [
        "## Step1 - 从输入的处理开始"
      ]
    },
    {
      "cell_type": "code",
      "execution_count": null,
      "metadata": {
        "id": "8AuFIo3V4qDd"
      },
      "outputs": [],
      "source": [
        "\n",
        "# 定义处理输入的 embedding 层\n",
        "# embedding 层接受目标token 的维度，和字典作为初始化参数\n",
        "# 接受输入的文本作为输入变量\n",
        "\n",
        "class Embeddings(nn.Module):\n",
        "  def __init__(self,d_model,vocab):\n",
        "    super(Embeddings, self).__init__()\n",
        "    self.d_model = d_model\n",
        "    # vocab 表示词汇表的大小，该值代表了语料中出现的不同的单词的数量\n",
        "    # d_model 表示词嵌入的维度，即每个单词的词向量的维度\n",
        "    # embedding层的初始化过程创建了一个形状为 (vocab, d_model)的矩阵，矩阵中的每一行代表一个单词的词向量\n",
        "    self.emb = nn.Embedding(vocab, d_model) \n",
        "  \n",
        "  # inputBatch 是输入的文本\n",
        "  # inputBatch 的维度是(batch_size, seq_len)\n",
        "  # batch_size 表示一次训练/推理时使用的样本数量\n",
        "  # seq_len 表示语句中单词的数量\n",
        "  def forward(self, inputBatch):\n",
        "    # 这里将向量与模型参数的平方根相乘，可能是为了标准化\n",
        "    # self.emb(inputSeq) 的输出维度为 (batch_size, seq_len, d_model)\n",
        "    # 输入的语句中每个单词都被映射到了 d_model 维的词向量上\n",
        "    return self.emb(inputBatch) * math.sqrt(self.d_model)\n"
      ]
    },
    {
      "cell_type": "markdown",
      "metadata": {
        "id": "meSNWseuCUvM"
      },
      "source": [
        "![image.png](data:image/png;base64,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)"
      ]
    },
    {
      "cell_type": "code",
      "execution_count": null,
      "metadata": {
        "id": "q9qM_neX_6j2"
      },
      "outputs": [],
      "source": [
        "# 定义embedding层之后的positional encoding\n",
        "# pe接收wordembedding的结果作为输入\n",
        "# pe与wordembedding 的d_model 维度是一致的\n",
        "# pe的结果 + wordembedding 的结果向量相加 = 输出\n",
        "# 计算公式如上图\n",
        "# 详细的原理推导见pdf文档\n",
        "# 同时在对于输出的结果，会采用dropout随机失活一部分参数，比例在0.1\n",
        "\n",
        "class PositionalEncoding(nn.Module):\n",
        "  def __init__(self, d_model, dropout, max_len = 5000):\n",
        "    super(PositionalEncoding, self).__init__()\n",
        "    self.dropout = nn.Dropout(p = dropout)\n",
        "    # 创建一个 5000 x 模型参数的填充张量，二维\n",
        "    pe = torch.zeros(max_len, d_model)\n",
        "    # 创建一个 二维张量，第二维是从0到max_len的数字， 维度是[maxlength,1]\n",
        "    position = torch.arange(0, max_len).unsqueeze(1)\n",
        "    # 在对数空间中解决sin函数的参数问题\n",
        "    # 首先是创建一个1维度的张量，其元素依次为 [0, 2, 4, ..., d_model - 2]\n",
        "    # 括号内的参数转化为 [- 0 x ln(10000) / d_model, -2 x ln(10000) / d_model...]\n",
        "    # 再次经过exp 函数，转化为 [1, 1 / 10000^(2/d_model), 1/ 10000^(4/d_model)...]\n",
        "    div_term = torch.exp(torch.arange(0, d_model, 2) * -(math.log(10000.0) / d_model)) # 维度 [d_model/2]\n",
        "    # pos [maxlength,1] x div_term [d_model/2]  = [maxLength, d_model/2]\n",
        "    pe[:, 0::2] = torch.sin(position * div_term) # 偶数位使用sin函数\n",
        "    pe[:, 1::2] = torch.cos(position * div_term) # 奇数位使用cos函数\n",
        "    pe = pe.unsqueeze(0) # 转化为张量[1, max_len, d_model]\n",
        "    self.register_buffer(\"pe\", pe) # 在一个模块中注册一个张量作为模块的缓存。缓存是与模块相关联的张量，用作模型在前向传递期间的持久存储\n",
        "  \n",
        "  # 输入x + positionalEncoding的结果，再进行dropout\n",
        "  def forward(self, x):\n",
        "        # requires_grad 属性控制是否对 tensor 进行梯度计算，即是否参与反向传播。如果将 requires_grad 设置为 False，则表示对该 tensor 进行的任何操作不会被计入梯度，也不会参与反向传播\n",
        "        # positional encoding一旦完成计算就不会发生改变，无需再纳入BP范畴\n",
        "        #  结果是一个形状为 [1, seq_leength, 5] 的张量\n",
        "        x = x + self.pe[:, : x.size(1)].requires_grad_(False) \n",
        "        return self.dropout(x)"
      ]
    },
    {
      "cell_type": "code",
      "execution_count": null,
      "metadata": {
        "colab": {
          "base_uri": "https://localhost:8080/"
        },
        "id": "yjZeippXFTAz",
        "outputId": "c984a378-8bd0-49c9-b952-892e891ada1d"
      },
      "outputs": [
        {
          "output_type": "stream",
          "name": "stdout",
          "text": [
            "tensor([[[ 0.0000e+00,  1.0000e+00,  0.0000e+00,  ...,  1.0000e+00,\n",
            "           0.0000e+00,  1.0000e+00],\n",
            "         [ 8.4147e-01,  5.4030e-01,  3.8767e-01,  ...,  1.0000e+00,\n",
            "           2.5119e-04,  1.0000e+00],\n",
            "         [ 9.0930e-01, -4.1615e-01,  7.1471e-01,  ...,  1.0000e+00,\n",
            "           5.0238e-04,  1.0000e+00],\n",
            "         ...,\n",
            "         [ 3.7961e-01, -9.2515e-01,  7.9395e-01,  ...,  9.9813e-01,\n",
            "           2.4363e-02,  9.9970e-01],\n",
            "         [-5.7338e-01, -8.1929e-01,  9.6756e-01,  ...,  9.9809e-01,\n",
            "           2.4614e-02,  9.9970e-01],\n",
            "         [-9.9921e-01,  3.9821e-02,  9.8984e-01,  ...,  9.9805e-01,\n",
            "           2.4865e-02,  9.9969e-01]]])\n",
            "torch.Size([1, 100, 20])\n",
            "    embedding  dimension  position\n",
            "0    0.000000          4         0\n",
            "1    0.157827          4         1\n",
            "2    0.311697          4         2\n",
            "3    0.457755          4         3\n",
            "4    0.592338          4         4\n",
            "..        ...        ...       ...\n",
            "95   0.958504          7        95\n",
            "96   0.974572          7        96\n",
            "97   0.986761          7        97\n",
            "98   0.995024          7        98\n",
            "99   0.999326          7        99\n",
            "\n",
            "[400 rows x 3 columns]\n"
          ]
        },
        {
          "output_type": "execute_result",
          "data": {
            "text/html": [
              "\n",
              "<div id=\"altair-viz-99720e4caf4a43a6acc8c9e78ad84b7f\"></div>\n",
              "<script type=\"text/javascript\">\n",
              "  var VEGA_DEBUG = (typeof VEGA_DEBUG == \"undefined\") ? {} : VEGA_DEBUG;\n",
              "  (function(spec, embedOpt){\n",
              "    let outputDiv = document.currentScript.previousElementSibling;\n",
              "    if (outputDiv.id !== \"altair-viz-99720e4caf4a43a6acc8c9e78ad84b7f\") {\n",
              "      outputDiv = document.getElementById(\"altair-viz-99720e4caf4a43a6acc8c9e78ad84b7f\");\n",
              "    }\n",
              "    const paths = {\n",
              "      \"vega\": \"https://cdn.jsdelivr.net/npm//vega@5?noext\",\n",
              "      \"vega-lib\": \"https://cdn.jsdelivr.net/npm//vega-lib?noext\",\n",
              "      \"vega-lite\": \"https://cdn.jsdelivr.net/npm//vega-lite@4.17.0?noext\",\n",
              "      \"vega-embed\": \"https://cdn.jsdelivr.net/npm//vega-embed@6?noext\",\n",
              "    };\n",
              "\n",
              "    function maybeLoadScript(lib, version) {\n",
              "      var key = `${lib.replace(\"-\", \"\")}_version`;\n",
              "      return (VEGA_DEBUG[key] == version) ?\n",
              "        Promise.resolve(paths[lib]) :\n",
              "        new Promise(function(resolve, reject) {\n",
              "          var s = document.createElement('script');\n",
              "          document.getElementsByTagName(\"head\")[0].appendChild(s);\n",
              "          s.async = true;\n",
              "          s.onload = () => {\n",
              "            VEGA_DEBUG[key] = version;\n",
              "            return resolve(paths[lib]);\n",
              "          };\n",
              "          s.onerror = () => reject(`Error loading script: ${paths[lib]}`);\n",
              "          s.src = paths[lib];\n",
              "        });\n",
              "    }\n",
              "\n",
              "    function showError(err) {\n",
              "      outputDiv.innerHTML = `<div class=\"error\" style=\"color:red;\">${err}</div>`;\n",
              "      throw err;\n",
              "    }\n",
              "\n",
              "    function displayChart(vegaEmbed) {\n",
              "      vegaEmbed(outputDiv, spec, embedOpt)\n",
              "        .catch(err => showError(`Javascript Error: ${err.message}<br>This usually means there's a typo in your chart specification. See the javascript console for the full traceback.`));\n",
              "    }\n",
              "\n",
              "    if(typeof define === \"function\" && define.amd) {\n",
              "      requirejs.config({paths});\n",
              "      require([\"vega-embed\"], displayChart, err => showError(`Error loading script: ${err.message}`));\n",
              "    } else {\n",
              "      maybeLoadScript(\"vega\", \"5\")\n",
              "        .then(() => maybeLoadScript(\"vega-lite\", \"4.17.0\"))\n",
              "        .then(() => maybeLoadScript(\"vega-embed\", \"6\"))\n",
              "        .catch(showError)\n",
              "        .then(() => displayChart(vegaEmbed));\n",
              "    }\n",
              "  })({\"config\": {\"view\": {\"continuousWidth\": 400, \"continuousHeight\": 300}}, \"data\": {\"name\": \"data-eafc635ddfa311c913cbcc2d2bc4477d\"}, \"mark\": \"line\", \"encoding\": {\"color\": {\"field\": \"dimension\", \"type\": \"nominal\"}, \"x\": {\"field\": \"position\", \"type\": \"quantitative\"}, \"y\": {\"field\": \"embedding\", \"type\": \"quantitative\"}}, \"selection\": {\"selector001\": {\"type\": \"interval\", \"bind\": \"scales\", \"encodings\": [\"x\", \"y\"]}}, \"width\": 800, \"$schema\": \"https://vega.github.io/schema/vega-lite/v4.17.0.json\", \"datasets\": {\"data-eafc635ddfa311c913cbcc2d2bc4477d\": [{\"embedding\": 0.0, \"dimension\": 4, \"position\": 0}, {\"embedding\": 0.15782663226127625, \"dimension\": 4, \"position\": 1}, {\"embedding\": 0.3116971552371979, \"dimension\": 4, \"position\": 2}, {\"embedding\": 0.45775455236434937, \"dimension\": 4, \"position\": 3}, {\"embedding\": 0.5923377275466919, \"dimension\": 4, \"position\": 4}, {\"embedding\": 0.7120732069015503, \"dimension\": 4, \"position\": 5}, {\"embedding\": 0.813959538936615, \"dimension\": 4, \"position\": 6}, {\"embedding\": 0.8954429626464844, \"dimension\": 4, \"position\": 7}, {\"embedding\": 0.9544808864593506, \"dimension\": 4, \"position\": 8}, {\"embedding\": 0.989593505859375, \"dimension\": 4, \"position\": 9}, {\"embedding\": 0.9999006390571594, \"dimension\": 4, \"position\": 10}, {\"embedding\": 0.9851439595222473, \"dimension\": 4, \"position\": 11}, {\"embedding\": 0.94569331407547, \"dimension\": 4, \"position\": 12}, {\"embedding\": 0.8825376033782959, \"dimension\": 4, \"position\": 13}, {\"embedding\": 0.7972599267959595, \"dimension\": 4, \"position\": 14}, {\"embedding\": 0.6919978260993958, \"dimension\": 4, \"position\": 15}, {\"embedding\": 0.5693899393081665, \"dimension\": 4, \"position\": 16}, {\"embedding\": 0.4325096309185028, \"dimension\": 4, \"position\": 17}, {\"embedding\": 0.284787654876709, \"dimension\": 4, \"position\": 18}, {\"embedding\": 0.12992730736732483, \"dimension\": 4, \"position\": 19}, {\"embedding\": -0.028190065175294876, \"dimension\": 4, \"position\": 20}, {\"embedding\": -0.18560057878494263, \"dimension\": 4, \"position\": 21}, {\"embedding\": -0.3383587896823883, \"dimension\": 4, \"position\": 22}, {\"embedding\": -0.4826357960700989, \"dimension\": 4, \"position\": 23}, {\"embedding\": -0.6148146390914917, \"dimension\": 4, \"position\": 24}, {\"embedding\": -0.7315824031829834, \"dimension\": 4, \"position\": 25}, {\"embedding\": -0.8300122618675232, \"dimension\": 4, \"position\": 26}, {\"embedding\": -0.9076365828514099, \"dimension\": 4, \"position\": 27}, {\"embedding\": -0.96250981092453, \"dimension\": 4, \"position\": 28}, {\"embedding\": -0.9932565093040466, \"dimension\": 4, \"position\": 29}, {\"embedding\": -0.9991058707237244, \"dimension\": 4, \"position\": 30}, {\"embedding\": -0.9799113273620605, \"dimension\": 4, \"position\": 31}, {\"embedding\": -0.9361540079116821, \"dimension\": 4, \"position\": 32}, {\"embedding\": -0.8689308166503906, \"dimension\": 4, \"position\": 33}, {\"embedding\": -0.7799267172813416, \"dimension\": 4, \"position\": 34}, {\"embedding\": -0.6713724136352539, \"dimension\": 4, \"position\": 35}, {\"embedding\": -0.5459895133972168, \"dimension\": 4, \"position\": 36}, {\"embedding\": -0.40692076086997986, \"dimension\": 4, \"position\": 37}, {\"embedding\": -0.2576519548892975, \"dimension\": 4, \"position\": 38}, {\"embedding\": -0.10192479938268661, \"dimension\": 4, \"position\": 39}, {\"embedding\": 0.056357722729444504, \"dimension\": 4, \"position\": 40}, {\"embedding\": 0.21322709321975708, \"dimension\": 4, \"position\": 41}, {\"embedding\": 0.3647516369819641, \"dimension\": 4, \"position\": 42}, {\"embedding\": 0.5071332454681396, \"dimension\": 4, \"position\": 43}, {\"embedding\": 0.6368028521537781, \"dimension\": 4, \"position\": 44}, {\"embedding\": 0.7505101561546326, \"dimension\": 4, \"position\": 45}, {\"embedding\": 0.8454052805900574, \"dimension\": 4, \"position\": 46}, {\"embedding\": 0.9191088080406189, \"dimension\": 4, \"position\": 47}, {\"embedding\": 0.9697737693786621, \"dimension\": 4, \"position\": 48}, {\"embedding\": 0.9961300492286682, \"dimension\": 4, \"position\": 49}, {\"embedding\": 0.9975170493125916, \"dimension\": 4, \"position\": 50}, {\"embedding\": 0.9738998413085938, \"dimension\": 4, \"position\": 51}, {\"embedding\": 0.9258706569671631, \"dimension\": 4, \"position\": 52}, {\"embedding\": 0.8546332716941833, \"dimension\": 4, \"position\": 53}, {\"embedding\": 0.7619734406471252, \"dimension\": 4, \"position\": 54}, {\"embedding\": 0.6502137184143066, \"dimension\": 4, \"position\": 55}, {\"embedding\": 0.5221555233001709, \"dimension\": 4, \"position\": 56}, {\"embedding\": 0.38100889325141907, \"dimension\": 4, \"position\": 57}, {\"embedding\": 0.23031172156333923, \"dimension\": 4, \"position\": 58}, {\"embedding\": 0.07384055852890015, \"dimension\": 4, \"position\": 59}, {\"embedding\": -0.08448058366775513, \"dimension\": 4, \"position\": 60}, {\"embedding\": -0.2406841218471527, \"dimension\": 4, \"position\": 61}, {\"embedding\": -0.3908545970916748, \"dimension\": 4, \"position\": 62}, {\"embedding\": -0.5312277674674988, \"dimension\": 4, \"position\": 63}, {\"embedding\": -0.6582850813865662, \"dimension\": 4, \"position\": 64}, {\"embedding\": -0.768841564655304, \"dimension\": 4, \"position\": 65}, {\"embedding\": -0.8601260781288147, \"dimension\": 4, \"position\": 66}, {\"embedding\": -0.9298503994941711, \"dimension\": 4, \"position\": 67}, {\"embedding\": -0.9762668013572693, \"dimension\": 4, \"position\": 68}, {\"embedding\": -0.9982118010520935, \"dimension\": 4, \"position\": 69}, {\"embedding\": -0.9951352477073669, \"dimension\": 4, \"position\": 70}, {\"embedding\": -0.967114269733429, \"dimension\": 4, \"position\": 71}, {\"embedding\": -0.9148513078689575, \"dimension\": 4, \"position\": 72}, {\"embedding\": -0.839656412601471, \"dimension\": 4, \"position\": 73}, {\"embedding\": -0.7434144616127014, \"dimension\": 4, \"position\": 74}, {\"embedding\": -0.6285378336906433, \"dimension\": 4, \"position\": 75}, {\"embedding\": -0.4979061186313629, \"dimension\": 4, \"position\": 76}, {\"embedding\": -0.3547937273979187, \"dimension\": 4, \"position\": 77}, {\"embedding\": -0.20278796553611755, \"dimension\": 4, \"position\": 78}, {\"embedding\": -0.04569905996322632, \"dimension\": 4, \"position\": 79}, {\"embedding\": 0.11253630369901657, \"dimension\": 4, \"position\": 80}, {\"embedding\": 0.2679498493671417, \"dimension\": 4, \"position\": 81}, {\"embedding\": 0.4166468679904938, \"dimension\": 4, \"position\": 82}, {\"embedding\": 0.5549001097679138, \"dimension\": 4, \"position\": 83}, {\"embedding\": 0.6792440414428711, \"dimension\": 4, \"position\": 84}, {\"embedding\": 0.7865618467330933, \"dimension\": 4, \"position\": 85}, {\"embedding\": 0.8741634488105774, \"dimension\": 4, \"position\": 86}, {\"embedding\": 0.9398530125617981, \"dimension\": 4, \"position\": 87}, {\"embedding\": 0.9819839596748352, \"dimension\": 4, \"position\": 88}, {\"embedding\": 0.9995002150535583, \"dimension\": 4, \"position\": 89}, {\"embedding\": 0.9919626712799072, \"dimension\": 4, \"position\": 90}, {\"embedding\": 0.959559977054596, \"dimension\": 4, \"position\": 91}, {\"embedding\": 0.903104841709137, \"dimension\": 4, \"position\": 92}, {\"embedding\": 0.8240122199058533, \"dimension\": 4, \"position\": 93}, {\"embedding\": 0.7242646217346191, \"dimension\": 4, \"position\": 94}, {\"embedding\": 0.6063624024391174, \"dimension\": 4, \"position\": 95}, {\"embedding\": 0.4732609689235687, \"dimension\": 4, \"position\": 96}, {\"embedding\": 0.32829657196998596, \"dimension\": 4, \"position\": 97}, {\"embedding\": 0.17510302364826202, \"dimension\": 4, \"position\": 98}, {\"embedding\": 0.01752028614282608, \"dimension\": 4, \"position\": 99}, {\"embedding\": 1.0, \"dimension\": 5, \"position\": 0}, {\"embedding\": 0.9874668121337891, \"dimension\": 5, \"position\": 1}, {\"embedding\": 0.9501814842224121, \"dimension\": 5, \"position\": 2}, {\"embedding\": 0.8890786170959473, \"dimension\": 5, \"position\": 3}, {\"embedding\": 0.8056897521018982, \"dimension\": 5, \"position\": 4}, {\"embedding\": 0.7021052241325378, \"dimension\": 5, \"position\": 5}, {\"embedding\": 0.5809215903282166, \"dimension\": 5, \"position\": 6}, {\"embedding\": 0.44517630338668823, \"dimension\": 5, \"position\": 7}, {\"embedding\": 0.2982720732688904, \"dimension\": 5, \"position\": 8}, {\"embedding\": 0.14389123022556305, \"dimension\": 5, \"position\": 9}, {\"embedding\": -0.01409643329679966, \"dimension\": 5, \"position\": 10}, {\"embedding\": -0.1717306226491928, \"dimension\": 5, \"position\": 11}, {\"embedding\": -0.32506027817726135, \"dimension\": 5, \"position\": 12}, {\"embedding\": -0.47024187445640564, \"dimension\": 5, \"position\": 13}, {\"embedding\": -0.6036361455917358, \"dimension\": 5, \"position\": 14}, {\"embedding\": -0.7218996286392212, \"dimension\": 5, \"position\": 15}, {\"embedding\": -0.8220675587654114, \"dimension\": 5, \"position\": 16}, {\"embedding\": -0.9016293287277222, \"dimension\": 5, \"position\": 17}, {\"embedding\": -0.9585906267166138, \"dimension\": 5, \"position\": 18}, {\"embedding\": -0.9915235042572021, \"dimension\": 5, \"position\": 19}, {\"embedding\": -0.9996025562286377, \"dimension\": 5, \"position\": 20}, {\"embedding\": -0.9826252460479736, \"dimension\": 5, \"position\": 21}, {\"embedding\": -0.941017210483551, \"dimension\": 5, \"position\": 22}, {\"embedding\": -0.8758211731910706, \"dimension\": 5, \"position\": 23}, {\"embedding\": -0.788671612739563, \"dimension\": 5, \"position\": 24}, {\"embedding\": -0.6817529797554016, \"dimension\": 5, \"position\": 25}, {\"embedding\": -0.5577451586723328, \"dimension\": 5, \"position\": 26}, {\"embedding\": -0.4197568893432617, \"dimension\": 5, \"position\": 27}, {\"embedding\": -0.27124688029289246, \"dimension\": 5, \"position\": 28}, {\"embedding\": -0.11593768745660782, \"dimension\": 5, \"position\": 29}, {\"embedding\": 0.042278096079826355, \"dimension\": 5, \"position\": 30}, {\"embedding\": 0.19943365454673767, \"dimension\": 5, \"position\": 31}, {\"embedding\": 0.3515901565551758, \"dimension\": 5, \"position\": 32}, {\"embedding\": 0.4949335753917694, \"dimension\": 5, \"position\": 33}, {\"embedding\": 0.6258708238601685, \"dimension\": 5, \"position\": 34}, {\"embedding\": 0.7411201596260071, \"dimension\": 5, \"position\": 35}, {\"embedding\": 0.8377919793128967, \"dimension\": 5, \"position\": 36}, {\"embedding\": 0.9134634733200073, \"dimension\": 5, \"position\": 37}, {\"embedding\": 0.9662377834320068, \"dimension\": 5, \"position\": 38}, {\"embedding\": 0.994792103767395, \"dimension\": 5, \"position\": 39}, {\"embedding\": 0.9984106421470642, \"dimension\": 5, \"position\": 40}, {\"embedding\": 0.9770026803016663, \"dimension\": 5, \"position\": 41}, {\"embedding\": 0.931104838848114, \"dimension\": 5, \"position\": 42}, {\"embedding\": 0.8618676662445068, \"dimension\": 5, \"position\": 43}, {\"embedding\": 0.7710266709327698, \"dimension\": 5, \"position\": 44}, {\"embedding\": 0.6608588695526123, \"dimension\": 5, \"position\": 45}, {\"embedding\": 0.5341253876686096, \"dimension\": 5, \"position\": 46}, {\"embedding\": 0.3940037488937378, \"dimension\": 5, \"position\": 47}, {\"embedding\": 0.24400585889816284, \"dimension\": 5, \"position\": 48}, {\"embedding\": 0.08789165318012238, \"dimension\": 5, \"position\": 49}, {\"embedding\": -0.07042567431926727, \"dimension\": 5, \"position\": 50}, {\"embedding\": -0.2269781529903412, \"dimension\": 5, \"position\": 51}, {\"embedding\": -0.37784066796302795, \"dimension\": 5, \"position\": 52}, {\"embedding\": -0.5192320942878723, \"dimension\": 5, \"position\": 53}, {\"embedding\": -0.6476082801818848, \"dimension\": 5, \"position\": 54}, {\"embedding\": -0.7597513794898987, \"dimension\": 5, \"position\": 55}, {\"embedding\": -0.8528502583503723, \"dimension\": 5, \"position\": 56}, {\"embedding\": -0.9245713949203491, \"dimension\": 5, \"position\": 57}, {\"embedding\": -0.973116934299469, \"dimension\": 5, \"position\": 58}, {\"embedding\": -0.9972700476646423, \"dimension\": 5, \"position\": 59}, {\"embedding\": -0.9964250922203064, \"dimension\": 5, \"position\": 60}, {\"embedding\": -0.9706035256385803, \"dimension\": 5, \"position\": 61}, {\"embedding\": -0.9204524159431458, \"dimension\": 5, \"position\": 62}, {\"embedding\": -0.8472290635108948, \"dimension\": 5, \"position\": 63}, {\"embedding\": -0.7527687549591064, \"dimension\": 5, \"position\": 64}, {\"embedding\": -0.6394393444061279, \"dimension\": 5, \"position\": 65}, {\"embedding\": -0.5100815296173096, \"dimension\": 5, \"position\": 66}, {\"embedding\": -0.3679378628730774, \"dimension\": 5, \"position\": 67}, {\"embedding\": -0.2165713608264923, \"dimension\": 5, \"position\": 68}, {\"embedding\": -0.05977622792124748, \"dimension\": 5, \"position\": 69}, {\"embedding\": 0.09851823002099991, \"dimension\": 5, \"position\": 70}, {\"embedding\": 0.254342257976532, \"dimension\": 5, \"position\": 71}, {\"embedding\": 0.4037908613681793, \"dimension\": 5, \"position\": 72}, {\"embedding\": 0.543117880821228, \"dimension\": 5, \"position\": 73}, {\"embedding\": 0.6688309907913208, \"dimension\": 5, \"position\": 74}, {\"embedding\": 0.7777789831161499, \"dimension\": 5, \"position\": 75}, {\"embedding\": 0.8672309517860413, \"dimension\": 5, \"position\": 76}, {\"embedding\": 0.9349446296691895, \"dimension\": 5, \"position\": 77}, {\"embedding\": 0.9792226552963257, \"dimension\": 5, \"position\": 78}, {\"embedding\": 0.998955249786377, \"dimension\": 5, \"position\": 79}, {\"embedding\": 0.9936476349830627, \"dimension\": 5, \"position\": 80}, {\"embedding\": 0.9634328484535217, \"dimension\": 5, \"position\": 81}, {\"embedding\": 0.9090684056282043, \"dimension\": 5, \"position\": 82}, {\"embedding\": 0.8319169878959656, \"dimension\": 5, \"position\": 83}, {\"embedding\": 0.733912467956543, \"dimension\": 5, \"position\": 84}, {\"embedding\": 0.617511510848999, \"dimension\": 5, \"position\": 85}, {\"embedding\": 0.4856317937374115, \"dimension\": 5, \"position\": 86}, {\"embedding\": 0.3415791094303131, \"dimension\": 5, \"position\": 87}, {\"embedding\": 0.18896427750587463, \"dimension\": 5, \"position\": 88}, {\"embedding\": 0.0316128134727478, \"dimension\": 5, \"position\": 89}, {\"embedding\": -0.12653106451034546, \"dimension\": 5, \"position\": 90}, {\"embedding\": -0.28150418400764465, \"dimension\": 5, \"position\": 91}, {\"embedding\": -0.4294200837612152, \"dimension\": 5, \"position\": 92}, {\"embedding\": -0.5665720105171204, \"dimension\": 5, \"position\": 93}, {\"embedding\": -0.6895220875740051, \"dimension\": 5, \"position\": 94}, {\"embedding\": -0.7951884269714355, \"dimension\": 5, \"position\": 95}, {\"embedding\": -0.880922257900238, \"dimension\": 5, \"position\": 96}, {\"embedding\": -0.9445747137069702, \"dimension\": 5, \"position\": 97}, {\"embedding\": -0.9845501184463501, \"dimension\": 5, \"position\": 98}, {\"embedding\": -0.9998465180397034, \"dimension\": 5, \"position\": 99}, {\"embedding\": 0.0, \"dimension\": 6, \"position\": 0}, {\"embedding\": 0.06305388361215591, \"dimension\": 6, \"position\": 1}, {\"embedding\": 0.12585683166980743, \"dimension\": 6, \"position\": 2}, {\"embedding\": 0.18815888464450836, \"dimension\": 6, \"position\": 3}, {\"embedding\": 0.24971213936805725, \"dimension\": 6, \"position\": 4}, {\"embedding\": 0.31027159094810486, \"dimension\": 6, \"position\": 5}, {\"embedding\": 0.3695962131023407, \"dimension\": 6, \"position\": 6}, {\"embedding\": 0.4274499714374542, \"dimension\": 6, \"position\": 7}, {\"embedding\": 0.4836025834083557, \"dimension\": 6, \"position\": 8}, {\"embedding\": 0.5378305912017822, \"dimension\": 6, \"position\": 9}, {\"embedding\": 0.5899181365966797, \"dimension\": 6, \"position\": 10}, {\"embedding\": 0.6396579146385193, \"dimension\": 6, \"position\": 11}, {\"embedding\": 0.6868520379066467, \"dimension\": 6, \"position\": 12}, {\"embedding\": 0.7313126921653748, \"dimension\": 6, \"position\": 13}, {\"embedding\": 0.7728629112243652, \"dimension\": 6, \"position\": 14}, {\"embedding\": 0.8113372921943665, \"dimension\": 6, \"position\": 15}, {\"embedding\": 0.8465827703475952, \"dimension\": 6, \"position\": 16}, {\"embedding\": 0.8784590363502502, \"dimension\": 6, \"position\": 17}, {\"embedding\": 0.9068393111228943, \"dimension\": 6, \"position\": 18}, {\"embedding\": 0.9316105246543884, \"dimension\": 6, \"position\": 19}, {\"embedding\": 0.9526742100715637, \"dimension\": 6, \"position\": 20}, {\"embedding\": 0.9699464440345764, \"dimension\": 6, \"position\": 21}, {\"embedding\": 0.9833585619926453, \"dimension\": 6, \"position\": 22}, {\"embedding\": 0.9928570985794067, \"dimension\": 6, \"position\": 23}, {\"embedding\": 0.9984043836593628, \"dimension\": 6, \"position\": 24}, {\"embedding\": 0.999978244304657, \"dimension\": 6, \"position\": 25}, {\"embedding\": 0.9975724220275879, \"dimension\": 6, \"position\": 26}, {\"embedding\": 0.9911965131759644, \"dimension\": 6, \"position\": 27}, {\"embedding\": 0.9808759093284607, \"dimension\": 6, \"position\": 28}, {\"embedding\": 0.9666516780853271, \"dimension\": 6, \"position\": 29}, {\"embedding\": 0.9485803842544556, \"dimension\": 6, \"position\": 30}, {\"embedding\": 0.9267339110374451, \"dimension\": 6, \"position\": 31}, {\"embedding\": 0.9011994004249573, \"dimension\": 6, \"position\": 32}, {\"embedding\": 0.8720782399177551, \"dimension\": 6, \"position\": 33}, {\"embedding\": 0.8394865393638611, \"dimension\": 6, \"position\": 34}, {\"embedding\": 0.8035537600517273, \"dimension\": 6, \"position\": 35}, {\"embedding\": 0.7644230127334595, \"dimension\": 6, \"position\": 36}, {\"embedding\": 0.7222501039505005, \"dimension\": 6, \"position\": 37}, {\"embedding\": 0.6772029399871826, \"dimension\": 6, \"position\": 38}, {\"embedding\": 0.6294605135917664, \"dimension\": 6, \"position\": 39}, {\"embedding\": 0.57921302318573, \"dimension\": 6, \"position\": 40}, {\"embedding\": 0.5266605615615845, \"dimension\": 6, \"position\": 41}, {\"embedding\": 0.4720119535923004, \"dimension\": 6, \"position\": 42}, {\"embedding\": 0.41548484563827515, \"dimension\": 6, \"position\": 43}, {\"embedding\": 0.3573042154312134, \"dimension\": 6, \"position\": 44}, {\"embedding\": 0.29770180583000183, \"dimension\": 6, \"position\": 45}, {\"embedding\": 0.23691439628601074, \"dimension\": 6, \"position\": 46}, {\"embedding\": 0.17518411576747894, \"dimension\": 6, \"position\": 47}, {\"embedding\": 0.1127568930387497, \"dimension\": 6, \"position\": 48}, {\"embedding\": 0.04988069087266922, \"dimension\": 6, \"position\": 49}, {\"embedding\": -0.013194027356803417, \"dimension\": 6, \"position\": 50}, {\"embedding\": -0.07621623575687408, \"dimension\": 6, \"position\": 51}, {\"embedding\": -0.1389348804950714, \"dimension\": 6, \"position\": 52}, {\"embedding\": -0.20110084116458893, \"dimension\": 6, \"position\": 53}, {\"embedding\": -0.2624664604663849, \"dimension\": 6, \"position\": 54}, {\"embedding\": -0.3227875530719757, \"dimension\": 6, \"position\": 55}, {\"embedding\": -0.3818237781524658, \"dimension\": 6, \"position\": 56}, {\"embedding\": -0.4393406808376312, \"dimension\": 6, \"position\": 57}, {\"embedding\": -0.49510911107063293, \"dimension\": 6, \"position\": 58}, {\"embedding\": -0.5489069223403931, \"dimension\": 6, \"position\": 59}, {\"embedding\": -0.6005204319953918, \"dimension\": 6, \"position\": 60}, {\"embedding\": -0.6497439742088318, \"dimension\": 6, \"position\": 61}, {\"embedding\": -0.6963817477226257, \"dimension\": 6, \"position\": 62}, {\"embedding\": -0.7402478456497192, \"dimension\": 6, \"position\": 63}, {\"embedding\": -0.7811681628227234, \"dimension\": 6, \"position\": 64}, {\"embedding\": -0.8189795017242432, \"dimension\": 6, \"position\": 65}, {\"embedding\": -0.8535317182540894, \"dimension\": 6, \"position\": 66}, {\"embedding\": -0.8846868872642517, \"dimension\": 6, \"position\": 67}, {\"embedding\": -0.9123212099075317, \"dimension\": 6, \"position\": 68}, {\"embedding\": -0.936324954032898, \"dimension\": 6, \"position\": 69}, {\"embedding\": -0.956602156162262, \"dimension\": 6, \"position\": 70}, {\"embedding\": -0.9730724096298218, \"dimension\": 6, \"position\": 71}, {\"embedding\": -0.9856699705123901, \"dimension\": 6, \"position\": 72}, {\"embedding\": -0.9943448305130005, \"dimension\": 6, \"position\": 73}, {\"embedding\": -0.9990625381469727, \"dimension\": 6, \"position\": 74}, {\"embedding\": -0.9998041391372681, \"dimension\": 6, \"position\": 75}, {\"embedding\": -0.9965668320655823, \"dimension\": 6, \"position\": 76}, {\"embedding\": -0.9893633723258972, \"dimension\": 6, \"position\": 77}, {\"embedding\": -0.9782225489616394, \"dimension\": 6, \"position\": 78}, {\"embedding\": -0.963188648223877, \"dimension\": 6, \"position\": 79}, {\"embedding\": -0.9443213939666748, \"dimension\": 6, \"position\": 80}, {\"embedding\": -0.9216960668563843, \"dimension\": 6, \"position\": 81}, {\"embedding\": -0.8954026699066162, \"dimension\": 6, \"position\": 82}, {\"embedding\": -0.8655455708503723, \"dimension\": 6, \"position\": 83}, {\"embedding\": -0.8322440981864929, \"dimension\": 6, \"position\": 84}, {\"embedding\": -0.795630156993866, \"dimension\": 6, \"position\": 85}, {\"embedding\": -0.7558501362800598, \"dimension\": 6, \"position\": 86}, {\"embedding\": -0.7130619883537292, \"dimension\": 6, \"position\": 87}, {\"embedding\": -0.6674357056617737, \"dimension\": 6, \"position\": 88}, {\"embedding\": -0.6191535592079163, \"dimension\": 6, \"position\": 89}, {\"embedding\": -0.5684073567390442, \"dimension\": 6, \"position\": 90}, {\"embedding\": -0.5153986215591431, \"dimension\": 6, \"position\": 91}, {\"embedding\": -0.46033912897109985, \"dimension\": 6, \"position\": 92}, {\"embedding\": -0.40344759821891785, \"dimension\": 6, \"position\": 93}, {\"embedding\": -0.3449500501155853, \"dimension\": 6, \"position\": 94}, {\"embedding\": -0.28508007526397705, \"dimension\": 6, \"position\": 95}, {\"embedding\": -0.22407560050487518, \"dimension\": 6, \"position\": 96}, {\"embedding\": -0.1621788740158081, \"dimension\": 6, \"position\": 97}, {\"embedding\": -0.09963719546794891, \"dimension\": 6, \"position\": 98}, {\"embedding\": -0.03669850528240204, \"dimension\": 6, \"position\": 99}, {\"embedding\": 1.0, \"dimension\": 7, \"position\": 0}, {\"embedding\": 0.9980100989341736, \"dimension\": 7, \"position\": 1}, {\"embedding\": 0.9920483827590942, \"dimension\": 7, \"position\": 2}, {\"embedding\": 0.9821385741233826, \"dimension\": 7, \"position\": 3}, {\"embedding\": 0.9683201313018799, \"dimension\": 7, \"position\": 4}, {\"embedding\": 0.9506479501724243, \"dimension\": 7, \"position\": 5}, {\"embedding\": 0.9291924834251404, \"dimension\": 7, \"position\": 6}, {\"embedding\": 0.9040390253067017, \"dimension\": 7, \"position\": 7}, {\"embedding\": 0.8752877116203308, \"dimension\": 7, \"position\": 8}, {\"embedding\": 0.8430529236793518, \"dimension\": 7, \"position\": 9}, {\"embedding\": 0.8074630498886108, \"dimension\": 7, \"position\": 10}, {\"embedding\": 0.7686597108840942, \"dimension\": 7, \"position\": 11}, {\"embedding\": 0.7267972826957703, \"dimension\": 7, \"position\": 12}, {\"embedding\": 0.6820423603057861, \"dimension\": 7, \"position\": 13}, {\"embedding\": 0.6345730423927307, \"dimension\": 7, \"position\": 14}, {\"embedding\": 0.5845783352851868, \"dimension\": 7, \"position\": 15}, {\"embedding\": 0.532257080078125, \"dimension\": 7, \"position\": 16}, {\"embedding\": 0.47781768441200256, \"dimension\": 7, \"position\": 17}, {\"embedding\": 0.4214765727519989, \"dimension\": 7, \"position\": 18}, {\"embedding\": 0.36345821619033813, \"dimension\": 7, \"position\": 19}, {\"embedding\": 0.30399325489997864, \"dimension\": 7, \"position\": 20}, {\"embedding\": 0.243318572640419, \"dimension\": 7, \"position\": 21}, {\"embedding\": 0.18167544901371002, \"dimension\": 7, \"position\": 22}, {\"embedding\": 0.11930941045284271, \"dimension\": 7, \"position\": 23}, {\"embedding\": 0.056468550115823746, \"dimension\": 7, \"position\": 24}, {\"embedding\": -0.006597157102078199, \"dimension\": 7, \"position\": 25}, {\"embedding\": -0.06963648647069931, \"dimension\": 7, \"position\": 26}, {\"embedding\": -0.1323987990617752, \"dimension\": 7, \"position\": 27}, {\"embedding\": -0.1946340948343277, \"dimension\": 7, \"position\": 28}, {\"embedding\": -0.25609490275382996, \"dimension\": 7, \"position\": 29}, {\"embedding\": -0.31653639674186707, \"dimension\": 7, \"position\": 30}, {\"embedding\": -0.37571826577186584, \"dimension\": 7, \"position\": 31}, {\"embedding\": -0.43340474367141724, \"dimension\": 7, \"position\": 32}, {\"embedding\": -0.4893665015697479, \"dimension\": 7, \"position\": 33}, {\"embedding\": -0.5433804988861084, \"dimension\": 7, \"position\": 34}, {\"embedding\": -0.5952321887016296, \"dimension\": 7, \"position\": 35}, {\"embedding\": -0.6447150111198425, \"dimension\": 7, \"position\": 36}, {\"embedding\": -0.6916319727897644, \"dimension\": 7, \"position\": 37}, {\"embedding\": -0.7357962727546692, \"dimension\": 7, \"position\": 38}, {\"embedding\": -0.7770324349403381, \"dimension\": 7, \"position\": 39}, {\"embedding\": -0.8151761889457703, \"dimension\": 7, \"position\": 40}, {\"embedding\": -0.8500756621360779, \"dimension\": 7, \"position\": 41}, {\"embedding\": -0.8815921545028687, \"dimension\": 7, \"position\": 42}, {\"embedding\": -0.9096000790596008, \"dimension\": 7, \"position\": 43}, {\"embedding\": -0.933988094329834, \"dimension\": 7, \"position\": 44}, {\"embedding\": -0.9546589255332947, \"dimension\": 7, \"position\": 45}, {\"embedding\": -0.971530556678772, \"dimension\": 7, \"position\": 46}, {\"embedding\": -0.9845356941223145, \"dimension\": 7, \"position\": 47}, {\"embedding\": -0.9936226010322571, \"dimension\": 7, \"position\": 48}, {\"embedding\": -0.998755156993866, \"dimension\": 7, \"position\": 49}, {\"embedding\": -0.9999129772186279, \"dimension\": 7, \"position\": 50}, {\"embedding\": -0.9970912933349609, \"dimension\": 7, \"position\": 51}, {\"embedding\": -0.9903014898300171, \"dimension\": 7, \"position\": 52}, {\"embedding\": -0.9795705676078796, \"dimension\": 7, \"position\": 53}, {\"embedding\": -0.964941143989563, \"dimension\": 7, \"position\": 54}, {\"embedding\": -0.9464714527130127, \"dimension\": 7, \"position\": 55}, {\"embedding\": -0.9242351651191711, \"dimension\": 7, \"position\": 56}, {\"embedding\": -0.8983205556869507, \"dimension\": 7, \"position\": 57}, {\"embedding\": -0.8688308000564575, \"dimension\": 7, \"position\": 58}, {\"embedding\": -0.8358834981918335, \"dimension\": 7, \"position\": 59}, {\"embedding\": -0.7996094226837158, \"dimension\": 7, \"position\": 60}, {\"embedding\": -0.7601531147956848, \"dimension\": 7, \"position\": 61}, {\"embedding\": -0.7176715731620789, \"dimension\": 7, \"position\": 62}, {\"embedding\": -0.6723340749740601, \"dimension\": 7, \"position\": 63}, {\"embedding\": -0.6243206262588501, \"dimension\": 7, \"position\": 64}, {\"embedding\": -0.5738227963447571, \"dimension\": 7, \"position\": 65}, {\"embedding\": -0.5210408568382263, \"dimension\": 7, \"position\": 66}, {\"embedding\": -0.46618568897247314, \"dimension\": 7, \"position\": 67}, {\"embedding\": -0.4094752371311188, \"dimension\": 7, \"position\": 68}, {\"embedding\": -0.3511347472667694, \"dimension\": 7, \"position\": 69}, {\"embedding\": -0.2913972735404968, \"dimension\": 7, \"position\": 70}, {\"embedding\": -0.23049965500831604, \"dimension\": 7, \"position\": 71}, {\"embedding\": -0.1686851680278778, \"dimension\": 7, \"position\": 72}, {\"embedding\": -0.10619935393333435, \"dimension\": 7, \"position\": 73}, {\"embedding\": -0.04329042136669159, \"dimension\": 7, \"position\": 74}, {\"embedding\": 0.019790323451161385, \"dimension\": 7, \"position\": 75}, {\"embedding\": 0.08279230445623398, \"dimension\": 7, \"position\": 76}, {\"embedding\": 0.14546526968479156, \"dimension\": 7, \"position\": 77}, {\"embedding\": 0.20755885541439056, \"dimension\": 7, \"position\": 78}, {\"embedding\": 0.2688263952732086, \"dimension\": 7, \"position\": 79}, {\"embedding\": 0.3290245532989502, \"dimension\": 7, \"position\": 80}, {\"embedding\": 0.3879128098487854, \"dimension\": 7, \"position\": 81}, {\"embedding\": 0.4452572762966156, \"dimension\": 7, \"position\": 82}, {\"embedding\": 0.5008301138877869, \"dimension\": 7, \"position\": 83}, {\"embedding\": 0.5544094443321228, \"dimension\": 7, \"position\": 84}, {\"embedding\": 0.605782687664032, \"dimension\": 7, \"position\": 85}, {\"embedding\": 0.6547446846961975, \"dimension\": 7, \"position\": 86}, {\"embedding\": 0.7011010050773621, \"dimension\": 7, \"position\": 87}, {\"embedding\": 0.7446674108505249, \"dimension\": 7, \"position\": 88}, {\"embedding\": 0.7852699160575867, \"dimension\": 7, \"position\": 89}, {\"embedding\": 0.8227472901344299, \"dimension\": 7, \"position\": 90}, {\"embedding\": 0.856950581073761, \"dimension\": 7, \"position\": 91}, {\"embedding\": 0.8877431154251099, \"dimension\": 7, \"position\": 92}, {\"embedding\": 0.9150027632713318, \"dimension\": 7, \"position\": 93}, {\"embedding\": 0.9386210441589355, \"dimension\": 7, \"position\": 94}, {\"embedding\": 0.9585037231445312, \"dimension\": 7, \"position\": 95}, {\"embedding\": 0.9745717644691467, \"dimension\": 7, \"position\": 96}, {\"embedding\": 0.9867613911628723, \"dimension\": 7, \"position\": 97}, {\"embedding\": 0.9950238466262817, \"dimension\": 7, \"position\": 98}, {\"embedding\": 0.9993264079093933, \"dimension\": 7, \"position\": 99}]}}, {\"mode\": \"vega-lite\"});\n",
              "</script>"
            ],
            "text/plain": [
              "alt.Chart(...)"
            ]
          },
          "metadata": {},
          "execution_count": 11
        }
      ],
      "source": [
        "\n",
        "# 位置编码将添加一个基于位置的正弦波。波的频率和偏移对于每个维度都是不同的\n",
        "\n",
        "def example_positional_encoding():\n",
        "  pe = PositionalEncoding(20, 0) # d_model 维度是20，dropout 为 0\n",
        "  y = pe.forward(torch.zeros(1, 100, 20)) # 接受一个张量 ，batch_size 为1, sequence_length = 100, d_model = 20\n",
        "  print(y)\n",
        "  print(y.shape) # 经过Positional encoding 之后的结果 维度为 ([1, 100, 20]) 1个batchsize，100的 sequence length， 20个d_model\n",
        "  data = pd.concat(\n",
        "        [\n",
        "            # 创建一个三列的 dataframe \n",
        "            # 三列的名称分别为：\"embedding\"、\"dimension\"、\"position\"\n",
        "            # \"embedding\" 列的数据来自 y 矩阵的第一行，第 dim 维\n",
        "            # \"dimension\" 列的数据为当前循环变量 dim 的值 4,5,6,7\n",
        "            # \"position\" 列的数据是一个长度为 100 的数字列表，表示位置\n",
        "            # 组成在一起构成 4个dim 的dataFrame\n",
        "            pd.DataFrame(\n",
        "                {\n",
        "                    \"embedding\": y[0, :, dim], # 结果是一个大小为 100 的一维数组，其中的元素是 y 的第一维第一个数据、第二维所有元素、第三维指定维的数据(所有sequece的第dim向量)\n",
        "                    \"dimension\": dim,\n",
        "                    \"position\": list(range(100)),\n",
        "                }\n",
        "            )\n",
        "            for dim in [4, 5, 6, 7]\n",
        "        ]\n",
        "    )\n",
        "  print(data)\n",
        "  # 验证不同的pos下，不同的dim具备唯一的数据表示，代表其绝对位置的唯一性\n",
        "  return ( alt.Chart(data)\n",
        "        .mark_line()\n",
        "        .properties(width=800)\n",
        "        .encode(x=\"position\", y=\"embedding\", color=\"dimension:N\")\n",
        "        .interactive() )\n",
        "  \n",
        "show_example(example_positional_encoding)\n",
        "\n"
      ]
    },
    {
      "cell_type": "markdown",
      "metadata": {
        "id": "CKdgLjFy_TlN"
      },
      "source": [
        "## 搭建 多头注意力层"
      ]
    },
    {
      "cell_type": "markdown",
      "metadata": {
        "id": "_Ndw6u_6Uh-y"
      },
      "source": [
        "![image.png](data:image/png;base64,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)\n",
        "\n",
        "![image.png](data:image/png;base64,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)"
      ]
    },
    {
      "cell_type": "markdown",
      "metadata": {
        "id": "9sUU6WvPAGCV"
      },
      "source": [
        "- Q向量与K向量进行矩阵相乘\n",
        "- 进行规整化处理\n",
        "- 基于需求进行掩码\n",
        "- 进行softmax归一化\n",
        "- 结果与V向量进行矩阵相乘"
      ]
    },
    {
      "cell_type": "code",
      "execution_count": null,
      "metadata": {
        "id": "9JUjrQrzAuJG"
      },
      "outputs": [],
      "source": [
        "# 定义 attention 操作\n",
        "\n",
        "def attention(query, key, value, mask=None, dropout=None):\n",
        "  d_k = query.size(-1) # 获取 query 张量最后一维的大小\n",
        "  # Q矩阵与 key矩阵的的倒数第二维度和倒数第一维度的互换矩阵\n",
        "  scores = torch.matmul(query, key.transpose(-2, -1)) / math.sqrt(d_k)\n",
        "  # mask 操作\n",
        "  if mask is not None:\n",
        "        scores = scores.masked_fill(mask == 0, -1e9) # mask 是一个二维向量，使用masked_fill函数将分数中等于0的值替换为-1e9（即高于任何实际数值的一个负数\n",
        "  # softmax进行归一化\n",
        "  p_attn = scores.softmax(dim=-1)\n",
        "  # 对参数进行dropout操作\n",
        "  if dropout is not None:\n",
        "        p_attn = dropout(p_attn)\n",
        "  return torch.matmul(p_attn, value), p_attn # 返回attention 的结果和\n"
      ]
    },
    {
      "cell_type": "code",
      "source": [
        "class MultiHeadedAttention(nn.Module):\n",
        "    def __init__(self, h, d_model, dropout=0.1):\n",
        "        \"Take in model size and number of heads.\"\n",
        "        super(MultiHeadedAttention, self).__init__()\n",
        "        assert d_model % h == 0\n",
        "        # We assume d_v always equals d_k\n",
        "        self.d_k = d_model // h # QKV的维度是 d_model / count of head\n",
        "        self.h = h # count of head\n",
        "        self.linears = clones(nn.Linear(d_model, d_model), 4) # 四个线性全连接层，输入和输出是一致的\n",
        "        self.attn = None\n",
        "        self.dropout = nn.Dropout(p=dropout)\n",
        "\n",
        "    def forward(self, query, key, value, mask=None):\n",
        "        \"Implements Figure 2\"\n",
        "        if mask is not None:\n",
        "            # Same mask applied to all h heads.\n",
        "            # 如果你的 mask 张量的形状为 (batch_size, seq_len)，那么在第一维上执行 unsqueeze 操作后，它的形状就变为了 (batch_size, 1, seq_len)\n",
        "            mask = mask.unsqueeze(1)\n",
        "        nbatches = query.size(0) # Query 张量第0维度的大小\n",
        "\n",
        "        # 1) Do all the linear projections in batch from d_model => h x d_k\n",
        "        # x每次获取的分别是 query，key，value\n",
        "        # 使用 lin 函数对 x 进行线性变换：lin(x)\n",
        "        # 对线性变换的结果使用 view 方法重塑其形状，形状变为 (nbatches, -1, self.h, self.d_k)\n",
        "        # nbatches 是批量大小\n",
        "        # 头的数量\n",
        "        # query/key/value 向量的维度\n",
        "        # 第二维的维度由其他维的大小自动推导\n",
        "        # 再将 nbatches 和 head 进行维度互换，转换为 (nbatches, self.h, - 1, self.d_k)\n",
        "        query, key, value = [\n",
        "            lin(x).view(nbatches, -1, self.h, self.d_k).transpose(1, 2)\n",
        "            for lin, x in zip(self.linears, (query, key, value))\n",
        "        ]\n",
        "\n",
        "        # 2) Apply attention on all the projected vectors in batch.\n",
        "        # mask 向量在最后一维才具备数据意义\n",
        "        x, self.attn = attention(\n",
        "            query, key, value, mask=mask, dropout=self.dropout\n",
        "        )\n",
        "\n",
        "        # 3) \"Concat\" using a view and apply a final linear.\n",
        "        # 将x向量的第一维度和第二维进行维护互换\n",
        "        # 使用 contiguous 方法将 x 连续化。连续化意味着张量的内存是连续的，有利于使用 CUDA 加速等一些高效操作\n",
        "        # 用 view 方法重塑张量的形状，形状变为 (nbatches, -1, self.h * self.d_k)\n",
        "        x = (\n",
        "            x.transpose(1, 2)\n",
        "            .contiguous()\n",
        "            .view(nbatches, -1, self.h * self.d_k)\n",
        "        )\n",
        "        del query\n",
        "        del key\n",
        "        del value\n",
        "        return self.linears[-1](x) # 使用最后一个全连接线性层对x进处理并返回"
      ],
      "metadata": {
        "id": "uczqPB3SjTsx"
      },
      "execution_count": null,
      "outputs": []
    },
    {
      "cell_type": "markdown",
      "source": [
        "## 处理decoder中的mask防治attention作弊\n",
        "- decoder 中的attention应当只能看到自己和自己之前的信息，而不应该看到自己身后的信息"
      ],
      "metadata": {
        "id": "j8Qd-aWhn7zt"
      }
    },
    {
      "cell_type": "code",
      "source": [
        "# 实现了生成「遮挡」矩阵的功能，这个矩阵用于在某些序列模型（如 Transformer 模型）中遮盖（mask）未来位置的信息\n",
        "# 函数 subsequent_mask 的输入参数 size 是遮盖矩阵的尺寸。遮盖矩阵的大小是 attn_shape，它是一个三维的张量，每一维的大小分别是 1, size, size\n",
        "# torch.triu(torch.ones(attn_shape), diagonal=1) 生成一个三角形的矩阵，其中参数 diagonal=1 表示对角线上方的元素都为 1。接下来，使用 .type(torch.uint8) 转换矩阵元素的数据类型为 torch.uint8\n",
        "# 使用 subsequent_mask == 0 返回一个逻辑矩阵，其中对角线上方的位置的值为 0，其余位置的值为 1\n",
        "def subsequent_mask(size):\n",
        "    \"Mask out subsequent positions.\"\n",
        "    attn_shape = (1, size, size)\n",
        "    subsequent_mask = torch.triu(torch.ones(attn_shape), diagonal=1).type(\n",
        "        torch.uint8\n",
        "    )\n",
        "    return subsequent_mask == 0"
      ],
      "metadata": {
        "id": "SA_PSNODoYtM"
      },
      "execution_count": null,
      "outputs": []
    },
    {
      "cell_type": "code",
      "source": [
        "# 掩码功能的实现展示\n",
        "def example_mask():\n",
        "    LS_data = pd.concat(\n",
        "        [\n",
        "            pd.DataFrame(\n",
        "                {\n",
        "                    \"Subsequent Mask\": subsequent_mask(20)[0][x, y].flatten(), # 获取第0维下，[x,y]像素位置的值1或0\n",
        "                    \"Window\": y,\n",
        "                    \"Masking\": x,\n",
        "                }\n",
        "            )\n",
        "            for y in range(20)\n",
        "            for x in range(20)\n",
        "        ]\n",
        "    )\n",
        "\n",
        "    return (\n",
        "        alt.Chart(LS_data)\n",
        "        .mark_rect()\n",
        "        .properties(height=250, width=250)\n",
        "        .encode(\n",
        "            alt.X(\"Window:O\"),\n",
        "            alt.Y(\"Masking:O\"),\n",
        "            alt.Color(\"Subsequent Mask:Q\", scale=alt.Scale(scheme=\"viridis\")),\n",
        "        )\n",
        "        .interactive()\n",
        "    )\n",
        "\n",
        "\n",
        "show_example(example_mask)"
      ],
      "metadata": {
        "colab": {
          "base_uri": "https://localhost:8080/",
          "height": 314
        },
        "id": "VCiJLXM_qMby",
        "outputId": "ecf6134a-ae3e-471c-c156-b74ee58bf6c0"
      },
      "execution_count": null,
      "outputs": [
        {
          "output_type": "execute_result",
          "data": {
            "text/html": [
              "\n",
              "<div id=\"altair-viz-741a068418a841e18366a9cfad06e95f\"></div>\n",
              "<script type=\"text/javascript\">\n",
              "  var VEGA_DEBUG = (typeof VEGA_DEBUG == \"undefined\") ? {} : VEGA_DEBUG;\n",
              "  (function(spec, embedOpt){\n",
              "    let outputDiv = document.currentScript.previousElementSibling;\n",
              "    if (outputDiv.id !== \"altair-viz-741a068418a841e18366a9cfad06e95f\") {\n",
              "      outputDiv = document.getElementById(\"altair-viz-741a068418a841e18366a9cfad06e95f\");\n",
              "    }\n",
              "    const paths = {\n",
              "      \"vega\": \"https://cdn.jsdelivr.net/npm//vega@5?noext\",\n",
              "      \"vega-lib\": \"https://cdn.jsdelivr.net/npm//vega-lib?noext\",\n",
              "      \"vega-lite\": \"https://cdn.jsdelivr.net/npm//vega-lite@4.17.0?noext\",\n",
              "      \"vega-embed\": \"https://cdn.jsdelivr.net/npm//vega-embed@6?noext\",\n",
              "    };\n",
              "\n",
              "    function maybeLoadScript(lib, version) {\n",
              "      var key = `${lib.replace(\"-\", \"\")}_version`;\n",
              "      return (VEGA_DEBUG[key] == version) ?\n",
              "        Promise.resolve(paths[lib]) :\n",
              "        new Promise(function(resolve, reject) {\n",
              "          var s = document.createElement('script');\n",
              "          document.getElementsByTagName(\"head\")[0].appendChild(s);\n",
              "          s.async = true;\n",
              "          s.onload = () => {\n",
              "            VEGA_DEBUG[key] = version;\n",
              "            return resolve(paths[lib]);\n",
              "          };\n",
              "          s.onerror = () => reject(`Error loading script: ${paths[lib]}`);\n",
              "          s.src = paths[lib];\n",
              "        });\n",
              "    }\n",
              "\n",
              "    function showError(err) {\n",
              "      outputDiv.innerHTML = `<div class=\"error\" style=\"color:red;\">${err}</div>`;\n",
              "      throw err;\n",
              "    }\n",
              "\n",
              "    function displayChart(vegaEmbed) {\n",
              "      vegaEmbed(outputDiv, spec, embedOpt)\n",
              "        .catch(err => showError(`Javascript Error: ${err.message}<br>This usually means there's a typo in your chart specification. See the javascript console for the full traceback.`));\n",
              "    }\n",
              "\n",
              "    if(typeof define === \"function\" && define.amd) {\n",
              "      requirejs.config({paths});\n",
              "      require([\"vega-embed\"], displayChart, err => showError(`Error loading script: ${err.message}`));\n",
              "    } else {\n",
              "      maybeLoadScript(\"vega\", \"5\")\n",
              "        .then(() => maybeLoadScript(\"vega-lite\", \"4.17.0\"))\n",
              "        .then(() => maybeLoadScript(\"vega-embed\", \"6\"))\n",
              "        .catch(showError)\n",
              "        .then(() => displayChart(vegaEmbed));\n",
              "    }\n",
              "  })({\"config\": {\"view\": {\"continuousWidth\": 400, \"continuousHeight\": 300}}, \"data\": {\"name\": \"data-ac10fa76400c18dafea2d104267bb03d\"}, \"mark\": \"rect\", \"encoding\": {\"color\": {\"field\": \"Subsequent Mask\", \"scale\": {\"scheme\": \"viridis\"}, \"type\": \"quantitative\"}, \"x\": {\"field\": \"Window\", \"type\": \"ordinal\"}, \"y\": {\"field\": \"Masking\", \"type\": \"ordinal\"}}, \"height\": 250, \"selection\": {\"selector003\": {\"type\": \"interval\", \"bind\": \"scales\", \"encodings\": [\"x\", \"y\"]}}, \"width\": 250, \"$schema\": \"https://vega.github.io/schema/vega-lite/v4.17.0.json\", \"datasets\": {\"data-ac10fa76400c18dafea2d104267bb03d\": [{\"Subsequent Mask\": true, \"Window\": 0, \"Masking\": 0}, {\"Subsequent Mask\": true, \"Window\": 0, \"Masking\": 1}, {\"Subsequent Mask\": true, \"Window\": 0, \"Masking\": 2}, {\"Subsequent Mask\": true, \"Window\": 0, \"Masking\": 3}, {\"Subsequent Mask\": true, \"Window\": 0, \"Masking\": 4}, {\"Subsequent Mask\": true, \"Window\": 0, \"Masking\": 5}, {\"Subsequent Mask\": true, \"Window\": 0, \"Masking\": 6}, {\"Subsequent Mask\": true, \"Window\": 0, \"Masking\": 7}, {\"Subsequent Mask\": true, \"Window\": 0, \"Masking\": 8}, {\"Subsequent Mask\": true, \"Window\": 0, \"Masking\": 9}, {\"Subsequent Mask\": true, \"Window\": 0, \"Masking\": 10}, {\"Subsequent Mask\": true, \"Window\": 0, \"Masking\": 11}, {\"Subsequent Mask\": true, \"Window\": 0, \"Masking\": 12}, {\"Subsequent Mask\": true, \"Window\": 0, \"Masking\": 13}, {\"Subsequent Mask\": true, \"Window\": 0, \"Masking\": 14}, {\"Subsequent Mask\": true, \"Window\": 0, \"Masking\": 15}, {\"Subsequent Mask\": true, \"Window\": 0, \"Masking\": 16}, {\"Subsequent Mask\": true, \"Window\": 0, \"Masking\": 17}, {\"Subsequent Mask\": true, \"Window\": 0, \"Masking\": 18}, {\"Subsequent Mask\": true, \"Window\": 0, \"Masking\": 19}, {\"Subsequent Mask\": false, \"Window\": 1, \"Masking\": 0}, {\"Subsequent Mask\": true, \"Window\": 1, \"Masking\": 1}, {\"Subsequent Mask\": true, \"Window\": 1, \"Masking\": 2}, {\"Subsequent Mask\": true, \"Window\": 1, \"Masking\": 3}, {\"Subsequent Mask\": true, \"Window\": 1, \"Masking\": 4}, {\"Subsequent Mask\": true, \"Window\": 1, \"Masking\": 5}, {\"Subsequent Mask\": true, \"Window\": 1, \"Masking\": 6}, {\"Subsequent Mask\": true, \"Window\": 1, \"Masking\": 7}, {\"Subsequent Mask\": true, \"Window\": 1, \"Masking\": 8}, {\"Subsequent Mask\": true, \"Window\": 1, \"Masking\": 9}, {\"Subsequent Mask\": true, \"Window\": 1, \"Masking\": 10}, {\"Subsequent Mask\": true, \"Window\": 1, \"Masking\": 11}, {\"Subsequent Mask\": true, \"Window\": 1, \"Masking\": 12}, {\"Subsequent Mask\": true, \"Window\": 1, \"Masking\": 13}, {\"Subsequent Mask\": true, \"Window\": 1, \"Masking\": 14}, {\"Subsequent Mask\": true, \"Window\": 1, \"Masking\": 15}, {\"Subsequent Mask\": true, \"Window\": 1, \"Masking\": 16}, {\"Subsequent Mask\": true, \"Window\": 1, \"Masking\": 17}, {\"Subsequent Mask\": true, \"Window\": 1, \"Masking\": 18}, {\"Subsequent Mask\": true, \"Window\": 1, \"Masking\": 19}, {\"Subsequent Mask\": false, \"Window\": 2, \"Masking\": 0}, {\"Subsequent Mask\": false, \"Window\": 2, \"Masking\": 1}, {\"Subsequent Mask\": true, \"Window\": 2, \"Masking\": 2}, {\"Subsequent Mask\": true, \"Window\": 2, \"Masking\": 3}, {\"Subsequent Mask\": true, \"Window\": 2, \"Masking\": 4}, {\"Subsequent Mask\": true, \"Window\": 2, \"Masking\": 5}, {\"Subsequent Mask\": true, \"Window\": 2, \"Masking\": 6}, {\"Subsequent Mask\": true, \"Window\": 2, \"Masking\": 7}, {\"Subsequent Mask\": true, \"Window\": 2, \"Masking\": 8}, {\"Subsequent Mask\": true, \"Window\": 2, \"Masking\": 9}, {\"Subsequent Mask\": true, \"Window\": 2, \"Masking\": 10}, {\"Subsequent Mask\": true, \"Window\": 2, \"Masking\": 11}, {\"Subsequent Mask\": true, \"Window\": 2, \"Masking\": 12}, {\"Subsequent Mask\": true, \"Window\": 2, \"Masking\": 13}, {\"Subsequent Mask\": true, \"Window\": 2, \"Masking\": 14}, {\"Subsequent Mask\": true, \"Window\": 2, \"Masking\": 15}, {\"Subsequent Mask\": true, \"Window\": 2, \"Masking\": 16}, {\"Subsequent Mask\": true, \"Window\": 2, \"Masking\": 17}, {\"Subsequent Mask\": true, \"Window\": 2, \"Masking\": 18}, {\"Subsequent Mask\": true, \"Window\": 2, \"Masking\": 19}, {\"Subsequent Mask\": false, \"Window\": 3, \"Masking\": 0}, {\"Subsequent Mask\": false, \"Window\": 3, \"Masking\": 1}, {\"Subsequent Mask\": false, \"Window\": 3, \"Masking\": 2}, {\"Subsequent Mask\": true, \"Window\": 3, \"Masking\": 3}, {\"Subsequent Mask\": true, \"Window\": 3, \"Masking\": 4}, {\"Subsequent Mask\": true, \"Window\": 3, \"Masking\": 5}, {\"Subsequent Mask\": true, \"Window\": 3, \"Masking\": 6}, {\"Subsequent Mask\": true, \"Window\": 3, \"Masking\": 7}, {\"Subsequent Mask\": true, \"Window\": 3, \"Masking\": 8}, {\"Subsequent Mask\": true, \"Window\": 3, \"Masking\": 9}, {\"Subsequent Mask\": true, \"Window\": 3, \"Masking\": 10}, {\"Subsequent Mask\": true, \"Window\": 3, \"Masking\": 11}, {\"Subsequent Mask\": true, \"Window\": 3, \"Masking\": 12}, {\"Subsequent Mask\": true, \"Window\": 3, \"Masking\": 13}, {\"Subsequent Mask\": true, \"Window\": 3, \"Masking\": 14}, {\"Subsequent Mask\": true, \"Window\": 3, \"Masking\": 15}, {\"Subsequent Mask\": true, \"Window\": 3, \"Masking\": 16}, {\"Subsequent Mask\": true, \"Window\": 3, \"Masking\": 17}, {\"Subsequent Mask\": true, \"Window\": 3, \"Masking\": 18}, {\"Subsequent Mask\": true, \"Window\": 3, \"Masking\": 19}, {\"Subsequent Mask\": false, \"Window\": 4, \"Masking\": 0}, {\"Subsequent Mask\": false, \"Window\": 4, \"Masking\": 1}, {\"Subsequent Mask\": false, \"Window\": 4, \"Masking\": 2}, {\"Subsequent Mask\": false, \"Window\": 4, \"Masking\": 3}, {\"Subsequent Mask\": true, \"Window\": 4, \"Masking\": 4}, {\"Subsequent Mask\": true, \"Window\": 4, \"Masking\": 5}, {\"Subsequent Mask\": true, \"Window\": 4, \"Masking\": 6}, {\"Subsequent Mask\": true, \"Window\": 4, \"Masking\": 7}, {\"Subsequent Mask\": true, \"Window\": 4, \"Masking\": 8}, {\"Subsequent Mask\": true, \"Window\": 4, \"Masking\": 9}, {\"Subsequent Mask\": true, \"Window\": 4, \"Masking\": 10}, {\"Subsequent Mask\": true, \"Window\": 4, \"Masking\": 11}, {\"Subsequent Mask\": true, \"Window\": 4, \"Masking\": 12}, {\"Subsequent Mask\": true, \"Window\": 4, \"Masking\": 13}, {\"Subsequent Mask\": true, \"Window\": 4, \"Masking\": 14}, {\"Subsequent Mask\": true, \"Window\": 4, \"Masking\": 15}, {\"Subsequent Mask\": true, \"Window\": 4, \"Masking\": 16}, {\"Subsequent Mask\": true, \"Window\": 4, \"Masking\": 17}, {\"Subsequent Mask\": true, \"Window\": 4, \"Masking\": 18}, {\"Subsequent Mask\": true, \"Window\": 4, \"Masking\": 19}, {\"Subsequent Mask\": false, \"Window\": 5, \"Masking\": 0}, {\"Subsequent Mask\": false, \"Window\": 5, \"Masking\": 1}, {\"Subsequent Mask\": false, \"Window\": 5, \"Masking\": 2}, {\"Subsequent Mask\": false, \"Window\": 5, \"Masking\": 3}, {\"Subsequent Mask\": false, \"Window\": 5, \"Masking\": 4}, {\"Subsequent Mask\": true, \"Window\": 5, \"Masking\": 5}, {\"Subsequent Mask\": true, \"Window\": 5, \"Masking\": 6}, {\"Subsequent Mask\": true, \"Window\": 5, \"Masking\": 7}, {\"Subsequent Mask\": true, \"Window\": 5, \"Masking\": 8}, {\"Subsequent Mask\": true, \"Window\": 5, \"Masking\": 9}, {\"Subsequent Mask\": true, \"Window\": 5, \"Masking\": 10}, {\"Subsequent Mask\": true, \"Window\": 5, \"Masking\": 11}, {\"Subsequent Mask\": true, \"Window\": 5, \"Masking\": 12}, {\"Subsequent Mask\": true, \"Window\": 5, \"Masking\": 13}, {\"Subsequent Mask\": true, \"Window\": 5, \"Masking\": 14}, {\"Subsequent Mask\": true, \"Window\": 5, \"Masking\": 15}, {\"Subsequent Mask\": true, \"Window\": 5, \"Masking\": 16}, {\"Subsequent Mask\": true, \"Window\": 5, \"Masking\": 17}, {\"Subsequent Mask\": true, \"Window\": 5, \"Masking\": 18}, {\"Subsequent Mask\": true, \"Window\": 5, \"Masking\": 19}, {\"Subsequent Mask\": false, \"Window\": 6, \"Masking\": 0}, {\"Subsequent Mask\": false, \"Window\": 6, \"Masking\": 1}, {\"Subsequent Mask\": false, \"Window\": 6, \"Masking\": 2}, {\"Subsequent Mask\": false, \"Window\": 6, \"Masking\": 3}, {\"Subsequent Mask\": false, \"Window\": 6, \"Masking\": 4}, {\"Subsequent Mask\": false, \"Window\": 6, \"Masking\": 5}, {\"Subsequent Mask\": true, \"Window\": 6, \"Masking\": 6}, {\"Subsequent Mask\": true, \"Window\": 6, \"Masking\": 7}, {\"Subsequent Mask\": true, \"Window\": 6, \"Masking\": 8}, {\"Subsequent Mask\": true, \"Window\": 6, \"Masking\": 9}, {\"Subsequent Mask\": true, \"Window\": 6, \"Masking\": 10}, {\"Subsequent Mask\": true, \"Window\": 6, \"Masking\": 11}, {\"Subsequent Mask\": true, \"Window\": 6, \"Masking\": 12}, {\"Subsequent Mask\": true, \"Window\": 6, \"Masking\": 13}, {\"Subsequent Mask\": true, \"Window\": 6, \"Masking\": 14}, {\"Subsequent Mask\": true, \"Window\": 6, \"Masking\": 15}, {\"Subsequent Mask\": true, \"Window\": 6, \"Masking\": 16}, {\"Subsequent Mask\": true, \"Window\": 6, \"Masking\": 17}, {\"Subsequent Mask\": true, \"Window\": 6, \"Masking\": 18}, {\"Subsequent Mask\": true, \"Window\": 6, \"Masking\": 19}, {\"Subsequent Mask\": false, \"Window\": 7, \"Masking\": 0}, {\"Subsequent Mask\": false, \"Window\": 7, \"Masking\": 1}, {\"Subsequent Mask\": false, \"Window\": 7, \"Masking\": 2}, {\"Subsequent Mask\": false, \"Window\": 7, \"Masking\": 3}, {\"Subsequent Mask\": false, \"Window\": 7, \"Masking\": 4}, {\"Subsequent Mask\": false, \"Window\": 7, \"Masking\": 5}, {\"Subsequent Mask\": false, \"Window\": 7, \"Masking\": 6}, {\"Subsequent Mask\": true, \"Window\": 7, \"Masking\": 7}, {\"Subsequent Mask\": true, \"Window\": 7, \"Masking\": 8}, {\"Subsequent Mask\": true, \"Window\": 7, \"Masking\": 9}, {\"Subsequent Mask\": true, \"Window\": 7, \"Masking\": 10}, {\"Subsequent Mask\": true, \"Window\": 7, \"Masking\": 11}, {\"Subsequent Mask\": true, \"Window\": 7, \"Masking\": 12}, {\"Subsequent Mask\": true, \"Window\": 7, \"Masking\": 13}, {\"Subsequent Mask\": true, \"Window\": 7, \"Masking\": 14}, {\"Subsequent Mask\": true, \"Window\": 7, \"Masking\": 15}, {\"Subsequent Mask\": true, \"Window\": 7, \"Masking\": 16}, {\"Subsequent Mask\": true, \"Window\": 7, \"Masking\": 17}, {\"Subsequent Mask\": true, \"Window\": 7, \"Masking\": 18}, {\"Subsequent Mask\": true, \"Window\": 7, \"Masking\": 19}, {\"Subsequent Mask\": false, \"Window\": 8, \"Masking\": 0}, {\"Subsequent Mask\": false, \"Window\": 8, \"Masking\": 1}, {\"Subsequent Mask\": false, \"Window\": 8, \"Masking\": 2}, {\"Subsequent Mask\": false, \"Window\": 8, \"Masking\": 3}, {\"Subsequent Mask\": false, \"Window\": 8, \"Masking\": 4}, {\"Subsequent Mask\": false, \"Window\": 8, \"Masking\": 5}, {\"Subsequent Mask\": false, \"Window\": 8, \"Masking\": 6}, {\"Subsequent Mask\": false, \"Window\": 8, \"Masking\": 7}, {\"Subsequent Mask\": true, \"Window\": 8, \"Masking\": 8}, {\"Subsequent Mask\": true, \"Window\": 8, \"Masking\": 9}, {\"Subsequent Mask\": true, \"Window\": 8, \"Masking\": 10}, {\"Subsequent Mask\": true, \"Window\": 8, \"Masking\": 11}, {\"Subsequent Mask\": true, \"Window\": 8, \"Masking\": 12}, {\"Subsequent Mask\": true, \"Window\": 8, \"Masking\": 13}, {\"Subsequent Mask\": true, \"Window\": 8, \"Masking\": 14}, {\"Subsequent Mask\": true, \"Window\": 8, \"Masking\": 15}, {\"Subsequent Mask\": true, \"Window\": 8, \"Masking\": 16}, {\"Subsequent Mask\": true, \"Window\": 8, \"Masking\": 17}, {\"Subsequent Mask\": true, \"Window\": 8, \"Masking\": 18}, {\"Subsequent Mask\": true, \"Window\": 8, \"Masking\": 19}, {\"Subsequent Mask\": false, \"Window\": 9, \"Masking\": 0}, {\"Subsequent Mask\": false, \"Window\": 9, \"Masking\": 1}, {\"Subsequent Mask\": false, \"Window\": 9, \"Masking\": 2}, {\"Subsequent Mask\": false, \"Window\": 9, \"Masking\": 3}, {\"Subsequent Mask\": false, \"Window\": 9, \"Masking\": 4}, {\"Subsequent Mask\": false, \"Window\": 9, \"Masking\": 5}, {\"Subsequent Mask\": false, \"Window\": 9, \"Masking\": 6}, {\"Subsequent Mask\": false, \"Window\": 9, \"Masking\": 7}, {\"Subsequent Mask\": false, \"Window\": 9, \"Masking\": 8}, {\"Subsequent Mask\": true, \"Window\": 9, \"Masking\": 9}, {\"Subsequent Mask\": true, \"Window\": 9, \"Masking\": 10}, {\"Subsequent Mask\": true, \"Window\": 9, \"Masking\": 11}, {\"Subsequent Mask\": true, \"Window\": 9, \"Masking\": 12}, {\"Subsequent Mask\": true, \"Window\": 9, \"Masking\": 13}, {\"Subsequent Mask\": true, \"Window\": 9, \"Masking\": 14}, {\"Subsequent Mask\": true, \"Window\": 9, \"Masking\": 15}, {\"Subsequent Mask\": true, \"Window\": 9, \"Masking\": 16}, {\"Subsequent Mask\": true, \"Window\": 9, \"Masking\": 17}, {\"Subsequent Mask\": true, \"Window\": 9, \"Masking\": 18}, {\"Subsequent Mask\": true, \"Window\": 9, \"Masking\": 19}, {\"Subsequent Mask\": false, \"Window\": 10, \"Masking\": 0}, {\"Subsequent Mask\": false, \"Window\": 10, \"Masking\": 1}, {\"Subsequent Mask\": false, \"Window\": 10, \"Masking\": 2}, {\"Subsequent Mask\": false, \"Window\": 10, \"Masking\": 3}, {\"Subsequent Mask\": false, \"Window\": 10, \"Masking\": 4}, {\"Subsequent Mask\": false, \"Window\": 10, \"Masking\": 5}, {\"Subsequent Mask\": false, \"Window\": 10, \"Masking\": 6}, {\"Subsequent Mask\": false, \"Window\": 10, \"Masking\": 7}, {\"Subsequent Mask\": false, \"Window\": 10, \"Masking\": 8}, {\"Subsequent Mask\": false, \"Window\": 10, \"Masking\": 9}, {\"Subsequent Mask\": true, \"Window\": 10, \"Masking\": 10}, {\"Subsequent Mask\": true, \"Window\": 10, \"Masking\": 11}, {\"Subsequent Mask\": true, \"Window\": 10, \"Masking\": 12}, {\"Subsequent Mask\": true, \"Window\": 10, \"Masking\": 13}, {\"Subsequent Mask\": true, \"Window\": 10, \"Masking\": 14}, {\"Subsequent Mask\": true, \"Window\": 10, \"Masking\": 15}, {\"Subsequent Mask\": true, \"Window\": 10, \"Masking\": 16}, {\"Subsequent Mask\": true, \"Window\": 10, \"Masking\": 17}, {\"Subsequent Mask\": true, \"Window\": 10, \"Masking\": 18}, {\"Subsequent Mask\": true, \"Window\": 10, \"Masking\": 19}, {\"Subsequent Mask\": false, \"Window\": 11, \"Masking\": 0}, {\"Subsequent Mask\": false, \"Window\": 11, \"Masking\": 1}, {\"Subsequent Mask\": false, \"Window\": 11, \"Masking\": 2}, {\"Subsequent Mask\": false, \"Window\": 11, \"Masking\": 3}, {\"Subsequent Mask\": false, \"Window\": 11, \"Masking\": 4}, {\"Subsequent Mask\": false, \"Window\": 11, \"Masking\": 5}, {\"Subsequent Mask\": false, \"Window\": 11, \"Masking\": 6}, {\"Subsequent Mask\": false, \"Window\": 11, \"Masking\": 7}, {\"Subsequent Mask\": false, \"Window\": 11, \"Masking\": 8}, {\"Subsequent Mask\": false, \"Window\": 11, \"Masking\": 9}, {\"Subsequent Mask\": false, \"Window\": 11, \"Masking\": 10}, {\"Subsequent Mask\": true, \"Window\": 11, \"Masking\": 11}, {\"Subsequent Mask\": true, \"Window\": 11, \"Masking\": 12}, {\"Subsequent Mask\": true, \"Window\": 11, \"Masking\": 13}, {\"Subsequent Mask\": true, \"Window\": 11, \"Masking\": 14}, {\"Subsequent Mask\": true, \"Window\": 11, \"Masking\": 15}, {\"Subsequent Mask\": true, \"Window\": 11, \"Masking\": 16}, {\"Subsequent Mask\": true, \"Window\": 11, \"Masking\": 17}, {\"Subsequent Mask\": true, \"Window\": 11, \"Masking\": 18}, {\"Subsequent Mask\": true, \"Window\": 11, \"Masking\": 19}, {\"Subsequent Mask\": false, \"Window\": 12, \"Masking\": 0}, {\"Subsequent Mask\": false, \"Window\": 12, \"Masking\": 1}, {\"Subsequent Mask\": false, \"Window\": 12, \"Masking\": 2}, {\"Subsequent Mask\": false, \"Window\": 12, \"Masking\": 3}, {\"Subsequent Mask\": false, \"Window\": 12, \"Masking\": 4}, {\"Subsequent Mask\": false, \"Window\": 12, \"Masking\": 5}, {\"Subsequent Mask\": false, \"Window\": 12, \"Masking\": 6}, {\"Subsequent Mask\": false, \"Window\": 12, \"Masking\": 7}, {\"Subsequent Mask\": false, \"Window\": 12, \"Masking\": 8}, {\"Subsequent Mask\": false, \"Window\": 12, \"Masking\": 9}, {\"Subsequent Mask\": false, \"Window\": 12, \"Masking\": 10}, {\"Subsequent Mask\": false, \"Window\": 12, \"Masking\": 11}, {\"Subsequent Mask\": true, \"Window\": 12, \"Masking\": 12}, {\"Subsequent Mask\": true, \"Window\": 12, \"Masking\": 13}, {\"Subsequent Mask\": true, \"Window\": 12, \"Masking\": 14}, {\"Subsequent Mask\": true, \"Window\": 12, \"Masking\": 15}, {\"Subsequent Mask\": true, \"Window\": 12, \"Masking\": 16}, {\"Subsequent Mask\": true, \"Window\": 12, \"Masking\": 17}, {\"Subsequent Mask\": true, \"Window\": 12, \"Masking\": 18}, {\"Subsequent Mask\": true, \"Window\": 12, \"Masking\": 19}, {\"Subsequent Mask\": false, \"Window\": 13, \"Masking\": 0}, {\"Subsequent Mask\": false, \"Window\": 13, \"Masking\": 1}, {\"Subsequent Mask\": false, \"Window\": 13, \"Masking\": 2}, {\"Subsequent Mask\": false, \"Window\": 13, \"Masking\": 3}, {\"Subsequent Mask\": false, \"Window\": 13, \"Masking\": 4}, {\"Subsequent Mask\": false, \"Window\": 13, \"Masking\": 5}, {\"Subsequent Mask\": false, \"Window\": 13, \"Masking\": 6}, {\"Subsequent Mask\": false, \"Window\": 13, \"Masking\": 7}, {\"Subsequent Mask\": false, \"Window\": 13, \"Masking\": 8}, {\"Subsequent Mask\": false, \"Window\": 13, \"Masking\": 9}, {\"Subsequent Mask\": false, \"Window\": 13, \"Masking\": 10}, {\"Subsequent Mask\": false, \"Window\": 13, \"Masking\": 11}, {\"Subsequent Mask\": false, \"Window\": 13, \"Masking\": 12}, {\"Subsequent Mask\": true, \"Window\": 13, \"Masking\": 13}, {\"Subsequent Mask\": true, \"Window\": 13, \"Masking\": 14}, {\"Subsequent Mask\": true, \"Window\": 13, \"Masking\": 15}, {\"Subsequent Mask\": true, \"Window\": 13, \"Masking\": 16}, {\"Subsequent Mask\": true, \"Window\": 13, \"Masking\": 17}, {\"Subsequent Mask\": true, \"Window\": 13, \"Masking\": 18}, {\"Subsequent Mask\": true, \"Window\": 13, \"Masking\": 19}, {\"Subsequent Mask\": false, \"Window\": 14, \"Masking\": 0}, {\"Subsequent Mask\": false, \"Window\": 14, \"Masking\": 1}, {\"Subsequent Mask\": false, \"Window\": 14, \"Masking\": 2}, {\"Subsequent Mask\": false, \"Window\": 14, \"Masking\": 3}, {\"Subsequent Mask\": false, \"Window\": 14, \"Masking\": 4}, {\"Subsequent Mask\": false, \"Window\": 14, \"Masking\": 5}, {\"Subsequent Mask\": false, \"Window\": 14, \"Masking\": 6}, {\"Subsequent Mask\": false, \"Window\": 14, \"Masking\": 7}, {\"Subsequent Mask\": false, \"Window\": 14, \"Masking\": 8}, {\"Subsequent Mask\": false, \"Window\": 14, \"Masking\": 9}, {\"Subsequent Mask\": false, \"Window\": 14, \"Masking\": 10}, {\"Subsequent Mask\": false, \"Window\": 14, \"Masking\": 11}, {\"Subsequent Mask\": false, \"Window\": 14, \"Masking\": 12}, {\"Subsequent Mask\": false, \"Window\": 14, \"Masking\": 13}, {\"Subsequent Mask\": true, \"Window\": 14, \"Masking\": 14}, {\"Subsequent Mask\": true, \"Window\": 14, \"Masking\": 15}, {\"Subsequent Mask\": true, \"Window\": 14, \"Masking\": 16}, {\"Subsequent Mask\": true, \"Window\": 14, \"Masking\": 17}, {\"Subsequent Mask\": true, \"Window\": 14, \"Masking\": 18}, {\"Subsequent Mask\": true, \"Window\": 14, \"Masking\": 19}, {\"Subsequent Mask\": false, \"Window\": 15, \"Masking\": 0}, {\"Subsequent Mask\": false, \"Window\": 15, \"Masking\": 1}, {\"Subsequent Mask\": false, \"Window\": 15, \"Masking\": 2}, {\"Subsequent Mask\": false, \"Window\": 15, \"Masking\": 3}, {\"Subsequent Mask\": false, \"Window\": 15, \"Masking\": 4}, {\"Subsequent Mask\": false, \"Window\": 15, \"Masking\": 5}, {\"Subsequent Mask\": false, \"Window\": 15, \"Masking\": 6}, {\"Subsequent Mask\": false, \"Window\": 15, \"Masking\": 7}, {\"Subsequent Mask\": false, \"Window\": 15, \"Masking\": 8}, {\"Subsequent Mask\": false, \"Window\": 15, \"Masking\": 9}, {\"Subsequent Mask\": false, \"Window\": 15, \"Masking\": 10}, {\"Subsequent Mask\": false, \"Window\": 15, \"Masking\": 11}, {\"Subsequent Mask\": false, \"Window\": 15, \"Masking\": 12}, {\"Subsequent Mask\": false, \"Window\": 15, \"Masking\": 13}, {\"Subsequent Mask\": false, \"Window\": 15, \"Masking\": 14}, {\"Subsequent Mask\": true, \"Window\": 15, \"Masking\": 15}, {\"Subsequent Mask\": true, \"Window\": 15, \"Masking\": 16}, {\"Subsequent Mask\": true, \"Window\": 15, \"Masking\": 17}, {\"Subsequent Mask\": true, \"Window\": 15, \"Masking\": 18}, {\"Subsequent Mask\": true, \"Window\": 15, \"Masking\": 19}, {\"Subsequent Mask\": false, \"Window\": 16, \"Masking\": 0}, {\"Subsequent Mask\": false, \"Window\": 16, \"Masking\": 1}, {\"Subsequent Mask\": false, \"Window\": 16, \"Masking\": 2}, {\"Subsequent Mask\": false, \"Window\": 16, \"Masking\": 3}, {\"Subsequent Mask\": false, \"Window\": 16, \"Masking\": 4}, {\"Subsequent Mask\": false, \"Window\": 16, \"Masking\": 5}, {\"Subsequent Mask\": false, \"Window\": 16, \"Masking\": 6}, {\"Subsequent Mask\": false, \"Window\": 16, \"Masking\": 7}, {\"Subsequent Mask\": false, \"Window\": 16, \"Masking\": 8}, {\"Subsequent Mask\": false, \"Window\": 16, \"Masking\": 9}, {\"Subsequent Mask\": false, \"Window\": 16, \"Masking\": 10}, {\"Subsequent Mask\": false, \"Window\": 16, \"Masking\": 11}, {\"Subsequent Mask\": false, \"Window\": 16, \"Masking\": 12}, {\"Subsequent Mask\": false, \"Window\": 16, \"Masking\": 13}, {\"Subsequent Mask\": false, \"Window\": 16, \"Masking\": 14}, {\"Subsequent Mask\": false, \"Window\": 16, \"Masking\": 15}, {\"Subsequent Mask\": true, \"Window\": 16, \"Masking\": 16}, {\"Subsequent Mask\": true, \"Window\": 16, \"Masking\": 17}, {\"Subsequent Mask\": true, \"Window\": 16, \"Masking\": 18}, {\"Subsequent Mask\": true, \"Window\": 16, \"Masking\": 19}, {\"Subsequent Mask\": false, \"Window\": 17, \"Masking\": 0}, {\"Subsequent Mask\": false, \"Window\": 17, \"Masking\": 1}, {\"Subsequent Mask\": false, \"Window\": 17, \"Masking\": 2}, {\"Subsequent Mask\": false, \"Window\": 17, \"Masking\": 3}, {\"Subsequent Mask\": false, \"Window\": 17, \"Masking\": 4}, {\"Subsequent Mask\": false, \"Window\": 17, \"Masking\": 5}, {\"Subsequent Mask\": false, \"Window\": 17, \"Masking\": 6}, {\"Subsequent Mask\": false, \"Window\": 17, \"Masking\": 7}, {\"Subsequent Mask\": false, \"Window\": 17, \"Masking\": 8}, {\"Subsequent Mask\": false, \"Window\": 17, \"Masking\": 9}, {\"Subsequent Mask\": false, \"Window\": 17, \"Masking\": 10}, {\"Subsequent Mask\": false, \"Window\": 17, \"Masking\": 11}, {\"Subsequent Mask\": false, \"Window\": 17, \"Masking\": 12}, {\"Subsequent Mask\": false, \"Window\": 17, \"Masking\": 13}, {\"Subsequent Mask\": false, \"Window\": 17, \"Masking\": 14}, {\"Subsequent Mask\": false, \"Window\": 17, \"Masking\": 15}, {\"Subsequent Mask\": false, \"Window\": 17, \"Masking\": 16}, {\"Subsequent Mask\": true, \"Window\": 17, \"Masking\": 17}, {\"Subsequent Mask\": true, \"Window\": 17, \"Masking\": 18}, {\"Subsequent Mask\": true, \"Window\": 17, \"Masking\": 19}, {\"Subsequent Mask\": false, \"Window\": 18, \"Masking\": 0}, {\"Subsequent Mask\": false, \"Window\": 18, \"Masking\": 1}, {\"Subsequent Mask\": false, \"Window\": 18, \"Masking\": 2}, {\"Subsequent Mask\": false, \"Window\": 18, \"Masking\": 3}, {\"Subsequent Mask\": false, \"Window\": 18, \"Masking\": 4}, {\"Subsequent Mask\": false, \"Window\": 18, \"Masking\": 5}, {\"Subsequent Mask\": false, \"Window\": 18, \"Masking\": 6}, {\"Subsequent Mask\": false, \"Window\": 18, \"Masking\": 7}, {\"Subsequent Mask\": false, \"Window\": 18, \"Masking\": 8}, {\"Subsequent Mask\": false, \"Window\": 18, \"Masking\": 9}, {\"Subsequent Mask\": false, \"Window\": 18, \"Masking\": 10}, {\"Subsequent Mask\": false, \"Window\": 18, \"Masking\": 11}, {\"Subsequent Mask\": false, \"Window\": 18, \"Masking\": 12}, {\"Subsequent Mask\": false, \"Window\": 18, \"Masking\": 13}, {\"Subsequent Mask\": false, \"Window\": 18, \"Masking\": 14}, {\"Subsequent Mask\": false, \"Window\": 18, \"Masking\": 15}, {\"Subsequent Mask\": false, \"Window\": 18, \"Masking\": 16}, {\"Subsequent Mask\": false, \"Window\": 18, \"Masking\": 17}, {\"Subsequent Mask\": true, \"Window\": 18, \"Masking\": 18}, {\"Subsequent Mask\": true, \"Window\": 18, \"Masking\": 19}, {\"Subsequent Mask\": false, \"Window\": 19, \"Masking\": 0}, {\"Subsequent Mask\": false, \"Window\": 19, \"Masking\": 1}, {\"Subsequent Mask\": false, \"Window\": 19, \"Masking\": 2}, {\"Subsequent Mask\": false, \"Window\": 19, \"Masking\": 3}, {\"Subsequent Mask\": false, \"Window\": 19, \"Masking\": 4}, {\"Subsequent Mask\": false, \"Window\": 19, \"Masking\": 5}, {\"Subsequent Mask\": false, \"Window\": 19, \"Masking\": 6}, {\"Subsequent Mask\": false, \"Window\": 19, \"Masking\": 7}, {\"Subsequent Mask\": false, \"Window\": 19, \"Masking\": 8}, {\"Subsequent Mask\": false, \"Window\": 19, \"Masking\": 9}, {\"Subsequent Mask\": false, \"Window\": 19, \"Masking\": 10}, {\"Subsequent Mask\": false, \"Window\": 19, \"Masking\": 11}, {\"Subsequent Mask\": false, \"Window\": 19, \"Masking\": 12}, {\"Subsequent Mask\": false, \"Window\": 19, \"Masking\": 13}, {\"Subsequent Mask\": false, \"Window\": 19, \"Masking\": 14}, {\"Subsequent Mask\": false, \"Window\": 19, \"Masking\": 15}, {\"Subsequent Mask\": false, \"Window\": 19, \"Masking\": 16}, {\"Subsequent Mask\": false, \"Window\": 19, \"Masking\": 17}, {\"Subsequent Mask\": false, \"Window\": 19, \"Masking\": 18}, {\"Subsequent Mask\": true, \"Window\": 19, \"Masking\": 19}]}}, {\"mode\": \"vega-lite\"});\n",
              "</script>"
            ],
            "text/plain": [
              "alt.Chart(...)"
            ]
          },
          "metadata": {},
          "execution_count": 34
        }
      ]
    },
    {
      "cell_type": "markdown",
      "metadata": {
        "id": "0vGjQfFV_Zat"
      },
      "source": [
        "## 搭建 encoder component"
      ]
    },
    {
      "cell_type": "code",
      "execution_count": null,
      "metadata": {
        "id": "zK7NFgPeUhvt"
      },
      "outputs": [],
      "source": [
        "# 因为无论是encoder comp 还是 decoder comp 都由多个结构相同的encoder/decoder 构成\n",
        "# 定义一个 encoder/decoder layer 复制函数\n",
        "def clones(module, N):\n",
        "    \"Produce N identical layers.\"\n",
        "    return nn.ModuleList([copy.deepcopy(module) for _ in range(N)])"
      ]
    },
    {
      "cell_type": "markdown",
      "metadata": {
        "id": "gzKhNOLtbsCi"
      },
      "source": [
        "- 每一层 encoder layer 包括\n",
        "  - self-attention 层和 feed-forward层\n",
        "  - 同时在self-attention 层和 feed-forward层之后都会接一个残差链接（layer normalization) "
      ]
    },
    {
      "cell_type": "code",
      "execution_count": null,
      "metadata": {
        "id": "Wvsw3EiHDqzd"
      },
      "outputs": [],
      "source": [
        "# 定义 layer Normalization\n",
        "class LayerNorm(nn.Module):\n",
        "  def __init__(self, features, eps = 1e-6):\n",
        "    super(LayerNorm, self).__init__()\n",
        "    # 创建2个全0的参数矩阵，可供训练\n",
        "    self.a_2 = nn.Parameter(torch.ones(features))\n",
        "    self.b_2 = nn.Parameter(torch.zeros(features))\n",
        "    self.eps = eps\n",
        "\n",
        "  def forward(self, x):\n",
        "    # 考虑到输入参数的维度是 [batchsize, sequence_length, d_model], 这里的平均值和标准差均应当作用于d_model所在的维度\n",
        "    mean = x.mean(-1, keepdim=True)\n",
        "    std = x.std(-1, keepdim=True)\n",
        "    return self.a_2 * (x - mean) / (std + self.eps) + self.b_2\n",
        "  "
      ]
    },
    {
      "cell_type": "code",
      "execution_count": null,
      "metadata": {
        "id": "Q5Pg0PPkfJ6c"
      },
      "outputs": [],
      "source": [
        "# 定义 SublayerConnection\n",
        "# 使用输入 + dropout(layerNorm)\n",
        "\n",
        "class SublayerConnection(nn.Module):\n",
        "  def __init__(self,size, dropout):\n",
        "    super(SublayerConnection, self).__init__()\n",
        "    self.norm = LayerNorm(size)\n",
        "    self.dropout = nn.Dropout(dropout)\n",
        "\n",
        "  def forward(self, x, sublayer):\n",
        "    # 对每一个sublayer 的输入均使用标准化处理，这里没有解释原因，仅是作为结果\n",
        "    return x + self.dropout(sublayer(self.norm(x)))"
      ]
    },
    {
      "cell_type": "code",
      "execution_count": null,
      "metadata": {
        "id": "7Z_5uUCYmh3o"
      },
      "outputs": [],
      "source": [
        "# 定义 feed-forward 层 全连接位置感知前馈网络\n",
        "# 包含两个全连接层和一个relu激活\n",
        "# FFN(x)=max(0,xW1+b1)W2 + b2\n",
        "\n",
        "class PositionwiseFeedForward(nn.Module):\n",
        "  def __init__(self, d_model, d_ff, dropout=0.1):\n",
        "    super(PositionwiseFeedForward, self).__init__()\n",
        "    self.w1 = nn.Linear(d_model, d_ff)\n",
        "    self.w2 = nn.Linear(d_ff,d_model)\n",
        "    self.dropout = nn.Dropout(dropout)\n",
        "  \n",
        "  def forward(self, x):\n",
        "    # 对输入进行第一个全连接，激活，dropout 后进入第二个全连接\n",
        "    return self.w2(self.dropout(self.w1(x).relu()))"
      ]
    },
    {
      "cell_type": "code",
      "execution_count": null,
      "metadata": {
        "id": "0_5cBOwrkp-d"
      },
      "outputs": [],
      "source": [
        "# 定义 encoder layer\n",
        "\n",
        "class EncoderLayer(nn.Module):\n",
        "  def __init__(self, size, self_attn, feed_forward, dropout):\n",
        "    super(EncoderLayer, self).__init__()\n",
        "    self.self_attn = self_attn\n",
        "    self.feed_forward = feed_forward\n",
        "    self.size = size\n",
        "    # 定义两层sublayer connection层\n",
        "    self.sublayer = clones(SublayerConnection(size, dropout), 2)\n",
        "\n",
        "  def forward(self, x, mask):\n",
        "    # sublayerConnection 接受的参数是 x 和 sublayer\n",
        "    # self-attention 层 + layerNorm -》feed\n",
        "    # 这里是 self_attn 的初始化过程\n",
        "    x = self.sublayer[0](x, lambda x: self.self_attn(x, x, x, mask))\n",
        "    # 但是这里 feed-forward 层的初始化过程没有放在这里\n",
        "    return self.sublayer[1](x, self.feed_forward)"
      ]
    },
    {
      "cell_type": "code",
      "execution_count": null,
      "metadata": {
        "id": "k7n6pHHJxK-W"
      },
      "outputs": [],
      "source": [
        "# 定义 encoder component\n",
        "\n",
        "class Encoder(nn.Module):\n",
        "  def __init__(self, layer, N):\n",
        "    super(Encoder,self).__init__()\n",
        "    # 定义有多少层 encoder comp\n",
        "    self.layers = clones(layer, N)\n",
        "    # 这里layer的初始化过程放在外面了\n",
        "    self.norm = LayerNorm(layer.size)\n",
        "\n",
        "  def forward(self, x, mask):\n",
        "    for layer in self.layers:\n",
        "      x = layer(x, mask)\n",
        "    return self.norm(x)"
      ]
    },
    {
      "cell_type": "markdown",
      "metadata": {
        "id": "wXak9vRw5qOU"
      },
      "source": [
        "- 每一层 decoder layer 包括\n",
        "  - self-attention 层, encoder-decoder attention 层和一个 feed-forward层\n",
        "  - 同时在每层之后都会接一个残差链接（layer normalization) "
      ]
    },
    {
      "cell_type": "code",
      "execution_count": null,
      "metadata": {
        "id": "a-TdLYcB5hdx"
      },
      "outputs": [],
      "source": [
        "# 定义 decoder layer\n",
        "\n",
        "class DecoderLayer(nn.Module):\n",
        "  def __init__(self, size, self_attn, src_attn, feed_forward, dropout):\n",
        "    super(DecoderLayer, self).__init__()\n",
        "    self.size = size\n",
        "    self.self_attn = self_attn\n",
        "    self.src_attn = src_attn\n",
        "    self.feed_forward = feed_forward\n",
        "    self.sublayer = clones(SublayerConnection(size, dropout), 3) #每一个decoder layer 中都有3个sublayer层 + layerNorm\n",
        "\n",
        "  def forward(self, x, memory, src_mask, tgt_mask):\n",
        "     # 每一层sublayer 之间均有 layerNorm\n",
        "     # 第一层sublayer multi-self-attention\n",
        "     x = self.sublayer[0](x, lambda x: self.self_attn(x, x, x, tgt_mask))\n",
        "     # 第二层sublayer encoder-decoder-attention\n",
        "     x = self.sublayer[1](x, lambda x: self.src_attn(x, memory, memory, src_mask))\n",
        "     # 第三层sublayer feed-forward\n",
        "     return self.sublayer[2](x, self.feed_forward)"
      ]
    },
    {
      "cell_type": "code",
      "source": [
        "# 定义 decoder component\n",
        "class Decoder(nn.Module):\n",
        "    \"Generic N layer decoder with masking.\"\n",
        "\n",
        "    def __init__(self, layer, N):\n",
        "        super(Decoder, self).__init__()\n",
        "        self.layers = clones(layer, N)\n",
        "        self.norm = LayerNorm(layer.size)\n",
        "    # self-attention 接受target mask\n",
        "    # encoder-decoder 层接受 src_mask\n",
        "    def forward(self, x, memory, src_mask, tgt_mask):\n",
        "        for layer in self.layers:\n",
        "            x = layer(x, memory, src_mask, tgt_mask)\n",
        "        return self.norm(x)"
      ],
      "metadata": {
        "id": "yd5MjU4SsxDF"
      },
      "execution_count": null,
      "outputs": []
    },
    {
      "cell_type": "markdown",
      "source": [
        "# 串联 encoder decoder 进行模型构建"
      ],
      "metadata": {
        "id": "DnjXx1SVxfeh"
      }
    },
    {
      "cell_type": "code",
      "source": [
        "# 作用是实现标准的线性变换加 softmax 生成步骤\n",
        "class Generator(nn.Module):\n",
        "    \"Define standard linear + softmax generation step.\"\n",
        "\n",
        "    def __init__(self, d_model, vocab):\n",
        "        super(Generator, self).__init__()\n",
        "        self.proj = nn.Linear(d_model, vocab) # 输入的维度 d_model 映射到输出的维度 vocab\n",
        "\n",
        "    def forward(self, x):\n",
        "        return log_softmax(self.proj(x), dim=-1) # 对线性变换的结果应用 log softmax，并在最后一维（即 dim=-1）上计算"
      ],
      "metadata": {
        "id": "FbToF_OaxcPh"
      },
      "execution_count": null,
      "outputs": []
    },
    {
      "cell_type": "code",
      "source": [
        "class EncoderDecoder(nn.Module):\n",
        "    \"\"\"\n",
        "    A standard Encoder-Decoder architecture. Base for this and many\n",
        "    other models.\n",
        "    \"\"\"\n",
        "\n",
        "    def __init__(self, encoder, decoder, src_embed, tgt_embed, generator):\n",
        "        super(EncoderDecoder, self).__init__()\n",
        "        self.encoder = encoder\n",
        "        self.decoder = decoder\n",
        "        self.src_embed = src_embed\n",
        "        self.tgt_embed = tgt_embed\n",
        "        self.generator = generator\n",
        "\n",
        "    def forward(self, src, tgt, src_mask, tgt_mask):\n",
        "        \"Take in and process masked src and target sequences.\"\n",
        "        # decode 过程之前需要先进行 encode 过程\n",
        "        return self.decode(self.encode(src, src_mask), src_mask, tgt, tgt_mask)\n",
        "\n",
        "    def encode(self, src, src_mask):\n",
        "        return self.encoder(self.src_embed(src), src_mask)\n",
        "\n",
        "    def decode(self, memory, src_mask, tgt, tgt_mask):\n",
        "        return self.decoder(self.tgt_embed(tgt), memory, src_mask, tgt_mask)"
      ],
      "metadata": {
        "id": "uIEjndg0x44d"
      },
      "execution_count": null,
      "outputs": []
    },
    {
      "cell_type": "code",
      "source": [
        "# 定义模型\n",
        "\n",
        "def make_model(\n",
        "    src_vocab, tgt_vocab, N=6, d_model=512, d_ff=2048, h=8, dropout=0.1\n",
        "):\n",
        "    \"Helper: Construct a model from hyperparameters.\"\n",
        "    c = copy.deepcopy\n",
        "    attn = MultiHeadedAttention(h, d_model) # 初始化多头注意力层\n",
        "    ff = PositionwiseFeedForward(d_model, d_ff, dropout) # 初始化 Feed forward 层\n",
        "    position = PositionalEncoding(d_model, dropout) # 初始化 Positional Encoding\n",
        "    model = EncoderDecoder(\n",
        "        Encoder(EncoderLayer(d_model, c(attn), c(ff), dropout), N),\n",
        "        Decoder(DecoderLayer(d_model, c(attn), c(attn), c(ff), dropout), N),\n",
        "        nn.Sequential(Embeddings(d_model, src_vocab), c(position)), # encoder输入文本词向量 + PE\n",
        "        nn.Sequential(Embeddings(d_model, tgt_vocab), c(position)), # decoder输入文本词向量 + PE\n",
        "        Generator(d_model, tgt_vocab), # 提供模型参数与字典，用于encoder最后一步内容的输出\n",
        "    )\n",
        "\n",
        "    # This was important from their code.\n",
        "    # Initialize parameters with Glorot / fan_avg.\n",
        "    # 通过循环来遍历每一个参数 (p)，如果该参数是多维张量 (即 p.dim() > 1)，则使用 Xavier 初始化方法 (nn.init.xavier_uniform_) 对该参数进行初始化\n",
        "    # Xavier 初始化方法是一种用于初始化神经网络权值的常见方法\n",
        "    # 它的目的是使得每一层的输入信号和输出信号的方差相等。\n",
        "    # 这能够帮助防止梯度消失 (Vanishing Gradients) 和梯度爆炸 (Exploding Gradients) 问题\n",
        "    for p in model.parameters():\n",
        "        if p.dim() > 1:\n",
        "            nn.init.xavier_uniform_(p)\n",
        "    return model"
      ],
      "metadata": {
        "id": "4-eDXlDOtQ40"
      },
      "execution_count": null,
      "outputs": []
    },
    {
      "cell_type": "markdown",
      "source": [
        "## 使用没有训练的模型进行数据推断"
      ],
      "metadata": {
        "id": "f5XgBp2Hyk0U"
      }
    },
    {
      "cell_type": "code",
      "source": [
        "# 定义一个推理测试函数\n",
        "def inference_test():\n",
        "    # 创建一个模型，参数分别为：输入维度，输出维度，层数\n",
        "    test_model = make_model(11, 11, 2)\n",
        "    \n",
        "    # 将模型设置为评估模式\n",
        "    test_model.eval()\n",
        "    \n",
        "    # 定义一个测试数据源张量，shape 为 1x10\n",
        "    src = torch.LongTensor([[1, 2, 3, 4, 5, 6, 7, 8, 9, 10]])\n",
        "    \n",
        "    # 定义一个源数据掩码张量，shape 为 1x1x10\n",
        "    src_mask = torch.ones(1, 1, 10)\n",
        "\n",
        "    # 对源数据进行编码\n",
        "    memory = test_model.encode(src, src_mask)\n",
        "    \n",
        "    # 初始化解码器输入张量 ys，shape 为 1x1，填充为 0\n",
        "    ys = torch.zeros(1, 1).type_as(src)\n",
        "\n",
        "    # 循环执行解码操作，最多进行9次\n",
        "    for i in range(9):\n",
        "        # 对已有的序列进行解码\n",
        "        out = test_model.decode(\n",
        "            memory, src_mask, ys, subsequent_mask(ys.size(1)).type_as(src.data)\n",
        "        )\n",
        "        # 将解码器输出传递给生成器\n",
        "        prob = test_model.generator(out[:, -1])\n",
        "        \n",
        "        # 获取生成器输出中概率最大的单词\n",
        "        _, next_word = torch.max(prob, dim=1)\n",
        "        \n",
        "        # 将选择的单词转换为数据张量\n",
        "        next_word = next_word.data[0]\n",
        "        \n",
        "        # 将新选择的单词添加到已有的序列中\n",
        "        ys = torch.cat(\n",
        "            [ys, torch.empty(1, 1).type_as(src.data).fill_(next_word)], dim=1\n",
        "        )\n",
        "\n",
        "    # 打印未经训练的模型的预测结果\n",
        "    print(\"Example Untrained Model Prediction:\", ys)\n",
        "\n",
        "\n",
        "# 定义一个运行推理测试的函数\n",
        "def run_tests():\n",
        "    # 循环执行 10 次推理测试\n",
        "    for _ in range(10):\n",
        "        inference_test()\n",
        "\n",
        "# 显示运行推理测试的结果\n",
        "show_example(run_tests)\n"
      ],
      "metadata": {
        "colab": {
          "base_uri": "https://localhost:8080/"
        },
        "id": "ryMQzBIvyDg_",
        "outputId": "8334dd76-68e7-4f1b-996f-25eaeb79f1c8"
      },
      "execution_count": null,
      "outputs": [
        {
          "output_type": "stream",
          "name": "stdout",
          "text": [
            "Example Untrained Model Prediction: tensor([[0, 0, 0, 0, 0, 0, 0, 0, 0, 0]])\n",
            "Example Untrained Model Prediction: tensor([[0, 8, 5, 8, 5, 8, 5, 8, 5, 8]])\n",
            "Example Untrained Model Prediction: tensor([[0, 3, 3, 3, 3, 3, 3, 3, 3, 3]])\n",
            "Example Untrained Model Prediction: tensor([[ 0,  4, 10,  6,  6,  6,  6,  6,  6,  6]])\n",
            "Example Untrained Model Prediction: tensor([[0, 8, 1, 1, 1, 9, 8, 0, 1, 9]])\n",
            "Example Untrained Model Prediction: tensor([[0, 1, 1, 1, 1, 1, 1, 1, 1, 1]])\n",
            "Example Untrained Model Prediction: tensor([[0, 9, 9, 9, 9, 9, 9, 9, 9, 9]])\n",
            "Example Untrained Model Prediction: tensor([[0, 4, 0, 4, 0, 4, 0, 4, 0, 4]])\n",
            "Example Untrained Model Prediction: tensor([[0, 0, 0, 0, 0, 0, 8, 4, 3, 6]])\n",
            "Example Untrained Model Prediction: tensor([[0, 5, 6, 3, 3, 3, 3, 3, 3, 3]])\n"
          ]
        }
      ]
    },
    {
      "cell_type": "markdown",
      "source": [
        "## 模型训练过程"
      ],
      "metadata": {
        "id": "4bCtVCUdIHi2"
      }
    },
    {
      "cell_type": "code",
      "source": [
        "class Batch:\n",
        "    \"\"\"用于在训练过程中保存带有掩码的一批数据的对象。\"\"\"\n",
        "\n",
        "    def __init__(self, src, tgt=None, pad=2):  # 2 = <blank>\n",
        "        # 初始化源数据\n",
        "        self.src = src\n",
        "        \n",
        "        # 创建源数据掩码，用于屏蔽填充符\n",
        "        self.src_mask = (src != pad).unsqueeze(-2)\n",
        "        \n",
        "        # 如果有目标数据，则进行以下处理\n",
        "        if tgt is not None:\n",
        "            # 去除目标数据最后一个词\n",
        "            self.tgt = tgt[:, :-1]\n",
        "            \n",
        "            # 去除目标数据第一个词\n",
        "            self.tgt_y = tgt[:, 1:]\n",
        "            \n",
        "            # 创建目标数据掩码，用于屏蔽填充符和未来词汇\n",
        "            self.tgt_mask = self.make_std_mask(self.tgt, pad)\n",
        "            \n",
        "            # 计算非填充词汇的数量\n",
        "            self.ntokens = (self.tgt_y != pad).data.sum()\n",
        "\n",
        "    @staticmethod\n",
        "    def make_std_mask(tgt, pad):\n",
        "        \"\"\"创建一个掩码以隐藏填充和未来的单词。\"\"\"\n",
        "        \n",
        "        # 创建目标数据掩码，用于屏蔽填充符\n",
        "        tgt_mask = (tgt != pad).unsqueeze(-2)\n",
        "        \n",
        "        # 将目标数据掩码与后续掩码相与，以屏蔽填充符和未来词汇\n",
        "        tgt_mask = tgt_mask & subsequent_mask(tgt.size(-1)).type_as(\n",
        "            tgt_mask.data\n",
        "        )\n",
        "        \n",
        "        return tgt_mask\n"
      ],
      "metadata": {
        "id": "iwIZhFuM11hz"
      },
      "execution_count": 1,
      "outputs": []
    },
    {
      "cell_type": "code",
      "source": [
        "class TrainState:\n",
        "    \"\"\"跟踪处理过程中的步数、示例数和词汇数\"\"\"\n",
        "\n",
        "    step: int = 0  # 当前轮次中的步数\n",
        "    accum_step: int = 0  # 梯度累积步数\n",
        "    samples: int = 0  # 总共使用的样本数\n",
        "    tokens: int = 0  # 处理过程中的总词汇数\n"
      ],
      "metadata": {
        "id": "EwmDlGtBI1hB"
      },
      "execution_count": null,
      "outputs": []
    },
    {
      "cell_type": "code",
      "source": [
        "def run_epoch(\n",
        "    data_iter,  # 数据迭代器\n",
        "    model,  # 模型\n",
        "    loss_compute,  # 损失计算函数\n",
        "    optimizer,  # 优化器\n",
        "    scheduler,  # 学习率调度器\n",
        "    mode=\"train\",  # 运行模式：训练或日志\n",
        "    accum_iter=1,  # 梯度累积迭代次数\n",
        "    train_state=TrainState(),  # 训练状态对象\n",
        "):\n",
        "    \"\"\"训练一个轮次\"\"\"\n",
        "    start = time.time()  # 记录开始时间\n",
        "    total_tokens = 0  # 总词汇数\n",
        "    total_loss = 0  # 总损失\n",
        "    tokens = 0  # 当前批次的词汇数\n",
        "\n",
        "    # 初始化梯度累积计数器\n",
        "    n_accum = 0\n",
        "\n",
        "    # 遍历数据迭代器\n",
        "    for i, batch in enumerate(data_iter):\n",
        "        # 前向传播\n",
        "        out = model.forward(\n",
        "            batch.src, batch.tgt, batch.src_mask, batch.tgt_mask\n",
        "        )\n",
        "        \n",
        "        # 计算损失\n",
        "        loss, loss_node = loss_compute(out, batch.tgt_y, batch.ntokens)\n",
        "\n",
        "        # 如果运行模式为 \"train\" 或 \"train+log\"\n",
        "        if mode == \"train\" or mode == \"train+log\":\n",
        "            # 反向传播\n",
        "            loss_node.backward()\n",
        "\n",
        "            # 更新训练状态\n",
        "            train_state.step += 1\n",
        "            train_state.samples += batch.src.shape[0]\n",
        "            train_state.tokens += batch.ntokens\n",
        "\n",
        "            # 如果当前迭代次数是梯度累积迭代次数的倍数\n",
        "            if i % accum_iter == 0:\n",
        "                # 更新参数\n",
        "                optimizer.step()\n",
        "\n",
        "                # 清空梯度\n",
        "                optimizer.zero_grad(set_to_none=True)\n",
        "\n",
        "                # 更新梯度累积计数器\n",
        "                n_accum += 1\n",
        "                train_state.accum_step += 1\n",
        "\n",
        "            # 更新学习率\n",
        "            scheduler.step()\n",
        "\n",
        "        # 更新总损失和总词汇数\n",
        "        total_loss += loss\n",
        "        total_tokens += batch.ntokens\n",
        "        tokens += batch.ntokens\n",
        "\n",
        "        # 如果当前迭代次数是 40 的倍数，且运行模式为 \"train\" 或 \"train+log\"\n",
        "        if i % 40 == 1 and (mode == \"train\" or mode == \"train+log\"):\n",
        "            # 获取当前学习率\n",
        "            lr = optimizer.param_groups[0][\"lr\"]\n",
        "\n",
        "            # 计算经过时间\n",
        "            elapsed = time.time() - start\n",
        "\n",
        "            # 打印训练信息\n",
        "            print(\n",
        "                (\n",
        "                    \"Epoch Step: %6d | Accumulation Step: %3d | Loss: %6.2f \"\n",
        "                    + \"| Tokens / Sec: %7.1f | Learning Rate: %6.1e\"\n",
        "                )\n",
        "                % (i, n_accum, loss / batch.ntokens, tokens / elapsed, lr)\n",
        "            )\n",
        "\n",
        "            # 重置开始时间和当前\n",
        "            start = time.time()\n",
        "            tokens = 0\n",
        "\n",
        "        # 释放损失变量和损失节点的内存\n",
        "        del loss\n",
        "        del loss_node\n",
        "\n",
        "    # 返回平均损失和训练状态\n",
        "    return total_loss / total_tokens, train_state\n"
      ],
      "metadata": {
        "id": "NRrySA8LJHBt"
      },
      "execution_count": null,
      "outputs": []
    },
    {
      "cell_type": "markdown",
      "source": [
        "## 优化器"
      ],
      "metadata": {
        "id": "L3GSRM0PKMPj"
      }
    },
    {
      "cell_type": "code",
      "source": [
        "def rate(step, model_size, factor, warmup):\n",
        "    \"\"\"\n",
        "    为了避免零的负幂，我们需要将步骤默认设置为 1，以供 LambdaLR 函数使用。\n",
        "    \"\"\"\n",
        "    # 如果步数为0，则将步数设置为1\n",
        "    if step == 0:\n",
        "        step = 1\n",
        "\n",
        "    # 计算学习率\n",
        "    return factor * (\n",
        "        model_size ** (-0.5) * min(step ** (-0.5), step * warmup ** (-1.5))\n",
        "    )\n"
      ],
      "metadata": {
        "id": "7sN11y0AJG_K"
      },
      "execution_count": null,
      "outputs": []
    },
    {
      "cell_type": "code",
      "source": [
        "def example_learning_schedule():\n",
        "    # 定义三个不同的参数组合\n",
        "    opts = [\n",
        "        [512, 1, 4000],  # 示例 1\n",
        "        [512, 1, 8000],  # 示例 2\n",
        "        [256, 1, 4000],  # 示例 3\n",
        "    ]\n",
        "\n",
        "    # 创建一个虚拟模型\n",
        "    dummy_model = torch.nn.Linear(1, 1)\n",
        "    learning_rates = []\n",
        "\n",
        "    # 遍历三个参数组合\n",
        "    for idx, example in enumerate(opts):\n",
        "        # 对每个示例运行 20000 个轮次\n",
        "        optimizer = torch.optim.Adam(\n",
        "            dummy_model.parameters(), lr=1, betas=(0.9, 0.98), eps=1e-9\n",
        "        )\n",
        "        lr_scheduler = LambdaLR(\n",
        "            optimizer=optimizer, lr_lambda=lambda step: rate(step, *example)\n",
        "        )\n",
        "        tmp = []\n",
        "        # 执行 20K 个虚拟训练步骤，保存每个步骤的学习率\n",
        "        for step in range(20000):\n",
        "            tmp.append(optimizer.param_groups[0][\"lr\"])\n",
        "            optimizer.step()\n",
        "            lr_scheduler.step()\n",
        "        learning_rates.append(tmp)\n",
        "\n",
        "    learning_rates = torch.tensor(learning_rates)\n",
        "\n",
        "    # 允许 altair 处理超过 5000 行的数据\n",
        "    alt.data_transformers.disable_max_rows()\n",
        "\n",
        "    # 将数据整合为 pandas 数据帧\n",
        "    opts_data = pd.concat(\n",
        "        [\n",
        "            pd.DataFrame(\n",
        "                {\n",
        "                    \"Learning Rate\": learning_rates[warmup_idx, :],\n",
        "                    \"model_size:warmup\": [\"512:4000\", \"512:8000\", \"256:4000\"][\n",
        "                        warmup_idx\n",
        "                    ],\n",
        "                    \"step\": range(20000),\n",
        "                }\n",
        "            )\n",
        "            for warmup_idx in [0, 1, 2]\n",
        "        ]\n",
        "    )\n",
        "\n",
        "    # 使用 altair 绘制学习率调度图\n",
        "    return (\n",
        "        alt.Chart(opts_data)\n",
        "        .mark_line()\n",
        "        .properties(width=600)\n",
        "        .encode(x=\"step\", y=\"Learning Rate\", color=\"model_size:warmup:N\")\n",
        "        .interactive()\n",
        "    )\n",
        "\n",
        "# 调用函数并显示学习率调度示例图\n",
        "example_learning_schedule()\n"
      ],
      "metadata": {
        "id": "dHgiOi4vJG8o"
      },
      "execution_count": null,
      "outputs": []
    },
    {
      "cell_type": "markdown",
      "source": [
        "## 正则化"
      ],
      "metadata": {
        "id": "fjZq1TWDLIru"
      }
    },
    {
      "cell_type": "code",
      "source": [
        "class LabelSmoothing(nn.Module):\n",
        "    \"实现标签平滑\"\n",
        "\n",
        "    def __init__(self, size, padding_idx, smoothing=0.0):\n",
        "        # 调用父类构造函数\n",
        "        super(LabelSmoothing, self).__init__()\n",
        "        # 定义损失函数：Kullback-Leibler 散度损失\n",
        "        self.criterion = nn.KLDivLoss(reduction=\"sum\")\n",
        "        # 定义填充索引\n",
        "        self.padding_idx = padding_idx\n",
        "        # 设置置信度\n",
        "        self.confidence = 1.0 - smoothing\n",
        "        # 设置平滑因子\n",
        "        self.smoothing = smoothing\n",
        "        # 设置类别数量\n",
        "        self.size = size\n",
        "        # 初始化真实分布\n",
        "        self.true_dist = None\n",
        "\n",
        "    def forward(self, x, target):\n",
        "        # 检查输入 x 的维度是否正确\n",
        "        assert x.size(1) == self.size\n",
        "        # 复制输入 x 的数据\n",
        "        true_dist = x.data.clone()\n",
        "        # 用平滑值填充真实分布\n",
        "        true_dist.fill_(self.smoothing / (self.size - 2))\n",
        "        # 使用置信度更新真实分布\n",
        "        true_dist.scatter_(1, target.data.unsqueeze(1), self.confidence)\n",
        "        # 将填充索引的列设置为 0\n",
        "        true_dist[:, self.padding_idx] = 0\n",
        "        # 找到目标中填充索引的位置\n",
        "        mask = torch.nonzero(target.data == self.padding_idx)\n",
        "        # 如果存在填充索引，将相应行的真实分布设为 0\n",
        "        if mask.dim() > 0:\n",
        "            true_dist.index_fill_(0, mask.squeeze(), 0.0)\n",
        "        # 保存真实分布\n",
        "        self.true_dist = true_dist\n",
        "        # 返回损失值\n",
        "        return self.criterion(x, true_dist.clone().detach())\n"
      ],
      "metadata": {
        "id": "107Ym65ZJG6L"
      },
      "execution_count": null,
      "outputs": []
    },
    {
      "cell_type": "code",
      "source": [
        "# 标签平滑示例\n",
        "def example_label_smoothing():\n",
        "    # 创建一个标签平滑对象，类别数量为5，填充索引为0，平滑因子为0.4\n",
        "    crit = LabelSmoothing(5, 0, 0.4)\n",
        "    # 定义预测值\n",
        "    predict = torch.FloatTensor(\n",
        "        [\n",
        "            [0, 0.2, 0.7, 0.1, 0],\n",
        "            [0, 0.2, 0.7, 0.1, 0],\n",
        "            [0, 0.2, 0.7, 0.1, 0],\n",
        "            [0, 0.2, 0.7, 0.1, 0],\n",
        "            [0, 0.2, 0.7, 0.1, 0],\n",
        "        ]\n",
        "    )\n",
        "    # 计算标签平滑后的损失\n",
        "    crit(x=predict.log(), target=torch.LongTensor([2, 1, 0, 3, 3]))\n",
        "    # 将真实分布数据转换为 DataFrame 格式\n",
        "    LS_data = pd.concat(\n",
        "        [\n",
        "            pd.DataFrame(\n",
        "                {\n",
        "                    \"target distribution\": crit.true_dist[x, y].flatten(),\n",
        "                    \"columns\": y,\n",
        "                    \"rows\": x,\n",
        "                }\n",
        "            )\n",
        "            for y in range(5)\n",
        "            for x in range(5)\n",
        "        ]\n",
        "    )\n",
        "\n",
        "    # 使用 Altair 绘制热力图展示标签平滑后的目标分布\n",
        "    return (\n",
        "        alt.Chart(LS_data)\n",
        "        .mark_rect(color=\"Blue\", opacity=1)\n",
        "        .properties(height=200, width=200)\n",
        "        .encode(\n",
        "            alt.X(\"columns:O\", title=None),\n",
        "            alt.Y(\"rows:O\", title=None),\n",
        "            alt.Color(\n",
        "                \"target distribution:Q\", scale=alt.Scale(scheme=\"viridis\")\n",
        "            ),\n",
        "        )\n",
        "        .interactive()\n",
        "    )\n",
        "\n",
        "# 展示标签平滑示例\n",
        "show_example(example_label_smoothing)\n"
      ],
      "metadata": {
        "id": "E0qQOoDrJG2x"
      },
      "execution_count": null,
      "outputs": []
    },
    {
      "cell_type": "code",
      "source": [
        "# 定义损失函数\n",
        "def loss(x, crit):\n",
        "    d = x + 3 * 1\n",
        "    predict = torch.FloatTensor([[0, x / d, 1 / d, 1 / d, 1 / d]])\n",
        "    return crit(predict.log(), torch.LongTensor([1])).data\n",
        "\n",
        "# 惩罚可视化函数\n",
        "def penalization_visualization():\n",
        "    # 创建一个标签平滑对象，类别数量为5，填充索引为0，平滑因子为0.1\n",
        "    crit = LabelSmoothing(5, 0, 0.1)\n",
        "    # 生成损失数据\n",
        "    loss_data = pd.DataFrame(\n",
        "        {\n",
        "            \"Loss\": [loss(x, crit) for x in range(1, 100)],\n",
        "            \"Steps\": list(range(99)),\n",
        "        }\n",
        "    ).astype(\"float\")\n",
        "\n",
        "    # 使用 Altair 绘制损失函数曲线\n",
        "    return (\n",
        "        alt.Chart(loss_data)\n",
        "        .mark_line()\n",
        "        .properties(width=350)\n",
        "        .encode(\n",
        "            x=\"Steps\",\n",
        "            y=\"Loss\",\n",
        "        )\n",
        "        .interactive()\n",
        "    )\n",
        "\n",
        "# 显示惩罚可视化结果\n",
        "show_example(penalization_visualization)\n"
      ],
      "metadata": {
        "id": "bceUoDBOJGr1"
      },
      "execution_count": null,
      "outputs": []
    },
    {
      "cell_type": "markdown",
      "source": [
        "## Mini sample\n",
        "\n",
        "- 尝试一个简单的复制任务开始。给定来自小词汇表的一组随机输入符号，目标是生成回那些相同的符号"
      ],
      "metadata": {
        "id": "FgA9qS5lMT-G"
      }
    },
    {
      "cell_type": "code",
      "source": [
        "def data_gen(V, batch_size, nbatches):\n",
        "    \"\"\"\n",
        "    为 src-tgt 复制任务生成随机数据。\n",
        "\n",
        "    参数：\n",
        "    V -- 词汇表大小\n",
        "    batch_size -- 每个批次的样本数量\n",
        "    nbatches -- 生成批次的数量\n",
        "    \"\"\"\n",
        "    for i in range(nbatches):\n",
        "        # 生成一个 batch_size x 10 的随机整数张量，整数范围为 [1, V)\n",
        "        data = torch.randint(1, V, size=(batch_size, 10))\n",
        "        data[:, 0] = 1  # 将每个样本的第一个位置设置为1（起始符）\n",
        "        src = data.requires_grad_(False).clone().detach()  # 生成源数据\n",
        "        tgt = data.requires_grad_(False).clone().detach()  # 生成目标数据（与源数据相同）\n",
        "        yield Batch(src, tgt, 0)  # 返回一个批次对象，包含源数据、目标数据和填充索引\n"
      ],
      "metadata": {
        "id": "rUJx8RPKMZIg"
      },
      "execution_count": null,
      "outputs": []
    },
    {
      "cell_type": "code",
      "source": [
        "class SimpleLossCompute:\n",
        "    \"\"\"\n",
        "    一个简单的损失计算和训练函数。\n",
        "\n",
        "    属性：\n",
        "    generator -- 生成器，用于将模型输出转换为预测概率分布\n",
        "    criterion -- 损失函数，用于计算预测概率分布与真实目标之间的损失\n",
        "    \"\"\"\n",
        "\n",
        "    def __init__(self, generator, criterion):\n",
        "        self.generator = generator  # 初始化生成器\n",
        "        self.criterion = criterion  # 初始化损失函数\n",
        "\n",
        "    def __call__(self, x, y, norm):\n",
        "        \"\"\"\n",
        "        计算损失并返回。\n",
        "\n",
        "        参数：\n",
        "        x -- 模型输出\n",
        "        y -- 真实目标\n",
        "        norm -- 归一化因子，用于缩放损失值\n",
        "\n",
        "        返回：\n",
        "        总损失值，标量损失值\n",
        "        \"\"\"\n",
        "        x = self.generator(x)  # 使用生成器计算预测概率分布\n",
        "        # 计算损失，注意要将 x 和 y 调整为合适的形状，然后使用 norm 对损失进行缩放\n",
        "        sloss = (\n",
        "            self.criterion(\n",
        "                x.contiguous().view(-1, x.size(-1)), y.contiguous().view(-1)\n",
        "            )\n",
        "            / norm\n",
        "        )\n",
        "        return sloss.data * norm, sloss  # 返回总损失值和标量损失值\n"
      ],
      "metadata": {
        "id": "vCnn18xlMZCe"
      },
      "execution_count": null,
      "outputs": []
    },
    {
      "cell_type": "markdown",
      "source": [
        "## 使用 Greedy Search 的方式生成输出"
      ],
      "metadata": {
        "id": "AOTjnNrpNBxL"
      }
    },
    {
      "cell_type": "code",
      "source": [
        "def greedy_decode(model, src, src_mask, max_len, start_symbol):\n",
        "    \"\"\"\n",
        "    使用贪婪策略对模型进行解码。\n",
        "\n",
        "    参数：\n",
        "    model -- Transformer 模型\n",
        "    src -- 源输入张量\n",
        "    src_mask -- 源输入掩码\n",
        "    max_len -- 解码最大长度\n",
        "    start_symbol -- 开始符号，表示解码的起始位置\n",
        "\n",
        "    返回：\n",
        "    解码得到的目标序列\n",
        "    \"\"\"\n",
        "    memory = model.encode(src, src_mask)  # 对源输入进行编码\n",
        "    # 初始化目标序列，填充开始符号\n",
        "    ys = torch.zeros(1, 1).fill_(start_symbol).type_as(src.data)\n",
        "    for i in range(max_len - 1):\n",
        "        # 对当前目标序列进行解码\n",
        "        out = model.decode(\n",
        "            memory,\n",
        "            src_mask,\n",
        "            ys,\n",
        "            subsequent_mask(ys.size(1)).type_as(src.data)\n",
        "        )\n",
        "        prob = model.generator(out[:, -1])  # 计算生成概率\n",
        "        _, next_word = torch.max(prob, dim=1)  # 选择概率最大的词作为下一个词\n",
        "        next_word = next_word.data[0]\n",
        "        # 将选择的词添加到目标序列\n",
        "        ys = torch.cat(\n",
        "            [ys, torch.zeros(1, 1).type_as(src.data).fill_(next_word)], dim=1\n",
        "        )\n",
        "    return ys  # 返回解码得到的目标序列\n"
      ],
      "metadata": {
        "id": "bDuFjmUMMYuz"
      },
      "execution_count": null,
      "outputs": []
    },
    {
      "cell_type": "code",
      "source": [
        "def example_simple_model():\n",
        "    V = 11  # 词汇表大小\n",
        "    # 使用平滑标签损失函数\n",
        "    criterion = LabelSmoothing(size=V, padding_idx=0, smoothing=0.0)\n",
        "    # 创建模型\n",
        "    model = make_model(V, V, N=2)\n",
        "\n",
        "    # 使用 Adam 优化器\n",
        "    optimizer = torch.optim.Adam(\n",
        "        model.parameters(), lr=0.5, betas=(0.9, 0.98), eps=1e-9\n",
        "    )\n",
        "    # 学习率调度器\n",
        "    lr_scheduler = LambdaLR(\n",
        "        optimizer=optimizer,\n",
        "        lr_lambda=lambda step: rate(\n",
        "            step, model_size=model.src_embed[0].d_model, factor=1.0, warmup=400\n",
        "        ),\n",
        "    )\n",
        "\n",
        "    batch_size = 80\n",
        "    for epoch in range(20):\n",
        "        model.train()\n",
        "        # 训练模型\n",
        "        run_epoch(\n",
        "            data_gen(V, batch_size, 20),\n",
        "            model,\n",
        "            SimpleLossCompute(model.generator, criterion),\n",
        "            optimizer,\n",
        "            lr_scheduler,\n",
        "            mode=\"train\",\n",
        "        )\n",
        "        model.eval()\n",
        "        # 验证模型\n",
        "        run_epoch(\n",
        "            data_gen(V, batch_size, 5),\n",
        "            model,\n",
        "            SimpleLossCompute(model.generator, criterion),\n",
        "            DummyOptimizer(),\n",
        "            DummyScheduler(),\n",
        "            mode=\"eval\",\n",
        "        )[0]\n",
        "\n",
        "    model.eval()\n",
        "    # 输入序列\n",
        "    src = torch.LongTensor([[0, 1, 2, 3, 4, 5, 6, 7, 8, 9]])\n",
        "    max_len = src.shape[1]\n",
        "    src_mask = torch.ones(1, 1, max_len)\n",
        "    # 输出复制序列\n",
        "    print(greedy_decode(model, src, src_mask, max_len=max_len, start_symbol=0))\n",
        "\n",
        "\n",
        "# execute_example(example_simple_model) # 移除注释运行\n"
      ],
      "metadata": {
        "id": "jcr-rxkLNYJL"
      },
      "execution_count": null,
      "outputs": []
    }
  ],
  "metadata": {
    "colab": {
      "collapsed_sections": [
        "zMedtczc6DeH",
        "AaZs1Zxb6MLS",
        "a9qDkJ5T6TmU",
        "AuZZ8nkz6ZCU",
        "qwaIsiyM59F0"
      ],
      "provenance": []
    },
    "kernelspec": {
      "display_name": "Python 3",
      "name": "python3"
    },
    "language_info": {
      "name": "python"
    }
  },
  "nbformat": 4,
  "nbformat_minor": 0
}